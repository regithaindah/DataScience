{
  "nbformat": 4,
  "nbformat_minor": 0,
  "metadata": {
    "colab": {
      "name": "CustSegmentation.ipynb",
      "provenance": [],
      "collapsed_sections": []
    },
    "kernelspec": {
      "display_name": "Python 3",
      "name": "python3"
    },
    "language_info": {
      "name": "python"
    }
  },
  "cells": [
    {
      "cell_type": "markdown",
      "metadata": {
        "id": "pKSDyzezgDR0"
      },
      "source": [
        "DATA PROCESSING\n",
        "- Normalisasi data numerical\n",
        "- pemberian index pada data categorical\n",
        "\n",
        "Customer Segmentation K-PROTOTYPES: \n",
        "1. Penentuan Nilai k (jumlah kelas)\n",
        "-> menggunakan Elbow Plot\n",
        "2. Pemilihan Centroid (pusat kluster)\n",
        "3. Perhitungan dissimilarity measures untuk fitur categorical\n",
        "4. Perhitungan dissimiliarity measures untuk fitur numerik\n",
        "5. Perhitungan fungsi biaya (cost) untuk tiap data dari setiap cluster\n"
      ]
    },
    {
      "cell_type": "markdown",
      "metadata": {
        "id": "5pJrPT2k6xh0"
      },
      "source": [
        ""
      ]
    },
    {
      "cell_type": "code",
      "metadata": {
        "colab": {
          "base_uri": "https://localhost:8080/"
        },
        "id": "Tf8PNVPtiX4b",
        "outputId": "d4cc7096-b12b-4a5b-e135-846ee6eaf253"
      },
      "source": [
        "pip install kmodes"
      ],
      "execution_count": null,
      "outputs": [
        {
          "output_type": "stream",
          "name": "stdout",
          "text": [
            "Collecting kmodes\n",
            "  Downloading kmodes-0.11.0-py2.py3-none-any.whl (18 kB)\n",
            "Requirement already satisfied: scikit-learn>=0.22.0 in /usr/local/lib/python3.7/dist-packages (from kmodes) (0.22.2.post1)\n",
            "Requirement already satisfied: numpy>=1.10.4 in /usr/local/lib/python3.7/dist-packages (from kmodes) (1.19.5)\n",
            "Requirement already satisfied: joblib>=0.11 in /usr/local/lib/python3.7/dist-packages (from kmodes) (1.0.1)\n",
            "Requirement already satisfied: scipy>=0.13.3 in /usr/local/lib/python3.7/dist-packages (from kmodes) (1.4.1)\n",
            "Installing collected packages: kmodes\n",
            "Successfully installed kmodes-0.11.0\n"
          ]
        }
      ]
    },
    {
      "cell_type": "code",
      "metadata": {
        "id": "c1PMjmj3LSGL"
      },
      "source": [
        "import pandas as pd\n",
        "import matplotlib.pyplot as plt\n",
        "import seaborn as sns\n",
        "import numpy as np\n",
        "from sklearn.preprocessing import LabelEncoder\n",
        "\n",
        "from kmodes.kmodes import KModes   \n",
        "from kmodes.kprototypes import KPrototypes \n",
        "\n",
        "import pickle  \n",
        "from pathlib import Path"
      ],
      "execution_count": null,
      "outputs": []
    },
    {
      "cell_type": "markdown",
      "metadata": {
        "id": "uUh0IElfifuz"
      },
      "source": [
        "Import Data"
      ]
    },
    {
      "cell_type": "code",
      "metadata": {
        "colab": {
          "base_uri": "https://localhost:8080/"
        },
        "id": "d18qx3-iLlak",
        "outputId": "8784addb-698e-4441-e490-c8169d2939f2"
      },
      "source": [
        "#Load the data\n",
        "#import drive\n",
        "from google.colab import drive\n",
        "drive.mount('/content/drive') "
      ],
      "execution_count": null,
      "outputs": [
        {
          "output_type": "stream",
          "name": "stdout",
          "text": [
            "Mounted at /content/drive\n"
          ]
        }
      ]
    },
    {
      "cell_type": "code",
      "metadata": {
        "id": "knM4uspNLl-j"
      },
      "source": [
        "data = pd.read_csv('/content/drive/My Drive/Customer Segmentation/Input/Test/CustSegmSTI_Aug18Jul21_Age.csv',sep=';')"
      ],
      "execution_count": null,
      "outputs": []
    },
    {
      "cell_type": "code",
      "metadata": {
        "colab": {
          "base_uri": "https://localhost:8080/",
          "height": 206
        },
        "id": "3HctA0nujoIq",
        "outputId": "2c0aa026-936b-4a5b-f09c-0254fd650c2e"
      },
      "source": [
        "data.head()"
      ],
      "execution_count": null,
      "outputs": [
        {
          "output_type": "execute_result",
          "data": {
            "text/html": [
              "<div>\n",
              "<style scoped>\n",
              "    .dataframe tbody tr th:only-of-type {\n",
              "        vertical-align: middle;\n",
              "    }\n",
              "\n",
              "    .dataframe tbody tr th {\n",
              "        vertical-align: top;\n",
              "    }\n",
              "\n",
              "    .dataframe thead th {\n",
              "        text-align: right;\n",
              "    }\n",
              "</style>\n",
              "<table border=\"1\" class=\"dataframe\">\n",
              "  <thead>\n",
              "    <tr style=\"text-align: right;\">\n",
              "      <th></th>\n",
              "      <th>No_cust</th>\n",
              "      <th>Name</th>\n",
              "      <th>Age</th>\n",
              "      <th>Job</th>\n",
              "      <th>Amount</th>\n",
              "      <th>Dept_code</th>\n",
              "    </tr>\n",
              "  </thead>\n",
              "  <tbody>\n",
              "    <tr>\n",
              "      <th>0</th>\n",
              "      <td>100002</td>\n",
              "      <td>ACIAK, UD.</td>\n",
              "      <td>46</td>\n",
              "      <td>Others</td>\n",
              "      <td>18668637</td>\n",
              "      <td>PDG</td>\n",
              "    </tr>\n",
              "    <tr>\n",
              "      <th>1</th>\n",
              "      <td>100004</td>\n",
              "      <td>AFEN</td>\n",
              "      <td>71</td>\n",
              "      <td>Tukang/ Workshop Furniture</td>\n",
              "      <td>65736728</td>\n",
              "      <td>PDG</td>\n",
              "    </tr>\n",
              "    <tr>\n",
              "      <th>2</th>\n",
              "      <td>100008</td>\n",
              "      <td>ALAM INDAH GRANIT</td>\n",
              "      <td>46</td>\n",
              "      <td>Others</td>\n",
              "      <td>2296001</td>\n",
              "      <td>PDG</td>\n",
              "    </tr>\n",
              "    <tr>\n",
              "      <th>3</th>\n",
              "      <td>100011</td>\n",
              "      <td>ALFI TABING</td>\n",
              "      <td>43</td>\n",
              "      <td>Kontraktor</td>\n",
              "      <td>10147272</td>\n",
              "      <td>PDG</td>\n",
              "    </tr>\n",
              "    <tr>\n",
              "      <th>4</th>\n",
              "      <td>100012</td>\n",
              "      <td>ALFI PERABOT (AJO)</td>\n",
              "      <td>45</td>\n",
              "      <td>Tukang/ Workshop Furniture</td>\n",
              "      <td>12201820</td>\n",
              "      <td>PDG</td>\n",
              "    </tr>\n",
              "  </tbody>\n",
              "</table>\n",
              "</div>"
            ],
            "text/plain": [
              "   No_cust                Name  ...    Amount Dept_code\n",
              "0   100002          ACIAK, UD.  ...  18668637       PDG\n",
              "1   100004                AFEN  ...  65736728       PDG\n",
              "2   100008   ALAM INDAH GRANIT  ...   2296001       PDG\n",
              "3   100011         ALFI TABING  ...  10147272       PDG\n",
              "4   100012  ALFI PERABOT (AJO)  ...  12201820       PDG\n",
              "\n",
              "[5 rows x 6 columns]"
            ]
          },
          "metadata": {},
          "execution_count": 7
        }
      ]
    },
    {
      "cell_type": "code",
      "metadata": {
        "colab": {
          "base_uri": "https://localhost:8080/"
        },
        "id": "xcb48vfejyl-",
        "outputId": "5221cf28-f9d4-4196-a920-bd6f4018e4e4"
      },
      "source": [
        "#menampilkan informasi dari data\n",
        "data.info()"
      ],
      "execution_count": null,
      "outputs": [
        {
          "output_type": "stream",
          "name": "stdout",
          "text": [
            "<class 'pandas.core.frame.DataFrame'>\n",
            "RangeIndex: 1147 entries, 0 to 1146\n",
            "Data columns (total 6 columns):\n",
            " #   Column     Non-Null Count  Dtype \n",
            "---  ------     --------------  ----- \n",
            " 0   No_cust    1147 non-null   int64 \n",
            " 1   Name       1147 non-null   object\n",
            " 2   Age        1147 non-null   int64 \n",
            " 3   Job        1147 non-null   object\n",
            " 4   Amount     1147 non-null   int64 \n",
            " 5   Dept_code  1147 non-null   object\n",
            "dtypes: int64(3), object(3)\n",
            "memory usage: 53.9+ KB\n"
          ]
        }
      ]
    },
    {
      "cell_type": "code",
      "metadata": {
        "colab": {
          "base_uri": "https://localhost:8080/",
          "height": 423
        },
        "id": "sPAtW8DlTS8X",
        "outputId": "bca2e4e4-5125-4ee5-a487-7fe3f34be8ab"
      },
      "source": [
        "data"
      ],
      "execution_count": null,
      "outputs": [
        {
          "output_type": "execute_result",
          "data": {
            "text/html": [
              "<div>\n",
              "<style scoped>\n",
              "    .dataframe tbody tr th:only-of-type {\n",
              "        vertical-align: middle;\n",
              "    }\n",
              "\n",
              "    .dataframe tbody tr th {\n",
              "        vertical-align: top;\n",
              "    }\n",
              "\n",
              "    .dataframe thead th {\n",
              "        text-align: right;\n",
              "    }\n",
              "</style>\n",
              "<table border=\"1\" class=\"dataframe\">\n",
              "  <thead>\n",
              "    <tr style=\"text-align: right;\">\n",
              "      <th></th>\n",
              "      <th>No_cust</th>\n",
              "      <th>Name</th>\n",
              "      <th>Age</th>\n",
              "      <th>Job</th>\n",
              "      <th>Amount</th>\n",
              "      <th>Dept_code</th>\n",
              "    </tr>\n",
              "  </thead>\n",
              "  <tbody>\n",
              "    <tr>\n",
              "      <th>0</th>\n",
              "      <td>100002</td>\n",
              "      <td>ACIAK, UD.</td>\n",
              "      <td>46</td>\n",
              "      <td>Others</td>\n",
              "      <td>18668637</td>\n",
              "      <td>PDG</td>\n",
              "    </tr>\n",
              "    <tr>\n",
              "      <th>1</th>\n",
              "      <td>100004</td>\n",
              "      <td>AFEN</td>\n",
              "      <td>71</td>\n",
              "      <td>Tukang/ Workshop Furniture</td>\n",
              "      <td>65736728</td>\n",
              "      <td>PDG</td>\n",
              "    </tr>\n",
              "    <tr>\n",
              "      <th>2</th>\n",
              "      <td>100008</td>\n",
              "      <td>ALAM INDAH GRANIT</td>\n",
              "      <td>46</td>\n",
              "      <td>Others</td>\n",
              "      <td>2296001</td>\n",
              "      <td>PDG</td>\n",
              "    </tr>\n",
              "    <tr>\n",
              "      <th>3</th>\n",
              "      <td>100011</td>\n",
              "      <td>ALFI TABING</td>\n",
              "      <td>43</td>\n",
              "      <td>Kontraktor</td>\n",
              "      <td>10147272</td>\n",
              "      <td>PDG</td>\n",
              "    </tr>\n",
              "    <tr>\n",
              "      <th>4</th>\n",
              "      <td>100012</td>\n",
              "      <td>ALFI PERABOT (AJO)</td>\n",
              "      <td>45</td>\n",
              "      <td>Tukang/ Workshop Furniture</td>\n",
              "      <td>12201820</td>\n",
              "      <td>PDG</td>\n",
              "    </tr>\n",
              "    <tr>\n",
              "      <th>...</th>\n",
              "      <td>...</td>\n",
              "      <td>...</td>\n",
              "      <td>...</td>\n",
              "      <td>...</td>\n",
              "      <td>...</td>\n",
              "      <td>...</td>\n",
              "    </tr>\n",
              "    <tr>\n",
              "      <th>1142</th>\n",
              "      <td>103838</td>\n",
              "      <td>RIZKY RAMADHAN</td>\n",
              "      <td>43</td>\n",
              "      <td>Kontraktor</td>\n",
              "      <td>5434546</td>\n",
              "      <td>PDG</td>\n",
              "    </tr>\n",
              "    <tr>\n",
              "      <th>1143</th>\n",
              "      <td>103839</td>\n",
              "      <td>INDOMATIC MANDIRI SENTOSA, PT.</td>\n",
              "      <td>46</td>\n",
              "      <td>Others</td>\n",
              "      <td>11181817</td>\n",
              "      <td>PDG</td>\n",
              "    </tr>\n",
              "    <tr>\n",
              "      <th>1144</th>\n",
              "      <td>103840</td>\n",
              "      <td>ZAINUDDIN</td>\n",
              "      <td>45</td>\n",
              "      <td>Tukang/ Workshop Furniture</td>\n",
              "      <td>2950454</td>\n",
              "      <td>PDG</td>\n",
              "    </tr>\n",
              "    <tr>\n",
              "      <th>1145</th>\n",
              "      <td>103841</td>\n",
              "      <td>TANJUNG PURA MOTOR</td>\n",
              "      <td>46</td>\n",
              "      <td>Others</td>\n",
              "      <td>878182</td>\n",
              "      <td>PDG</td>\n",
              "    </tr>\n",
              "    <tr>\n",
              "      <th>1146</th>\n",
              "      <td>103845</td>\n",
              "      <td>AA JAYA BANGUNAN</td>\n",
              "      <td>43</td>\n",
              "      <td>Kontraktor</td>\n",
              "      <td>1930909</td>\n",
              "      <td>PDG</td>\n",
              "    </tr>\n",
              "  </tbody>\n",
              "</table>\n",
              "<p>1147 rows × 6 columns</p>\n",
              "</div>"
            ],
            "text/plain": [
              "      No_cust                            Name  ...    Amount Dept_code\n",
              "0      100002                      ACIAK, UD.  ...  18668637       PDG\n",
              "1      100004                            AFEN  ...  65736728       PDG\n",
              "2      100008               ALAM INDAH GRANIT  ...   2296001       PDG\n",
              "3      100011                     ALFI TABING  ...  10147272       PDG\n",
              "4      100012              ALFI PERABOT (AJO)  ...  12201820       PDG\n",
              "...       ...                             ...  ...       ...       ...\n",
              "1142   103838                  RIZKY RAMADHAN  ...   5434546       PDG\n",
              "1143   103839  INDOMATIC MANDIRI SENTOSA, PT.  ...  11181817       PDG\n",
              "1144   103840                       ZAINUDDIN  ...   2950454       PDG\n",
              "1145   103841              TANJUNG PURA MOTOR  ...    878182       PDG\n",
              "1146   103845                AA JAYA BANGUNAN  ...   1930909       PDG\n",
              "\n",
              "[1147 rows x 6 columns]"
            ]
          },
          "metadata": {},
          "execution_count": 9
        }
      ]
    },
    {
      "cell_type": "code",
      "metadata": {
        "id": "zU5Z5VNVYbi2"
      },
      "source": [
        "#Jika ada data yg null, gunakan replace\n",
        "#data['Age'] = data['Age'].replace(np.nan, 38)"
      ],
      "execution_count": null,
      "outputs": []
    },
    {
      "cell_type": "code",
      "metadata": {
        "colab": {
          "base_uri": "https://localhost:8080/",
          "height": 1000
        },
        "id": "1oDVrWw_x1_d",
        "outputId": "56958240-2131-4114-e46b-cebb29d33e8d"
      },
      "source": [
        "#Eksplorasi Data Numerik\n",
        "def observasi_num(features):  \n",
        "    fig, axs = plt.subplots(2, 2, figsize=(10, 9))\n",
        "    for i, kol in enumerate(features):\n",
        "\t    sns.boxplot(data[kol], ax = axs[i][0])\n",
        "      #Distplot: menampilkan visualisasi distribusi dari data numerik di seaborn\n",
        "\t    sns.distplot(data[kol], ax = axs[i][1])   \n",
        "\t    axs[i][0].set_title('mean = %.2f\\n median = %.2f\\n std = %.2f'%(data[kol].mean(), data[kol].median(), data[kol].std()))\n",
        "      #Std(standard deviasi): measured as the spread of data distribution in the given data set\n",
        "    plt.setp(axs)\n",
        "    plt.tight_layout()\n",
        "    plt.show()  \n",
        "  \n",
        "# Memanggil fungsi untuk membuat Plot untuk data numerik  \n",
        "kolom_numerik = ['Age','Amount'] \n",
        "#kolom_numerik = ['Amount'] \n",
        "observasi_num(kolom_numerik) "
      ],
      "execution_count": null,
      "outputs": [
        {
          "output_type": "stream",
          "name": "stderr",
          "text": [
            "/usr/local/lib/python3.7/dist-packages/seaborn/_decorators.py:43: FutureWarning: Pass the following variable as a keyword arg: x. From version 0.12, the only valid positional argument will be `data`, and passing other arguments without an explicit keyword will result in an error or misinterpretation.\n",
            "  FutureWarning\n",
            "/usr/local/lib/python3.7/dist-packages/seaborn/distributions.py:2619: FutureWarning: `distplot` is a deprecated function and will be removed in a future version. Please adapt your code to use either `displot` (a figure-level function with similar flexibility) or `histplot` (an axes-level function for histograms).\n",
            "  warnings.warn(msg, FutureWarning)\n",
            "/usr/local/lib/python3.7/dist-packages/seaborn/_decorators.py:43: FutureWarning: Pass the following variable as a keyword arg: x. From version 0.12, the only valid positional argument will be `data`, and passing other arguments without an explicit keyword will result in an error or misinterpretation.\n",
            "  FutureWarning\n",
            "/usr/local/lib/python3.7/dist-packages/seaborn/distributions.py:2619: FutureWarning: `distplot` is a deprecated function and will be removed in a future version. Please adapt your code to use either `displot` (a figure-level function with similar flexibility) or `histplot` (an axes-level function for histograms).\n",
            "  warnings.warn(msg, FutureWarning)\n"
          ]
        },
        {
          "output_type": "stream",
          "name": "stdout",
          "text": [
            "  adjustable: {'box', 'datalim'}\n",
            "  agg_filter: a filter function, which takes a (m, n, 3) float array and a dpi value, and returns a (m, n, 3) array\n",
            "  alpha: float or None\n",
            "  anchor: 2-tuple of floats or {'C', 'SW', 'S', 'SE', ...}\n",
            "  animated: bool\n",
            "  aspect: {'auto', 'equal'} or num\n",
            "  autoscale_on: bool\n",
            "  autoscalex_on: bool\n",
            "  autoscaley_on: bool\n",
            "  axes_locator: Callable[[Axes, Renderer], Bbox]\n",
            "  axisbelow: bool or 'line'\n",
            "  clip_box: `.Bbox`\n",
            "  clip_on: bool\n",
            "  clip_path: Patch or (Path, Transform) or None\n",
            "  contains: callable\n",
            "  facecolor: color\n",
            "  fc: color\n",
            "  figure: `.Figure`\n",
            "  frame_on: bool\n",
            "  gid: str\n",
            "  in_layout: bool\n",
            "  label: object\n",
            "  navigate: bool\n",
            "  navigate_mode: unknown\n",
            "  path_effects: `.AbstractPathEffect`\n",
            "  picker: None or bool or float or callable\n",
            "  position: [left, bottom, width, height] or `~matplotlib.transforms.Bbox`\n",
            "  prop_cycle: unknown\n",
            "  rasterization_zorder: float or None\n",
            "  rasterized: bool or None\n",
            "  sketch_params: (scale: float, length: float, randomness: float)\n",
            "  snap: bool or None\n",
            "  subplotspec: unknown\n",
            "  title: str\n",
            "  transform: `.Transform`\n",
            "  url: str\n",
            "  visible: bool\n",
            "  xbound: unknown\n",
            "  xlabel: str\n",
            "  xlim: (bottom: float, top: float)\n",
            "  xmargin: float greater than -0.5\n",
            "  xscale: {\"linear\", \"log\", \"symlog\", \"logit\", ...}\n",
            "  xticklabels: List[str]\n",
            "  xticks: unknown\n",
            "  ybound: unknown\n",
            "  ylabel: str\n",
            "  ylim: (bottom: float, top: float)\n",
            "  ymargin: float greater than -0.5\n",
            "  yscale: {\"linear\", \"log\", \"symlog\", \"logit\", ...}\n",
            "  yticklabels: List[str]\n",
            "  yticks: unknown\n",
            "  zorder: float\n"
          ]
        },
        {
          "output_type": "display_data",
          "data": {
            "image/png": "[encoded data removed]",
            "text/plain": [
              "<Figure size 720x648 with 4 Axes>"
            ]
          },
          "metadata": {
            "needs_background": "light"
          }
        }
      ]
    },
    {
      "cell_type": "code",
      "metadata": {
        "colab": {
          "base_uri": "https://localhost:8080/",
          "height": 1000
        },
        "id": "ap7f5daDS0OT",
        "outputId": "f83db570-2385-44de-a4df-8d81b33f56cd"
      },
      "source": [
        "#Eksplorasi Data Kategorikal\n",
        "# Menyiapkan kolom kategorikal  \n",
        "kolom_kategorikal = ['Job','Dept_code']  \n",
        "\n",
        "# Membuat canvas\n",
        "fig, axs = plt.subplots(2,1,figsize=(7,10)) \n",
        "\n",
        "# Membuat plot untuk setiap kolom kategorikal  \n",
        "for i, kol in enumerate(kolom_kategorikal):  \n",
        "    # Membuat Plot\n",
        "    sns.countplot(data[kol], order = data[kol].value_counts().index, ax = axs[i])  \n",
        "    axs[i].set_title('\\nCount Plot %s\\n'%(kol), fontsize=15)  \n",
        "      \n",
        "    # Memberikan anotasi  \n",
        "    for p in axs[i].patches:  \n",
        "        axs[i].annotate(format(p.get_height(), '.0f'),  \n",
        "                        (p.get_x() + p.get_width() / 2., p.get_height()),  \n",
        "                        ha = 'center',  \n",
        "                        va = 'center',  \n",
        "                        xytext = (0, 10),  \n",
        "                        textcoords = 'offset points') \n",
        "          \n",
        "    # Setting Plot  \n",
        "    sns.despine(right=True,top = True, left = True)  \n",
        "    axs[i].axes.yaxis.set_visible(False) \n",
        "    plt.setp(axs[i])\n",
        "    plt.tight_layout()\n",
        "\n",
        "# Tampilkan plot\n",
        "plt.show()"
      ],
      "execution_count": null,
      "outputs": [
        {
          "output_type": "stream",
          "name": "stderr",
          "text": [
            "/usr/local/lib/python3.7/dist-packages/seaborn/_decorators.py:43: FutureWarning: Pass the following variable as a keyword arg: x. From version 0.12, the only valid positional argument will be `data`, and passing other arguments without an explicit keyword will result in an error or misinterpretation.\n",
            "  FutureWarning\n",
            "/usr/local/lib/python3.7/dist-packages/seaborn/_decorators.py:43: FutureWarning: Pass the following variable as a keyword arg: x. From version 0.12, the only valid positional argument will be `data`, and passing other arguments without an explicit keyword will result in an error or misinterpretation.\n",
            "  FutureWarning\n"
          ]
        },
        {
          "output_type": "stream",
          "name": "stdout",
          "text": [
            "  adjustable: {'box', 'datalim'}\n",
            "  agg_filter: a filter function, which takes a (m, n, 3) float array and a dpi value, and returns a (m, n, 3) array\n",
            "  alpha: float or None\n",
            "  anchor: 2-tuple of floats or {'C', 'SW', 'S', 'SE', ...}\n",
            "  animated: bool\n",
            "  aspect: {'auto', 'equal'} or num\n",
            "  autoscale_on: bool\n",
            "  autoscalex_on: bool\n",
            "  autoscaley_on: bool\n",
            "  axes_locator: Callable[[Axes, Renderer], Bbox]\n",
            "  axisbelow: bool or 'line'\n",
            "  clip_box: `.Bbox`\n",
            "  clip_on: bool\n",
            "  clip_path: Patch or (Path, Transform) or None\n",
            "  contains: callable\n",
            "  facecolor: color\n",
            "  fc: color\n",
            "  figure: `.Figure`\n",
            "  frame_on: bool\n",
            "  gid: str\n",
            "  in_layout: bool\n",
            "  label: object\n",
            "  navigate: bool\n",
            "  navigate_mode: unknown\n",
            "  path_effects: `.AbstractPathEffect`\n",
            "  picker: None or bool or float or callable\n",
            "  position: [left, bottom, width, height] or `~matplotlib.transforms.Bbox`\n",
            "  prop_cycle: unknown\n",
            "  rasterization_zorder: float or None\n",
            "  rasterized: bool or None\n",
            "  sketch_params: (scale: float, length: float, randomness: float)\n",
            "  snap: bool or None\n",
            "  subplotspec: unknown\n",
            "  title: str\n",
            "  transform: `.Transform`\n",
            "  url: str\n",
            "  visible: bool\n",
            "  xbound: unknown\n",
            "  xlabel: str\n",
            "  xlim: (bottom: float, top: float)\n",
            "  xmargin: float greater than -0.5\n",
            "  xscale: {\"linear\", \"log\", \"symlog\", \"logit\", ...}\n",
            "  xticklabels: List[str]\n",
            "  xticks: unknown\n",
            "  ybound: unknown\n",
            "  ylabel: str\n",
            "  ylim: (bottom: float, top: float)\n",
            "  ymargin: float greater than -0.5\n",
            "  yscale: {\"linear\", \"log\", \"symlog\", \"logit\", ...}\n",
            "  yticklabels: List[str]\n",
            "  yticks: unknown\n",
            "  zorder: float\n",
            "  adjustable: {'box', 'datalim'}\n",
            "  agg_filter: a filter function, which takes a (m, n, 3) float array and a dpi value, and returns a (m, n, 3) array\n",
            "  alpha: float or None\n",
            "  anchor: 2-tuple of floats or {'C', 'SW', 'S', 'SE', ...}\n",
            "  animated: bool\n",
            "  aspect: {'auto', 'equal'} or num\n",
            "  autoscale_on: bool\n",
            "  autoscalex_on: bool\n",
            "  autoscaley_on: bool\n",
            "  axes_locator: Callable[[Axes, Renderer], Bbox]\n",
            "  axisbelow: bool or 'line'\n",
            "  clip_box: `.Bbox`\n",
            "  clip_on: bool\n",
            "  clip_path: Patch or (Path, Transform) or None\n",
            "  contains: callable\n",
            "  facecolor: color\n",
            "  fc: color\n",
            "  figure: `.Figure`\n",
            "  frame_on: bool\n",
            "  gid: str\n",
            "  in_layout: bool\n",
            "  label: object\n",
            "  navigate: bool\n",
            "  navigate_mode: unknown\n",
            "  path_effects: `.AbstractPathEffect`\n",
            "  picker: None or bool or float or callable\n",
            "  position: [left, bottom, width, height] or `~matplotlib.transforms.Bbox`\n",
            "  prop_cycle: unknown\n",
            "  rasterization_zorder: float or None\n",
            "  rasterized: bool or None\n",
            "  sketch_params: (scale: float, length: float, randomness: float)\n",
            "  snap: bool or None\n",
            "  subplotspec: unknown\n",
            "  title: str\n",
            "  transform: `.Transform`\n",
            "  url: str\n",
            "  visible: bool\n",
            "  xbound: unknown\n",
            "  xlabel: str\n",
            "  xlim: (bottom: float, top: float)\n",
            "  xmargin: float greater than -0.5\n",
            "  xscale: {\"linear\", \"log\", \"symlog\", \"logit\", ...}\n",
            "  xticklabels: List[str]\n",
            "  xticks: unknown\n",
            "  ybound: unknown\n",
            "  ylabel: str\n",
            "  ylim: (bottom: float, top: float)\n",
            "  ymargin: float greater than -0.5\n",
            "  yscale: {\"linear\", \"log\", \"symlog\", \"logit\", ...}\n",
            "  yticklabels: List[str]\n",
            "  yticks: unknown\n",
            "  zorder: float\n"
          ]
        },
        {
          "output_type": "display_data",
          "data": {
            "image/png": "[encoded data removed]",
            "text/plain": [
              "<Figure size 504x720 with 2 Axes>"
            ]
          },
          "metadata": {
            "needs_background": "light"
          }
        }
      ]
    },
    {
      "cell_type": "markdown",
      "metadata": {
        "id": "o5z2OkDqVIv-"
      },
      "source": [
        "Standarisasi Kolom Numerik"
      ]
    },
    {
      "cell_type": "code",
      "metadata": {
        "colab": {
          "base_uri": "https://localhost:8080/"
        },
        "id": "U98O57iFS-vw",
        "outputId": "5bc91cae-8f0e-4612-879b-feebcdf8fa94"
      },
      "source": [
        "from sklearn.preprocessing import StandardScaler  \n",
        "kolom_numerik = ['Age','Amount']  \n",
        "#kolom_numerik = ['Amount']  \n",
        "  \n",
        "# Statistik sebelum Standardisasi  \n",
        "print('Statistik Sebelum Standardisasi\\n')  \n",
        "print(data[kolom_numerik].describe().round(1))  \n",
        "  \n",
        "# Standardisasi  \n",
        "df_std = StandardScaler().fit_transform(data[kolom_numerik])  \n",
        "  \n",
        "# Membuat DataFrame  \n",
        "df_std = pd.DataFrame(data=df_std, index=data.index, columns=data[kolom_numerik].columns)  \n",
        "  \n",
        "# Menampilkan contoh isi data dan summary statistic  \n",
        "print('Contoh hasil standardisasi\\n')  \n",
        "print(df_std.head())  \n",
        "  \n",
        "print('Statistik hasil standardisasi\\n')  \n",
        "print(df_std.describe().round(0))  \n"
      ],
      "execution_count": null,
      "outputs": [
        {
          "output_type": "stream",
          "name": "stdout",
          "text": [
            "Statistik Sebelum Standardisasi\n",
            "\n",
            "          Age        Amount\n",
            "count  1147.0  1.147000e+03\n",
            "mean     44.4  7.062493e+07\n",
            "std       6.0  8.574104e+08\n",
            "min      22.0  1.727300e+04\n",
            "25%      42.0  2.362773e+06\n",
            "50%      43.0  9.664100e+06\n",
            "75%      46.0  3.079168e+07\n",
            "max      75.0  2.652675e+10\n",
            "Contoh hasil standardisasi\n",
            "\n",
            "        Age    Amount\n",
            "0  0.272127 -0.060623\n",
            "1  4.433861 -0.005704\n",
            "2  0.272127 -0.079727\n",
            "3 -0.227281 -0.070566\n",
            "4  0.105658 -0.068169\n",
            "Statistik hasil standardisasi\n",
            "\n",
            "          Age  Amount\n",
            "count  1147.0  1147.0\n",
            "mean     -0.0    -0.0\n",
            "std       1.0     1.0\n",
            "min      -4.0    -0.0\n",
            "25%      -0.0    -0.0\n",
            "50%      -0.0    -0.0\n",
            "75%       0.0    -0.0\n",
            "max       5.0    31.0\n"
          ]
        }
      ]
    },
    {
      "cell_type": "code",
      "metadata": {
        "id": "b_s7K-w-Y68i"
      },
      "source": [
        "#Mengubah tipe data\n",
        "data['Job'] = data['Job'].apply(lambda x:str(x))\n",
        "data['Dept_code'] = data['Dept_code'].apply(lambda x:str(x))"
      ],
      "execution_count": null,
      "outputs": []
    },
    {
      "cell_type": "code",
      "metadata": {
        "colab": {
          "base_uri": "https://localhost:8080/"
        },
        "id": "myNuhYPgXqbq",
        "outputId": "02c459b2-1ca7-4882-8a85-1a28b33fe500"
      },
      "source": [
        "data.dtypes"
      ],
      "execution_count": null,
      "outputs": [
        {
          "output_type": "execute_result",
          "data": {
            "text/plain": [
              "No_cust       int64\n",
              "Name         object\n",
              "Age           int64\n",
              "Job          object\n",
              "Amount        int64\n",
              "Dept_code    object\n",
              "dtype: object"
            ]
          },
          "metadata": {},
          "execution_count": 14
        }
      ]
    },
    {
      "cell_type": "code",
      "metadata": {
        "colab": {
          "base_uri": "https://localhost:8080/"
        },
        "id": "mYo5G8t1yaqw",
        "outputId": "47f5350f-c655-4d90-f6a3-c1b286cff496"
      },
      "source": [
        "#Konversi Kategorikal Data dgn Label Encoder\n",
        "\n",
        "from sklearn.preprocessing import LabelEncoder\n",
        "  \n",
        "# Inisiasi nama kolom kategorikal  \n",
        "kolom_kategorikal = ['Job','Dept_code']  \n",
        "  \n",
        "# Membuat salinan data frame  \n",
        "df_encode = data[kolom_kategorikal].copy()  \n",
        "  \n",
        "# Melakukan labelEncoder untuk semua kolom kategorikal  \n",
        "for col in kolom_kategorikal:  \n",
        "    df_encode[col]= LabelEncoder().fit_transform(df_encode[col])\n",
        "      \n",
        "# Menampilkan data  \n",
        "print(df_encode.head(9))"
      ],
      "execution_count": null,
      "outputs": [
        {
          "output_type": "stream",
          "name": "stdout",
          "text": [
            "   Job  Dept_code\n",
            "0    3          2\n",
            "1    6          2\n",
            "2    3          2\n",
            "3    2          2\n",
            "4    6          2\n",
            "5    3          2\n",
            "6    2          2\n",
            "7    3          2\n",
            "8    3          2\n"
          ]
        }
      ]
    },
    {
      "cell_type": "code",
      "metadata": {
        "colab": {
          "base_uri": "https://localhost:8080/"
        },
        "id": "I2KaDRLqZNeY",
        "outputId": "2ecbd129-5b93-4e15-884a-6718c86da656"
      },
      "source": [
        "#Menggabungkan Data untuk Permodelan\n",
        "df_model = df_encode.merge(df_std, left_index = True, right_index=True, how = 'left')\n",
        "print(df_model.head(9))"
      ],
      "execution_count": null,
      "outputs": [
        {
          "output_type": "stream",
          "name": "stdout",
          "text": [
            "   Job  Dept_code       Age    Amount\n",
            "0    3          2  0.272127 -0.060623\n",
            "1    6          2  4.433861 -0.005704\n",
            "2    3          2  0.272127 -0.079727\n",
            "3    2          2 -0.227281 -0.070566\n",
            "4    6          2  0.105658 -0.068169\n",
            "5    3          2  3.934453 -0.081986\n",
            "6    2          2 -0.227281 -0.081715\n",
            "7    3          2  0.272127 -0.078644\n",
            "8    3          2  0.272127 -0.081869\n"
          ]
        }
      ]
    },
    {
      "cell_type": "markdown",
      "metadata": {
        "id": "PsApx79qfFPJ"
      },
      "source": [
        "Permodelan K-Prototypes"
      ]
    },
    {
      "cell_type": "code",
      "metadata": {
        "colab": {
          "base_uri": "https://localhost:8080/",
          "height": 206
        },
        "id": "zGC_63PW9M4i",
        "outputId": "79f2bb7e-ad64-4931-c709-bf58bedb0331"
      },
      "source": [
        "df_model.head()"
      ],
      "execution_count": null,
      "outputs": [
        {
          "output_type": "execute_result",
          "data": {
            "text/html": [
              "<div>\n",
              "<style scoped>\n",
              "    .dataframe tbody tr th:only-of-type {\n",
              "        vertical-align: middle;\n",
              "    }\n",
              "\n",
              "    .dataframe tbody tr th {\n",
              "        vertical-align: top;\n",
              "    }\n",
              "\n",
              "    .dataframe thead th {\n",
              "        text-align: right;\n",
              "    }\n",
              "</style>\n",
              "<table border=\"1\" class=\"dataframe\">\n",
              "  <thead>\n",
              "    <tr style=\"text-align: right;\">\n",
              "      <th></th>\n",
              "      <th>Job</th>\n",
              "      <th>Dept_code</th>\n",
              "      <th>Age</th>\n",
              "      <th>Amount</th>\n",
              "    </tr>\n",
              "  </thead>\n",
              "  <tbody>\n",
              "    <tr>\n",
              "      <th>0</th>\n",
              "      <td>3</td>\n",
              "      <td>2</td>\n",
              "      <td>0.272127</td>\n",
              "      <td>-0.060623</td>\n",
              "    </tr>\n",
              "    <tr>\n",
              "      <th>1</th>\n",
              "      <td>6</td>\n",
              "      <td>2</td>\n",
              "      <td>4.433861</td>\n",
              "      <td>-0.005704</td>\n",
              "    </tr>\n",
              "    <tr>\n",
              "      <th>2</th>\n",
              "      <td>3</td>\n",
              "      <td>2</td>\n",
              "      <td>0.272127</td>\n",
              "      <td>-0.079727</td>\n",
              "    </tr>\n",
              "    <tr>\n",
              "      <th>3</th>\n",
              "      <td>2</td>\n",
              "      <td>2</td>\n",
              "      <td>-0.227281</td>\n",
              "      <td>-0.070566</td>\n",
              "    </tr>\n",
              "    <tr>\n",
              "      <th>4</th>\n",
              "      <td>6</td>\n",
              "      <td>2</td>\n",
              "      <td>0.105658</td>\n",
              "      <td>-0.068169</td>\n",
              "    </tr>\n",
              "  </tbody>\n",
              "</table>\n",
              "</div>"
            ],
            "text/plain": [
              "   Job  Dept_code       Age    Amount\n",
              "0    3          2  0.272127 -0.060623\n",
              "1    6          2  4.433861 -0.005704\n",
              "2    3          2  0.272127 -0.079727\n",
              "3    2          2 -0.227281 -0.070566\n",
              "4    6          2  0.105658 -0.068169"
            ]
          },
          "metadata": {},
          "execution_count": 17
        }
      ]
    },
    {
      "cell_type": "code",
      "metadata": {
        "colab": {
          "base_uri": "https://localhost:8080/"
        },
        "id": "444fba8qJH_7",
        "outputId": "49119838-67cb-4360-c73a-1892e97232e0"
      },
      "source": [
        "df_model.info()"
      ],
      "execution_count": null,
      "outputs": [
        {
          "output_type": "stream",
          "name": "stdout",
          "text": [
            "<class 'pandas.core.frame.DataFrame'>\n",
            "RangeIndex: 1147 entries, 0 to 1146\n",
            "Data columns (total 4 columns):\n",
            " #   Column     Non-Null Count  Dtype  \n",
            "---  ------     --------------  -----  \n",
            " 0   Job        1147 non-null   int64  \n",
            " 1   Dept_code  1147 non-null   int64  \n",
            " 2   Age        1147 non-null   float64\n",
            " 3   Amount     1147 non-null   float64\n",
            "dtypes: float64(2), int64(2)\n",
            "memory usage: 36.0 KB\n"
          ]
        }
      ]
    },
    {
      "cell_type": "code",
      "metadata": {
        "colab": {
          "base_uri": "https://localhost:8080/"
        },
        "id": "z1DZDDaBCWZW",
        "outputId": "e740a55f-5eb7-494e-f4d4-b470f00acdd6"
      },
      "source": [
        "df_model.dtypes"
      ],
      "execution_count": null,
      "outputs": [
        {
          "output_type": "execute_result",
          "data": {
            "text/plain": [
              "Job            int64\n",
              "Dept_code      int64\n",
              "Age          float64\n",
              "Amount       float64\n",
              "dtype: object"
            ]
          },
          "metadata": {},
          "execution_count": 19
        }
      ]
    },
    {
      "cell_type": "code",
      "metadata": {
        "id": "9LZss8KUZtsk"
      },
      "source": [
        "data['Age'] = data['Age'].apply(lambda x:str(x))\n",
        "data['Amount'] = data['Amount'].apply(lambda x:str(x))"
      ],
      "execution_count": null,
      "outputs": []
    },
    {
      "cell_type": "markdown",
      "metadata": {
        "id": "xi6NlGqJf5MX"
      },
      "source": [
        "Mencari Jumlah Cluster yang Optimal"
      ]
    },
    {
      "cell_type": "code",
      "metadata": {
        "colab": {
          "base_uri": "https://localhost:8080/",
          "height": 264
        },
        "id": "cq7Ij08i9lF2",
        "outputId": "e7c38124-1bf4-4be0-857c-144da39bd823"
      },
      "source": [
        "from kmodes.kmodes import KModes\n",
        "from kmodes.kprototypes import KPrototypes\n",
        "import pandas as pd\n",
        "import seaborn as sns\n",
        "import matplotlib.pyplot as plt\n",
        "\n",
        "# Melakukan Iterasi untuk Mendapatkan nilai Cost\n",
        "cost = {}\n",
        "for k in range(2,10):\n",
        "  kproto = KPrototypes(n_clusters = k,random_state=75)\n",
        "  kproto.fit_predict(df_model, categorical=[0,1])\n",
        "  cost[k]= kproto.cost_\n",
        "                                \n",
        "# Memvisualisasikan Elbow Plot\n",
        "sns.pointplot(x=list(cost.keys()), y=list(cost.values()))\n",
        "plt.show()"
      ],
      "execution_count": null,
      "outputs": [
        {
          "output_type": "display_data",
          "data": {
            "image/png": "[encoded data removed]",
            "text/plain": [
              "<Figure size 432x288 with 1 Axes>"
            ]
          },
          "metadata": {
            "needs_background": "light"
          }
        }
      ]
    },
    {
      "cell_type": "code",
      "metadata": {
        "colab": {
          "base_uri": "https://localhost:8080/"
        },
        "id": "ih5rOwWl55eN",
        "outputId": "e4668406-2c7f-4c8c-83b7-d2c5ad2f7b45"
      },
      "source": [
        "print(kproto.cluster_centroids_)"
      ],
      "execution_count": null,
      "outputs": [
        {
          "output_type": "stream",
          "name": "stdout",
          "text": [
            "[[ 1.29518662 -0.06060727  3.          2.        ]\n",
            " [-0.10126189 -0.04275831  2.          3.        ]\n",
            " [-0.22728075  1.55333338  6.          2.        ]\n",
            " [ 3.18172228 -0.04049539  3.          2.        ]\n",
            " [-0.22728075 22.03436132  2.          2.        ]\n",
            " [-0.28581943 -0.03290231  2.          2.        ]\n",
            " [ 0.2315636  -0.05218254  3.          2.        ]\n",
            " [-1.73937746 -0.03428043  3.          2.        ]\n",
            " [-0.60274154 -0.03944358  0.          3.        ]]\n"
          ]
        }
      ]
    },
    {
      "cell_type": "code",
      "metadata": {
        "id": "GG-oHXoLGuwm"
      },
      "source": [
        "#Membuat Model\n",
        "#Pickle adalah sebuah modul pada standard library python, untuk menyimpan dan membaca data ke dalam /dari sebuah file\n",
        "#Pickle: save machine leaning model\n",
        "import pickle\n",
        "from kmodes.kmodes import KModes\n",
        "from kmodes.kprototypes import KPrototypes\n",
        "\n",
        "kproto = KPrototypes(n_clusters=5, random_state = 75)\n",
        "kproto = kproto.fit(df_model, categorical=[0,1])\n",
        "\n",
        "#Save Model\n",
        "#Dump: save into binary format\n",
        "pickle.dump(kproto, open('cluster.pkl', 'wb'))"
      ],
      "execution_count": null,
      "outputs": []
    },
    {
      "cell_type": "code",
      "metadata": {
        "colab": {
          "base_uri": "https://localhost:8080/"
        },
        "id": "RPzPXBz5JvfM",
        "outputId": "4c8faa6a-cee8-4190-9196-edb63abb13c4"
      },
      "source": [
        "#Menggunakan model\n",
        "\n",
        "clusters = kproto.predict(df_model, categorical=[0,1])\n",
        "print('segmen pelanggan: {}\\n'.format(clusters))\n",
        "\n",
        "# Menggabungkan data awal dan segmen pelanggan\n",
        "df_final = data.copy()\n",
        "df_final['cluster'] = clusters\n",
        "print(df_final.head())\n"
      ],
      "execution_count": null,
      "outputs": [
        {
          "output_type": "stream",
          "name": "stdout",
          "text": [
            "segmen pelanggan: [2 0 2 ... 2 2 1]\n",
            "\n",
            "   No_cust                Name Age  ...    Amount Dept_code cluster\n",
            "0   100002          ACIAK, UD.  46  ...  18668637       PDG       2\n",
            "1   100004                AFEN  71  ...  65736728       PDG       0\n",
            "2   100008   ALAM INDAH GRANIT  46  ...   2296001       PDG       2\n",
            "3   100011         ALFI TABING  43  ...  10147272       PDG       1\n",
            "4   100012  ALFI PERABOT (AJO)  45  ...  12201820       PDG       2\n",
            "\n",
            "[5 rows x 7 columns]\n"
          ]
        }
      ]
    },
    {
      "cell_type": "code",
      "metadata": {
        "colab": {
          "base_uri": "https://localhost:8080/"
        },
        "id": "OUzE5pvpKLSr",
        "outputId": "43ef45c0-e1f5-4246-de66-a8cf8f57df5f"
      },
      "source": [
        "#Menampilkan Cluster Tiap Pelanggan\n",
        "# Menampilkan data pelanggan berdasarkan cluster nya  \n",
        "for i in range (0,5):\n",
        "    print('\\nPelanggan cluster: {}\\n'.format(i))\n",
        "    print(df_final[df_final['cluster']== i])"
      ],
      "execution_count": null,
      "outputs": [
        {
          "output_type": "stream",
          "name": "stdout",
          "text": [
            "\n",
            "Pelanggan cluster: 0\n",
            "\n",
            "     No_cust                    Name Age  ...     Amount Dept_code cluster\n",
            "1     100004                    AFEN  71  ...   65736728       PDG       0\n",
            "5     100015                   ANANG  68  ...     360045       PDG       0\n",
            "10    100029  ASENG PERABOT P. KARAM  68  ...   95324997       PDG       0\n",
            "12    100032             TIA PERABOT  58  ...    9264906       PDG       0\n",
            "26    100065                     CIN  67  ...   10331524       PDG       0\n",
            "..       ...                     ...  ..  ...        ...       ...     ...\n",
            "855   102535                  NASRUL  54  ...     556364       PDG       0\n",
            "860   102554                  DASRIL  60  ...     750000       PDG       0\n",
            "861   102558         SIANTAR LISTRIK  58  ...  402349323       PDG       0\n",
            "867   102647                  AKBARI  57  ...      54728       PDG       0\n",
            "872   102956        BUNGA KARYA, CV.  59  ...  270343457       PDG       0\n",
            "\n",
            "[79 rows x 7 columns]\n",
            "\n",
            "Pelanggan cluster: 1\n",
            "\n",
            "      No_cust                    Name Age  ...    Amount Dept_code cluster\n",
            "3      100011             ALFI TABING  43  ...  10147272       PDG       1\n",
            "6      100017           ANDRI PERABOT  43  ...    591999       PDG       1\n",
            "9      100028       PEKANBARU REKLAME  43  ...  27501918       PKU       1\n",
            "13     100034           ERIZA GRAFIKA  43  ...    592181       PKU       1\n",
            "14     100037           KARYA KENCANA  43  ...   8098709       PKU       1\n",
            "...       ...                     ...  ..  ...       ...       ...     ...\n",
            "1138   103834               ALI TANTO  43  ...  10974092       PDG       1\n",
            "1139   103835  YODERI ABBY PUTRA, CV.  43  ...   2618182       PDG       1\n",
            "1141   103837         DWI KURNIA SARI  43  ...   8157272       PDG       1\n",
            "1142   103838          RIZKY RAMADHAN  43  ...   5434546       PDG       1\n",
            "1146   103845        AA JAYA BANGUNAN  43  ...   1930909       PDG       1\n",
            "\n",
            "[552 rows x 7 columns]\n",
            "\n",
            "Pelanggan cluster: 2\n",
            "\n",
            "      No_cust                            Name Age  ...    Amount Dept_code cluster\n",
            "0      100002                      ACIAK, UD.  46  ...  18668637       PDG       2\n",
            "2      100008               ALAM INDAH GRANIT  46  ...   2296001       PDG       2\n",
            "4      100012              ALFI PERABOT (AJO)  45  ...  12201820       PDG       2\n",
            "7      100023                          ARAFAH  46  ...   3224250       PDG       2\n",
            "8      100026                     ARENA MOTOR  46  ...    460365       PDG       2\n",
            "...       ...                             ...  ..  ...       ...       ...     ...\n",
            "1137   103833           SINAR LOGAM JAYA, CV.  46  ...   1071382       PDG       2\n",
            "1140   103836                   GLOBAL PADANG  46  ...  10883636       PDG       2\n",
            "1143   103839  INDOMATIC MANDIRI SENTOSA, PT.  46  ...  11181817       PDG       2\n",
            "1144   103840                       ZAINUDDIN  45  ...   2950454       PDG       2\n",
            "1145   103841              TANJUNG PURA MOTOR  46  ...    878182       PDG       2\n",
            "\n",
            "[402 rows x 7 columns]\n",
            "\n",
            "Pelanggan cluster: 3\n",
            "\n",
            "     No_cust    Name Age         Job       Amount Dept_code  cluster\n",
            "100   100235  RETAIL  43  Kontraktor  26526751573       PDG        3\n",
            "914   103195    CASH  43  Kontraktor  11383006475       PDG        3\n",
            "\n",
            "Pelanggan cluster: 4\n",
            "\n",
            "     No_cust                         Name Age  ...      Amount Dept_code cluster\n",
            "57    100133                   JAYA BOARD  39  ...      219092       PDG       4\n",
            "58    100137            MALAYU PRIMA, CV.  34  ...   199198460       PDG       4\n",
            "67    100155           BUSSINIS ALI SOLOK  35  ...    19314090       PDG       4\n",
            "135   100299               TONY SEBASTIAN  34  ...    13387158       PDG       4\n",
            "136   100300                 FAMILY SOETA  38  ...    20478455       PDG       4\n",
            "..       ...                          ...  ..  ...         ...       ...     ...\n",
            "862   102563    DAYTA MINIMALIS FURNITURE  36  ...     8264273       PDG       4\n",
            "863   102570              HALDO FERNANDES  30  ...    12894545       PDG       4\n",
            "871   102856           DASMAR JAYA, TOKO.  33  ...     9384137       PKU       4\n",
            "874   102959  VILARS PIRANTI PERKASA, CV.  39  ...   199091817       PDG       4\n",
            "893   103153                   JEGES KACA  33  ...  1000181771       PKU       4\n",
            "\n",
            "[112 rows x 7 columns]\n"
          ]
        }
      ]
    },
    {
      "cell_type": "code",
      "metadata": {
        "colab": {
          "base_uri": "https://localhost:8080/",
          "height": 1000
        },
        "id": "LQNNKgxNf4bM",
        "outputId": "e77fbcf8-7006-4783-9570-2049b2cd2e68"
      },
      "source": [
        "#Visualisasi Hasil Clustering\n",
        "import matplotlib.pyplot as plt\n",
        "# Data Numerical\n",
        "#kolom_numerik = ['Amount']\n",
        "kolom_numerik = ['Age', 'Amount']\n",
        "for i in kolom_numerik:\n",
        "    plt.figure(figsize=(10,8))\n",
        "    ax = sns.boxplot(x = 'cluster',y = i, data = df_final)\n",
        "    plt.title('\\nBox Plot {}\\n'.format(i), fontsize=12)\n",
        "    plt.show()                                                                                                                                                                                                                                                                                                                                                                                                                                                                                                                                                                                                                                                                                                                                                                                                                                                                                                                                                                                                                                                                                                                                                                                                                                                                                                                                                                                                                                                                                                                                                                                                                                                                                                "
      ],
      "execution_count": null,
      "outputs": [
        {
          "output_type": "display_data",
          "data": {
            "image/png": "[encoded data removed]",
            "text/plain": [
              "<Figure size 720x576 with 1 Axes>"
            ]
          },
          "metadata": {
            "needs_background": "light"
          }
        },
        {
          "output_type": "display_data",
          "data": {
            "image/png": "[encoded data removed]",
            "text/plain": [
              "<Figure size 720x576 with 1 Axes>"
            ]
          },
          "metadata": {
            "needs_background": "light"
          }
        }
      ]
    },
    {
      "cell_type": "code",
      "metadata": {
        "colab": {
          "base_uri": "https://localhost:8080/",
          "height": 633
        },
        "id": "-t4WmxCjf2sn",
        "outputId": "da4c7d1a-7ef1-464e-bdb2-c25168bece9a"
      },
      "source": [
        "#VISUALISASI CLUSTER KOLOM JOB DAN DEPT CODE\n",
        "\n",
        "import matplotlib.pyplot as plt\n",
        "# Data Kategorikal\n",
        "kolom_categorical = ['Job','Dept_code']\n",
        "\n",
        "for i in kolom_categorical:\n",
        "    plt.figure(figsize=(6,4))\n",
        "    ax = sns.countplot(data = df_final, x = 'cluster', hue = i )\n",
        "    plt.title('\\nCount Plot {}\\n'.format(i), fontsize=12)\n",
        "    ax.legend(loc=\"upper center\")\n",
        "for p in ax.patches:\n",
        "    ax.annotate(format(p.get_height(), '.0f'),\n",
        "    (p.get_x() + p.get_width() / 2., p.get_height()),\n",
        "    ha = 'center',\n",
        "    va = 'center',\n",
        "    xytext = (0, 10),\n",
        "    textcoords = 'offset points')\n",
        "\n",
        "sns.despine(right=True,top = True, left = True)\n",
        "ax.axes.yaxis.set_visible(False)\n",
        "plt.show()"
      ],
      "execution_count": null,
      "outputs": [
        {
          "output_type": "display_data",
          "data": {
            "image/png": "[encoded data removed]",
            "text/plain": [
              "<Figure size 432x288 with 1 Axes>"
            ]
          },
          "metadata": {
            "needs_background": "light"
          }
        },
        {
          "output_type": "display_data",
          "data": {
            "image/png": "[encoded data removed]",
            "text/plain": [
              "<Figure size 432x288 with 1 Axes>"
            ]
          },
          "metadata": {
            "needs_background": "light"
          }
        }
      ]
    },
    {
      "cell_type": "code",
      "metadata": {
        "colab": {
          "base_uri": "https://localhost:8080/"
        },
        "id": "YMre1ASMgYfn",
        "outputId": "075226f0-18ef-4070-85fe-3ae44bd17df6"
      },
      "source": [
        "#Menamakan Cluster\n",
        "# Mapping nama kolom\n",
        "df_final['segmen'] = df_final['cluster'].map({\n",
        "0: 'Diamond Young Member',\n",
        "1: 'Diamond Senior Member',\n",
        "2: 'Silver Member',\n",
        "3: 'Gold Young Member',\n",
        "4: 'Gold Senior Member'\n",
        "})\n",
        "\n",
        "print(df_final.info())\n",
        "print(df_final.head())"
      ],
      "execution_count": null,
      "outputs": [
        {
          "output_type": "stream",
          "name": "stdout",
          "text": [
            "<class 'pandas.core.frame.DataFrame'>\n",
            "RangeIndex: 1147 entries, 0 to 1146\n",
            "Data columns (total 8 columns):\n",
            " #   Column     Non-Null Count  Dtype \n",
            "---  ------     --------------  ----- \n",
            " 0   No_cust    1147 non-null   int64 \n",
            " 1   Name       1147 non-null   object\n",
            " 2   Age        1147 non-null   object\n",
            " 3   Job        1147 non-null   object\n",
            " 4   Amount     1147 non-null   object\n",
            " 5   Dept_code  1147 non-null   object\n",
            " 6   cluster    1147 non-null   uint16\n",
            " 7   segmen     1147 non-null   object\n",
            "dtypes: int64(1), object(6), uint16(1)\n",
            "memory usage: 65.1+ KB\n",
            "None\n",
            "   No_cust                Name Age  ... Dept_code cluster                 segmen\n",
            "0   100002          ACIAK, UD.  46  ...       PDG       2          Silver Member\n",
            "1   100004                AFEN  71  ...       PDG       0   Diamond Young Member\n",
            "2   100008   ALAM INDAH GRANIT  46  ...       PDG       2          Silver Member\n",
            "3   100011         ALFI TABING  43  ...       PDG       1  Diamond Senior Member\n",
            "4   100012  ALFI PERABOT (AJO)  45  ...       PDG       2          Silver Member\n",
            "\n",
            "[5 rows x 8 columns]\n"
          ]
        }
      ]
    },
    {
      "cell_type": "code",
      "metadata": {
        "id": "ZdQcLhcnge2k"
      },
      "source": [
        "#OUTPUT CSV\n",
        "df_final.to_csv('output_custseg_sti.csv', index=False, sep=';')"
      ],
      "execution_count": null,
      "outputs": []
    }
  ]
}