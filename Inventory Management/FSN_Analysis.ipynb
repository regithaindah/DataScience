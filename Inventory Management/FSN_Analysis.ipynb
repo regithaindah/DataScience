{
  "nbformat": 4,
  "nbformat_minor": 0,
  "metadata": {
    "colab": {
      "name": "FSN_Analysis.ipynb",
      "provenance": [],
      "collapsed_sections": []
    },
    "kernelspec": {
      "display_name": "Python 3",
      "name": "python3"
    },
    "language_info": {
      "name": "python"
    }
  },
  "cells": [
    {
      "cell_type": "markdown",
      "metadata": {
        "id": "ODv16wvQyKMj"
      },
      "source": [
        "#FSN Analysis"
      ]
    },
    {
      "cell_type": "code",
      "metadata": {
        "id": "uR0Ha8PMyA2B"
      },
      "source": [
        "import pandas as pd\n",
        "import matplotlib.pyplot as plt\n",
        "import seaborn as sns\n",
        "import numpy as np"
      ],
      "execution_count": 1,
      "outputs": []
    },
    {
      "cell_type": "code",
      "metadata": {
        "colab": {
          "base_uri": "https://localhost:8080/"
        },
        "id": "dEXpwTR0yU0v",
        "outputId": "abf60fdf-1ad5-45fe-84b5-0e85c9a5ba29"
      },
      "source": [
        "#Load the data\n",
        "#import drive\n",
        "from google.colab import drive\n",
        "drive.mount('/content/drive') "
      ],
      "execution_count": 2,
      "outputs": [
        {
          "output_type": "stream",
          "name": "stdout",
          "text": [
            "Mounted at /content/drive\n"
          ]
        }
      ]
    },
    {
      "cell_type": "code",
      "metadata": {
        "id": "a7tJ10haykXQ"
      },
      "source": [
        "data = pd.read_csv('/content/drive/My Drive/Inventory Management/Input/FSN_data.csv')"
      ],
      "execution_count": 3,
      "outputs": []
    },
    {
      "cell_type": "code",
      "metadata": {
        "id": "u22DAuxS0iqp",
        "colab": {
          "base_uri": "https://localhost:8080/",
          "height": 206
        },
        "outputId": "adeabe12-5e8b-44af-b76c-1a9c53e9aa81"
      },
      "source": [
        "data.head()"
      ],
      "execution_count": 4,
      "outputs": [
        {
          "output_type": "execute_result",
          "data": {
            "text/html": [
              "<div>\n",
              "<style scoped>\n",
              "    .dataframe tbody tr th:only-of-type {\n",
              "        vertical-align: middle;\n",
              "    }\n",
              "\n",
              "    .dataframe tbody tr th {\n",
              "        vertical-align: top;\n",
              "    }\n",
              "\n",
              "    .dataframe thead th {\n",
              "        text-align: right;\n",
              "    }\n",
              "</style>\n",
              "<table border=\"1\" class=\"dataframe\">\n",
              "  <thead>\n",
              "    <tr style=\"text-align: right;\">\n",
              "      <th></th>\n",
              "      <th>No_item</th>\n",
              "      <th>Brand</th>\n",
              "      <th>Dept</th>\n",
              "      <th>Stok_Awal</th>\n",
              "      <th>Stok_Akhir</th>\n",
              "      <th>Demand</th>\n",
              "    </tr>\n",
              "  </thead>\n",
              "  <tbody>\n",
              "    <tr>\n",
              "      <th>0</th>\n",
              "      <td>100002</td>\n",
              "      <td>LIST</td>\n",
              "      <td>PDG</td>\n",
              "      <td>0.0</td>\n",
              "      <td>0.0</td>\n",
              "      <td>0.0</td>\n",
              "    </tr>\n",
              "    <tr>\n",
              "      <th>1</th>\n",
              "      <td>100003</td>\n",
              "      <td>ATOOL</td>\n",
              "      <td>PDG</td>\n",
              "      <td>40.0</td>\n",
              "      <td>38.0</td>\n",
              "      <td>2.0</td>\n",
              "    </tr>\n",
              "    <tr>\n",
              "      <th>2</th>\n",
              "      <td>100008</td>\n",
              "      <td>ATOOL</td>\n",
              "      <td>PDG</td>\n",
              "      <td>16.0</td>\n",
              "      <td>13.0</td>\n",
              "      <td>3.0</td>\n",
              "    </tr>\n",
              "    <tr>\n",
              "      <th>3</th>\n",
              "      <td>100011</td>\n",
              "      <td>ATOOL</td>\n",
              "      <td>PDG</td>\n",
              "      <td>10.0</td>\n",
              "      <td>10.0</td>\n",
              "      <td>0.0</td>\n",
              "    </tr>\n",
              "    <tr>\n",
              "      <th>4</th>\n",
              "      <td>100012</td>\n",
              "      <td>ATOOL</td>\n",
              "      <td>PDG</td>\n",
              "      <td>39.0</td>\n",
              "      <td>39.0</td>\n",
              "      <td>0.0</td>\n",
              "    </tr>\n",
              "  </tbody>\n",
              "</table>\n",
              "</div>"
            ],
            "text/plain": [
              "   No_item   Brand Dept  Stok_Awal  Stok_Akhir  Demand\n",
              "0   100002   LIST   PDG        0.0         0.0     0.0\n",
              "1   100003  ATOOL   PDG       40.0        38.0     2.0\n",
              "2   100008  ATOOL   PDG       16.0        13.0     3.0\n",
              "3   100011  ATOOL   PDG       10.0        10.0     0.0\n",
              "4   100012  ATOOL   PDG       39.0        39.0     0.0"
            ]
          },
          "metadata": {},
          "execution_count": 4
        }
      ]
    },
    {
      "cell_type": "code",
      "metadata": {
        "id": "bFS-TSW65xxZ"
      },
      "source": [
        "def FSN_segmentation(tor):\n",
        "    '''\n",
        "    Creates the 3 classes F, S, and N based \n",
        "    on TOR / Turn Over Ratio (F > 3, 1 < S < 3, N < 1)\n",
        "    '''\n",
        "    if tor > 3 and not 'inf' and not '-inf':\n",
        "        return 'F'\n",
        "    elif tor > 1 and tor < 3:\n",
        "        return 'S'\n",
        "    elif tor < 1:\n",
        "        return 'N'\n",
        "    elif tor == 'inf':\n",
        "        return '0'\n",
        "    elif tor == '-inf':\n",
        "        return '0'\n",
        "\n",
        "def Demand_Class(dem):\n",
        "    if dem == 0:\n",
        "      return '0'"
      ],
      "execution_count": 5,
      "outputs": []
    },
    {
      "cell_type": "code",
      "metadata": {
        "id": "IaYVJQm17p1f"
      },
      "source": [
        "# take a subset of the data, we need to use the price and the quantity of each item\n",
        "data_sub = data[['No_item','Brand','Dept','Stok_Awal', 'Stok_Akhir', 'Demand']]\n",
        "\n",
        "# create the column of the Average Inventory\n",
        "data_sub['Avg_inv'] = (data_sub['Stok_Awal'] + data_sub['Stok_Akhir']) / 2\n",
        "\n",
        "# Average inventory total = total avg inv / 12 bulan\n",
        "data_sub['Avg_inv_tot'] = data_sub['Avg_inv'] / 12\n",
        "\n",
        "data_sub['Demand'] == data_sub['Demand']\n",
        "\n",
        "#data_sub['TOR'] = data_sub['Demand'].apply(Demand_Class)\n",
        "data_sub['Avg_inv_tot'] / data_sub['Demand']\n",
        "data_sub['TOR'] = data_sub['Avg_inv_tot'] / data_sub['Demand']"
      ],
      "execution_count": 6,
      "outputs": []
    },
    {
      "cell_type": "code",
      "metadata": {
        "id": "b7_-k1uZzh5j"
      },
      "source": [
        "data_sub['Class_FSN'] = data_sub['TOR'].apply(FSN_segmentation)\n"
      ],
      "execution_count": 7,
      "outputs": []
    },
    {
      "cell_type": "code",
      "metadata": {
        "id": "bJqQZCsM_r-x",
        "colab": {
          "base_uri": "https://localhost:8080/",
          "height": 206
        },
        "outputId": "c56709aa-d0cb-478f-ac2c-ccbddc21ddb9"
      },
      "source": [
        "data_sub.head()"
      ],
      "execution_count": 9,
      "outputs": [
        {
          "output_type": "execute_result",
          "data": {
            "text/html": [
              "<div>\n",
              "<style scoped>\n",
              "    .dataframe tbody tr th:only-of-type {\n",
              "        vertical-align: middle;\n",
              "    }\n",
              "\n",
              "    .dataframe tbody tr th {\n",
              "        vertical-align: top;\n",
              "    }\n",
              "\n",
              "    .dataframe thead th {\n",
              "        text-align: right;\n",
              "    }\n",
              "</style>\n",
              "<table border=\"1\" class=\"dataframe\">\n",
              "  <thead>\n",
              "    <tr style=\"text-align: right;\">\n",
              "      <th></th>\n",
              "      <th>No_item</th>\n",
              "      <th>Brand</th>\n",
              "      <th>Dept</th>\n",
              "      <th>Stok_Awal</th>\n",
              "      <th>Stok_Akhir</th>\n",
              "      <th>Demand</th>\n",
              "      <th>Avg_inv</th>\n",
              "      <th>Avg_inv_tot</th>\n",
              "      <th>TOR</th>\n",
              "      <th>Class_FSN</th>\n",
              "    </tr>\n",
              "  </thead>\n",
              "  <tbody>\n",
              "    <tr>\n",
              "      <th>0</th>\n",
              "      <td>100002</td>\n",
              "      <td>LIST</td>\n",
              "      <td>PDG</td>\n",
              "      <td>0.0</td>\n",
              "      <td>0.0</td>\n",
              "      <td>0.0</td>\n",
              "      <td>0.0</td>\n",
              "      <td>0.000000</td>\n",
              "      <td>NaN</td>\n",
              "      <td>None</td>\n",
              "    </tr>\n",
              "    <tr>\n",
              "      <th>1</th>\n",
              "      <td>100003</td>\n",
              "      <td>ATOOL</td>\n",
              "      <td>PDG</td>\n",
              "      <td>40.0</td>\n",
              "      <td>38.0</td>\n",
              "      <td>2.0</td>\n",
              "      <td>39.0</td>\n",
              "      <td>3.250000</td>\n",
              "      <td>1.625000</td>\n",
              "      <td>S</td>\n",
              "    </tr>\n",
              "    <tr>\n",
              "      <th>2</th>\n",
              "      <td>100008</td>\n",
              "      <td>ATOOL</td>\n",
              "      <td>PDG</td>\n",
              "      <td>16.0</td>\n",
              "      <td>13.0</td>\n",
              "      <td>3.0</td>\n",
              "      <td>14.5</td>\n",
              "      <td>1.208333</td>\n",
              "      <td>0.402778</td>\n",
              "      <td>N</td>\n",
              "    </tr>\n",
              "    <tr>\n",
              "      <th>3</th>\n",
              "      <td>100011</td>\n",
              "      <td>ATOOL</td>\n",
              "      <td>PDG</td>\n",
              "      <td>10.0</td>\n",
              "      <td>10.0</td>\n",
              "      <td>0.0</td>\n",
              "      <td>10.0</td>\n",
              "      <td>0.833333</td>\n",
              "      <td>inf</td>\n",
              "      <td>None</td>\n",
              "    </tr>\n",
              "    <tr>\n",
              "      <th>4</th>\n",
              "      <td>100012</td>\n",
              "      <td>ATOOL</td>\n",
              "      <td>PDG</td>\n",
              "      <td>39.0</td>\n",
              "      <td>39.0</td>\n",
              "      <td>0.0</td>\n",
              "      <td>39.0</td>\n",
              "      <td>3.250000</td>\n",
              "      <td>inf</td>\n",
              "      <td>None</td>\n",
              "    </tr>\n",
              "  </tbody>\n",
              "</table>\n",
              "</div>"
            ],
            "text/plain": [
              "   No_item   Brand Dept  Stok_Awal  ...  Avg_inv  Avg_inv_tot       TOR  Class_FSN\n",
              "0   100002   LIST   PDG        0.0  ...      0.0     0.000000       NaN       None\n",
              "1   100003  ATOOL   PDG       40.0  ...     39.0     3.250000  1.625000          S\n",
              "2   100008  ATOOL   PDG       16.0  ...     14.5     1.208333  0.402778          N\n",
              "3   100011  ATOOL   PDG       10.0  ...     10.0     0.833333       inf       None\n",
              "4   100012  ATOOL   PDG       39.0  ...     39.0     3.250000       inf       None\n",
              "\n",
              "[5 rows x 10 columns]"
            ]
          },
          "metadata": {},
          "execution_count": 9
        }
      ]
    },
    {
      "cell_type": "code",
      "metadata": {
        "id": "aS_sd1Gsq1B6"
      },
      "source": [
        "#Data output: Product recommendationnya gabung dalam satu kolom\n",
        "df_output = data_sub[['Dept', 'Class_FSN', 'Brand', 'No_item', 'TOR']].drop_duplicates()"
      ],
      "execution_count": 10,
      "outputs": []
    },
    {
      "cell_type": "code",
      "metadata": {
        "id": "_3bU_ape-jbj"
      },
      "source": [
        "#OUTPUT CSV\n",
        "df_output.to_csv('result_FSN_sti.csv', index=False)"
      ],
      "execution_count": 11,
      "outputs": []
    },
    {
      "cell_type": "code",
      "metadata": {
        "id": "vvBoIAOhsPbM"
      },
      "source": [
        "\n",
        "def create_output(print_json=True):\n",
        "  df_output = data_sub[['Dept', 'Class', 'Brand', 'No_item', 'TOR']].drop_duplicates() \\\n",
        "        .sort_values('Dept').set_index('Dept')\n",
        "  if print_json:\n",
        "    df_output.to_json('/content/drive/My Drive/Inventory Management/FSN_Sti_output.json')\n",
        "    print(\"An output file can be found in 'output' folder with name 'option1_recommendation.json'\")\n",
        "  return df_output"
      ],
      "execution_count": 12,
      "outputs": []
    },
    {
      "cell_type": "code",
      "metadata": {
        "id": "2NXdsNeytuUv",
        "colab": {
          "base_uri": "https://localhost:8080/",
          "height": 225
        },
        "outputId": "27bf25f2-fd21-44fb-90e9-abfe935e1c28"
      },
      "source": [
        "print(df_output.shape)\n",
        "df_output.head()"
      ],
      "execution_count": 14,
      "outputs": [
        {
          "output_type": "stream",
          "name": "stdout",
          "text": [
            "(11552, 5)\n"
          ]
        },
        {
          "output_type": "execute_result",
          "data": {
            "text/html": [
              "<div>\n",
              "<style scoped>\n",
              "    .dataframe tbody tr th:only-of-type {\n",
              "        vertical-align: middle;\n",
              "    }\n",
              "\n",
              "    .dataframe tbody tr th {\n",
              "        vertical-align: top;\n",
              "    }\n",
              "\n",
              "    .dataframe thead th {\n",
              "        text-align: right;\n",
              "    }\n",
              "</style>\n",
              "<table border=\"1\" class=\"dataframe\">\n",
              "  <thead>\n",
              "    <tr style=\"text-align: right;\">\n",
              "      <th></th>\n",
              "      <th>Dept</th>\n",
              "      <th>Class_FSN</th>\n",
              "      <th>Brand</th>\n",
              "      <th>No_item</th>\n",
              "      <th>TOR</th>\n",
              "    </tr>\n",
              "  </thead>\n",
              "  <tbody>\n",
              "    <tr>\n",
              "      <th>0</th>\n",
              "      <td>PDG</td>\n",
              "      <td>None</td>\n",
              "      <td>LIST</td>\n",
              "      <td>100002</td>\n",
              "      <td>NaN</td>\n",
              "    </tr>\n",
              "    <tr>\n",
              "      <th>1</th>\n",
              "      <td>PDG</td>\n",
              "      <td>S</td>\n",
              "      <td>ATOOL</td>\n",
              "      <td>100003</td>\n",
              "      <td>1.625000</td>\n",
              "    </tr>\n",
              "    <tr>\n",
              "      <th>2</th>\n",
              "      <td>PDG</td>\n",
              "      <td>N</td>\n",
              "      <td>ATOOL</td>\n",
              "      <td>100008</td>\n",
              "      <td>0.402778</td>\n",
              "    </tr>\n",
              "    <tr>\n",
              "      <th>3</th>\n",
              "      <td>PDG</td>\n",
              "      <td>None</td>\n",
              "      <td>ATOOL</td>\n",
              "      <td>100011</td>\n",
              "      <td>inf</td>\n",
              "    </tr>\n",
              "    <tr>\n",
              "      <th>4</th>\n",
              "      <td>PDG</td>\n",
              "      <td>None</td>\n",
              "      <td>ATOOL</td>\n",
              "      <td>100012</td>\n",
              "      <td>inf</td>\n",
              "    </tr>\n",
              "  </tbody>\n",
              "</table>\n",
              "</div>"
            ],
            "text/plain": [
              "  Dept Class_FSN   Brand  No_item       TOR\n",
              "0  PDG      None   LIST    100002       NaN\n",
              "1  PDG         S  ATOOL    100003  1.625000\n",
              "2  PDG         N  ATOOL    100008  0.402778\n",
              "3  PDG      None  ATOOL    100011       inf\n",
              "4  PDG      None  ATOOL    100012       inf"
            ]
          },
          "metadata": {},
          "execution_count": 14
        }
      ]
    },
    {
      "cell_type": "code",
      "metadata": {
        "id": "Ny7C9gNYx1ow",
        "colab": {
          "base_uri": "https://localhost:8080/"
        },
        "outputId": "d337360b-cf52-4197-cf9d-2e2e75b5718b"
      },
      "source": [
        "#Format Output\n",
        "finalList = []\n",
        "finalDict = {}\n",
        "grouped = df_output.groupby(['Dept'])\n",
        "# Group per deptCode\n",
        "for key, value in grouped:        \n",
        "      #print(key)\n",
        "      #print(value)\n",
        "      deptCode = grouped.get_group(key).reset_index(drop=True)\n",
        "\n",
        "      deptCodeList= []\n",
        "      deptCodeDict = {}\n",
        "      ObjectValue = {}\n",
        "      #fsn class\n",
        "      grouped_FSN = deptCode.groupby(['Dept','Class_FSN'])\n",
        "      FSNObjectValue = {}\n",
        "      for keyFSN, valueFSN in grouped_FSN:\n",
        "          FSNList = []\n",
        "          namaFSN = keyFSN[1]\n",
        "          FSNCode = grouped_FSN.get_group(keyFSN).reset_index(drop=True)\n",
        "      \n",
        "      grouped_Brand = FSNCode.groupby(['Class_FSN','Brand'])\n",
        "      \n",
        "      BrandObjectValue = {}\n",
        "      for keyBrand, valueBrand in grouped_Brand: \n",
        "          BrandList= []\n",
        "          namaBrand = keyBrand[1]\n",
        "          \n",
        "          BrandCode = grouped_Brand.get_group(keyBrand).reset_index(drop=True)\n",
        "\n",
        "          for i_Brand in BrandCode.index:\n",
        "            BrandDict = {}\n",
        "            BrandDict['No_item'] = BrandCode.at[i_Brand, 'No_item']\n",
        "            BrandDict['TOR'] = BrandCode.at[i_Brand, 'TOR']\n",
        "            BrandList.append(BrandDict)\n",
        "          BrandObjectValue[namaBrand] = BrandList\n",
        "      FSNObjectValue[namaFSN] = BrandObjectValue\n",
        "      # print(BrandObjectValue)\n",
        "      deptCodeList.append(FSNObjectValue)\n",
        "      deptCodeDict[key] = deptCodeList\n",
        "      # print(deptCodeDict)\n",
        "\n",
        "      finalList.append(deptCodeDict)\n",
        "import json\n",
        "print(finalList)"
      ],
      "execution_count": 15,
      "outputs": [
        {
          "output_type": "stream",
          "name": "stdout",
          "text": [
            "[{'PDG': [{'S': {'AFA ': [{'No_item': 107989, 'TOR': 2.576388888888889}], 'AM ': [{'No_item': 112225, 'TOR': 1.4583333333333333}], 'AND ': [{'No_item': 108070, 'TOR': 2.263888888888889}, {'No_item': 119830, 'TOR': 1.9583333333333333}], 'ATOOL ': [{'No_item': 100003, 'TOR': 1.625}, {'No_item': 100160, 'TOR': 2.2083333333333335}, {'No_item': 100169, 'TOR': 1.125}, {'No_item': 109000, 'TOR': 1.375}], 'BAUT ': [{'No_item': 100482, 'TOR': 1.4583333333333333}], 'BENZ ': [{'No_item': 103098, 'TOR': 1.125}, {'No_item': 107932, 'TOR': 2.4583333333333335}], 'BOSCH ': [{'No_item': 106675, 'TOR': 1.0416666666666667}], 'BREMEN ': [{'No_item': 111552, 'TOR': 1.2083333333333333}], 'DELIZIA ': [{'No_item': 107920, 'TOR': 2.225}], 'ECO ': [{'No_item': 112302, 'TOR': 1.9027777777777777}], 'EURO ': [{'No_item': 105744, 'TOR': 1.8761111111111113}], 'EWIGE ': [{'No_item': 116947, 'TOR': 1.4166666666666667}], 'FERZA ': [{'No_item': 109342, 'TOR': 1.0694444444444444}], 'FIT ': [{'No_item': 102988, 'TOR': 1.2416666666666667}, {'No_item': 116888, 'TOR': 1.097222222222222}], 'HUBEN ': [{'No_item': 101705, 'TOR': 1.1527777777777777}, {'No_item': 105697, 'TOR': 1.1666666666666667}, {'No_item': 108636, 'TOR': 1.2488095238095238}, {'No_item': 108998, 'TOR': 2.208333333333333}, {'No_item': 110968, 'TOR': 1.4583333333333333}], 'KACA ': [{'No_item': 116913, 'TOR': 2.8108974358974357}], 'KLASSEN ': [{'No_item': 109684, 'TOR': 1.8564814814814814}, {'No_item': 109706, 'TOR': 2.1527777777777777}, {'No_item': 110006, 'TOR': 1.7083333333333333}], 'LAG ': [{'No_item': 106832, 'TOR': 2.816666666666667}], 'MAKITA ': [{'No_item': 108786, 'TOR': 1.5416666666666667}], 'MAKTEC ': [{'No_item': 104140, 'TOR': 1.0416666666666667}, {'No_item': 105487, 'TOR': 1.7916666666666667}, {'No_item': 107444, 'TOR': 1.5416666666666667}, {'No_item': 108265, 'TOR': 2.125}], 'MASSAKI ': [{'No_item': 104429, 'TOR': 1.1083333333333334}, {'No_item': 107852, 'TOR': 1.4583333333333333}], 'MASTERLINE ': [{'No_item': 111065, 'TOR': 1.9166666666666667}], 'MC ': [{'No_item': 111013, 'TOR': 1.0416666666666667}], 'NEPEL ': [{'No_item': 106479, 'TOR': 2.25}], 'NICHOLSON ': [{'No_item': 102888, 'TOR': 1.375}], 'NKS ': [{'No_item': 112214, 'TOR': 2.4583333333333335}], 'NOMOR ': [{'No_item': 111080, 'TOR': 2.4583333333333335}, {'No_item': 111085, 'TOR': 1.7083333333333333}, {'No_item': 111087, 'TOR': 2.5}], 'OHIO ': [{'No_item': 110104, 'TOR': 1.475}, {'No_item': 110106, 'TOR': 1.0416666666666667}, {'No_item': 110108, 'TOR': 1.2916666666666667}, {'No_item': 110116, 'TOR': 2.4583333333333335}, {'No_item': 110773, 'TOR': 1.5544871794871795}], 'PAKU ': [{'No_item': 102975, 'TOR': 1.7916666666666667}, {'No_item': 112603, 'TOR': 2.5972222222222223}, {'No_item': 112605, 'TOR': 1.9305555555555556}, {'No_item': 112606, 'TOR': 2.1666666666666665}], 'RUCIKA ': [{'No_item': 112453, 'TOR': 1.5297619047619049}, {'No_item': 112454, 'TOR': 1.4953703703703705}], 'SELLERY ': [{'No_item': 103907, 'TOR': 2.5416666666666665}, {'No_item': 106433, 'TOR': 1.625}], 'SIKU ': [{'No_item': 103973, 'TOR': 1.2202380952380951}], 'SJT ': [{'No_item': 110755, 'TOR': 1.425}], 'SKRUP ': [{'No_item': 104020, 'TOR': 2.0}], 'SOLIGEN ': [{'No_item': 104054, 'TOR': 1.2916666666666667}], 'STANDAT ': [{'No_item': 112213, 'TOR': 1.6875}], 'STI ': [{'No_item': 109745, 'TOR': 1.875}, {'No_item': 109785, 'TOR': 1.4886363636363635}, {'No_item': 109793, 'TOR': 2.375}], 'TACO ': [{'No_item': 104189, 'TOR': 1.4895833333333333}, {'No_item': 104251, 'TOR': 1.7083333333333333}, {'No_item': 106259, 'TOR': 2.375}, {'No_item': 107490, 'TOR': 2.0416666666666665}, {'No_item': 109025, 'TOR': 1.0833333333333333}, {'No_item': 109428, 'TOR': 1.875}, {'No_item': 109619, 'TOR': 1.1875}, {'No_item': 109987, 'TOR': 1.3333333333333333}, {'No_item': 110069, 'TOR': 1.2291666666666667}, {'No_item': 110124, 'TOR': 2.5}], 'TAIYO ': [{'No_item': 104303, 'TOR': 1.6944444444444444}, {'No_item': 104304, 'TOR': 1.1811224489795917}, {'No_item': 104306, 'TOR': 1.9523809523809523}, {'No_item': 104307, 'TOR': 2.0833333333333335}], 'THINNER ': [{'No_item': 116929, 'TOR': 1.5416666666666667}], 'TUTUP ': [{'No_item': 111107, 'TOR': 1.28125}], 'WASSER ': [{'No_item': 111991, 'TOR': 2.375}]}}]}, {'PKU': [{'S': {'BILLIONER ': [{'No_item': 109924, 'TOR': 1.4583333333333333}], 'CARTA ': [{'No_item': 111516, 'TOR': 1.5416666666666667}, {'No_item': 111527, 'TOR': 1.4583333333333333}, {'No_item': 111532, 'TOR': 1.4583333333333333}, {'No_item': 111534, 'TOR': 2.5416666666666665}, {'No_item': 111537, 'TOR': 1.9583333333333333}, {'No_item': 112168, 'TOR': 1.7916666666666667}, {'No_item': 112182, 'TOR': 2.0416666666666665}, {'No_item': 112184, 'TOR': 1.2083333333333333}, {'No_item': 112194, 'TOR': 1.513888888888889}, {'No_item': 112195, 'TOR': 1.8125}, {'No_item': 112196, 'TOR': 2.5416666666666665}, {'No_item': 112246, 'TOR': 1.375}, {'No_item': 112259, 'TOR': 1.2083333333333333}, {'No_item': 112316, 'TOR': 1.2083333333333333}, {'No_item': 112359, 'TOR': 1.2083333333333333}, {'No_item': 112361, 'TOR': 2.0416666666666665}, {'No_item': 112383, 'TOR': 1.3125}, {'No_item': 112384, 'TOR': 1.625}, {'No_item': 112396, 'TOR': 2.0416666666666665}, {'No_item': 112401, 'TOR': 1.5}, {'No_item': 112404, 'TOR': 1.125}, {'No_item': 116881, 'TOR': 1.2083333333333333}], 'KLASSEN ': [{'No_item': 109501, 'TOR': 1.3125}, {'No_item': 109574, 'TOR': 1.7333333333333334}, {'No_item': 109660, 'TOR': 2.3392857142857144}, {'No_item': 109661, 'TOR': 2.736111111111111}, {'No_item': 109680, 'TOR': 1.5416666666666667}, {'No_item': 110009, 'TOR': 1.0416666666666667}, {'No_item': 110011, 'TOR': 1.1333333333333333}, {'No_item': 110165, 'TOR': 2.9583333333333335}], 'OHIO ': [{'No_item': 110105, 'TOR': 1.0416666666666667}], 'PLAT ': [{'No_item': 103061, 'TOR': 1.5972222222222223}, {'No_item': 107135, 'TOR': 1.75}], 'STI ': [{'No_item': 109741, 'TOR': 1.0416666666666667}, {'No_item': 109787, 'TOR': 2.0}]}}]}]\n"
          ]
        }
      ]
    },
    {
      "cell_type": "code",
      "metadata": {
        "id": "J6Fftg-te0j2",
        "colab": {
          "base_uri": "https://localhost:8080/"
        },
        "outputId": "c8caee22-07bb-49a8-f5d4-651a1338904a"
      },
      "source": [
        "df_output.dtypes"
      ],
      "execution_count": 16,
      "outputs": [
        {
          "output_type": "execute_result",
          "data": {
            "text/plain": [
              "Dept          object\n",
              "Class_FSN     object\n",
              "Brand         object\n",
              "No_item        int64\n",
              "TOR          float64\n",
              "dtype: object"
            ]
          },
          "metadata": {},
          "execution_count": 16
        }
      ]
    },
    {
      "cell_type": "code",
      "metadata": {
        "id": "3CRJFEWrzEbu"
      },
      "source": [
        "\n",
        "df_output['No_item'] =df_output['No_item'].apply(lambda x:str(x))"
      ],
      "execution_count": 17,
      "outputs": []
    },
    {
      "cell_type": "code",
      "metadata": {
        "id": "hAReGRMjTa8K",
        "colab": {
          "base_uri": "https://localhost:8080/"
        },
        "outputId": "8ab02792-029e-4832-f535-6595add34882"
      },
      "source": [
        "#NEWEDIT Format Output Cara 1 : AMBERCODE\n",
        "finalList = []\n",
        "finalDict = {}\n",
        "grouped = df_output.groupby('Dept')\n",
        "#print(grouped['Dept'].count())\n",
        "# BLOK A\n",
        "for key, value in grouped:        \n",
        "    deptCode = grouped.get_group(key).reset_index(drop=True)\n",
        "    deptCodeList= []\n",
        "    deptCodeDict = {}\n",
        "    ObjectValue = {}\n",
        "    \n",
        "    #BLOK B\n",
        "    grouped_FSN = deptCode.groupby(['Dept','Class_FSN'])\n",
        "    print(grouped_FSN['Class_FSN'].count())\n",
        "    FSNObjectValue = {}\n",
        "    for keyFSN, valueFSN in grouped_FSN:\n",
        "        FSNList = []\n",
        "        namaFSN = keyFSN[1]\n",
        "        FSNCode = grouped_FSN.get_group(keyFSN).reset_index(drop=True)\n",
        "        \n",
        "        #BLOK C\n",
        "        grouped_Brand = FSNCode.groupby(['Class_FSN','Brand'])\n",
        "        # print(grouped_Brand['Brand'].count())\n",
        "        # print(grouped_FSN.count())\n",
        "        BrandObjectValue = {}\n",
        "        for keyBrand, valueBrand in grouped_Brand: \n",
        "            BrandObjectValue = {}\n",
        "            BrandList= []\n",
        "            namaBrand = keyBrand[1]\n",
        "            BrandCode = grouped_Brand.get_group(keyBrand).reset_index(drop=True)\n",
        "            \n",
        "            #BLOK D\n",
        "            for i_Brand in BrandCode.index:\n",
        "              BrandDict = {}\n",
        "              BrandDict['No_item'] = BrandCode.at[i_Brand, 'No_item']\n",
        "              BrandDict['TOR'] = BrandCode.at[i_Brand, 'TOR']\n",
        "              BrandList.append(BrandDict)          \n",
        "            BrandObjectValue[namaBrand] = BrandList\n",
        "\n",
        "        FSNObjectValue[namaFSN] = BrandObjectValue\n",
        "\n",
        "deptCodeList.append(FSNObjectValue)\n",
        "deptCodeDict[key] = deptCodeList\n",
        "\n",
        "finalList.append(deptCodeDict)\n",
        "import json\n",
        "print(finalList)"
      ],
      "execution_count": 19,
      "outputs": [
        {
          "output_type": "stream",
          "name": "stdout",
          "text": [
            "Dept  Class_FSN\n",
            "PDG   N            2067\n",
            "      S              83\n",
            "Name: Class_FSN, dtype: int64\n",
            "Dept  Class_FSN\n",
            "PKU   N            493\n",
            "      S             36\n",
            "Name: Class_FSN, dtype: int64\n",
            "[{'PKU': [{'N': {'WALL ': [{'No_item': '104632', 'TOR': 0.016856392294220666}, {'No_item': '104634', 'TOR': 0.012681159420289856}, {'No_item': '104635', 'TOR': 0.019136807817589578}, {'No_item': '104640', 'TOR': 0.10138888888888889}, {'No_item': '107460', 'TOR': 0.04166666666666667}, {'No_item': '110823', 'TOR': 0.041666666666666664}, {'No_item': '119995', 'TOR': 0.0}]}, 'S': {'STI ': [{'No_item': '109741', 'TOR': 1.0416666666666667}, {'No_item': '109787', 'TOR': 2.0}]}}]}]\n"
          ]
        }
      ]
    },
    {
      "cell_type": "code",
      "metadata": {
        "id": "aY6O6ut7x3Ht",
        "colab": {
          "base_uri": "https://localhost:8080/"
        },
        "outputId": "acbcd14e-c6b4-4f32-d927-7527b9ceeced"
      },
      "source": [
        "finalList = []\n",
        "finalDict = {}\n",
        "grouped = df_output.groupby(['Dept'])\n",
        "# Group per deptCode\n",
        "for key, value in grouped:        \n",
        "      deptCode = grouped.get_group(key).reset_index(drop=True)\n",
        "      print(deptCode)"
      ],
      "execution_count": 20,
      "outputs": [
        {
          "output_type": "stream",
          "name": "stdout",
          "text": [
            "     Dept Class_FSN   Brand No_item       TOR\n",
            "0     PDG      None   LIST   100002       NaN\n",
            "1     PDG         S  ATOOL   100003  1.625000\n",
            "2     PDG         N  ATOOL   100008  0.402778\n",
            "3     PDG      None  ATOOL   100011       inf\n",
            "4     PDG      None  ATOOL   100012       inf\n",
            "...   ...       ...     ...     ...       ...\n",
            "5771  PDG      None   TANG   120006       NaN\n",
            "5772  PDG      None  OBENG   120007       NaN\n",
            "5773  PDG      None    LEM   120009       NaN\n",
            "5774  PDG      None   KUAS   120010       NaN\n",
            "5775  PDG      None  KUNCI   120011       NaN\n",
            "\n",
            "[5776 rows x 5 columns]\n",
            "     Dept Class_FSN   Brand No_item  TOR\n",
            "0     PKU      None   LIST   100002  NaN\n",
            "1     PKU      None  ATOOL   100003  NaN\n",
            "2     PKU      None  ATOOL   100008  NaN\n",
            "3     PKU      None  ATOOL   100011  NaN\n",
            "4     PKU      None  ATOOL   100012  NaN\n",
            "...   ...       ...     ...     ...  ...\n",
            "5771  PKU      None   TANG   120006  NaN\n",
            "5772  PKU      None  OBENG   120007  NaN\n",
            "5773  PKU      None    LEM   120009  NaN\n",
            "5774  PKU      None   KUAS   120010  NaN\n",
            "5775  PKU      None  KUNCI   120011  NaN\n",
            "\n",
            "[5776 rows x 5 columns]\n"
          ]
        }
      ]
    },
    {
      "cell_type": "code",
      "metadata": {
        "id": "HV_uE2qnJr5l"
      },
      "source": [
        "#Save Result\n",
        "file_name = \"resultFSN.json\"\n",
        "with open(file_name, \"w\") as fid:\n",
        "  json.dump(finalList, fid)"
      ],
      "execution_count": 22,
      "outputs": []
    },
    {
      "cell_type": "code",
      "metadata": {
        "id": "XyWjl8uQrMWL",
        "colab": {
          "base_uri": "https://localhost:8080/"
        },
        "outputId": "f0bb32b4-6ed9-4d8f-a314-cca1e49cb386"
      },
      "source": [
        "df_output.dtypes"
      ],
      "execution_count": 23,
      "outputs": [
        {
          "output_type": "execute_result",
          "data": {
            "text/plain": [
              "Dept          object\n",
              "Class_FSN     object\n",
              "Brand         object\n",
              "No_item       object\n",
              "TOR          float64\n",
              "dtype: object"
            ]
          },
          "metadata": {},
          "execution_count": 23
        }
      ]
    },
    {
      "cell_type": "code",
      "metadata": {
        "id": "GJxC_uOGrQIQ"
      },
      "source": [
        "df_output['No_item'] =df_output['No_item'].apply(lambda x:str(x))"
      ],
      "execution_count": 24,
      "outputs": []
    }
  ]
}