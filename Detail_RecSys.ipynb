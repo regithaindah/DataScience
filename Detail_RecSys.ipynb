{
  "nbformat": 4,
  "nbformat_minor": 0,
  "metadata": {
    "colab": {
      "name": "Detail RecSys.ipynb",
      "provenance": [],
      "collapsed_sections": []
    },
    "kernelspec": {
      "name": "python3",
      "display_name": "Python 3"
    },
    "language_info": {
      "name": "python"
    }
  },
  "cells": [
    {
      "cell_type": "code",
      "metadata": {
        "colab": {
          "base_uri": "https://localhost:8080/"
        },
        "id": "5QL4GiN6RgAf",
        "outputId": "edc8995a-1143-4785-d57a-f033551bc54e"
      },
      "source": [
        "!pip install turicreate"
      ],
      "execution_count": null,
      "outputs": [
        {
          "output_type": "stream",
          "text": [
            "Collecting turicreate\n",
            "\u001b[?25l  Downloading https://files.pythonhosted.org/packages/25/9f/a76acc465d873d217f05eac4846bd73d640b9db6d6f4a3c29ad92650fbbe/turicreate-6.4.1-cp37-cp37m-manylinux1_x86_64.whl (92.0MB)\n",
            "\u001b[K     |████████████████████████████████| 92.0MB 57kB/s \n",
            "\u001b[?25hRequirement already satisfied: scipy>=1.1.0 in /usr/local/lib/python3.7/dist-packages (from turicreate) (1.4.1)\n",
            "Requirement already satisfied: numpy in /usr/local/lib/python3.7/dist-packages (from turicreate) (1.19.5)\n",
            "Collecting resampy==0.2.1\n",
            "\u001b[?25l  Downloading https://files.pythonhosted.org/packages/14/b6/66a06d85474190b50aee1a6c09cdc95bb405ac47338b27e9b21409da1760/resampy-0.2.1.tar.gz (322kB)\n",
            "\u001b[K     |████████████████████████████████| 327kB 39.3MB/s \n",
            "\u001b[?25hRequirement already satisfied: decorator>=4.0.9 in /usr/local/lib/python3.7/dist-packages (from turicreate) (4.4.2)\n",
            "Requirement already satisfied: requests>=2.9.1 in /usr/local/lib/python3.7/dist-packages (from turicreate) (2.23.0)\n",
            "Collecting numba<0.51.0\n",
            "\u001b[?25l  Downloading https://files.pythonhosted.org/packages/04/be/8c88cee3366de2a3a23a9ff1a8be34e79ad1eb1ceb0d0e33aca83655ac3c/numba-0.50.1-cp37-cp37m-manylinux2014_x86_64.whl (3.6MB)\n",
            "\u001b[K     |████████████████████████████████| 3.6MB 27.1MB/s \n",
            "\u001b[?25hCollecting coremltools==3.3\n",
            "\u001b[?25l  Downloading https://files.pythonhosted.org/packages/1b/1d/b1a99beca7355b6a026ae61fd8d3d36136e5b36f13e92ec5f81aceffc7f1/coremltools-3.3-cp37-none-manylinux1_x86_64.whl (3.5MB)\n",
            "\u001b[K     |████████████████████████████████| 3.5MB 17.0MB/s \n",
            "\u001b[?25hCollecting tensorflow<2.1.0,>=2.0.0\n",
            "\u001b[?25l  Downloading https://files.pythonhosted.org/packages/3c/b3/3eeae9bc44039ceadceac0c7ba1cc8b1482b172810b3d7624a1cad251437/tensorflow-2.0.4-cp37-cp37m-manylinux2010_x86_64.whl (86.4MB)\n",
            "\u001b[K     |████████████████████████████████| 86.4MB 55kB/s \n",
            "\u001b[?25hRequirement already satisfied: six>=1.10.0 in /usr/local/lib/python3.7/dist-packages (from turicreate) (1.15.0)\n",
            "Requirement already satisfied: pillow>=5.2.0 in /usr/local/lib/python3.7/dist-packages (from turicreate) (7.1.2)\n",
            "Collecting prettytable==0.7.2\n",
            "  Downloading https://files.pythonhosted.org/packages/ef/30/4b0746848746ed5941f052479e7c23d2b56d174b82f4fd34a25e389831f5/prettytable-0.7.2.tar.bz2\n",
            "Requirement already satisfied: pandas>=0.23.2 in /usr/local/lib/python3.7/dist-packages (from turicreate) (1.1.5)\n",
            "Requirement already satisfied: urllib3!=1.25.0,!=1.25.1,<1.26,>=1.21.1 in /usr/local/lib/python3.7/dist-packages (from requests>=2.9.1->turicreate) (1.24.3)\n",
            "Requirement already satisfied: idna<3,>=2.5 in /usr/local/lib/python3.7/dist-packages (from requests>=2.9.1->turicreate) (2.10)\n",
            "Requirement already satisfied: certifi>=2017.4.17 in /usr/local/lib/python3.7/dist-packages (from requests>=2.9.1->turicreate) (2020.12.5)\n",
            "Requirement already satisfied: chardet<4,>=3.0.2 in /usr/local/lib/python3.7/dist-packages (from requests>=2.9.1->turicreate) (3.0.4)\n",
            "Collecting llvmlite<0.34,>=0.33.0.dev0\n",
            "\u001b[?25l  Downloading https://files.pythonhosted.org/packages/0a/28/0a35b3c2685bf2ea327cef5577bdf91f387f0f4594417a2a05a1d42fb7c2/llvmlite-0.33.0-cp37-cp37m-manylinux1_x86_64.whl (18.3MB)\n",
            "\u001b[K     |████████████████████████████████| 18.3MB 251kB/s \n",
            "\u001b[?25hRequirement already satisfied: setuptools in /usr/local/lib/python3.7/dist-packages (from numba<0.51.0->turicreate) (57.0.0)\n",
            "Requirement already satisfied: protobuf>=3.1.0 in /usr/local/lib/python3.7/dist-packages (from coremltools==3.3->turicreate) (3.12.4)\n",
            "Collecting tensorboard<2.1.0,>=2.0.0\n",
            "\u001b[?25l  Downloading https://files.pythonhosted.org/packages/76/54/99b9d5d52d5cb732f099baaaf7740403e83fe6b0cedde940fabd2b13d75a/tensorboard-2.0.2-py3-none-any.whl (3.8MB)\n",
            "\u001b[K     |████████████████████████████████| 3.8MB 27.0MB/s \n",
            "\u001b[?25hRequirement already satisfied: absl-py>=0.7.0 in /usr/local/lib/python3.7/dist-packages (from tensorflow<2.1.0,>=2.0.0->turicreate) (0.12.0)\n",
            "Collecting h5py<=2.10.0\n",
            "\u001b[?25l  Downloading https://files.pythonhosted.org/packages/3f/c0/abde58b837e066bca19a3f7332d9d0493521d7dd6b48248451a9e3fe2214/h5py-2.10.0-cp37-cp37m-manylinux1_x86_64.whl (2.9MB)\n",
            "\u001b[K     |████████████████████████████████| 2.9MB 32.3MB/s \n",
            "\u001b[?25hRequirement already satisfied: astor>=0.6.0 in /usr/local/lib/python3.7/dist-packages (from tensorflow<2.1.0,>=2.0.0->turicreate) (0.8.1)\n",
            "Requirement already satisfied: keras-preprocessing>=1.0.5 in /usr/local/lib/python3.7/dist-packages (from tensorflow<2.1.0,>=2.0.0->turicreate) (1.1.2)\n",
            "Collecting tensorflow-estimator<2.1.0,>=2.0.0\n",
            "\u001b[?25l  Downloading https://files.pythonhosted.org/packages/fc/08/8b927337b7019c374719145d1dceba21a8bb909b93b1ad6f8fb7d22c1ca1/tensorflow_estimator-2.0.1-py2.py3-none-any.whl (449kB)\n",
            "\u001b[K     |████████████████████████████████| 450kB 49.9MB/s \n",
            "\u001b[?25hRequirement already satisfied: wheel>=0.26; python_version >= \"3\" in /usr/local/lib/python3.7/dist-packages (from tensorflow<2.1.0,>=2.0.0->turicreate) (0.36.2)\n",
            "Collecting gast==0.2.2\n",
            "  Downloading https://files.pythonhosted.org/packages/4e/35/11749bf99b2d4e3cceb4d55ca22590b0d7c2c62b9de38ac4a4a7f4687421/gast-0.2.2.tar.gz\n",
            "Requirement already satisfied: google-pasta>=0.1.6 in /usr/local/lib/python3.7/dist-packages (from tensorflow<2.1.0,>=2.0.0->turicreate) (0.2.0)\n",
            "Requirement already satisfied: wrapt>=1.11.1 in /usr/local/lib/python3.7/dist-packages (from tensorflow<2.1.0,>=2.0.0->turicreate) (1.12.1)\n",
            "Requirement already satisfied: opt-einsum>=2.3.2 in /usr/local/lib/python3.7/dist-packages (from tensorflow<2.1.0,>=2.0.0->turicreate) (3.3.0)\n",
            "Requirement already satisfied: grpcio>=1.8.6 in /usr/local/lib/python3.7/dist-packages (from tensorflow<2.1.0,>=2.0.0->turicreate) (1.34.1)\n",
            "Requirement already satisfied: termcolor>=1.1.0 in /usr/local/lib/python3.7/dist-packages (from tensorflow<2.1.0,>=2.0.0->turicreate) (1.1.0)\n",
            "Collecting keras-applications>=1.0.8\n",
            "\u001b[?25l  Downloading https://files.pythonhosted.org/packages/71/e3/19762fdfc62877ae9102edf6342d71b28fbfd9dea3d2f96a882ce099b03f/Keras_Applications-1.0.8-py3-none-any.whl (50kB)\n",
            "\u001b[K     |████████████████████████████████| 51kB 6.1MB/s \n",
            "\u001b[?25hRequirement already satisfied: python-dateutil>=2.7.3 in /usr/local/lib/python3.7/dist-packages (from pandas>=0.23.2->turicreate) (2.8.1)\n",
            "Requirement already satisfied: pytz>=2017.2 in /usr/local/lib/python3.7/dist-packages (from pandas>=0.23.2->turicreate) (2018.9)\n",
            "Requirement already satisfied: markdown>=2.6.8 in /usr/local/lib/python3.7/dist-packages (from tensorboard<2.1.0,>=2.0.0->tensorflow<2.1.0,>=2.0.0->turicreate) (3.3.4)\n",
            "Requirement already satisfied: google-auth<2,>=1.6.3 in /usr/local/lib/python3.7/dist-packages (from tensorboard<2.1.0,>=2.0.0->tensorflow<2.1.0,>=2.0.0->turicreate) (1.30.0)\n",
            "Requirement already satisfied: google-auth-oauthlib<0.5,>=0.4.1 in /usr/local/lib/python3.7/dist-packages (from tensorboard<2.1.0,>=2.0.0->tensorflow<2.1.0,>=2.0.0->turicreate) (0.4.4)\n",
            "Requirement already satisfied: werkzeug>=0.11.15 in /usr/local/lib/python3.7/dist-packages (from tensorboard<2.1.0,>=2.0.0->tensorflow<2.1.0,>=2.0.0->turicreate) (1.0.1)\n",
            "Requirement already satisfied: importlib-metadata; python_version < \"3.8\" in /usr/local/lib/python3.7/dist-packages (from markdown>=2.6.8->tensorboard<2.1.0,>=2.0.0->tensorflow<2.1.0,>=2.0.0->turicreate) (4.0.1)\n",
            "Requirement already satisfied: cachetools<5.0,>=2.0.0 in /usr/local/lib/python3.7/dist-packages (from google-auth<2,>=1.6.3->tensorboard<2.1.0,>=2.0.0->tensorflow<2.1.0,>=2.0.0->turicreate) (4.2.2)\n",
            "Requirement already satisfied: pyasn1-modules>=0.2.1 in /usr/local/lib/python3.7/dist-packages (from google-auth<2,>=1.6.3->tensorboard<2.1.0,>=2.0.0->tensorflow<2.1.0,>=2.0.0->turicreate) (0.2.8)\n",
            "Requirement already satisfied: rsa<5,>=3.1.4; python_version >= \"3.6\" in /usr/local/lib/python3.7/dist-packages (from google-auth<2,>=1.6.3->tensorboard<2.1.0,>=2.0.0->tensorflow<2.1.0,>=2.0.0->turicreate) (4.7.2)\n",
            "Requirement already satisfied: requests-oauthlib>=0.7.0 in /usr/local/lib/python3.7/dist-packages (from google-auth-oauthlib<0.5,>=0.4.1->tensorboard<2.1.0,>=2.0.0->tensorflow<2.1.0,>=2.0.0->turicreate) (1.3.0)\n",
            "Requirement already satisfied: zipp>=0.5 in /usr/local/lib/python3.7/dist-packages (from importlib-metadata; python_version < \"3.8\"->markdown>=2.6.8->tensorboard<2.1.0,>=2.0.0->tensorflow<2.1.0,>=2.0.0->turicreate) (3.4.1)\n",
            "Requirement already satisfied: typing-extensions>=3.6.4; python_version < \"3.8\" in /usr/local/lib/python3.7/dist-packages (from importlib-metadata; python_version < \"3.8\"->markdown>=2.6.8->tensorboard<2.1.0,>=2.0.0->tensorflow<2.1.0,>=2.0.0->turicreate) (3.7.4.3)\n",
            "Requirement already satisfied: pyasn1<0.5.0,>=0.4.6 in /usr/local/lib/python3.7/dist-packages (from pyasn1-modules>=0.2.1->google-auth<2,>=1.6.3->tensorboard<2.1.0,>=2.0.0->tensorflow<2.1.0,>=2.0.0->turicreate) (0.4.8)\n",
            "Requirement already satisfied: oauthlib>=3.0.0 in /usr/local/lib/python3.7/dist-packages (from requests-oauthlib>=0.7.0->google-auth-oauthlib<0.5,>=0.4.1->tensorboard<2.1.0,>=2.0.0->tensorflow<2.1.0,>=2.0.0->turicreate) (3.1.0)\n",
            "Building wheels for collected packages: resampy, prettytable, gast\n",
            "  Building wheel for resampy (setup.py) ... \u001b[?25l\u001b[?25hdone\n",
            "  Created wheel for resampy: filename=resampy-0.2.1-cp37-none-any.whl size=320858 sha256=28211656b729c0f3bb64f6c4a0ab46c4e3ea361c8732dc7a8e455810b564dc59\n",
            "  Stored in directory: /root/.cache/pip/wheels/ff/4f/ed/2e6c676c23efe5394bb40ade50662e90eb46e29b48324c5f9b\n",
            "  Building wheel for prettytable (setup.py) ... \u001b[?25l\u001b[?25hdone\n",
            "  Created wheel for prettytable: filename=prettytable-0.7.2-cp37-none-any.whl size=13716 sha256=8ee9a0b0d917a0ba9235754a2fbfd5d6fe0e33a847ed5d5128e25802a91d594b\n",
            "  Stored in directory: /root/.cache/pip/wheels/80/34/1c/3967380d9676d162cb59513bd9dc862d0584e045a162095606\n",
            "  Building wheel for gast (setup.py) ... \u001b[?25l\u001b[?25hdone\n",
            "  Created wheel for gast: filename=gast-0.2.2-cp37-none-any.whl size=7557 sha256=2b95bb480d9b615012ee5dcb0811e1bfe52253725bb22376a2f6fb18fefad366\n",
            "  Stored in directory: /root/.cache/pip/wheels/5c/2e/7e/a1d4d4fcebe6c381f378ce7743a3ced3699feb89bcfbdadadd\n",
            "Successfully built resampy prettytable gast\n",
            "\u001b[31mERROR: tensorflow 2.0.4 has requirement numpy<1.19.0,>=1.16.0, but you'll have numpy 1.19.5 which is incompatible.\u001b[0m\n",
            "\u001b[31mERROR: tensorflow-probability 0.12.1 has requirement gast>=0.3.2, but you'll have gast 0.2.2 which is incompatible.\u001b[0m\n",
            "\u001b[31mERROR: librosa 0.8.0 has requirement resampy>=0.2.2, but you'll have resampy 0.2.1 which is incompatible.\u001b[0m\n",
            "Installing collected packages: llvmlite, numba, resampy, coremltools, tensorboard, h5py, tensorflow-estimator, gast, keras-applications, tensorflow, prettytable, turicreate\n",
            "  Found existing installation: llvmlite 0.34.0\n",
            "    Uninstalling llvmlite-0.34.0:\n",
            "      Successfully uninstalled llvmlite-0.34.0\n",
            "  Found existing installation: numba 0.51.2\n",
            "    Uninstalling numba-0.51.2:\n",
            "      Successfully uninstalled numba-0.51.2\n",
            "  Found existing installation: resampy 0.2.2\n",
            "    Uninstalling resampy-0.2.2:\n",
            "      Successfully uninstalled resampy-0.2.2\n",
            "  Found existing installation: tensorboard 2.5.0\n",
            "    Uninstalling tensorboard-2.5.0:\n",
            "      Successfully uninstalled tensorboard-2.5.0\n",
            "  Found existing installation: h5py 3.1.0\n",
            "    Uninstalling h5py-3.1.0:\n",
            "      Successfully uninstalled h5py-3.1.0\n",
            "  Found existing installation: tensorflow-estimator 2.5.0\n",
            "    Uninstalling tensorflow-estimator-2.5.0:\n",
            "      Successfully uninstalled tensorflow-estimator-2.5.0\n",
            "  Found existing installation: gast 0.4.0\n",
            "    Uninstalling gast-0.4.0:\n",
            "      Successfully uninstalled gast-0.4.0\n",
            "  Found existing installation: tensorflow 2.5.0\n",
            "    Uninstalling tensorflow-2.5.0:\n",
            "      Successfully uninstalled tensorflow-2.5.0\n",
            "  Found existing installation: prettytable 2.1.0\n",
            "    Uninstalling prettytable-2.1.0:\n",
            "      Successfully uninstalled prettytable-2.1.0\n",
            "Successfully installed coremltools-3.3 gast-0.2.2 h5py-2.10.0 keras-applications-1.0.8 llvmlite-0.33.0 numba-0.50.1 prettytable-0.7.2 resampy-0.2.1 tensorboard-2.0.2 tensorflow-2.0.4 tensorflow-estimator-2.0.1 turicreate-6.4.1\n"
          ],
          "name": "stdout"
        }
      ]
    },
    {
      "cell_type": "code",
      "metadata": {
        "id": "rryWzIQAQSCP"
      },
      "source": [
        "import pandas as pd\n",
        "import numpy as np\n",
        "import time\n",
        "import turicreate as tc\n",
        "from sklearn.model_selection import train_test_split\n",
        "# import scripts as data_layer\n",
        "import sys\n",
        "sys.path.append(\"..\")"
      ],
      "execution_count": null,
      "outputs": []
    },
    {
      "cell_type": "code",
      "metadata": {
        "colab": {
          "base_uri": "https://localhost:8080/"
        },
        "id": "ys5ud3EvS6qC",
        "outputId": "1c159c5f-b6af-47e4-cf89-e176df89ab72"
      },
      "source": [
        "from google.colab import drive\n",
        "drive.mount('/content/drive/')"
      ],
      "execution_count": null,
      "outputs": [
        {
          "output_type": "stream",
          "text": [
            "Mounted at /content/drive/\n"
          ],
          "name": "stdout"
        }
      ]
    },
    {
      "cell_type": "code",
      "metadata": {
        "id": "R_qsiYeETJpI"
      },
      "source": [
        "customers = pd.read_csv('/content/drive/MyDrive/Item Based Collaborative/USD/USDCustDesc.csv')\n",
        "rekomendasi = pd.read_csv('/content/drive/MyDrive/Item Based Collaborative/USD/rekomen.csv')"
      ],
      "execution_count": null,
      "outputs": []
    },
    {
      "cell_type": "code",
      "metadata": {
        "colab": {
          "base_uri": "https://localhost:8080/"
        },
        "id": "gKIdu2rnjexv",
        "outputId": "951737bd-91db-4983-b9cf-a540f30a3322"
      },
      "source": [
        "rekomendasi.head"
      ],
      "execution_count": null,
      "outputs": [
        {
          "output_type": "execute_result",
          "data": {
            "text/plain": [
              "<bound method NDFrame.head of      customer_id\n",
              "0         100003\n",
              "1         100004\n",
              "2         100012\n",
              "3         100017\n",
              "4         100018\n",
              "..           ...\n",
              "364       100209\n",
              "365       100255\n",
              "366       100688\n",
              "367       100905\n",
              "368       100907\n",
              "\n",
              "[369 rows x 1 columns]>"
            ]
          },
          "metadata": {
            "tags": []
          },
          "execution_count": 52
        }
      ]
    },
    {
      "cell_type": "code",
      "metadata": {
        "colab": {
          "base_uri": "https://localhost:8080/"
        },
        "id": "DiPq_mNGTTCm",
        "outputId": "a0f22b5f-baec-466d-bd8b-994ebe4833b2"
      },
      "source": [
        "customers.head"
      ],
      "execution_count": null,
      "outputs": [
        {
          "output_type": "execute_result",
          "data": {
            "text/plain": [
              "<bound method NDFrame.head of        customer_id      customer_name  id_product  ...   amount bulan tahun\n",
              "0           100003  ABADI JAYA 2 TOKO      100918  ...  2590909    12  2020\n",
              "1           100003  ABADI JAYA 2 TOKO      101112  ...   229091    12  2020\n",
              "2           100003  ABADI JAYA 2 TOKO      101121  ...   134000    12  2020\n",
              "3           100003  ABADI JAYA 2 TOKO      101133  ...   229091    12  2020\n",
              "4           100004    ABADI JAYA TOKO      100077  ...   723273    12  2020\n",
              "...            ...                ...         ...  ...      ...   ...   ...\n",
              "10946       100907            DEPO QU      101024  ...   695455     5  2021\n",
              "10947       100907            DEPO QU      101025  ...   695454     5  2021\n",
              "10948       100907            DEPO QU      101061  ...  1069091     5  2021\n",
              "10949       100907            DEPO QU      101063  ...  1069091     5  2021\n",
              "10950       100907            DEPO QU      101076  ...  3636364     5  2021\n",
              "\n",
              "[10951 rows x 10 columns]>"
            ]
          },
          "metadata": {
            "tags": []
          },
          "execution_count": 53
        }
      ]
    },
    {
      "cell_type": "code",
      "metadata": {
        "id": "citB0nOtPg9i"
      },
      "source": [
        "data = customers.groupby(['customer_id', 'id_product'])[\"qty\"].sum()"
      ],
      "execution_count": null,
      "outputs": []
    },
    {
      "cell_type": "code",
      "metadata": {
        "colab": {
          "base_uri": "https://localhost:8080/"
        },
        "id": "wqHqZCcXyxLZ",
        "outputId": "acbf791f-9e56-4355-a364-aad5bf4198f9"
      },
      "source": [
        "print(data.shape)\n",
        "data.head()"
      ],
      "execution_count": null,
      "outputs": [
        {
          "output_type": "stream",
          "text": [
            "(5368,)\n"
          ],
          "name": "stdout"
        },
        {
          "output_type": "execute_result",
          "data": {
            "text/plain": [
              "customer_id  id_product\n",
              "100002       101106          7\n",
              "             101110         15\n",
              "100003       100629         54\n",
              "             100643        141\n",
              "             100871         60\n",
              "Name: qty, dtype: int64"
            ]
          },
          "metadata": {
            "tags": []
          },
          "execution_count": 55
        }
      ]
    },
    {
      "cell_type": "code",
      "metadata": {
        "id": "SYHKqKh6eySN"
      },
      "source": [
        "data = customers[[\"customer_id\",\"id_product\",\"qty\"]].dropna()"
      ],
      "execution_count": null,
      "outputs": []
    },
    {
      "cell_type": "code",
      "metadata": {
        "colab": {
          "base_uri": "https://localhost:8080/",
          "height": 206
        },
        "id": "DKyEQePCfRUL",
        "outputId": "3336a090-062e-4287-ae6e-097ce8010bec"
      },
      "source": [
        "data.head()"
      ],
      "execution_count": null,
      "outputs": [
        {
          "output_type": "execute_result",
          "data": {
            "text/html": [
              "<div>\n",
              "<style scoped>\n",
              "    .dataframe tbody tr th:only-of-type {\n",
              "        vertical-align: middle;\n",
              "    }\n",
              "\n",
              "    .dataframe tbody tr th {\n",
              "        vertical-align: top;\n",
              "    }\n",
              "\n",
              "    .dataframe thead th {\n",
              "        text-align: right;\n",
              "    }\n",
              "</style>\n",
              "<table border=\"1\" class=\"dataframe\">\n",
              "  <thead>\n",
              "    <tr style=\"text-align: right;\">\n",
              "      <th></th>\n",
              "      <th>customer_id</th>\n",
              "      <th>id_product</th>\n",
              "      <th>qty</th>\n",
              "    </tr>\n",
              "  </thead>\n",
              "  <tbody>\n",
              "    <tr>\n",
              "      <th>0</th>\n",
              "      <td>100003</td>\n",
              "      <td>100918</td>\n",
              "      <td>50</td>\n",
              "    </tr>\n",
              "    <tr>\n",
              "      <th>1</th>\n",
              "      <td>100003</td>\n",
              "      <td>101112</td>\n",
              "      <td>3</td>\n",
              "    </tr>\n",
              "    <tr>\n",
              "      <th>2</th>\n",
              "      <td>100003</td>\n",
              "      <td>101121</td>\n",
              "      <td>2</td>\n",
              "    </tr>\n",
              "    <tr>\n",
              "      <th>3</th>\n",
              "      <td>100003</td>\n",
              "      <td>101133</td>\n",
              "      <td>3</td>\n",
              "    </tr>\n",
              "    <tr>\n",
              "      <th>4</th>\n",
              "      <td>100004</td>\n",
              "      <td>100077</td>\n",
              "      <td>12</td>\n",
              "    </tr>\n",
              "  </tbody>\n",
              "</table>\n",
              "</div>"
            ],
            "text/plain": [
              "   customer_id  id_product  qty\n",
              "0       100003      100918   50\n",
              "1       100003      101112    3\n",
              "2       100003      101121    2\n",
              "3       100003      101133    3\n",
              "4       100004      100077   12"
            ]
          },
          "metadata": {
            "tags": []
          },
          "execution_count": 57
        }
      ]
    },
    {
      "cell_type": "code",
      "metadata": {
        "id": "eRM56igZQj1N"
      },
      "source": [
        "data['customer_id'] = data['customer_id'].astype(np.int64)\n",
        "data['qty'] = data['qty'].astype(np.int64)"
      ],
      "execution_count": null,
      "outputs": []
    },
    {
      "cell_type": "code",
      "metadata": {
        "colab": {
          "base_uri": "https://localhost:8080/"
        },
        "id": "PINlQzRLbf8B",
        "outputId": "ca0e5fe6-12de-4ccd-8c02-a3ed2a09331e"
      },
      "source": [
        "data.dtypes"
      ],
      "execution_count": null,
      "outputs": [
        {
          "output_type": "execute_result",
          "data": {
            "text/plain": [
              "customer_id    int64\n",
              "id_product     int64\n",
              "qty            int64\n",
              "dtype: object"
            ]
          },
          "metadata": {
            "tags": []
          },
          "execution_count": 59
        }
      ]
    },
    {
      "cell_type": "code",
      "metadata": {
        "id": "15aGMqIxQnZ1"
      },
      "source": [
        "def create_data_dummy(data):\n",
        "    data_dummy = data.copy()\n",
        "    data_dummy['purchase_dummy'] = 1\n",
        "    return data_dummy"
      ],
      "execution_count": null,
      "outputs": []
    },
    {
      "cell_type": "code",
      "metadata": {
        "id": "MUOXC9CrRfx6"
      },
      "source": [
        "data_dummy = create_data_dummy(data)"
      ],
      "execution_count": null,
      "outputs": []
    },
    {
      "cell_type": "code",
      "metadata": {
        "colab": {
          "base_uri": "https://localhost:8080/",
          "height": 287
        },
        "id": "HhGu61-zRhuv",
        "outputId": "b5569fce-ec4f-45a5-ca6f-ea6106409386"
      },
      "source": [
        "df_matrix = pd.pivot_table(data, values='qty', index='customer_id', columns='id_product')\n",
        "df_matrix.head()"
      ],
      "execution_count": null,
      "outputs": [
        {
          "output_type": "execute_result",
          "data": {
            "text/html": [
              "<div>\n",
              "<style scoped>\n",
              "    .dataframe tbody tr th:only-of-type {\n",
              "        vertical-align: middle;\n",
              "    }\n",
              "\n",
              "    .dataframe tbody tr th {\n",
              "        vertical-align: top;\n",
              "    }\n",
              "\n",
              "    .dataframe thead th {\n",
              "        text-align: right;\n",
              "    }\n",
              "</style>\n",
              "<table border=\"1\" class=\"dataframe\">\n",
              "  <thead>\n",
              "    <tr style=\"text-align: right;\">\n",
              "      <th>id_product</th>\n",
              "      <th>100006</th>\n",
              "      <th>100015</th>\n",
              "      <th>100016</th>\n",
              "      <th>100019</th>\n",
              "      <th>100032</th>\n",
              "      <th>100041</th>\n",
              "      <th>100044</th>\n",
              "      <th>100057</th>\n",
              "      <th>100076</th>\n",
              "      <th>100077</th>\n",
              "      <th>100078</th>\n",
              "      <th>100083</th>\n",
              "      <th>100092</th>\n",
              "      <th>100093</th>\n",
              "      <th>100094</th>\n",
              "      <th>100096</th>\n",
              "      <th>100097</th>\n",
              "      <th>100098</th>\n",
              "      <th>100101</th>\n",
              "      <th>100110</th>\n",
              "      <th>100112</th>\n",
              "      <th>100113</th>\n",
              "      <th>100117</th>\n",
              "      <th>100122</th>\n",
              "      <th>100123</th>\n",
              "      <th>100175</th>\n",
              "      <th>100288</th>\n",
              "      <th>100312</th>\n",
              "      <th>100323</th>\n",
              "      <th>100324</th>\n",
              "      <th>100328</th>\n",
              "      <th>100340</th>\n",
              "      <th>100341</th>\n",
              "      <th>100343</th>\n",
              "      <th>100346</th>\n",
              "      <th>100348</th>\n",
              "      <th>100353</th>\n",
              "      <th>100356</th>\n",
              "      <th>100372</th>\n",
              "      <th>100487</th>\n",
              "      <th>...</th>\n",
              "      <th>101148</th>\n",
              "      <th>101149</th>\n",
              "      <th>101150</th>\n",
              "      <th>101151</th>\n",
              "      <th>101152</th>\n",
              "      <th>101153</th>\n",
              "      <th>101155</th>\n",
              "      <th>101156</th>\n",
              "      <th>101157</th>\n",
              "      <th>101158</th>\n",
              "      <th>101159</th>\n",
              "      <th>101160</th>\n",
              "      <th>101161</th>\n",
              "      <th>101162</th>\n",
              "      <th>101163</th>\n",
              "      <th>101164</th>\n",
              "      <th>101165</th>\n",
              "      <th>101166</th>\n",
              "      <th>101167</th>\n",
              "      <th>101168</th>\n",
              "      <th>101169</th>\n",
              "      <th>101170</th>\n",
              "      <th>101171</th>\n",
              "      <th>101172</th>\n",
              "      <th>101173</th>\n",
              "      <th>101175</th>\n",
              "      <th>101176</th>\n",
              "      <th>101177</th>\n",
              "      <th>101178</th>\n",
              "      <th>101179</th>\n",
              "      <th>101180</th>\n",
              "      <th>101181</th>\n",
              "      <th>101182</th>\n",
              "      <th>101184</th>\n",
              "      <th>101185</th>\n",
              "      <th>101186</th>\n",
              "      <th>101187</th>\n",
              "      <th>101190</th>\n",
              "      <th>101191</th>\n",
              "      <th>101196</th>\n",
              "    </tr>\n",
              "    <tr>\n",
              "      <th>customer_id</th>\n",
              "      <th></th>\n",
              "      <th></th>\n",
              "      <th></th>\n",
              "      <th></th>\n",
              "      <th></th>\n",
              "      <th></th>\n",
              "      <th></th>\n",
              "      <th></th>\n",
              "      <th></th>\n",
              "      <th></th>\n",
              "      <th></th>\n",
              "      <th></th>\n",
              "      <th></th>\n",
              "      <th></th>\n",
              "      <th></th>\n",
              "      <th></th>\n",
              "      <th></th>\n",
              "      <th></th>\n",
              "      <th></th>\n",
              "      <th></th>\n",
              "      <th></th>\n",
              "      <th></th>\n",
              "      <th></th>\n",
              "      <th></th>\n",
              "      <th></th>\n",
              "      <th></th>\n",
              "      <th></th>\n",
              "      <th></th>\n",
              "      <th></th>\n",
              "      <th></th>\n",
              "      <th></th>\n",
              "      <th></th>\n",
              "      <th></th>\n",
              "      <th></th>\n",
              "      <th></th>\n",
              "      <th></th>\n",
              "      <th></th>\n",
              "      <th></th>\n",
              "      <th></th>\n",
              "      <th></th>\n",
              "      <th></th>\n",
              "      <th></th>\n",
              "      <th></th>\n",
              "      <th></th>\n",
              "      <th></th>\n",
              "      <th></th>\n",
              "      <th></th>\n",
              "      <th></th>\n",
              "      <th></th>\n",
              "      <th></th>\n",
              "      <th></th>\n",
              "      <th></th>\n",
              "      <th></th>\n",
              "      <th></th>\n",
              "      <th></th>\n",
              "      <th></th>\n",
              "      <th></th>\n",
              "      <th></th>\n",
              "      <th></th>\n",
              "      <th></th>\n",
              "      <th></th>\n",
              "      <th></th>\n",
              "      <th></th>\n",
              "      <th></th>\n",
              "      <th></th>\n",
              "      <th></th>\n",
              "      <th></th>\n",
              "      <th></th>\n",
              "      <th></th>\n",
              "      <th></th>\n",
              "      <th></th>\n",
              "      <th></th>\n",
              "      <th></th>\n",
              "      <th></th>\n",
              "      <th></th>\n",
              "      <th></th>\n",
              "      <th></th>\n",
              "      <th></th>\n",
              "      <th></th>\n",
              "      <th></th>\n",
              "      <th></th>\n",
              "    </tr>\n",
              "  </thead>\n",
              "  <tbody>\n",
              "    <tr>\n",
              "      <th>100002</th>\n",
              "      <td>NaN</td>\n",
              "      <td>NaN</td>\n",
              "      <td>NaN</td>\n",
              "      <td>NaN</td>\n",
              "      <td>NaN</td>\n",
              "      <td>NaN</td>\n",
              "      <td>NaN</td>\n",
              "      <td>NaN</td>\n",
              "      <td>NaN</td>\n",
              "      <td>NaN</td>\n",
              "      <td>NaN</td>\n",
              "      <td>NaN</td>\n",
              "      <td>NaN</td>\n",
              "      <td>NaN</td>\n",
              "      <td>NaN</td>\n",
              "      <td>NaN</td>\n",
              "      <td>NaN</td>\n",
              "      <td>NaN</td>\n",
              "      <td>NaN</td>\n",
              "      <td>NaN</td>\n",
              "      <td>NaN</td>\n",
              "      <td>NaN</td>\n",
              "      <td>NaN</td>\n",
              "      <td>NaN</td>\n",
              "      <td>NaN</td>\n",
              "      <td>NaN</td>\n",
              "      <td>NaN</td>\n",
              "      <td>NaN</td>\n",
              "      <td>NaN</td>\n",
              "      <td>NaN</td>\n",
              "      <td>NaN</td>\n",
              "      <td>NaN</td>\n",
              "      <td>NaN</td>\n",
              "      <td>NaN</td>\n",
              "      <td>NaN</td>\n",
              "      <td>NaN</td>\n",
              "      <td>NaN</td>\n",
              "      <td>NaN</td>\n",
              "      <td>NaN</td>\n",
              "      <td>NaN</td>\n",
              "      <td>...</td>\n",
              "      <td>NaN</td>\n",
              "      <td>NaN</td>\n",
              "      <td>NaN</td>\n",
              "      <td>NaN</td>\n",
              "      <td>NaN</td>\n",
              "      <td>NaN</td>\n",
              "      <td>NaN</td>\n",
              "      <td>NaN</td>\n",
              "      <td>NaN</td>\n",
              "      <td>NaN</td>\n",
              "      <td>NaN</td>\n",
              "      <td>NaN</td>\n",
              "      <td>NaN</td>\n",
              "      <td>NaN</td>\n",
              "      <td>NaN</td>\n",
              "      <td>NaN</td>\n",
              "      <td>NaN</td>\n",
              "      <td>NaN</td>\n",
              "      <td>NaN</td>\n",
              "      <td>NaN</td>\n",
              "      <td>NaN</td>\n",
              "      <td>NaN</td>\n",
              "      <td>NaN</td>\n",
              "      <td>NaN</td>\n",
              "      <td>NaN</td>\n",
              "      <td>NaN</td>\n",
              "      <td>NaN</td>\n",
              "      <td>NaN</td>\n",
              "      <td>NaN</td>\n",
              "      <td>NaN</td>\n",
              "      <td>NaN</td>\n",
              "      <td>NaN</td>\n",
              "      <td>NaN</td>\n",
              "      <td>NaN</td>\n",
              "      <td>NaN</td>\n",
              "      <td>NaN</td>\n",
              "      <td>NaN</td>\n",
              "      <td>NaN</td>\n",
              "      <td>NaN</td>\n",
              "      <td>NaN</td>\n",
              "    </tr>\n",
              "    <tr>\n",
              "      <th>100003</th>\n",
              "      <td>NaN</td>\n",
              "      <td>NaN</td>\n",
              "      <td>NaN</td>\n",
              "      <td>NaN</td>\n",
              "      <td>NaN</td>\n",
              "      <td>NaN</td>\n",
              "      <td>NaN</td>\n",
              "      <td>NaN</td>\n",
              "      <td>NaN</td>\n",
              "      <td>NaN</td>\n",
              "      <td>NaN</td>\n",
              "      <td>NaN</td>\n",
              "      <td>NaN</td>\n",
              "      <td>NaN</td>\n",
              "      <td>NaN</td>\n",
              "      <td>NaN</td>\n",
              "      <td>NaN</td>\n",
              "      <td>NaN</td>\n",
              "      <td>NaN</td>\n",
              "      <td>NaN</td>\n",
              "      <td>NaN</td>\n",
              "      <td>NaN</td>\n",
              "      <td>NaN</td>\n",
              "      <td>NaN</td>\n",
              "      <td>NaN</td>\n",
              "      <td>NaN</td>\n",
              "      <td>NaN</td>\n",
              "      <td>NaN</td>\n",
              "      <td>NaN</td>\n",
              "      <td>NaN</td>\n",
              "      <td>NaN</td>\n",
              "      <td>NaN</td>\n",
              "      <td>NaN</td>\n",
              "      <td>NaN</td>\n",
              "      <td>NaN</td>\n",
              "      <td>NaN</td>\n",
              "      <td>NaN</td>\n",
              "      <td>NaN</td>\n",
              "      <td>NaN</td>\n",
              "      <td>NaN</td>\n",
              "      <td>...</td>\n",
              "      <td>NaN</td>\n",
              "      <td>NaN</td>\n",
              "      <td>NaN</td>\n",
              "      <td>NaN</td>\n",
              "      <td>23.0</td>\n",
              "      <td>48.5</td>\n",
              "      <td>4.0</td>\n",
              "      <td>NaN</td>\n",
              "      <td>NaN</td>\n",
              "      <td>NaN</td>\n",
              "      <td>NaN</td>\n",
              "      <td>NaN</td>\n",
              "      <td>NaN</td>\n",
              "      <td>NaN</td>\n",
              "      <td>NaN</td>\n",
              "      <td>NaN</td>\n",
              "      <td>NaN</td>\n",
              "      <td>NaN</td>\n",
              "      <td>NaN</td>\n",
              "      <td>NaN</td>\n",
              "      <td>NaN</td>\n",
              "      <td>NaN</td>\n",
              "      <td>NaN</td>\n",
              "      <td>NaN</td>\n",
              "      <td>NaN</td>\n",
              "      <td>NaN</td>\n",
              "      <td>NaN</td>\n",
              "      <td>NaN</td>\n",
              "      <td>NaN</td>\n",
              "      <td>NaN</td>\n",
              "      <td>NaN</td>\n",
              "      <td>NaN</td>\n",
              "      <td>NaN</td>\n",
              "      <td>NaN</td>\n",
              "      <td>NaN</td>\n",
              "      <td>NaN</td>\n",
              "      <td>NaN</td>\n",
              "      <td>NaN</td>\n",
              "      <td>NaN</td>\n",
              "      <td>NaN</td>\n",
              "    </tr>\n",
              "    <tr>\n",
              "      <th>100004</th>\n",
              "      <td>NaN</td>\n",
              "      <td>NaN</td>\n",
              "      <td>NaN</td>\n",
              "      <td>NaN</td>\n",
              "      <td>NaN</td>\n",
              "      <td>NaN</td>\n",
              "      <td>NaN</td>\n",
              "      <td>NaN</td>\n",
              "      <td>NaN</td>\n",
              "      <td>14.0</td>\n",
              "      <td>NaN</td>\n",
              "      <td>NaN</td>\n",
              "      <td>NaN</td>\n",
              "      <td>NaN</td>\n",
              "      <td>NaN</td>\n",
              "      <td>NaN</td>\n",
              "      <td>NaN</td>\n",
              "      <td>NaN</td>\n",
              "      <td>NaN</td>\n",
              "      <td>NaN</td>\n",
              "      <td>NaN</td>\n",
              "      <td>NaN</td>\n",
              "      <td>NaN</td>\n",
              "      <td>NaN</td>\n",
              "      <td>NaN</td>\n",
              "      <td>NaN</td>\n",
              "      <td>NaN</td>\n",
              "      <td>NaN</td>\n",
              "      <td>NaN</td>\n",
              "      <td>NaN</td>\n",
              "      <td>NaN</td>\n",
              "      <td>NaN</td>\n",
              "      <td>NaN</td>\n",
              "      <td>NaN</td>\n",
              "      <td>NaN</td>\n",
              "      <td>NaN</td>\n",
              "      <td>NaN</td>\n",
              "      <td>NaN</td>\n",
              "      <td>NaN</td>\n",
              "      <td>NaN</td>\n",
              "      <td>...</td>\n",
              "      <td>NaN</td>\n",
              "      <td>NaN</td>\n",
              "      <td>NaN</td>\n",
              "      <td>NaN</td>\n",
              "      <td>5.0</td>\n",
              "      <td>10.0</td>\n",
              "      <td>7.5</td>\n",
              "      <td>NaN</td>\n",
              "      <td>25.0</td>\n",
              "      <td>NaN</td>\n",
              "      <td>NaN</td>\n",
              "      <td>NaN</td>\n",
              "      <td>NaN</td>\n",
              "      <td>NaN</td>\n",
              "      <td>NaN</td>\n",
              "      <td>NaN</td>\n",
              "      <td>NaN</td>\n",
              "      <td>NaN</td>\n",
              "      <td>NaN</td>\n",
              "      <td>NaN</td>\n",
              "      <td>NaN</td>\n",
              "      <td>NaN</td>\n",
              "      <td>NaN</td>\n",
              "      <td>NaN</td>\n",
              "      <td>NaN</td>\n",
              "      <td>NaN</td>\n",
              "      <td>NaN</td>\n",
              "      <td>NaN</td>\n",
              "      <td>NaN</td>\n",
              "      <td>NaN</td>\n",
              "      <td>NaN</td>\n",
              "      <td>NaN</td>\n",
              "      <td>NaN</td>\n",
              "      <td>NaN</td>\n",
              "      <td>NaN</td>\n",
              "      <td>NaN</td>\n",
              "      <td>NaN</td>\n",
              "      <td>NaN</td>\n",
              "      <td>NaN</td>\n",
              "      <td>NaN</td>\n",
              "    </tr>\n",
              "    <tr>\n",
              "      <th>100012</th>\n",
              "      <td>NaN</td>\n",
              "      <td>NaN</td>\n",
              "      <td>NaN</td>\n",
              "      <td>NaN</td>\n",
              "      <td>NaN</td>\n",
              "      <td>NaN</td>\n",
              "      <td>NaN</td>\n",
              "      <td>NaN</td>\n",
              "      <td>NaN</td>\n",
              "      <td>NaN</td>\n",
              "      <td>NaN</td>\n",
              "      <td>NaN</td>\n",
              "      <td>NaN</td>\n",
              "      <td>NaN</td>\n",
              "      <td>NaN</td>\n",
              "      <td>NaN</td>\n",
              "      <td>NaN</td>\n",
              "      <td>NaN</td>\n",
              "      <td>NaN</td>\n",
              "      <td>NaN</td>\n",
              "      <td>NaN</td>\n",
              "      <td>NaN</td>\n",
              "      <td>NaN</td>\n",
              "      <td>NaN</td>\n",
              "      <td>NaN</td>\n",
              "      <td>NaN</td>\n",
              "      <td>NaN</td>\n",
              "      <td>NaN</td>\n",
              "      <td>NaN</td>\n",
              "      <td>NaN</td>\n",
              "      <td>NaN</td>\n",
              "      <td>NaN</td>\n",
              "      <td>NaN</td>\n",
              "      <td>NaN</td>\n",
              "      <td>NaN</td>\n",
              "      <td>NaN</td>\n",
              "      <td>NaN</td>\n",
              "      <td>NaN</td>\n",
              "      <td>NaN</td>\n",
              "      <td>NaN</td>\n",
              "      <td>...</td>\n",
              "      <td>NaN</td>\n",
              "      <td>NaN</td>\n",
              "      <td>NaN</td>\n",
              "      <td>NaN</td>\n",
              "      <td>NaN</td>\n",
              "      <td>NaN</td>\n",
              "      <td>NaN</td>\n",
              "      <td>NaN</td>\n",
              "      <td>NaN</td>\n",
              "      <td>NaN</td>\n",
              "      <td>NaN</td>\n",
              "      <td>NaN</td>\n",
              "      <td>NaN</td>\n",
              "      <td>NaN</td>\n",
              "      <td>NaN</td>\n",
              "      <td>NaN</td>\n",
              "      <td>NaN</td>\n",
              "      <td>NaN</td>\n",
              "      <td>NaN</td>\n",
              "      <td>NaN</td>\n",
              "      <td>NaN</td>\n",
              "      <td>NaN</td>\n",
              "      <td>NaN</td>\n",
              "      <td>NaN</td>\n",
              "      <td>NaN</td>\n",
              "      <td>NaN</td>\n",
              "      <td>NaN</td>\n",
              "      <td>NaN</td>\n",
              "      <td>NaN</td>\n",
              "      <td>NaN</td>\n",
              "      <td>NaN</td>\n",
              "      <td>NaN</td>\n",
              "      <td>NaN</td>\n",
              "      <td>NaN</td>\n",
              "      <td>NaN</td>\n",
              "      <td>NaN</td>\n",
              "      <td>NaN</td>\n",
              "      <td>NaN</td>\n",
              "      <td>NaN</td>\n",
              "      <td>NaN</td>\n",
              "    </tr>\n",
              "    <tr>\n",
              "      <th>100017</th>\n",
              "      <td>NaN</td>\n",
              "      <td>NaN</td>\n",
              "      <td>NaN</td>\n",
              "      <td>NaN</td>\n",
              "      <td>NaN</td>\n",
              "      <td>NaN</td>\n",
              "      <td>NaN</td>\n",
              "      <td>NaN</td>\n",
              "      <td>9.5</td>\n",
              "      <td>NaN</td>\n",
              "      <td>NaN</td>\n",
              "      <td>NaN</td>\n",
              "      <td>NaN</td>\n",
              "      <td>NaN</td>\n",
              "      <td>NaN</td>\n",
              "      <td>NaN</td>\n",
              "      <td>NaN</td>\n",
              "      <td>NaN</td>\n",
              "      <td>NaN</td>\n",
              "      <td>NaN</td>\n",
              "      <td>NaN</td>\n",
              "      <td>NaN</td>\n",
              "      <td>NaN</td>\n",
              "      <td>25.0</td>\n",
              "      <td>NaN</td>\n",
              "      <td>NaN</td>\n",
              "      <td>NaN</td>\n",
              "      <td>NaN</td>\n",
              "      <td>NaN</td>\n",
              "      <td>NaN</td>\n",
              "      <td>NaN</td>\n",
              "      <td>NaN</td>\n",
              "      <td>NaN</td>\n",
              "      <td>NaN</td>\n",
              "      <td>NaN</td>\n",
              "      <td>NaN</td>\n",
              "      <td>NaN</td>\n",
              "      <td>NaN</td>\n",
              "      <td>NaN</td>\n",
              "      <td>NaN</td>\n",
              "      <td>...</td>\n",
              "      <td>3.333333</td>\n",
              "      <td>NaN</td>\n",
              "      <td>NaN</td>\n",
              "      <td>NaN</td>\n",
              "      <td>55.0</td>\n",
              "      <td>NaN</td>\n",
              "      <td>27.0</td>\n",
              "      <td>NaN</td>\n",
              "      <td>NaN</td>\n",
              "      <td>NaN</td>\n",
              "      <td>NaN</td>\n",
              "      <td>NaN</td>\n",
              "      <td>NaN</td>\n",
              "      <td>NaN</td>\n",
              "      <td>NaN</td>\n",
              "      <td>NaN</td>\n",
              "      <td>NaN</td>\n",
              "      <td>NaN</td>\n",
              "      <td>NaN</td>\n",
              "      <td>NaN</td>\n",
              "      <td>NaN</td>\n",
              "      <td>NaN</td>\n",
              "      <td>NaN</td>\n",
              "      <td>NaN</td>\n",
              "      <td>NaN</td>\n",
              "      <td>NaN</td>\n",
              "      <td>3.0</td>\n",
              "      <td>NaN</td>\n",
              "      <td>NaN</td>\n",
              "      <td>NaN</td>\n",
              "      <td>NaN</td>\n",
              "      <td>NaN</td>\n",
              "      <td>NaN</td>\n",
              "      <td>NaN</td>\n",
              "      <td>NaN</td>\n",
              "      <td>NaN</td>\n",
              "      <td>NaN</td>\n",
              "      <td>NaN</td>\n",
              "      <td>NaN</td>\n",
              "      <td>NaN</td>\n",
              "    </tr>\n",
              "  </tbody>\n",
              "</table>\n",
              "<p>5 rows × 303 columns</p>\n",
              "</div>"
            ],
            "text/plain": [
              "id_product   100006  100015  100016  100019  ...  101187  101190  101191  101196\n",
              "customer_id                                  ...                                \n",
              "100002          NaN     NaN     NaN     NaN  ...     NaN     NaN     NaN     NaN\n",
              "100003          NaN     NaN     NaN     NaN  ...     NaN     NaN     NaN     NaN\n",
              "100004          NaN     NaN     NaN     NaN  ...     NaN     NaN     NaN     NaN\n",
              "100012          NaN     NaN     NaN     NaN  ...     NaN     NaN     NaN     NaN\n",
              "100017          NaN     NaN     NaN     NaN  ...     NaN     NaN     NaN     NaN\n",
              "\n",
              "[5 rows x 303 columns]"
            ]
          },
          "metadata": {
            "tags": []
          },
          "execution_count": 62
        }
      ]
    },
    {
      "cell_type": "code",
      "metadata": {
        "colab": {
          "base_uri": "https://localhost:8080/"
        },
        "id": "gzWXEt-qRuVV",
        "outputId": "f2616ad4-41b1-434f-a6af-c4bab1070e27"
      },
      "source": [
        "(df_matrix.shape)"
      ],
      "execution_count": null,
      "outputs": [
        {
          "output_type": "execute_result",
          "data": {
            "text/plain": [
              "(369, 303)"
            ]
          },
          "metadata": {
            "tags": []
          },
          "execution_count": 63
        }
      ]
    },
    {
      "cell_type": "code",
      "metadata": {
        "colab": {
          "base_uri": "https://localhost:8080/",
          "height": 305
        },
        "id": "-hW2ZEJ_Ryzk",
        "outputId": "309ac555-ba59-4192-eabd-fefe1972712b"
      },
      "source": [
        "df_matrix_norm = (df_matrix-df_matrix.min())/(df_matrix.max()-df_matrix.min())\n",
        "print(df_matrix_norm.shape)\n",
        "df_matrix_norm.head()"
      ],
      "execution_count": null,
      "outputs": [
        {
          "output_type": "stream",
          "text": [
            "(369, 303)\n"
          ],
          "name": "stdout"
        },
        {
          "output_type": "execute_result",
          "data": {
            "text/html": [
              "<div>\n",
              "<style scoped>\n",
              "    .dataframe tbody tr th:only-of-type {\n",
              "        vertical-align: middle;\n",
              "    }\n",
              "\n",
              "    .dataframe tbody tr th {\n",
              "        vertical-align: top;\n",
              "    }\n",
              "\n",
              "    .dataframe thead th {\n",
              "        text-align: right;\n",
              "    }\n",
              "</style>\n",
              "<table border=\"1\" class=\"dataframe\">\n",
              "  <thead>\n",
              "    <tr style=\"text-align: right;\">\n",
              "      <th>id_product</th>\n",
              "      <th>100006</th>\n",
              "      <th>100015</th>\n",
              "      <th>100016</th>\n",
              "      <th>100019</th>\n",
              "      <th>100032</th>\n",
              "      <th>100041</th>\n",
              "      <th>100044</th>\n",
              "      <th>100057</th>\n",
              "      <th>100076</th>\n",
              "      <th>100077</th>\n",
              "      <th>100078</th>\n",
              "      <th>100083</th>\n",
              "      <th>100092</th>\n",
              "      <th>100093</th>\n",
              "      <th>100094</th>\n",
              "      <th>100096</th>\n",
              "      <th>100097</th>\n",
              "      <th>100098</th>\n",
              "      <th>100101</th>\n",
              "      <th>100110</th>\n",
              "      <th>100112</th>\n",
              "      <th>100113</th>\n",
              "      <th>100117</th>\n",
              "      <th>100122</th>\n",
              "      <th>100123</th>\n",
              "      <th>100175</th>\n",
              "      <th>100288</th>\n",
              "      <th>100312</th>\n",
              "      <th>100323</th>\n",
              "      <th>100324</th>\n",
              "      <th>100328</th>\n",
              "      <th>100340</th>\n",
              "      <th>100341</th>\n",
              "      <th>100343</th>\n",
              "      <th>100346</th>\n",
              "      <th>100348</th>\n",
              "      <th>100353</th>\n",
              "      <th>100356</th>\n",
              "      <th>100372</th>\n",
              "      <th>100487</th>\n",
              "      <th>...</th>\n",
              "      <th>101148</th>\n",
              "      <th>101149</th>\n",
              "      <th>101150</th>\n",
              "      <th>101151</th>\n",
              "      <th>101152</th>\n",
              "      <th>101153</th>\n",
              "      <th>101155</th>\n",
              "      <th>101156</th>\n",
              "      <th>101157</th>\n",
              "      <th>101158</th>\n",
              "      <th>101159</th>\n",
              "      <th>101160</th>\n",
              "      <th>101161</th>\n",
              "      <th>101162</th>\n",
              "      <th>101163</th>\n",
              "      <th>101164</th>\n",
              "      <th>101165</th>\n",
              "      <th>101166</th>\n",
              "      <th>101167</th>\n",
              "      <th>101168</th>\n",
              "      <th>101169</th>\n",
              "      <th>101170</th>\n",
              "      <th>101171</th>\n",
              "      <th>101172</th>\n",
              "      <th>101173</th>\n",
              "      <th>101175</th>\n",
              "      <th>101176</th>\n",
              "      <th>101177</th>\n",
              "      <th>101178</th>\n",
              "      <th>101179</th>\n",
              "      <th>101180</th>\n",
              "      <th>101181</th>\n",
              "      <th>101182</th>\n",
              "      <th>101184</th>\n",
              "      <th>101185</th>\n",
              "      <th>101186</th>\n",
              "      <th>101187</th>\n",
              "      <th>101190</th>\n",
              "      <th>101191</th>\n",
              "      <th>101196</th>\n",
              "    </tr>\n",
              "    <tr>\n",
              "      <th>customer_id</th>\n",
              "      <th></th>\n",
              "      <th></th>\n",
              "      <th></th>\n",
              "      <th></th>\n",
              "      <th></th>\n",
              "      <th></th>\n",
              "      <th></th>\n",
              "      <th></th>\n",
              "      <th></th>\n",
              "      <th></th>\n",
              "      <th></th>\n",
              "      <th></th>\n",
              "      <th></th>\n",
              "      <th></th>\n",
              "      <th></th>\n",
              "      <th></th>\n",
              "      <th></th>\n",
              "      <th></th>\n",
              "      <th></th>\n",
              "      <th></th>\n",
              "      <th></th>\n",
              "      <th></th>\n",
              "      <th></th>\n",
              "      <th></th>\n",
              "      <th></th>\n",
              "      <th></th>\n",
              "      <th></th>\n",
              "      <th></th>\n",
              "      <th></th>\n",
              "      <th></th>\n",
              "      <th></th>\n",
              "      <th></th>\n",
              "      <th></th>\n",
              "      <th></th>\n",
              "      <th></th>\n",
              "      <th></th>\n",
              "      <th></th>\n",
              "      <th></th>\n",
              "      <th></th>\n",
              "      <th></th>\n",
              "      <th></th>\n",
              "      <th></th>\n",
              "      <th></th>\n",
              "      <th></th>\n",
              "      <th></th>\n",
              "      <th></th>\n",
              "      <th></th>\n",
              "      <th></th>\n",
              "      <th></th>\n",
              "      <th></th>\n",
              "      <th></th>\n",
              "      <th></th>\n",
              "      <th></th>\n",
              "      <th></th>\n",
              "      <th></th>\n",
              "      <th></th>\n",
              "      <th></th>\n",
              "      <th></th>\n",
              "      <th></th>\n",
              "      <th></th>\n",
              "      <th></th>\n",
              "      <th></th>\n",
              "      <th></th>\n",
              "      <th></th>\n",
              "      <th></th>\n",
              "      <th></th>\n",
              "      <th></th>\n",
              "      <th></th>\n",
              "      <th></th>\n",
              "      <th></th>\n",
              "      <th></th>\n",
              "      <th></th>\n",
              "      <th></th>\n",
              "      <th></th>\n",
              "      <th></th>\n",
              "      <th></th>\n",
              "      <th></th>\n",
              "      <th></th>\n",
              "      <th></th>\n",
              "      <th></th>\n",
              "      <th></th>\n",
              "    </tr>\n",
              "  </thead>\n",
              "  <tbody>\n",
              "    <tr>\n",
              "      <th>100002</th>\n",
              "      <td>NaN</td>\n",
              "      <td>NaN</td>\n",
              "      <td>NaN</td>\n",
              "      <td>NaN</td>\n",
              "      <td>NaN</td>\n",
              "      <td>NaN</td>\n",
              "      <td>NaN</td>\n",
              "      <td>NaN</td>\n",
              "      <td>NaN</td>\n",
              "      <td>NaN</td>\n",
              "      <td>NaN</td>\n",
              "      <td>NaN</td>\n",
              "      <td>NaN</td>\n",
              "      <td>NaN</td>\n",
              "      <td>NaN</td>\n",
              "      <td>NaN</td>\n",
              "      <td>NaN</td>\n",
              "      <td>NaN</td>\n",
              "      <td>NaN</td>\n",
              "      <td>NaN</td>\n",
              "      <td>NaN</td>\n",
              "      <td>NaN</td>\n",
              "      <td>NaN</td>\n",
              "      <td>NaN</td>\n",
              "      <td>NaN</td>\n",
              "      <td>NaN</td>\n",
              "      <td>NaN</td>\n",
              "      <td>NaN</td>\n",
              "      <td>NaN</td>\n",
              "      <td>NaN</td>\n",
              "      <td>NaN</td>\n",
              "      <td>NaN</td>\n",
              "      <td>NaN</td>\n",
              "      <td>NaN</td>\n",
              "      <td>NaN</td>\n",
              "      <td>NaN</td>\n",
              "      <td>NaN</td>\n",
              "      <td>NaN</td>\n",
              "      <td>NaN</td>\n",
              "      <td>NaN</td>\n",
              "      <td>...</td>\n",
              "      <td>NaN</td>\n",
              "      <td>NaN</td>\n",
              "      <td>NaN</td>\n",
              "      <td>NaN</td>\n",
              "      <td>NaN</td>\n",
              "      <td>NaN</td>\n",
              "      <td>NaN</td>\n",
              "      <td>NaN</td>\n",
              "      <td>NaN</td>\n",
              "      <td>NaN</td>\n",
              "      <td>NaN</td>\n",
              "      <td>NaN</td>\n",
              "      <td>NaN</td>\n",
              "      <td>NaN</td>\n",
              "      <td>NaN</td>\n",
              "      <td>NaN</td>\n",
              "      <td>NaN</td>\n",
              "      <td>NaN</td>\n",
              "      <td>NaN</td>\n",
              "      <td>NaN</td>\n",
              "      <td>NaN</td>\n",
              "      <td>NaN</td>\n",
              "      <td>NaN</td>\n",
              "      <td>NaN</td>\n",
              "      <td>NaN</td>\n",
              "      <td>NaN</td>\n",
              "      <td>NaN</td>\n",
              "      <td>NaN</td>\n",
              "      <td>NaN</td>\n",
              "      <td>NaN</td>\n",
              "      <td>NaN</td>\n",
              "      <td>NaN</td>\n",
              "      <td>NaN</td>\n",
              "      <td>NaN</td>\n",
              "      <td>NaN</td>\n",
              "      <td>NaN</td>\n",
              "      <td>NaN</td>\n",
              "      <td>NaN</td>\n",
              "      <td>NaN</td>\n",
              "      <td>NaN</td>\n",
              "    </tr>\n",
              "    <tr>\n",
              "      <th>100003</th>\n",
              "      <td>NaN</td>\n",
              "      <td>NaN</td>\n",
              "      <td>NaN</td>\n",
              "      <td>NaN</td>\n",
              "      <td>NaN</td>\n",
              "      <td>NaN</td>\n",
              "      <td>NaN</td>\n",
              "      <td>NaN</td>\n",
              "      <td>NaN</td>\n",
              "      <td>NaN</td>\n",
              "      <td>NaN</td>\n",
              "      <td>NaN</td>\n",
              "      <td>NaN</td>\n",
              "      <td>NaN</td>\n",
              "      <td>NaN</td>\n",
              "      <td>NaN</td>\n",
              "      <td>NaN</td>\n",
              "      <td>NaN</td>\n",
              "      <td>NaN</td>\n",
              "      <td>NaN</td>\n",
              "      <td>NaN</td>\n",
              "      <td>NaN</td>\n",
              "      <td>NaN</td>\n",
              "      <td>NaN</td>\n",
              "      <td>NaN</td>\n",
              "      <td>NaN</td>\n",
              "      <td>NaN</td>\n",
              "      <td>NaN</td>\n",
              "      <td>NaN</td>\n",
              "      <td>NaN</td>\n",
              "      <td>NaN</td>\n",
              "      <td>NaN</td>\n",
              "      <td>NaN</td>\n",
              "      <td>NaN</td>\n",
              "      <td>NaN</td>\n",
              "      <td>NaN</td>\n",
              "      <td>NaN</td>\n",
              "      <td>NaN</td>\n",
              "      <td>NaN</td>\n",
              "      <td>NaN</td>\n",
              "      <td>...</td>\n",
              "      <td>NaN</td>\n",
              "      <td>NaN</td>\n",
              "      <td>NaN</td>\n",
              "      <td>NaN</td>\n",
              "      <td>0.218274</td>\n",
              "      <td>0.477157</td>\n",
              "      <td>0.015075</td>\n",
              "      <td>NaN</td>\n",
              "      <td>NaN</td>\n",
              "      <td>NaN</td>\n",
              "      <td>NaN</td>\n",
              "      <td>NaN</td>\n",
              "      <td>NaN</td>\n",
              "      <td>NaN</td>\n",
              "      <td>NaN</td>\n",
              "      <td>NaN</td>\n",
              "      <td>NaN</td>\n",
              "      <td>NaN</td>\n",
              "      <td>NaN</td>\n",
              "      <td>NaN</td>\n",
              "      <td>NaN</td>\n",
              "      <td>NaN</td>\n",
              "      <td>NaN</td>\n",
              "      <td>NaN</td>\n",
              "      <td>NaN</td>\n",
              "      <td>NaN</td>\n",
              "      <td>NaN</td>\n",
              "      <td>NaN</td>\n",
              "      <td>NaN</td>\n",
              "      <td>NaN</td>\n",
              "      <td>NaN</td>\n",
              "      <td>NaN</td>\n",
              "      <td>NaN</td>\n",
              "      <td>NaN</td>\n",
              "      <td>NaN</td>\n",
              "      <td>NaN</td>\n",
              "      <td>NaN</td>\n",
              "      <td>NaN</td>\n",
              "      <td>NaN</td>\n",
              "      <td>NaN</td>\n",
              "    </tr>\n",
              "    <tr>\n",
              "      <th>100004</th>\n",
              "      <td>NaN</td>\n",
              "      <td>NaN</td>\n",
              "      <td>NaN</td>\n",
              "      <td>NaN</td>\n",
              "      <td>NaN</td>\n",
              "      <td>NaN</td>\n",
              "      <td>NaN</td>\n",
              "      <td>NaN</td>\n",
              "      <td>NaN</td>\n",
              "      <td>1.0</td>\n",
              "      <td>NaN</td>\n",
              "      <td>NaN</td>\n",
              "      <td>NaN</td>\n",
              "      <td>NaN</td>\n",
              "      <td>NaN</td>\n",
              "      <td>NaN</td>\n",
              "      <td>NaN</td>\n",
              "      <td>NaN</td>\n",
              "      <td>NaN</td>\n",
              "      <td>NaN</td>\n",
              "      <td>NaN</td>\n",
              "      <td>NaN</td>\n",
              "      <td>NaN</td>\n",
              "      <td>NaN</td>\n",
              "      <td>NaN</td>\n",
              "      <td>NaN</td>\n",
              "      <td>NaN</td>\n",
              "      <td>NaN</td>\n",
              "      <td>NaN</td>\n",
              "      <td>NaN</td>\n",
              "      <td>NaN</td>\n",
              "      <td>NaN</td>\n",
              "      <td>NaN</td>\n",
              "      <td>NaN</td>\n",
              "      <td>NaN</td>\n",
              "      <td>NaN</td>\n",
              "      <td>NaN</td>\n",
              "      <td>NaN</td>\n",
              "      <td>NaN</td>\n",
              "      <td>NaN</td>\n",
              "      <td>...</td>\n",
              "      <td>NaN</td>\n",
              "      <td>NaN</td>\n",
              "      <td>NaN</td>\n",
              "      <td>NaN</td>\n",
              "      <td>0.035533</td>\n",
              "      <td>0.086294</td>\n",
              "      <td>0.032663</td>\n",
              "      <td>NaN</td>\n",
              "      <td>0.242424</td>\n",
              "      <td>NaN</td>\n",
              "      <td>NaN</td>\n",
              "      <td>NaN</td>\n",
              "      <td>NaN</td>\n",
              "      <td>NaN</td>\n",
              "      <td>NaN</td>\n",
              "      <td>NaN</td>\n",
              "      <td>NaN</td>\n",
              "      <td>NaN</td>\n",
              "      <td>NaN</td>\n",
              "      <td>NaN</td>\n",
              "      <td>NaN</td>\n",
              "      <td>NaN</td>\n",
              "      <td>NaN</td>\n",
              "      <td>NaN</td>\n",
              "      <td>NaN</td>\n",
              "      <td>NaN</td>\n",
              "      <td>NaN</td>\n",
              "      <td>NaN</td>\n",
              "      <td>NaN</td>\n",
              "      <td>NaN</td>\n",
              "      <td>NaN</td>\n",
              "      <td>NaN</td>\n",
              "      <td>NaN</td>\n",
              "      <td>NaN</td>\n",
              "      <td>NaN</td>\n",
              "      <td>NaN</td>\n",
              "      <td>NaN</td>\n",
              "      <td>NaN</td>\n",
              "      <td>NaN</td>\n",
              "      <td>NaN</td>\n",
              "    </tr>\n",
              "    <tr>\n",
              "      <th>100012</th>\n",
              "      <td>NaN</td>\n",
              "      <td>NaN</td>\n",
              "      <td>NaN</td>\n",
              "      <td>NaN</td>\n",
              "      <td>NaN</td>\n",
              "      <td>NaN</td>\n",
              "      <td>NaN</td>\n",
              "      <td>NaN</td>\n",
              "      <td>NaN</td>\n",
              "      <td>NaN</td>\n",
              "      <td>NaN</td>\n",
              "      <td>NaN</td>\n",
              "      <td>NaN</td>\n",
              "      <td>NaN</td>\n",
              "      <td>NaN</td>\n",
              "      <td>NaN</td>\n",
              "      <td>NaN</td>\n",
              "      <td>NaN</td>\n",
              "      <td>NaN</td>\n",
              "      <td>NaN</td>\n",
              "      <td>NaN</td>\n",
              "      <td>NaN</td>\n",
              "      <td>NaN</td>\n",
              "      <td>NaN</td>\n",
              "      <td>NaN</td>\n",
              "      <td>NaN</td>\n",
              "      <td>NaN</td>\n",
              "      <td>NaN</td>\n",
              "      <td>NaN</td>\n",
              "      <td>NaN</td>\n",
              "      <td>NaN</td>\n",
              "      <td>NaN</td>\n",
              "      <td>NaN</td>\n",
              "      <td>NaN</td>\n",
              "      <td>NaN</td>\n",
              "      <td>NaN</td>\n",
              "      <td>NaN</td>\n",
              "      <td>NaN</td>\n",
              "      <td>NaN</td>\n",
              "      <td>NaN</td>\n",
              "      <td>...</td>\n",
              "      <td>NaN</td>\n",
              "      <td>NaN</td>\n",
              "      <td>NaN</td>\n",
              "      <td>NaN</td>\n",
              "      <td>NaN</td>\n",
              "      <td>NaN</td>\n",
              "      <td>NaN</td>\n",
              "      <td>NaN</td>\n",
              "      <td>NaN</td>\n",
              "      <td>NaN</td>\n",
              "      <td>NaN</td>\n",
              "      <td>NaN</td>\n",
              "      <td>NaN</td>\n",
              "      <td>NaN</td>\n",
              "      <td>NaN</td>\n",
              "      <td>NaN</td>\n",
              "      <td>NaN</td>\n",
              "      <td>NaN</td>\n",
              "      <td>NaN</td>\n",
              "      <td>NaN</td>\n",
              "      <td>NaN</td>\n",
              "      <td>NaN</td>\n",
              "      <td>NaN</td>\n",
              "      <td>NaN</td>\n",
              "      <td>NaN</td>\n",
              "      <td>NaN</td>\n",
              "      <td>NaN</td>\n",
              "      <td>NaN</td>\n",
              "      <td>NaN</td>\n",
              "      <td>NaN</td>\n",
              "      <td>NaN</td>\n",
              "      <td>NaN</td>\n",
              "      <td>NaN</td>\n",
              "      <td>NaN</td>\n",
              "      <td>NaN</td>\n",
              "      <td>NaN</td>\n",
              "      <td>NaN</td>\n",
              "      <td>NaN</td>\n",
              "      <td>NaN</td>\n",
              "      <td>NaN</td>\n",
              "    </tr>\n",
              "    <tr>\n",
              "      <th>100017</th>\n",
              "      <td>NaN</td>\n",
              "      <td>NaN</td>\n",
              "      <td>NaN</td>\n",
              "      <td>NaN</td>\n",
              "      <td>NaN</td>\n",
              "      <td>NaN</td>\n",
              "      <td>NaN</td>\n",
              "      <td>NaN</td>\n",
              "      <td>0.566667</td>\n",
              "      <td>NaN</td>\n",
              "      <td>NaN</td>\n",
              "      <td>NaN</td>\n",
              "      <td>NaN</td>\n",
              "      <td>NaN</td>\n",
              "      <td>NaN</td>\n",
              "      <td>NaN</td>\n",
              "      <td>NaN</td>\n",
              "      <td>NaN</td>\n",
              "      <td>NaN</td>\n",
              "      <td>NaN</td>\n",
              "      <td>NaN</td>\n",
              "      <td>NaN</td>\n",
              "      <td>NaN</td>\n",
              "      <td>0.814815</td>\n",
              "      <td>NaN</td>\n",
              "      <td>NaN</td>\n",
              "      <td>NaN</td>\n",
              "      <td>NaN</td>\n",
              "      <td>NaN</td>\n",
              "      <td>NaN</td>\n",
              "      <td>NaN</td>\n",
              "      <td>NaN</td>\n",
              "      <td>NaN</td>\n",
              "      <td>NaN</td>\n",
              "      <td>NaN</td>\n",
              "      <td>NaN</td>\n",
              "      <td>NaN</td>\n",
              "      <td>NaN</td>\n",
              "      <td>NaN</td>\n",
              "      <td>NaN</td>\n",
              "      <td>...</td>\n",
              "      <td>0.018613</td>\n",
              "      <td>NaN</td>\n",
              "      <td>NaN</td>\n",
              "      <td>NaN</td>\n",
              "      <td>0.543147</td>\n",
              "      <td>NaN</td>\n",
              "      <td>0.130653</td>\n",
              "      <td>NaN</td>\n",
              "      <td>NaN</td>\n",
              "      <td>NaN</td>\n",
              "      <td>NaN</td>\n",
              "      <td>NaN</td>\n",
              "      <td>NaN</td>\n",
              "      <td>NaN</td>\n",
              "      <td>NaN</td>\n",
              "      <td>NaN</td>\n",
              "      <td>NaN</td>\n",
              "      <td>NaN</td>\n",
              "      <td>NaN</td>\n",
              "      <td>NaN</td>\n",
              "      <td>NaN</td>\n",
              "      <td>NaN</td>\n",
              "      <td>NaN</td>\n",
              "      <td>NaN</td>\n",
              "      <td>NaN</td>\n",
              "      <td>NaN</td>\n",
              "      <td>0.010381</td>\n",
              "      <td>NaN</td>\n",
              "      <td>NaN</td>\n",
              "      <td>NaN</td>\n",
              "      <td>NaN</td>\n",
              "      <td>NaN</td>\n",
              "      <td>NaN</td>\n",
              "      <td>NaN</td>\n",
              "      <td>NaN</td>\n",
              "      <td>NaN</td>\n",
              "      <td>NaN</td>\n",
              "      <td>NaN</td>\n",
              "      <td>NaN</td>\n",
              "      <td>NaN</td>\n",
              "    </tr>\n",
              "  </tbody>\n",
              "</table>\n",
              "<p>5 rows × 303 columns</p>\n",
              "</div>"
            ],
            "text/plain": [
              "id_product   100006  100015  100016  100019  ...  101187  101190  101191  101196\n",
              "customer_id                                  ...                                \n",
              "100002          NaN     NaN     NaN     NaN  ...     NaN     NaN     NaN     NaN\n",
              "100003          NaN     NaN     NaN     NaN  ...     NaN     NaN     NaN     NaN\n",
              "100004          NaN     NaN     NaN     NaN  ...     NaN     NaN     NaN     NaN\n",
              "100012          NaN     NaN     NaN     NaN  ...     NaN     NaN     NaN     NaN\n",
              "100017          NaN     NaN     NaN     NaN  ...     NaN     NaN     NaN     NaN\n",
              "\n",
              "[5 rows x 303 columns]"
            ]
          },
          "metadata": {
            "tags": []
          },
          "execution_count": 64
        }
      ]
    },
    {
      "cell_type": "code",
      "metadata": {
        "colab": {
          "base_uri": "https://localhost:8080/",
          "height": 225
        },
        "id": "unDR0K1tR-T1",
        "outputId": "e467bb86-c371-4b32-ff19-c4ea9f89873d"
      },
      "source": [
        "# create a table for input to the modeling\n",
        "\n",
        "d = df_matrix_norm.reset_index()\n",
        "d.index.names = ['scaled_purchase_freq']\n",
        "data_norm = pd.melt(d, id_vars=['customer_id'], value_name='scaled_purchase_freq').dropna()\n",
        "print(data_norm.shape)\n",
        "data_norm.head()"
      ],
      "execution_count": null,
      "outputs": [
        {
          "output_type": "stream",
          "text": [
            "(5329, 3)\n"
          ],
          "name": "stdout"
        },
        {
          "output_type": "execute_result",
          "data": {
            "text/html": [
              "<div>\n",
              "<style scoped>\n",
              "    .dataframe tbody tr th:only-of-type {\n",
              "        vertical-align: middle;\n",
              "    }\n",
              "\n",
              "    .dataframe tbody tr th {\n",
              "        vertical-align: top;\n",
              "    }\n",
              "\n",
              "    .dataframe thead th {\n",
              "        text-align: right;\n",
              "    }\n",
              "</style>\n",
              "<table border=\"1\" class=\"dataframe\">\n",
              "  <thead>\n",
              "    <tr style=\"text-align: right;\">\n",
              "      <th></th>\n",
              "      <th>customer_id</th>\n",
              "      <th>id_product</th>\n",
              "      <th>scaled_purchase_freq</th>\n",
              "    </tr>\n",
              "  </thead>\n",
              "  <tbody>\n",
              "    <tr>\n",
              "      <th>29</th>\n",
              "      <td>100100</td>\n",
              "      <td>100006</td>\n",
              "      <td>0.104167</td>\n",
              "    </tr>\n",
              "    <tr>\n",
              "      <th>42</th>\n",
              "      <td>100155</td>\n",
              "      <td>100006</td>\n",
              "      <td>0.093750</td>\n",
              "    </tr>\n",
              "    <tr>\n",
              "      <th>43</th>\n",
              "      <td>100157</td>\n",
              "      <td>100006</td>\n",
              "      <td>0.010417</td>\n",
              "    </tr>\n",
              "    <tr>\n",
              "      <th>54</th>\n",
              "      <td>100193</td>\n",
              "      <td>100006</td>\n",
              "      <td>0.003472</td>\n",
              "    </tr>\n",
              "    <tr>\n",
              "      <th>59</th>\n",
              "      <td>100219</td>\n",
              "      <td>100006</td>\n",
              "      <td>1.000000</td>\n",
              "    </tr>\n",
              "  </tbody>\n",
              "</table>\n",
              "</div>"
            ],
            "text/plain": [
              "    customer_id id_product  scaled_purchase_freq\n",
              "29       100100     100006              0.104167\n",
              "42       100155     100006              0.093750\n",
              "43       100157     100006              0.010417\n",
              "54       100193     100006              0.003472\n",
              "59       100219     100006              1.000000"
            ]
          },
          "metadata": {
            "tags": []
          },
          "execution_count": 65
        }
      ]
    },
    {
      "cell_type": "code",
      "metadata": {
        "id": "NqvRjLuoSJz1"
      },
      "source": [
        "def normalize_data(data):\n",
        "    df_matrix = pd.pivot_table(data, values='qty', index='customer_id', columns='id_product')\n",
        "    df_matrix_norm = (df_matrix-df_matrix.min())/(df_matrix.max()-df_matrix.min())\n",
        "    d = df_matrix_norm.reset_index()\n",
        "    d.index.names = ['scaled_purchase_freq']\n",
        "    return pd.melt(d, id_vars=['customer_id'], value_name='scaled_purchase_freq').dropna()"
      ],
      "execution_count": null,
      "outputs": []
    },
    {
      "cell_type": "code",
      "metadata": {
        "colab": {
          "base_uri": "https://localhost:8080/"
        },
        "id": "l0KgEBBASSkh",
        "outputId": "fc2900a3-b070-4ccd-cc4a-aedc34e48045"
      },
      "source": [
        "train, test = train_test_split(data, test_size = .2)\n",
        "print(train.shape, test.shape)"
      ],
      "execution_count": null,
      "outputs": [
        {
          "output_type": "stream",
          "text": [
            "(8760, 3) (2191, 3)\n"
          ],
          "name": "stdout"
        }
      ]
    },
    {
      "cell_type": "code",
      "metadata": {
        "id": "VVBwIcqsSXa3"
      },
      "source": [
        "# Using turicreate library, we convert dataframe to SFrame - this will be useful in the modeling part\n",
        "\n",
        "train_data = tc.SFrame(train)\n",
        "test_data = tc.SFrame(test)"
      ],
      "execution_count": null,
      "outputs": []
    },
    {
      "cell_type": "code",
      "metadata": {
        "colab": {
          "base_uri": "https://localhost:8080/",
          "height": 284
        },
        "id": "iEpltpgeSY-L",
        "outputId": "368633af-da2f-45b2-8446-637305c020bf"
      },
      "source": [
        "train_data"
      ],
      "execution_count": null,
      "outputs": [
        {
          "output_type": "execute_result",
          "data": {
            "text/html": [
              "<div style=\"max-height:1000px;max-width:1500px;overflow:auto;\"><table frame=\"box\" rules=\"cols\">\n",
              "    <tr>\n",
              "        <th style=\"padding-left: 1em; padding-right: 1em; text-align: center\">customer_id</th>\n",
              "        <th style=\"padding-left: 1em; padding-right: 1em; text-align: center\">id_product</th>\n",
              "        <th style=\"padding-left: 1em; padding-right: 1em; text-align: center\">qty</th>\n",
              "    </tr>\n",
              "    <tr>\n",
              "        <td style=\"padding-left: 1em; padding-right: 1em; text-align: center; vertical-align: top\">100479</td>\n",
              "        <td style=\"padding-left: 1em; padding-right: 1em; text-align: center; vertical-align: top\">101013</td>\n",
              "        <td style=\"padding-left: 1em; padding-right: 1em; text-align: center; vertical-align: top\">20</td>\n",
              "    </tr>\n",
              "    <tr>\n",
              "        <td style=\"padding-left: 1em; padding-right: 1em; text-align: center; vertical-align: top\">100522</td>\n",
              "        <td style=\"padding-left: 1em; padding-right: 1em; text-align: center; vertical-align: top\">101029</td>\n",
              "        <td style=\"padding-left: 1em; padding-right: 1em; text-align: center; vertical-align: top\">4</td>\n",
              "    </tr>\n",
              "    <tr>\n",
              "        <td style=\"padding-left: 1em; padding-right: 1em; text-align: center; vertical-align: top\">100479</td>\n",
              "        <td style=\"padding-left: 1em; padding-right: 1em; text-align: center; vertical-align: top\">100862</td>\n",
              "        <td style=\"padding-left: 1em; padding-right: 1em; text-align: center; vertical-align: top\">16</td>\n",
              "    </tr>\n",
              "    <tr>\n",
              "        <td style=\"padding-left: 1em; padding-right: 1em; text-align: center; vertical-align: top\">100478</td>\n",
              "        <td style=\"padding-left: 1em; padding-right: 1em; text-align: center; vertical-align: top\">100044</td>\n",
              "        <td style=\"padding-left: 1em; padding-right: 1em; text-align: center; vertical-align: top\">6</td>\n",
              "    </tr>\n",
              "    <tr>\n",
              "        <td style=\"padding-left: 1em; padding-right: 1em; text-align: center; vertical-align: top\">100531</td>\n",
              "        <td style=\"padding-left: 1em; padding-right: 1em; text-align: center; vertical-align: top\">101140</td>\n",
              "        <td style=\"padding-left: 1em; padding-right: 1em; text-align: center; vertical-align: top\">50</td>\n",
              "    </tr>\n",
              "    <tr>\n",
              "        <td style=\"padding-left: 1em; padding-right: 1em; text-align: center; vertical-align: top\">100799</td>\n",
              "        <td style=\"padding-left: 1em; padding-right: 1em; text-align: center; vertical-align: top\">101125</td>\n",
              "        <td style=\"padding-left: 1em; padding-right: 1em; text-align: center; vertical-align: top\">4</td>\n",
              "    </tr>\n",
              "    <tr>\n",
              "        <td style=\"padding-left: 1em; padding-right: 1em; text-align: center; vertical-align: top\">100809</td>\n",
              "        <td style=\"padding-left: 1em; padding-right: 1em; text-align: center; vertical-align: top\">100643</td>\n",
              "        <td style=\"padding-left: 1em; padding-right: 1em; text-align: center; vertical-align: top\">250</td>\n",
              "    </tr>\n",
              "    <tr>\n",
              "        <td style=\"padding-left: 1em; padding-right: 1em; text-align: center; vertical-align: top\">100657</td>\n",
              "        <td style=\"padding-left: 1em; padding-right: 1em; text-align: center; vertical-align: top\">101148</td>\n",
              "        <td style=\"padding-left: 1em; padding-right: 1em; text-align: center; vertical-align: top\">5</td>\n",
              "    </tr>\n",
              "    <tr>\n",
              "        <td style=\"padding-left: 1em; padding-right: 1em; text-align: center; vertical-align: top\">100833</td>\n",
              "        <td style=\"padding-left: 1em; padding-right: 1em; text-align: center; vertical-align: top\">101128</td>\n",
              "        <td style=\"padding-left: 1em; padding-right: 1em; text-align: center; vertical-align: top\">13</td>\n",
              "    </tr>\n",
              "    <tr>\n",
              "        <td style=\"padding-left: 1em; padding-right: 1em; text-align: center; vertical-align: top\">100806</td>\n",
              "        <td style=\"padding-left: 1em; padding-right: 1em; text-align: center; vertical-align: top\">100886</td>\n",
              "        <td style=\"padding-left: 1em; padding-right: 1em; text-align: center; vertical-align: top\">18</td>\n",
              "    </tr>\n",
              "</table>\n",
              "[8760 rows x 3 columns]<br/>Note: Only the head of the SFrame is printed.<br/>You can use print_rows(num_rows=m, num_columns=n) to print more rows and columns.\n",
              "</div>"
            ],
            "text/plain": [
              "Columns:\n",
              "\tcustomer_id\tint\n",
              "\tid_product\tint\n",
              "\tqty\tint\n",
              "\n",
              "Rows: 8760\n",
              "\n",
              "Data:\n",
              "+-------------+------------+-----+\n",
              "| customer_id | id_product | qty |\n",
              "+-------------+------------+-----+\n",
              "|    100479   |   101013   |  20 |\n",
              "|    100522   |   101029   |  4  |\n",
              "|    100479   |   100862   |  16 |\n",
              "|    100478   |   100044   |  6  |\n",
              "|    100531   |   101140   |  50 |\n",
              "|    100799   |   101125   |  4  |\n",
              "|    100809   |   100643   | 250 |\n",
              "|    100657   |   101148   |  5  |\n",
              "|    100833   |   101128   |  13 |\n",
              "|    100806   |   100886   |  18 |\n",
              "+-------------+------------+-----+\n",
              "[8760 rows x 3 columns]\n",
              "Note: Only the head of the SFrame is printed.\n",
              "You can use print_rows(num_rows=m, num_columns=n) to print more rows and columns."
            ]
          },
          "metadata": {
            "tags": []
          },
          "execution_count": 69
        }
      ]
    },
    {
      "cell_type": "code",
      "metadata": {
        "colab": {
          "base_uri": "https://localhost:8080/",
          "height": 284
        },
        "id": "wCwKPQDNSd_i",
        "outputId": "036cf8c1-8f8a-49a0-d7c6-c59220889848"
      },
      "source": [
        "test_data"
      ],
      "execution_count": null,
      "outputs": [
        {
          "output_type": "execute_result",
          "data": {
            "text/html": [
              "<div style=\"max-height:1000px;max-width:1500px;overflow:auto;\"><table frame=\"box\" rules=\"cols\">\n",
              "    <tr>\n",
              "        <th style=\"padding-left: 1em; padding-right: 1em; text-align: center\">customer_id</th>\n",
              "        <th style=\"padding-left: 1em; padding-right: 1em; text-align: center\">id_product</th>\n",
              "        <th style=\"padding-left: 1em; padding-right: 1em; text-align: center\">qty</th>\n",
              "    </tr>\n",
              "    <tr>\n",
              "        <td style=\"padding-left: 1em; padding-right: 1em; text-align: center; vertical-align: top\">100484</td>\n",
              "        <td style=\"padding-left: 1em; padding-right: 1em; text-align: center; vertical-align: top\">101066</td>\n",
              "        <td style=\"padding-left: 1em; padding-right: 1em; text-align: center; vertical-align: top\">11</td>\n",
              "    </tr>\n",
              "    <tr>\n",
              "        <td style=\"padding-left: 1em; padding-right: 1em; text-align: center; vertical-align: top\">100567</td>\n",
              "        <td style=\"padding-left: 1em; padding-right: 1em; text-align: center; vertical-align: top\">100988</td>\n",
              "        <td style=\"padding-left: 1em; padding-right: 1em; text-align: center; vertical-align: top\">18</td>\n",
              "    </tr>\n",
              "    <tr>\n",
              "        <td style=\"padding-left: 1em; padding-right: 1em; text-align: center; vertical-align: top\">100803</td>\n",
              "        <td style=\"padding-left: 1em; padding-right: 1em; text-align: center; vertical-align: top\">100871</td>\n",
              "        <td style=\"padding-left: 1em; padding-right: 1em; text-align: center; vertical-align: top\">100</td>\n",
              "    </tr>\n",
              "    <tr>\n",
              "        <td style=\"padding-left: 1em; padding-right: 1em; text-align: center; vertical-align: top\">100479</td>\n",
              "        <td style=\"padding-left: 1em; padding-right: 1em; text-align: center; vertical-align: top\">100851</td>\n",
              "        <td style=\"padding-left: 1em; padding-right: 1em; text-align: center; vertical-align: top\">3</td>\n",
              "    </tr>\n",
              "    <tr>\n",
              "        <td style=\"padding-left: 1em; padding-right: 1em; text-align: center; vertical-align: top\">100254</td>\n",
              "        <td style=\"padding-left: 1em; padding-right: 1em; text-align: center; vertical-align: top\">101094</td>\n",
              "        <td style=\"padding-left: 1em; padding-right: 1em; text-align: center; vertical-align: top\">3</td>\n",
              "    </tr>\n",
              "    <tr>\n",
              "        <td style=\"padding-left: 1em; padding-right: 1em; text-align: center; vertical-align: top\">100799</td>\n",
              "        <td style=\"padding-left: 1em; padding-right: 1em; text-align: center; vertical-align: top\">101112</td>\n",
              "        <td style=\"padding-left: 1em; padding-right: 1em; text-align: center; vertical-align: top\">14</td>\n",
              "    </tr>\n",
              "    <tr>\n",
              "        <td style=\"padding-left: 1em; padding-right: 1em; text-align: center; vertical-align: top\">100155</td>\n",
              "        <td style=\"padding-left: 1em; padding-right: 1em; text-align: center; vertical-align: top\">100937</td>\n",
              "        <td style=\"padding-left: 1em; padding-right: 1em; text-align: center; vertical-align: top\">60</td>\n",
              "    </tr>\n",
              "    <tr>\n",
              "        <td style=\"padding-left: 1em; padding-right: 1em; text-align: center; vertical-align: top\">100665</td>\n",
              "        <td style=\"padding-left: 1em; padding-right: 1em; text-align: center; vertical-align: top\">101060</td>\n",
              "        <td style=\"padding-left: 1em; padding-right: 1em; text-align: center; vertical-align: top\">1</td>\n",
              "    </tr>\n",
              "    <tr>\n",
              "        <td style=\"padding-left: 1em; padding-right: 1em; text-align: center; vertical-align: top\">100625</td>\n",
              "        <td style=\"padding-left: 1em; padding-right: 1em; text-align: center; vertical-align: top\">101099</td>\n",
              "        <td style=\"padding-left: 1em; padding-right: 1em; text-align: center; vertical-align: top\">16</td>\n",
              "    </tr>\n",
              "    <tr>\n",
              "        <td style=\"padding-left: 1em; padding-right: 1em; text-align: center; vertical-align: top\">100542</td>\n",
              "        <td style=\"padding-left: 1em; padding-right: 1em; text-align: center; vertical-align: top\">100083</td>\n",
              "        <td style=\"padding-left: 1em; padding-right: 1em; text-align: center; vertical-align: top\">2</td>\n",
              "    </tr>\n",
              "</table>\n",
              "[2191 rows x 3 columns]<br/>Note: Only the head of the SFrame is printed.<br/>You can use print_rows(num_rows=m, num_columns=n) to print more rows and columns.\n",
              "</div>"
            ],
            "text/plain": [
              "Columns:\n",
              "\tcustomer_id\tint\n",
              "\tid_product\tint\n",
              "\tqty\tint\n",
              "\n",
              "Rows: 2191\n",
              "\n",
              "Data:\n",
              "+-------------+------------+-----+\n",
              "| customer_id | id_product | qty |\n",
              "+-------------+------------+-----+\n",
              "|    100484   |   101066   |  11 |\n",
              "|    100567   |   100988   |  18 |\n",
              "|    100803   |   100871   | 100 |\n",
              "|    100479   |   100851   |  3  |\n",
              "|    100254   |   101094   |  3  |\n",
              "|    100799   |   101112   |  14 |\n",
              "|    100155   |   100937   |  60 |\n",
              "|    100665   |   101060   |  1  |\n",
              "|    100625   |   101099   |  16 |\n",
              "|    100542   |   100083   |  2  |\n",
              "+-------------+------------+-----+\n",
              "[2191 rows x 3 columns]\n",
              "Note: Only the head of the SFrame is printed.\n",
              "You can use print_rows(num_rows=m, num_columns=n) to print more rows and columns."
            ]
          },
          "metadata": {
            "tags": []
          },
          "execution_count": 70
        }
      ]
    },
    {
      "cell_type": "code",
      "metadata": {
        "id": "G7EGSV9BSfu8"
      },
      "source": [
        "# We can define a function for this step as follows\n",
        "\n",
        "def split_data(data):\n",
        "    '''\n",
        "    Splits dataset into training and test set.\n",
        "    \n",
        "    Args:\n",
        "        data (pandas.DataFrame)\n",
        "        \n",
        "    Returns\n",
        "        train_data (tc.SFrame)\n",
        "        test_data (tc.SFrame)\n",
        "    '''\n",
        "    train, test = train_test_split(data, test_size = .2)\n",
        "    train_data = tc.SFrame(train)\n",
        "    test_data = tc.SFrame(test)\n",
        "    return train_data, test_data"
      ],
      "execution_count": null,
      "outputs": []
    },
    {
      "cell_type": "code",
      "metadata": {
        "id": "kUF7ohJkSkR8"
      },
      "source": [
        "# lets try with both dummy table and scaled/normalized purchase table\n",
        "\n",
        "train_data_dummy, test_data_dummy = split_data(data_dummy)\n",
        "train_data_norm, test_data_norm = split_data(data_norm)"
      ],
      "execution_count": null,
      "outputs": []
    },
    {
      "cell_type": "markdown",
      "metadata": {
        "id": "CNTOLLvSURZH"
      },
      "source": [
        "Using purchase counts"
      ]
    },
    {
      "cell_type": "code",
      "metadata": {
        "id": "qNELzDqgUREI"
      },
      "source": [
        "# variables to define field names\n",
        "user_id = 'customer_id'\n",
        "item_id = 'id_product'\n",
        "target = 'qty'\n",
        "users_to_recommend = list(rekomendasi[user_id])\n",
        "n_rec = 10 # number of items to recommend\n",
        "n_display = 30"
      ],
      "execution_count": null,
      "outputs": []
    },
    {
      "cell_type": "code",
      "metadata": {
        "colab": {
          "base_uri": "https://localhost:8080/",
          "height": 86
        },
        "id": "oNIG7uH2V2VF",
        "outputId": "02ea5e5e-6492-4bac-c357-5fffdce62a74"
      },
      "source": [
        "popularity_model = tc.popularity_recommender.create(train_data, user_id=user_id, item_id=item_id, target=target)"
      ],
      "execution_count": null,
      "outputs": [
        {
          "output_type": "display_data",
          "data": {
            "text/html": [
              "<pre>Preparing data set.</pre>"
            ],
            "text/plain": [
              "Preparing data set."
            ]
          },
          "metadata": {
            "tags": []
          }
        },
        {
          "output_type": "display_data",
          "data": {
            "text/html": [
              "<pre>    Data has 8760 observations with 361 users and 292 items.</pre>"
            ],
            "text/plain": [
              "    Data has 8760 observations with 361 users and 292 items."
            ]
          },
          "metadata": {
            "tags": []
          }
        },
        {
          "output_type": "display_data",
          "data": {
            "text/html": [
              "<pre>    Data prepared in: 0.020658s</pre>"
            ],
            "text/plain": [
              "    Data prepared in: 0.020658s"
            ]
          },
          "metadata": {
            "tags": []
          }
        },
        {
          "output_type": "display_data",
          "data": {
            "text/html": [
              "<pre>8760 observations to process; with 292 unique items.</pre>"
            ],
            "text/plain": [
              "8760 observations to process; with 292 unique items."
            ]
          },
          "metadata": {
            "tags": []
          }
        }
      ]
    },
    {
      "cell_type": "code",
      "metadata": {
        "colab": {
          "base_uri": "https://localhost:8080/"
        },
        "id": "4N5koPuzW6pa",
        "outputId": "629dc2b2-ef62-4bde-d272-34d7534b9bd1"
      },
      "source": [
        "# Get recommendations for a list of users to recommend (from customers file)\n",
        "# Printed below is head / top 30 rows for first 3 customers with 10 recommendations each\n",
        "\n",
        "popularity_recomm = popularity_model.recommend(users=users_to_recommend, k=n_rec)\n",
        "popularity_recomm.print_rows(n_display)"
      ],
      "execution_count": null,
      "outputs": [
        {
          "output_type": "stream",
          "text": [
            "+-------------+------------+--------------------+------+\n",
            "| customer_id | id_product |       score        | rank |\n",
            "+-------------+------------+--------------------+------+\n",
            "|    100003   |   101196   | 533.3333333333334  |  1   |\n",
            "|    100003   |   100288   | 329.8936170212766  |  2   |\n",
            "|    100003   |   101181   |       125.0        |  3   |\n",
            "|    100003   |   101066   | 119.88947368421053 |  4   |\n",
            "|    100003   |   101091   | 114.14285714285714 |  5   |\n",
            "|    100003   |   101191   | 105.33333333333333 |  6   |\n",
            "|    100003   |   101190   | 101.78571428571429 |  7   |\n",
            "|    100003   |   100778   |       100.0        |  8   |\n",
            "|    100003   |   100117   |       100.0        |  9   |\n",
            "|    100003   |   101159   | 94.69444444444444  |  10  |\n",
            "|    100004   |   101196   | 533.3333333333334  |  1   |\n",
            "|    100004   |   100288   | 329.8936170212766  |  2   |\n",
            "|    100004   |   101076   |       136.0        |  3   |\n",
            "|    100004   |   101181   |       125.0        |  4   |\n",
            "|    100004   |   101066   | 119.88947368421053 |  5   |\n",
            "|    100004   |   101091   | 114.14285714285714 |  6   |\n",
            "|    100004   |   101191   | 105.33333333333333 |  7   |\n",
            "|    100004   |   101190   | 101.78571428571429 |  8   |\n",
            "|    100004   |   100778   |       100.0        |  9   |\n",
            "|    100004   |   100117   |       100.0        |  10  |\n",
            "|    100012   |   101196   | 533.3333333333334  |  1   |\n",
            "|    100012   |   100288   | 329.8936170212766  |  2   |\n",
            "|    100012   |   101076   |       136.0        |  3   |\n",
            "|    100012   |   101181   |       125.0        |  4   |\n",
            "|    100012   |   101066   | 119.88947368421053 |  5   |\n",
            "|    100012   |   101091   | 114.14285714285714 |  6   |\n",
            "|    100012   |   101191   | 105.33333333333333 |  7   |\n",
            "|    100012   |   101190   | 101.78571428571429 |  8   |\n",
            "|    100012   |   100778   |       100.0        |  9   |\n",
            "|    100012   |   100117   |       100.0        |  10  |\n",
            "+-------------+------------+--------------------+------+\n",
            "[3690 rows x 4 columns]\n",
            "\n"
          ],
          "name": "stdout"
        }
      ]
    },
    {
      "cell_type": "markdown",
      "metadata": {
        "id": "kTuq8a0ZXtUI"
      },
      "source": [
        "\n",
        "Define a model function for model selection"
      ]
    },
    {
      "cell_type": "code",
      "metadata": {
        "id": "Llq_CkF6Xn_o"
      },
      "source": [
        "# Since turicreate is very accessible library, we can define a model selection function as below\n",
        "\n",
        "def model(train_data, name, user_id, item_id, target, users_to_recommend, n_rec, n_display):\n",
        "    if name == 'popularity':\n",
        "        model = tc.popularity_recommender.create(train_data, \n",
        "                                                    user_id=user_id, \n",
        "                                                    item_id=item_id, \n",
        "                                                    target=target)\n",
        "    elif name == 'cosine':\n",
        "        model = tc.item_similarity_recommender.create(train_data, \n",
        "                                                    user_id=user_id, \n",
        "                                                    item_id=item_id, \n",
        "                                                    target=target, \n",
        "                                                    similarity_type='cosine')\n",
        "    elif name == 'pearson':\n",
        "        model = tc.item_similarity_recommender.create(train_data, \n",
        "                                                    user_id=user_id, \n",
        "                                                    item_id=item_id, \n",
        "                                                    target=target, \n",
        "                                                    similarity_type='pearson')\n",
        "        \n",
        "    recom = model.recommend(users=users_to_recommend, k=n_rec)\n",
        "    recom.print_rows(n_display)\n",
        "    return model"
      ],
      "execution_count": null,
      "outputs": []
    },
    {
      "cell_type": "code",
      "metadata": {
        "id": "6Bmvmm9oXucl"
      },
      "source": [
        "# variables to define field names\n",
        "# constant variables include:\n",
        "user_id = 'customer_id'\n",
        "item_id = 'id_product'\n",
        "users_to_recommend = list(rekomendasi[user_id])\n",
        "n_rec = 10 # number of items to recommend\n",
        "n_display = 30 # to print the head / first few rows in a defined dataset"
      ],
      "execution_count": null,
      "outputs": []
    },
    {
      "cell_type": "markdown",
      "metadata": {
        "id": "sF2HXQntX4iL"
      },
      "source": [
        "Using purchase dummy"
      ]
    },
    {
      "cell_type": "code",
      "metadata": {
        "colab": {
          "base_uri": "https://localhost:8080/",
          "height": 782
        },
        "id": "zYYNEJ9hX5J4",
        "outputId": "585eb0ba-bfab-4726-b328-f7574a5992fd"
      },
      "source": [
        "# these variables will change accordingly\n",
        "name = 'popularity'\n",
        "target = 'purchase_dummy'\n",
        "pop_dummy = model(train_data_dummy, name, user_id, item_id, target, users_to_recommend, n_rec, n_display)"
      ],
      "execution_count": null,
      "outputs": [
        {
          "output_type": "display_data",
          "data": {
            "text/html": [
              "<pre>Warning: Ignoring columns qty;</pre>"
            ],
            "text/plain": [
              "Warning: Ignoring columns qty;"
            ]
          },
          "metadata": {
            "tags": []
          }
        },
        {
          "output_type": "display_data",
          "data": {
            "text/html": [
              "<pre>    To use these columns in scoring predictions, use a model that allows the use of additional features.</pre>"
            ],
            "text/plain": [
              "    To use these columns in scoring predictions, use a model that allows the use of additional features."
            ]
          },
          "metadata": {
            "tags": []
          }
        },
        {
          "output_type": "display_data",
          "data": {
            "text/html": [
              "<pre>Preparing data set.</pre>"
            ],
            "text/plain": [
              "Preparing data set."
            ]
          },
          "metadata": {
            "tags": []
          }
        },
        {
          "output_type": "display_data",
          "data": {
            "text/html": [
              "<pre>    Data has 8760 observations with 365 users and 297 items.</pre>"
            ],
            "text/plain": [
              "    Data has 8760 observations with 365 users and 297 items."
            ]
          },
          "metadata": {
            "tags": []
          }
        },
        {
          "output_type": "display_data",
          "data": {
            "text/html": [
              "<pre>    Data prepared in: 0.048755s</pre>"
            ],
            "text/plain": [
              "    Data prepared in: 0.048755s"
            ]
          },
          "metadata": {
            "tags": []
          }
        },
        {
          "output_type": "display_data",
          "data": {
            "text/html": [
              "<pre>8760 observations to process; with 297 unique items.</pre>"
            ],
            "text/plain": [
              "8760 observations to process; with 297 unique items."
            ]
          },
          "metadata": {
            "tags": []
          }
        },
        {
          "output_type": "stream",
          "text": [
            "+-------------+------------+-------+------+\n",
            "| customer_id | id_product | score | rank |\n",
            "+-------------+------------+-------+------+\n",
            "|    100003   |   101151   |  1.0  |  1   |\n",
            "|    100003   |   100877   |  1.0  |  2   |\n",
            "|    100003   |   101086   |  1.0  |  3   |\n",
            "|    100003   |   101017   |  1.0  |  4   |\n",
            "|    100003   |   100891   |  1.0  |  5   |\n",
            "|    100003   |   100627   |  1.0  |  6   |\n",
            "|    100003   |   100348   |  1.0  |  7   |\n",
            "|    100003   |   101130   |  1.0  |  8   |\n",
            "|    100003   |   100915   |  1.0  |  9   |\n",
            "|    100003   |   101066   |  1.0  |  10  |\n",
            "|    100004   |   101151   |  1.0  |  1   |\n",
            "|    100004   |   100877   |  1.0  |  2   |\n",
            "|    100004   |   101086   |  1.0  |  3   |\n",
            "|    100004   |   101017   |  1.0  |  4   |\n",
            "|    100004   |   100891   |  1.0  |  5   |\n",
            "|    100004   |   100627   |  1.0  |  6   |\n",
            "|    100004   |   100348   |  1.0  |  7   |\n",
            "|    100004   |   101130   |  1.0  |  8   |\n",
            "|    100004   |   100915   |  1.0  |  9   |\n",
            "|    100004   |   101066   |  1.0  |  10  |\n",
            "|    100012   |   101133   |  1.0  |  1   |\n",
            "|    100012   |   101151   |  1.0  |  2   |\n",
            "|    100012   |   101086   |  1.0  |  3   |\n",
            "|    100012   |   101017   |  1.0  |  4   |\n",
            "|    100012   |   100891   |  1.0  |  5   |\n",
            "|    100012   |   100627   |  1.0  |  6   |\n",
            "|    100012   |   100348   |  1.0  |  7   |\n",
            "|    100012   |   101130   |  1.0  |  8   |\n",
            "|    100012   |   100915   |  1.0  |  9   |\n",
            "|    100012   |   101066   |  1.0  |  10  |\n",
            "+-------------+------------+-------+------+\n",
            "[3690 rows x 4 columns]\n",
            "\n"
          ],
          "name": "stdout"
        }
      ]
    },
    {
      "cell_type": "markdown",
      "metadata": {
        "id": "wKxpLJXHYCpr"
      },
      "source": [
        "Using normalized purchase count"
      ]
    },
    {
      "cell_type": "code",
      "metadata": {
        "colab": {
          "base_uri": "https://localhost:8080/",
          "height": 748
        },
        "id": "96HgSZPoYCPy",
        "outputId": "6719313d-8e46-4219-a475-edb46e15904d"
      },
      "source": [
        "name = 'popularity'\n",
        "target = 'scaled_purchase_freq'\n",
        "pop_norm = model(train_data_norm, name, user_id, item_id, target, users_to_recommend, n_rec, n_display)"
      ],
      "execution_count": null,
      "outputs": [
        {
          "output_type": "display_data",
          "data": {
            "text/html": [
              "<pre>Preparing data set.</pre>"
            ],
            "text/plain": [
              "Preparing data set."
            ]
          },
          "metadata": {
            "tags": []
          }
        },
        {
          "output_type": "display_data",
          "data": {
            "text/html": [
              "<pre>    Data has 4263 observations with 361 users and 266 items.</pre>"
            ],
            "text/plain": [
              "    Data has 4263 observations with 361 users and 266 items."
            ]
          },
          "metadata": {
            "tags": []
          }
        },
        {
          "output_type": "display_data",
          "data": {
            "text/html": [
              "<pre>    Data prepared in: 0.02218s</pre>"
            ],
            "text/plain": [
              "    Data prepared in: 0.02218s"
            ]
          },
          "metadata": {
            "tags": []
          }
        },
        {
          "output_type": "display_data",
          "data": {
            "text/html": [
              "<pre>4263 observations to process; with 266 unique items.</pre>"
            ],
            "text/plain": [
              "4263 observations to process; with 266 unique items."
            ]
          },
          "metadata": {
            "tags": []
          }
        },
        {
          "output_type": "stream",
          "text": [
            "+-------------+------------+--------------------+------+\n",
            "| customer_id | id_product |       score        | rank |\n",
            "+-------------+------------+--------------------+------+\n",
            "|    100003   |   101181   |        1.0         |  1   |\n",
            "|    100003   |   100571   |        1.0         |  2   |\n",
            "|    100003   |   101043   | 0.8471074380165289 |  3   |\n",
            "|    100003   |   100032   | 0.6629213483146067 |  4   |\n",
            "|    100003   |   100891   | 0.6527395295467585 |  5   |\n",
            "|    100003   |   100914   | 0.6526315789473685 |  6   |\n",
            "|    100003   |   100077   |       0.625        |  7   |\n",
            "|    100003   |   101170   | 0.6079622132253711 |  8   |\n",
            "|    100003   |   100122   | 0.6049382716049383 |  9   |\n",
            "|    100003   |   100112   | 0.5941734417344173 |  10  |\n",
            "|    100004   |   101181   |        1.0         |  1   |\n",
            "|    100004   |   100571   |        1.0         |  2   |\n",
            "|    100004   |   101043   | 0.8471074380165289 |  3   |\n",
            "|    100004   |   100032   | 0.6629213483146067 |  4   |\n",
            "|    100004   |   100891   | 0.6527395295467585 |  5   |\n",
            "|    100004   |   100914   | 0.6526315789473685 |  6   |\n",
            "|    100004   |   101170   | 0.6079622132253711 |  7   |\n",
            "|    100004   |   100122   | 0.6049382716049383 |  8   |\n",
            "|    100004   |   100112   | 0.5941734417344173 |  9   |\n",
            "|    100004   |   100862   | 0.5919895893580104 |  10  |\n",
            "|    100012   |   101181   |        1.0         |  1   |\n",
            "|    100012   |   100571   |        1.0         |  2   |\n",
            "|    100012   |   101043   | 0.8471074380165289 |  3   |\n",
            "|    100012   |   100032   | 0.6629213483146067 |  4   |\n",
            "|    100012   |   100891   | 0.6527395295467585 |  5   |\n",
            "|    100012   |   100914   | 0.6526315789473685 |  6   |\n",
            "|    100012   |   100077   |       0.625        |  7   |\n",
            "|    100012   |   101170   | 0.6079622132253711 |  8   |\n",
            "|    100012   |   100122   | 0.6049382716049383 |  9   |\n",
            "|    100012   |   100112   | 0.5941734417344173 |  10  |\n",
            "+-------------+------------+--------------------+------+\n",
            "[3690 rows x 4 columns]\n",
            "\n"
          ],
          "name": "stdout"
        }
      ]
    },
    {
      "cell_type": "code",
      "metadata": {
        "colab": {
          "base_uri": "https://localhost:8080/"
        },
        "id": "-s_kp8GxYLq6",
        "outputId": "e059f2dc-3767-47fe-e15c-e401e7769511"
      },
      "source": [
        "train.groupby(by=item_id)['qty'].mean().sort_values(ascending=False).head(20)"
      ],
      "execution_count": null,
      "outputs": [
        {
          "output_type": "execute_result",
          "data": {
            "text/plain": [
              "id_product\n",
              "101196    533.333333\n",
              "100288    329.893617\n",
              "101076    136.000000\n",
              "101181    125.000000\n",
              "101066    119.889474\n",
              "101091    114.142857\n",
              "101191    105.333333\n",
              "101190    101.785714\n",
              "100117    100.000000\n",
              "100778    100.000000\n",
              "100871     97.229391\n",
              "101159     94.694444\n",
              "100953     94.415094\n",
              "101161     93.000000\n",
              "100640     92.428571\n",
              "101160     92.270270\n",
              "101185     91.523810\n",
              "101173     90.272727\n",
              "100627     89.780000\n",
              "100933     88.176471\n",
              "Name: qty, dtype: float64"
            ]
          },
          "metadata": {
            "tags": []
          },
          "execution_count": 81
        }
      ]
    },
    {
      "cell_type": "markdown",
      "metadata": {
        "id": "ZUXmvT1lYUiZ"
      },
      "source": [
        "# Collaborative Filtering Model"
      ]
    },
    {
      "cell_type": "markdown",
      "metadata": {
        "id": "h0aTuo7jYgTA"
      },
      "source": [
        "Using purchase count"
      ]
    },
    {
      "cell_type": "code",
      "metadata": {
        "colab": {
          "base_uri": "https://localhost:8080/",
          "height": 1000
        },
        "id": "QW13av1eYUNA",
        "outputId": "8e7d74ed-4a40-4540-adf7-2753912ab916"
      },
      "source": [
        "# these variables will change accordingly\n",
        "name = 'cosine'\n",
        "target = 'qty'\n",
        "cos = model(train_data, name, user_id, item_id, target, users_to_recommend, n_rec, n_display)"
      ],
      "execution_count": null,
      "outputs": [
        {
          "output_type": "display_data",
          "data": {
            "text/html": [
              "<pre>Preparing data set.</pre>"
            ],
            "text/plain": [
              "Preparing data set."
            ]
          },
          "metadata": {
            "tags": []
          }
        },
        {
          "output_type": "display_data",
          "data": {
            "text/html": [
              "<pre>    Data has 8760 observations with 361 users and 292 items.</pre>"
            ],
            "text/plain": [
              "    Data has 8760 observations with 361 users and 292 items."
            ]
          },
          "metadata": {
            "tags": []
          }
        },
        {
          "output_type": "display_data",
          "data": {
            "text/html": [
              "<pre>    Data prepared in: 0.024623s</pre>"
            ],
            "text/plain": [
              "    Data prepared in: 0.024623s"
            ]
          },
          "metadata": {
            "tags": []
          }
        },
        {
          "output_type": "display_data",
          "data": {
            "text/html": [
              "<pre>Training model from provided data.</pre>"
            ],
            "text/plain": [
              "Training model from provided data."
            ]
          },
          "metadata": {
            "tags": []
          }
        },
        {
          "output_type": "display_data",
          "data": {
            "text/html": [
              "<pre>Gathering per-item and per-user statistics.</pre>"
            ],
            "text/plain": [
              "Gathering per-item and per-user statistics."
            ]
          },
          "metadata": {
            "tags": []
          }
        },
        {
          "output_type": "display_data",
          "data": {
            "text/html": [
              "<pre>+--------------------------------+------------+</pre>"
            ],
            "text/plain": [
              "+--------------------------------+------------+"
            ]
          },
          "metadata": {
            "tags": []
          }
        },
        {
          "output_type": "display_data",
          "data": {
            "text/html": [
              "<pre>| Elapsed Time (Item Statistics) | % Complete |</pre>"
            ],
            "text/plain": [
              "| Elapsed Time (Item Statistics) | % Complete |"
            ]
          },
          "metadata": {
            "tags": []
          }
        },
        {
          "output_type": "display_data",
          "data": {
            "text/html": [
              "<pre>+--------------------------------+------------+</pre>"
            ],
            "text/plain": [
              "+--------------------------------+------------+"
            ]
          },
          "metadata": {
            "tags": []
          }
        },
        {
          "output_type": "display_data",
          "data": {
            "text/html": [
              "<pre>| 655us                          | 100        |</pre>"
            ],
            "text/plain": [
              "| 655us                          | 100        |"
            ]
          },
          "metadata": {
            "tags": []
          }
        },
        {
          "output_type": "display_data",
          "data": {
            "text/html": [
              "<pre>+--------------------------------+------------+</pre>"
            ],
            "text/plain": [
              "+--------------------------------+------------+"
            ]
          },
          "metadata": {
            "tags": []
          }
        },
        {
          "output_type": "display_data",
          "data": {
            "text/html": [
              "<pre>Setting up lookup tables.</pre>"
            ],
            "text/plain": [
              "Setting up lookup tables."
            ]
          },
          "metadata": {
            "tags": []
          }
        },
        {
          "output_type": "display_data",
          "data": {
            "text/html": [
              "<pre>Processing data in one pass using dense lookup tables.</pre>"
            ],
            "text/plain": [
              "Processing data in one pass using dense lookup tables."
            ]
          },
          "metadata": {
            "tags": []
          }
        },
        {
          "output_type": "display_data",
          "data": {
            "text/html": [
              "<pre>+-------------------------------------+------------------+-----------------+</pre>"
            ],
            "text/plain": [
              "+-------------------------------------+------------------+-----------------+"
            ]
          },
          "metadata": {
            "tags": []
          }
        },
        {
          "output_type": "display_data",
          "data": {
            "text/html": [
              "<pre>| Elapsed Time (Constructing Lookups) | Total % Complete | Items Processed |</pre>"
            ],
            "text/plain": [
              "| Elapsed Time (Constructing Lookups) | Total % Complete | Items Processed |"
            ]
          },
          "metadata": {
            "tags": []
          }
        },
        {
          "output_type": "display_data",
          "data": {
            "text/html": [
              "<pre>+-------------------------------------+------------------+-----------------+</pre>"
            ],
            "text/plain": [
              "+-------------------------------------+------------------+-----------------+"
            ]
          },
          "metadata": {
            "tags": []
          }
        },
        {
          "output_type": "display_data",
          "data": {
            "text/html": [
              "<pre>| 1.315ms                             | 6.25             | 18              |</pre>"
            ],
            "text/plain": [
              "| 1.315ms                             | 6.25             | 18              |"
            ]
          },
          "metadata": {
            "tags": []
          }
        },
        {
          "output_type": "display_data",
          "data": {
            "text/html": [
              "<pre>| 14.228ms                            | 100              | 292             |</pre>"
            ],
            "text/plain": [
              "| 14.228ms                            | 100              | 292             |"
            ]
          },
          "metadata": {
            "tags": []
          }
        },
        {
          "output_type": "display_data",
          "data": {
            "text/html": [
              "<pre>+-------------------------------------+------------------+-----------------+</pre>"
            ],
            "text/plain": [
              "+-------------------------------------+------------------+-----------------+"
            ]
          },
          "metadata": {
            "tags": []
          }
        },
        {
          "output_type": "display_data",
          "data": {
            "text/html": [
              "<pre>Finalizing lookup tables.</pre>"
            ],
            "text/plain": [
              "Finalizing lookup tables."
            ]
          },
          "metadata": {
            "tags": []
          }
        },
        {
          "output_type": "display_data",
          "data": {
            "text/html": [
              "<pre>Generating candidate set for working with new users.</pre>"
            ],
            "text/plain": [
              "Generating candidate set for working with new users."
            ]
          },
          "metadata": {
            "tags": []
          }
        },
        {
          "output_type": "display_data",
          "data": {
            "text/html": [
              "<pre>Finished training in 0.017092s</pre>"
            ],
            "text/plain": [
              "Finished training in 0.017092s"
            ]
          },
          "metadata": {
            "tags": []
          }
        },
        {
          "output_type": "stream",
          "text": [
            "+-------------+------------+--------------------+------+\n",
            "| customer_id | id_product |       score        | rank |\n",
            "+-------------+------------+--------------------+------+\n",
            "|    100003   |   101140   |  5.47059353813529  |  1   |\n",
            "|    100003   |   101163   | 4.9243682362139225 |  2   |\n",
            "|    100003   |   100962   | 4.876722797751427  |  3   |\n",
            "|    100003   |   101175   | 4.830155566334724  |  4   |\n",
            "|    100003   |   100701   | 4.8280812203884125 |  5   |\n",
            "|    100003   |   100851   | 4.826858300715685  |  6   |\n",
            "|    100003   |   101150   | 4.745644811540842  |  7   |\n",
            "|    100003   |   101181   | 4.729232657700777  |  8   |\n",
            "|    100003   |   101130   |  4.64811684191227  |  9   |\n",
            "|    100003   |   100907   | 4.483646187931299  |  10  |\n",
            "|    100004   |   101163   | 5.075075473388036  |  1   |\n",
            "|    100004   |   101150   | 4.535204575459162  |  2   |\n",
            "|    100004   |   100701   | 4.493114997943242  |  3   |\n",
            "|    100004   |   101181   |  4.45920774936676  |  4   |\n",
            "|    100004   |   101175   | 4.3734468420346575 |  5   |\n",
            "|    100004   |   100962   | 4.344971658786138  |  6   |\n",
            "|    100004   |   101029   | 4.342299495140711  |  7   |\n",
            "|    100004   |   100851   | 4.257876819372177  |  8   |\n",
            "|    100004   |   100877   | 4.129049547513326  |  9   |\n",
            "|    100004   |   101000   |  4.0915507376194   |  10  |\n",
            "|    100012   |   101163   | 11.908897146582603 |  1   |\n",
            "|    100012   |   101000   | 8.953397914767265  |  2   |\n",
            "|    100012   |   101175   | 8.870993852615356  |  3   |\n",
            "|    100012   |   100083   | 8.810596868395805  |  4   |\n",
            "|    100012   |   101132   | 8.803407713770866  |  5   |\n",
            "|    100012   |   101130   | 8.273114085197449  |  6   |\n",
            "|    100012   |   100907   |  8.17037719488144  |  7   |\n",
            "|    100012   |   100979   |  7.68847844004631  |  8   |\n",
            "|    100012   |   100933   | 7.6678555607795715 |  9   |\n",
            "|    100012   |   100673   | 7.6040297746658325 |  10  |\n",
            "+-------------+------------+--------------------+------+\n",
            "[3690 rows x 4 columns]\n",
            "\n"
          ],
          "name": "stdout"
        }
      ]
    },
    {
      "cell_type": "markdown",
      "metadata": {
        "id": "n6NI53fLYuBF"
      },
      "source": [
        "Using purchase dummy"
      ]
    },
    {
      "cell_type": "code",
      "metadata": {
        "colab": {
          "base_uri": "https://localhost:8080/",
          "height": 1000
        },
        "id": "TcM5RTxrYufW",
        "outputId": "f02e1378-f8b1-4d5f-82f4-ce5e8d62929f"
      },
      "source": [
        "# these variables will change accordingly\n",
        "name = 'cosine'\n",
        "target = 'purchase_dummy'\n",
        "cos_dummy = model(train_data_dummy, name, user_id, item_id, target, users_to_recommend, n_rec, n_display)"
      ],
      "execution_count": null,
      "outputs": [
        {
          "output_type": "display_data",
          "data": {
            "text/html": [
              "<pre>Warning: Ignoring columns qty;</pre>"
            ],
            "text/plain": [
              "Warning: Ignoring columns qty;"
            ]
          },
          "metadata": {
            "tags": []
          }
        },
        {
          "output_type": "display_data",
          "data": {
            "text/html": [
              "<pre>    To use these columns in scoring predictions, use a model that allows the use of additional features.</pre>"
            ],
            "text/plain": [
              "    To use these columns in scoring predictions, use a model that allows the use of additional features."
            ]
          },
          "metadata": {
            "tags": []
          }
        },
        {
          "output_type": "display_data",
          "data": {
            "text/html": [
              "<pre>Preparing data set.</pre>"
            ],
            "text/plain": [
              "Preparing data set."
            ]
          },
          "metadata": {
            "tags": []
          }
        },
        {
          "output_type": "display_data",
          "data": {
            "text/html": [
              "<pre>    Data has 8760 observations with 365 users and 297 items.</pre>"
            ],
            "text/plain": [
              "    Data has 8760 observations with 365 users and 297 items."
            ]
          },
          "metadata": {
            "tags": []
          }
        },
        {
          "output_type": "display_data",
          "data": {
            "text/html": [
              "<pre>    Data prepared in: 0.02068s</pre>"
            ],
            "text/plain": [
              "    Data prepared in: 0.02068s"
            ]
          },
          "metadata": {
            "tags": []
          }
        },
        {
          "output_type": "display_data",
          "data": {
            "text/html": [
              "<pre>Training model from provided data.</pre>"
            ],
            "text/plain": [
              "Training model from provided data."
            ]
          },
          "metadata": {
            "tags": []
          }
        },
        {
          "output_type": "display_data",
          "data": {
            "text/html": [
              "<pre>Gathering per-item and per-user statistics.</pre>"
            ],
            "text/plain": [
              "Gathering per-item and per-user statistics."
            ]
          },
          "metadata": {
            "tags": []
          }
        },
        {
          "output_type": "display_data",
          "data": {
            "text/html": [
              "<pre>+--------------------------------+------------+</pre>"
            ],
            "text/plain": [
              "+--------------------------------+------------+"
            ]
          },
          "metadata": {
            "tags": []
          }
        },
        {
          "output_type": "display_data",
          "data": {
            "text/html": [
              "<pre>| Elapsed Time (Item Statistics) | % Complete |</pre>"
            ],
            "text/plain": [
              "| Elapsed Time (Item Statistics) | % Complete |"
            ]
          },
          "metadata": {
            "tags": []
          }
        },
        {
          "output_type": "display_data",
          "data": {
            "text/html": [
              "<pre>+--------------------------------+------------+</pre>"
            ],
            "text/plain": [
              "+--------------------------------+------------+"
            ]
          },
          "metadata": {
            "tags": []
          }
        },
        {
          "output_type": "display_data",
          "data": {
            "text/html": [
              "<pre>| 522us                          | 100        |</pre>"
            ],
            "text/plain": [
              "| 522us                          | 100        |"
            ]
          },
          "metadata": {
            "tags": []
          }
        },
        {
          "output_type": "display_data",
          "data": {
            "text/html": [
              "<pre>+--------------------------------+------------+</pre>"
            ],
            "text/plain": [
              "+--------------------------------+------------+"
            ]
          },
          "metadata": {
            "tags": []
          }
        },
        {
          "output_type": "display_data",
          "data": {
            "text/html": [
              "<pre>Setting up lookup tables.</pre>"
            ],
            "text/plain": [
              "Setting up lookup tables."
            ]
          },
          "metadata": {
            "tags": []
          }
        },
        {
          "output_type": "stream",
          "text": [
            "+-------------+------------+---------------------+------+\n",
            "| customer_id | id_product |        score        | rank |\n",
            "+-------------+------------+---------------------+------+\n",
            "|    100003   |   100640   |  0.2697673837343852 |  1   |\n",
            "|    100003   |   101015   | 0.26248577833175657 |  2   |\n",
            "|    100003   |   101070   | 0.25589057207107546 |  3   |\n",
            "|    100003   |   101096   | 0.24375305573145548 |  4   |\n",
            "|    100003   |   100917   | 0.23788227637608847 |  5   |\n",
            "|    100003   |   100967   | 0.22999536991119385 |  6   |\n",
            "|    100003   |   101028   | 0.22048731247584025 |  7   |\n",
            "|    100003   |   101113   |  0.216035000483195  |  8   |\n",
            "|    100003   |   101151   |  0.2122661590576172 |  9   |\n",
            "|    100003   |   100753   | 0.21143722136815388 |  10  |\n",
            "|    100004   |   101015   | 0.18867729861160804 |  1   |\n",
            "|    100004   |   101096   | 0.18550694605399823 |  2   |\n",
            "|    100004   |   100956   |  0.1848076993021472 |  3   |\n",
            "|    100004   |   100979   | 0.18458344813050895 |  4   |\n",
            "|    100004   |   100917   |  0.1821325626866571 |  5   |\n",
            "|    100004   |   100543   | 0.17956516043893223 |  6   |\n",
            "|    100004   |   100904   | 0.17815807770038472 |  7   |\n",
            "|    100004   |   101151   | 0.17595484338957687 |  8   |\n",
            "|    100004   |   100633   | 0.17141384502937054 |  9   |\n",
            "|    100004   |   100967   | 0.16907577268008528 |  10  |\n",
            "|    100012   |   100640   | 0.36327289044857025 |  1   |\n",
            "|    100012   |   101066   |  0.3499162048101425 |  2   |\n",
            "|    100012   |   101130   | 0.34530210494995117 |  3   |\n",
            "|    100012   |   101096   | 0.34036746621131897 |  4   |\n",
            "|    100012   |   100904   |  0.3374290019273758 |  5   |\n",
            "|    100012   |   100627   | 0.33194364607334137 |  6   |\n",
            "|    100012   |   101015   |  0.3297561705112457 |  7   |\n",
            "|    100012   |   100956   | 0.32636570930480957 |  8   |\n",
            "|    100012   |   100917   |  0.3260432928800583 |  9   |\n",
            "|    100012   |   100825   | 0.31923671066761017 |  10  |\n",
            "+-------------+------------+---------------------+------+\n",
            "[3690 rows x 4 columns]\n",
            "\n"
          ],
          "name": "stdout"
        },
        {
          "output_type": "display_data",
          "data": {
            "text/html": [
              "<pre>Processing data in one pass using dense lookup tables.</pre>"
            ],
            "text/plain": [
              "Processing data in one pass using dense lookup tables."
            ]
          },
          "metadata": {
            "tags": []
          }
        },
        {
          "output_type": "display_data",
          "data": {
            "text/html": [
              "<pre>+-------------------------------------+------------------+-----------------+</pre>"
            ],
            "text/plain": [
              "+-------------------------------------+------------------+-----------------+"
            ]
          },
          "metadata": {
            "tags": []
          }
        },
        {
          "output_type": "display_data",
          "data": {
            "text/html": [
              "<pre>| Elapsed Time (Constructing Lookups) | Total % Complete | Items Processed |</pre>"
            ],
            "text/plain": [
              "| Elapsed Time (Constructing Lookups) | Total % Complete | Items Processed |"
            ]
          },
          "metadata": {
            "tags": []
          }
        },
        {
          "output_type": "display_data",
          "data": {
            "text/html": [
              "<pre>+-------------------------------------+------------------+-----------------+</pre>"
            ],
            "text/plain": [
              "+-------------------------------------+------------------+-----------------+"
            ]
          },
          "metadata": {
            "tags": []
          }
        },
        {
          "output_type": "display_data",
          "data": {
            "text/html": [
              "<pre>| 1.104ms                             | 1.25             | 3               |</pre>"
            ],
            "text/plain": [
              "| 1.104ms                             | 1.25             | 3               |"
            ]
          },
          "metadata": {
            "tags": []
          }
        },
        {
          "output_type": "display_data",
          "data": {
            "text/html": [
              "<pre>| 12.765ms                            | 100              | 297             |</pre>"
            ],
            "text/plain": [
              "| 12.765ms                            | 100              | 297             |"
            ]
          },
          "metadata": {
            "tags": []
          }
        },
        {
          "output_type": "display_data",
          "data": {
            "text/html": [
              "<pre>+-------------------------------------+------------------+-----------------+</pre>"
            ],
            "text/plain": [
              "+-------------------------------------+------------------+-----------------+"
            ]
          },
          "metadata": {
            "tags": []
          }
        },
        {
          "output_type": "display_data",
          "data": {
            "text/html": [
              "<pre>Finalizing lookup tables.</pre>"
            ],
            "text/plain": [
              "Finalizing lookup tables."
            ]
          },
          "metadata": {
            "tags": []
          }
        },
        {
          "output_type": "display_data",
          "data": {
            "text/html": [
              "<pre>Generating candidate set for working with new users.</pre>"
            ],
            "text/plain": [
              "Generating candidate set for working with new users."
            ]
          },
          "metadata": {
            "tags": []
          }
        },
        {
          "output_type": "display_data",
          "data": {
            "text/html": [
              "<pre>Finished training in 0.020818s</pre>"
            ],
            "text/plain": [
              "Finished training in 0.020818s"
            ]
          },
          "metadata": {
            "tags": []
          }
        }
      ]
    },
    {
      "cell_type": "markdown",
      "metadata": {
        "id": "r4WyWCuQY4_9"
      },
      "source": [
        "Using normalized purchase count"
      ]
    },
    {
      "cell_type": "code",
      "metadata": {
        "colab": {
          "base_uri": "https://localhost:8080/",
          "height": 1000
        },
        "id": "7LEkkcgaY5Zy",
        "outputId": "d375f62e-f148-4a44-9a14-1bf7fbfe4db3"
      },
      "source": [
        "name = 'cosine'\n",
        "target = 'scaled_purchase_freq'\n",
        "cos_norm = model(train_data_norm, name, user_id, item_id, target, users_to_recommend, n_rec, n_display)"
      ],
      "execution_count": null,
      "outputs": [
        {
          "output_type": "display_data",
          "data": {
            "text/html": [
              "<pre>Preparing data set.</pre>"
            ],
            "text/plain": [
              "Preparing data set."
            ]
          },
          "metadata": {
            "tags": []
          }
        },
        {
          "output_type": "display_data",
          "data": {
            "text/html": [
              "<pre>    Data has 4263 observations with 361 users and 266 items.</pre>"
            ],
            "text/plain": [
              "    Data has 4263 observations with 361 users and 266 items."
            ]
          },
          "metadata": {
            "tags": []
          }
        },
        {
          "output_type": "display_data",
          "data": {
            "text/html": [
              "<pre>    Data prepared in: 0.02462s</pre>"
            ],
            "text/plain": [
              "    Data prepared in: 0.02462s"
            ]
          },
          "metadata": {
            "tags": []
          }
        },
        {
          "output_type": "display_data",
          "data": {
            "text/html": [
              "<pre>Training model from provided data.</pre>"
            ],
            "text/plain": [
              "Training model from provided data."
            ]
          },
          "metadata": {
            "tags": []
          }
        },
        {
          "output_type": "display_data",
          "data": {
            "text/html": [
              "<pre>Gathering per-item and per-user statistics.</pre>"
            ],
            "text/plain": [
              "Gathering per-item and per-user statistics."
            ]
          },
          "metadata": {
            "tags": []
          }
        },
        {
          "output_type": "display_data",
          "data": {
            "text/html": [
              "<pre>+--------------------------------+------------+</pre>"
            ],
            "text/plain": [
              "+--------------------------------+------------+"
            ]
          },
          "metadata": {
            "tags": []
          }
        },
        {
          "output_type": "display_data",
          "data": {
            "text/html": [
              "<pre>| Elapsed Time (Item Statistics) | % Complete |</pre>"
            ],
            "text/plain": [
              "| Elapsed Time (Item Statistics) | % Complete |"
            ]
          },
          "metadata": {
            "tags": []
          }
        },
        {
          "output_type": "display_data",
          "data": {
            "text/html": [
              "<pre>+--------------------------------+------------+</pre>"
            ],
            "text/plain": [
              "+--------------------------------+------------+"
            ]
          },
          "metadata": {
            "tags": []
          }
        },
        {
          "output_type": "display_data",
          "data": {
            "text/html": [
              "<pre>| 2.88ms                         | 100        |</pre>"
            ],
            "text/plain": [
              "| 2.88ms                         | 100        |"
            ]
          },
          "metadata": {
            "tags": []
          }
        },
        {
          "output_type": "display_data",
          "data": {
            "text/html": [
              "<pre>+--------------------------------+------------+</pre>"
            ],
            "text/plain": [
              "+--------------------------------+------------+"
            ]
          },
          "metadata": {
            "tags": []
          }
        },
        {
          "output_type": "display_data",
          "data": {
            "text/html": [
              "<pre>Setting up lookup tables.</pre>"
            ],
            "text/plain": [
              "Setting up lookup tables."
            ]
          },
          "metadata": {
            "tags": []
          }
        },
        {
          "output_type": "display_data",
          "data": {
            "text/html": [
              "<pre>Processing data in one pass using dense lookup tables.</pre>"
            ],
            "text/plain": [
              "Processing data in one pass using dense lookup tables."
            ]
          },
          "metadata": {
            "tags": []
          }
        },
        {
          "output_type": "display_data",
          "data": {
            "text/html": [
              "<pre>+-------------------------------------+------------------+-----------------+</pre>"
            ],
            "text/plain": [
              "+-------------------------------------+------------------+-----------------+"
            ]
          },
          "metadata": {
            "tags": []
          }
        },
        {
          "output_type": "display_data",
          "data": {
            "text/html": [
              "<pre>| Elapsed Time (Constructing Lookups) | Total % Complete | Items Processed |</pre>"
            ],
            "text/plain": [
              "| Elapsed Time (Constructing Lookups) | Total % Complete | Items Processed |"
            ]
          },
          "metadata": {
            "tags": []
          }
        },
        {
          "output_type": "display_data",
          "data": {
            "text/html": [
              "<pre>+-------------------------------------+------------------+-----------------+</pre>"
            ],
            "text/plain": [
              "+-------------------------------------+------------------+-----------------+"
            ]
          },
          "metadata": {
            "tags": []
          }
        },
        {
          "output_type": "display_data",
          "data": {
            "text/html": [
              "<pre>| 6.767ms                             | 0                | 0               |</pre>"
            ],
            "text/plain": [
              "| 6.767ms                             | 0                | 0               |"
            ]
          },
          "metadata": {
            "tags": []
          }
        },
        {
          "output_type": "display_data",
          "data": {
            "text/html": [
              "<pre>| 14.371ms                            | 100              | 266             |</pre>"
            ],
            "text/plain": [
              "| 14.371ms                            | 100              | 266             |"
            ]
          },
          "metadata": {
            "tags": []
          }
        },
        {
          "output_type": "display_data",
          "data": {
            "text/html": [
              "<pre>+-------------------------------------+------------------+-----------------+</pre>"
            ],
            "text/plain": [
              "+-------------------------------------+------------------+-----------------+"
            ]
          },
          "metadata": {
            "tags": []
          }
        },
        {
          "output_type": "display_data",
          "data": {
            "text/html": [
              "<pre>Finalizing lookup tables.</pre>"
            ],
            "text/plain": [
              "Finalizing lookup tables."
            ]
          },
          "metadata": {
            "tags": []
          }
        },
        {
          "output_type": "display_data",
          "data": {
            "text/html": [
              "<pre>Generating candidate set for working with new users.</pre>"
            ],
            "text/plain": [
              "Generating candidate set for working with new users."
            ]
          },
          "metadata": {
            "tags": []
          }
        },
        {
          "output_type": "stream",
          "text": [
            "+-------------+------------+----------------------+------+\n",
            "| customer_id | id_product |        score         | rank |\n",
            "+-------------+------------+----------------------+------+\n",
            "|    100003   |   101181   | 0.03001156250635783  |  1   |\n",
            "|    100003   |   100701   | 0.029650616645812988 |  2   |\n",
            "|    100003   |   101163   | 0.029622324307759604 |  3   |\n",
            "|    100003   |   101150   | 0.029281842708587646 |  4   |\n",
            "|    100003   |   100962   | 0.02909404436747233  |  5   |\n",
            "|    100003   |   100851   | 0.028416721026102702 |  6   |\n",
            "|    100003   |   101000   | 0.02682200272878011  |  7   |\n",
            "|    100003   |   101051   | 0.025971639156341552 |  8   |\n",
            "|    100003   |   101178   | 0.025065751870473225 |  9   |\n",
            "|    100003   |   101175   | 0.023204068342844646 |  10  |\n",
            "|    100004   |   101163   | 0.042652266025543215 |  1   |\n",
            "|    100004   |   101148   | 0.04027101755142212  |  2   |\n",
            "|    100004   |   101137   | 0.03734103918075562  |  3   |\n",
            "|    100004   |   101000   | 0.03688416957855225  |  4   |\n",
            "|    100004   |   100543   | 0.036699059009552004 |  5   |\n",
            "|    100004   |   100753   | 0.03665383815765381  |  6   |\n",
            "|    100004   |   101038   | 0.03565921306610107  |  7   |\n",
            "|    100004   |   100288   | 0.035234379768371585 |  8   |\n",
            "|    100004   |   101130   | 0.03499197006225586  |  9   |\n",
            "|    100004   |   101099   | 0.034376981258392336 |  10  |\n",
            "|    100012   |   101175   | 0.043613284826278687 |  1   |\n",
            "|    100012   |   101150   | 0.04036197066307068  |  2   |\n",
            "|    100012   |   100701   | 0.039767682552337646 |  3   |\n",
            "|    100012   |   101181   | 0.039564043283462524 |  4   |\n",
            "|    100012   |   100851   | 0.03946349024772644  |  5   |\n",
            "|    100012   |   100962   |  0.0381961464881897  |  6   |\n",
            "|    100012   |   100877   | 0.036671578884124756 |  7   |\n",
            "|    100012   |   101061   | 0.03571289777755737  |  8   |\n",
            "|    100012   |   100915   | 0.034889400005340576 |  9   |\n",
            "|    100012   |   101190   | 0.03419879078865051  |  10  |\n",
            "+-------------+------------+----------------------+------+\n",
            "[3690 rows x 4 columns]\n",
            "\n"
          ],
          "name": "stdout"
        },
        {
          "output_type": "display_data",
          "data": {
            "text/html": [
              "<pre>Finished training in 0.019371s</pre>"
            ],
            "text/plain": [
              "Finished training in 0.019371s"
            ]
          },
          "metadata": {
            "tags": []
          }
        }
      ]
    },
    {
      "cell_type": "markdown",
      "metadata": {
        "id": "VrQmbombY_V9"
      },
      "source": [
        "**Pearson similarity**"
      ]
    },
    {
      "cell_type": "code",
      "metadata": {
        "colab": {
          "base_uri": "https://localhost:8080/",
          "height": 1000
        },
        "id": "yoCmO6rCY_9a",
        "outputId": "d0a85cb2-1593-4090-db56-0f708696f385"
      },
      "source": [
        "# these variables will change accordingly\n",
        "name = 'pearson'\n",
        "target = 'qty'\n",
        "pear = model(train_data, name, user_id, item_id, target, users_to_recommend, n_rec, n_display)"
      ],
      "execution_count": null,
      "outputs": [
        {
          "output_type": "display_data",
          "data": {
            "text/html": [
              "<pre>Preparing data set.</pre>"
            ],
            "text/plain": [
              "Preparing data set."
            ]
          },
          "metadata": {
            "tags": []
          }
        },
        {
          "output_type": "display_data",
          "data": {
            "text/html": [
              "<pre>    Data has 8760 observations with 361 users and 292 items.</pre>"
            ],
            "text/plain": [
              "    Data has 8760 observations with 361 users and 292 items."
            ]
          },
          "metadata": {
            "tags": []
          }
        },
        {
          "output_type": "display_data",
          "data": {
            "text/html": [
              "<pre>    Data prepared in: 0.023045s</pre>"
            ],
            "text/plain": [
              "    Data prepared in: 0.023045s"
            ]
          },
          "metadata": {
            "tags": []
          }
        },
        {
          "output_type": "display_data",
          "data": {
            "text/html": [
              "<pre>Training model from provided data.</pre>"
            ],
            "text/plain": [
              "Training model from provided data."
            ]
          },
          "metadata": {
            "tags": []
          }
        },
        {
          "output_type": "display_data",
          "data": {
            "text/html": [
              "<pre>Gathering per-item and per-user statistics.</pre>"
            ],
            "text/plain": [
              "Gathering per-item and per-user statistics."
            ]
          },
          "metadata": {
            "tags": []
          }
        },
        {
          "output_type": "display_data",
          "data": {
            "text/html": [
              "<pre>+--------------------------------+------------+</pre>"
            ],
            "text/plain": [
              "+--------------------------------+------------+"
            ]
          },
          "metadata": {
            "tags": []
          }
        },
        {
          "output_type": "display_data",
          "data": {
            "text/html": [
              "<pre>| Elapsed Time (Item Statistics) | % Complete |</pre>"
            ],
            "text/plain": [
              "| Elapsed Time (Item Statistics) | % Complete |"
            ]
          },
          "metadata": {
            "tags": []
          }
        },
        {
          "output_type": "display_data",
          "data": {
            "text/html": [
              "<pre>+--------------------------------+------------+</pre>"
            ],
            "text/plain": [
              "+--------------------------------+------------+"
            ]
          },
          "metadata": {
            "tags": []
          }
        },
        {
          "output_type": "display_data",
          "data": {
            "text/html": [
              "<pre>| 1.145ms                        | 100        |</pre>"
            ],
            "text/plain": [
              "| 1.145ms                        | 100        |"
            ]
          },
          "metadata": {
            "tags": []
          }
        },
        {
          "output_type": "display_data",
          "data": {
            "text/html": [
              "<pre>+--------------------------------+------------+</pre>"
            ],
            "text/plain": [
              "+--------------------------------+------------+"
            ]
          },
          "metadata": {
            "tags": []
          }
        },
        {
          "output_type": "display_data",
          "data": {
            "text/html": [
              "<pre>Setting up lookup tables.</pre>"
            ],
            "text/plain": [
              "Setting up lookup tables."
            ]
          },
          "metadata": {
            "tags": []
          }
        },
        {
          "output_type": "display_data",
          "data": {
            "text/html": [
              "<pre>Processing data in one pass using dense lookup tables.</pre>"
            ],
            "text/plain": [
              "Processing data in one pass using dense lookup tables."
            ]
          },
          "metadata": {
            "tags": []
          }
        },
        {
          "output_type": "display_data",
          "data": {
            "text/html": [
              "<pre>+-------------------------------------+------------------+-----------------+</pre>"
            ],
            "text/plain": [
              "+-------------------------------------+------------------+-----------------+"
            ]
          },
          "metadata": {
            "tags": []
          }
        },
        {
          "output_type": "display_data",
          "data": {
            "text/html": [
              "<pre>| Elapsed Time (Constructing Lookups) | Total % Complete | Items Processed |</pre>"
            ],
            "text/plain": [
              "| Elapsed Time (Constructing Lookups) | Total % Complete | Items Processed |"
            ]
          },
          "metadata": {
            "tags": []
          }
        },
        {
          "output_type": "display_data",
          "data": {
            "text/html": [
              "<pre>+-------------------------------------+------------------+-----------------+</pre>"
            ],
            "text/plain": [
              "+-------------------------------------+------------------+-----------------+"
            ]
          },
          "metadata": {
            "tags": []
          }
        },
        {
          "output_type": "stream",
          "text": [
            "+-------------+------------+--------------------+------+\n",
            "| customer_id | id_product |       score        | rank |\n",
            "+-------------+------------+--------------------+------+\n",
            "|    100003   |   101196   | 533.3333333333334  |  1   |\n",
            "|    100003   |   100288   | 363.07734037221354 |  2   |\n",
            "|    100003   |   101066   | 128.5613741930665  |  3   |\n",
            "|    100003   |   101181   | 125.43587129935622 |  4   |\n",
            "|    100003   |   101191   | 122.72727272727273 |  5   |\n",
            "|    100003   |   101091   | 113.96962807806474 |  6   |\n",
            "|    100003   |   101190   | 106.68336787955329 |  7   |\n",
            "|    100003   |   100953   | 106.17833162043456 |  8   |\n",
            "|    100003   |   100691   | 104.22294157235461 |  9   |\n",
            "|    100003   |   101180   | 102.85275383027536 |  10  |\n",
            "|    100004   |   101196   | 533.3333333333334  |  1   |\n",
            "|    100004   |   100288   | 362.94489425525944 |  2   |\n",
            "|    100004   |   101076   | 132.03479866559815 |  3   |\n",
            "|    100004   |   101066   | 127.56897001254971 |  4   |\n",
            "|    100004   |   101181   | 125.84414485891661 |  5   |\n",
            "|    100004   |   101191   | 122.72286186435007 |  6   |\n",
            "|    100004   |   100871   | 121.30642611690232 |  7   |\n",
            "|    100004   |   101091   | 114.37531827546302 |  8   |\n",
            "|    100004   |   101190   | 107.19948626395428 |  9   |\n",
            "|    100004   |   100953   | 105.42540908126993 |  10  |\n",
            "|    100012   |   101196   | 533.3333333333334  |  1   |\n",
            "|    100012   |   100288   | 363.1867773275165  |  2   |\n",
            "|    100012   |   101076   | 132.07865646258503 |  3   |\n",
            "|    100012   |   101066   | 126.34026439675108 |  4   |\n",
            "|    100012   |   100871   | 122.94221321948238 |  5   |\n",
            "|    100012   |   101191   | 122.72727272727273 |  6   |\n",
            "|    100012   |   101181   | 122.66296872496605 |  7   |\n",
            "|    100012   |   101091   | 112.63878230111939 |  8   |\n",
            "|    100012   |   101190   | 108.2035748674111  |  9   |\n",
            "|    100012   |   100953   | 103.36451044250492 |  10  |\n",
            "+-------------+------------+--------------------+------+\n",
            "[3690 rows x 4 columns]\n",
            "\n"
          ],
          "name": "stdout"
        },
        {
          "output_type": "display_data",
          "data": {
            "text/html": [
              "<pre>| 2.054ms                             | 6.25             | 18              |</pre>"
            ],
            "text/plain": [
              "| 2.054ms                             | 6.25             | 18              |"
            ]
          },
          "metadata": {
            "tags": []
          }
        },
        {
          "output_type": "display_data",
          "data": {
            "text/html": [
              "<pre>| 16.678ms                            | 100              | 292             |</pre>"
            ],
            "text/plain": [
              "| 16.678ms                            | 100              | 292             |"
            ]
          },
          "metadata": {
            "tags": []
          }
        },
        {
          "output_type": "display_data",
          "data": {
            "text/html": [
              "<pre>+-------------------------------------+------------------+-----------------+</pre>"
            ],
            "text/plain": [
              "+-------------------------------------+------------------+-----------------+"
            ]
          },
          "metadata": {
            "tags": []
          }
        },
        {
          "output_type": "display_data",
          "data": {
            "text/html": [
              "<pre>Finalizing lookup tables.</pre>"
            ],
            "text/plain": [
              "Finalizing lookup tables."
            ]
          },
          "metadata": {
            "tags": []
          }
        },
        {
          "output_type": "display_data",
          "data": {
            "text/html": [
              "<pre>Generating candidate set for working with new users.</pre>"
            ],
            "text/plain": [
              "Generating candidate set for working with new users."
            ]
          },
          "metadata": {
            "tags": []
          }
        },
        {
          "output_type": "display_data",
          "data": {
            "text/html": [
              "<pre>Finished training in 0.022123s</pre>"
            ],
            "text/plain": [
              "Finished training in 0.022123s"
            ]
          },
          "metadata": {
            "tags": []
          }
        }
      ]
    },
    {
      "cell_type": "markdown",
      "metadata": {
        "id": "b-DiwV2sZJ_6"
      },
      "source": [
        "Using purchase dummy"
      ]
    },
    {
      "cell_type": "code",
      "metadata": {
        "colab": {
          "base_uri": "https://localhost:8080/",
          "height": 1000
        },
        "id": "m4dC76o8ZE3T",
        "outputId": "64873481-7a4a-4636-d9bc-9f63dbacbb4c"
      },
      "source": [
        "# these variables will change accordingly\n",
        "name = 'pearson'\n",
        "target = 'purchase_dummy'\n",
        "pear_dummy = model(train_data_dummy, name, user_id, item_id, target, users_to_recommend, n_rec, n_display)"
      ],
      "execution_count": null,
      "outputs": [
        {
          "output_type": "display_data",
          "data": {
            "text/html": [
              "<pre>Warning: Ignoring columns qty;</pre>"
            ],
            "text/plain": [
              "Warning: Ignoring columns qty;"
            ]
          },
          "metadata": {
            "tags": []
          }
        },
        {
          "output_type": "display_data",
          "data": {
            "text/html": [
              "<pre>    To use these columns in scoring predictions, use a model that allows the use of additional features.</pre>"
            ],
            "text/plain": [
              "    To use these columns in scoring predictions, use a model that allows the use of additional features."
            ]
          },
          "metadata": {
            "tags": []
          }
        },
        {
          "output_type": "display_data",
          "data": {
            "text/html": [
              "<pre>Preparing data set.</pre>"
            ],
            "text/plain": [
              "Preparing data set."
            ]
          },
          "metadata": {
            "tags": []
          }
        },
        {
          "output_type": "display_data",
          "data": {
            "text/html": [
              "<pre>    Data has 8760 observations with 365 users and 297 items.</pre>"
            ],
            "text/plain": [
              "    Data has 8760 observations with 365 users and 297 items."
            ]
          },
          "metadata": {
            "tags": []
          }
        },
        {
          "output_type": "display_data",
          "data": {
            "text/html": [
              "<pre>    Data prepared in: 0.033434s</pre>"
            ],
            "text/plain": [
              "    Data prepared in: 0.033434s"
            ]
          },
          "metadata": {
            "tags": []
          }
        },
        {
          "output_type": "display_data",
          "data": {
            "text/html": [
              "<pre>Training model from provided data.</pre>"
            ],
            "text/plain": [
              "Training model from provided data."
            ]
          },
          "metadata": {
            "tags": []
          }
        },
        {
          "output_type": "display_data",
          "data": {
            "text/html": [
              "<pre>Gathering per-item and per-user statistics.</pre>"
            ],
            "text/plain": [
              "Gathering per-item and per-user statistics."
            ]
          },
          "metadata": {
            "tags": []
          }
        },
        {
          "output_type": "display_data",
          "data": {
            "text/html": [
              "<pre>+--------------------------------+------------+</pre>"
            ],
            "text/plain": [
              "+--------------------------------+------------+"
            ]
          },
          "metadata": {
            "tags": []
          }
        },
        {
          "output_type": "display_data",
          "data": {
            "text/html": [
              "<pre>| Elapsed Time (Item Statistics) | % Complete |</pre>"
            ],
            "text/plain": [
              "| Elapsed Time (Item Statistics) | % Complete |"
            ]
          },
          "metadata": {
            "tags": []
          }
        },
        {
          "output_type": "display_data",
          "data": {
            "text/html": [
              "<pre>+--------------------------------+------------+</pre>"
            ],
            "text/plain": [
              "+--------------------------------+------------+"
            ]
          },
          "metadata": {
            "tags": []
          }
        },
        {
          "output_type": "display_data",
          "data": {
            "text/html": [
              "<pre>| 4.867ms                        | 100        |</pre>"
            ],
            "text/plain": [
              "| 4.867ms                        | 100        |"
            ]
          },
          "metadata": {
            "tags": []
          }
        },
        {
          "output_type": "display_data",
          "data": {
            "text/html": [
              "<pre>+--------------------------------+------------+</pre>"
            ],
            "text/plain": [
              "+--------------------------------+------------+"
            ]
          },
          "metadata": {
            "tags": []
          }
        },
        {
          "output_type": "display_data",
          "data": {
            "text/html": [
              "<pre>Setting up lookup tables.</pre>"
            ],
            "text/plain": [
              "Setting up lookup tables."
            ]
          },
          "metadata": {
            "tags": []
          }
        },
        {
          "output_type": "display_data",
          "data": {
            "text/html": [
              "<pre>Processing data in one pass using dense lookup tables.</pre>"
            ],
            "text/plain": [
              "Processing data in one pass using dense lookup tables."
            ]
          },
          "metadata": {
            "tags": []
          }
        },
        {
          "output_type": "display_data",
          "data": {
            "text/html": [
              "<pre>+-------------------------------------+------------------+-----------------+</pre>"
            ],
            "text/plain": [
              "+-------------------------------------+------------------+-----------------+"
            ]
          },
          "metadata": {
            "tags": []
          }
        },
        {
          "output_type": "display_data",
          "data": {
            "text/html": [
              "<pre>| Elapsed Time (Constructing Lookups) | Total % Complete | Items Processed |</pre>"
            ],
            "text/plain": [
              "| Elapsed Time (Constructing Lookups) | Total % Complete | Items Processed |"
            ]
          },
          "metadata": {
            "tags": []
          }
        },
        {
          "output_type": "display_data",
          "data": {
            "text/html": [
              "<pre>+-------------------------------------+------------------+-----------------+</pre>"
            ],
            "text/plain": [
              "+-------------------------------------+------------------+-----------------+"
            ]
          },
          "metadata": {
            "tags": []
          }
        },
        {
          "output_type": "display_data",
          "data": {
            "text/html": [
              "<pre>| 6.166ms                             | 1.25             | 3               |</pre>"
            ],
            "text/plain": [
              "| 6.166ms                             | 1.25             | 3               |"
            ]
          },
          "metadata": {
            "tags": []
          }
        },
        {
          "output_type": "display_data",
          "data": {
            "text/html": [
              "<pre>| 32.431ms                            | 100              | 297             |</pre>"
            ],
            "text/plain": [
              "| 32.431ms                            | 100              | 297             |"
            ]
          },
          "metadata": {
            "tags": []
          }
        },
        {
          "output_type": "display_data",
          "data": {
            "text/html": [
              "<pre>+-------------------------------------+------------------+-----------------+</pre>"
            ],
            "text/plain": [
              "+-------------------------------------+------------------+-----------------+"
            ]
          },
          "metadata": {
            "tags": []
          }
        },
        {
          "output_type": "display_data",
          "data": {
            "text/html": [
              "<pre>Finalizing lookup tables.</pre>"
            ],
            "text/plain": [
              "Finalizing lookup tables."
            ]
          },
          "metadata": {
            "tags": []
          }
        },
        {
          "output_type": "stream",
          "text": [
            "+-------------+------------+-------+------+\n",
            "| customer_id | id_product | score | rank |\n",
            "+-------------+------------+-------+------+\n",
            "|    100003   |   101151   |  0.0  |  1   |\n",
            "|    100003   |   100877   |  0.0  |  2   |\n",
            "|    100003   |   101086   |  0.0  |  3   |\n",
            "|    100003   |   101017   |  0.0  |  4   |\n",
            "|    100003   |   100891   |  0.0  |  5   |\n",
            "|    100003   |   100627   |  0.0  |  6   |\n",
            "|    100003   |   100348   |  0.0  |  7   |\n",
            "|    100003   |   101130   |  0.0  |  8   |\n",
            "|    100003   |   100915   |  0.0  |  9   |\n",
            "|    100003   |   101066   |  0.0  |  10  |\n",
            "|    100004   |   101151   |  0.0  |  1   |\n",
            "|    100004   |   100877   |  0.0  |  2   |\n",
            "|    100004   |   101086   |  0.0  |  3   |\n",
            "|    100004   |   101017   |  0.0  |  4   |\n",
            "|    100004   |   100891   |  0.0  |  5   |\n",
            "|    100004   |   100627   |  0.0  |  6   |\n",
            "|    100004   |   100348   |  0.0  |  7   |\n",
            "|    100004   |   101130   |  0.0  |  8   |\n",
            "|    100004   |   100915   |  0.0  |  9   |\n",
            "|    100004   |   101066   |  0.0  |  10  |\n",
            "|    100012   |   101133   |  0.0  |  1   |\n",
            "|    100012   |   101151   |  0.0  |  2   |\n",
            "|    100012   |   101086   |  0.0  |  3   |\n",
            "|    100012   |   101017   |  0.0  |  4   |\n",
            "|    100012   |   100891   |  0.0  |  5   |\n",
            "|    100012   |   100627   |  0.0  |  6   |\n",
            "|    100012   |   100348   |  0.0  |  7   |\n",
            "|    100012   |   101130   |  0.0  |  8   |\n",
            "|    100012   |   100915   |  0.0  |  9   |\n",
            "|    100012   |   101066   |  0.0  |  10  |\n",
            "+-------------+------------+-------+------+\n",
            "[3690 rows x 4 columns]\n"
          ],
          "name": "stdout"
        },
        {
          "output_type": "display_data",
          "data": {
            "text/html": [
              "<pre>Generating candidate set for working with new users.</pre>"
            ],
            "text/plain": [
              "Generating candidate set for working with new users."
            ]
          },
          "metadata": {
            "tags": []
          }
        },
        {
          "output_type": "display_data",
          "data": {
            "text/html": [
              "<pre>Finished training in 0.037229s</pre>"
            ],
            "text/plain": [
              "Finished training in 0.037229s"
            ]
          },
          "metadata": {
            "tags": []
          }
        },
        {
          "output_type": "stream",
          "text": [
            "\n"
          ],
          "name": "stdout"
        }
      ]
    },
    {
      "cell_type": "markdown",
      "metadata": {
        "id": "tpcKTlJMZMxo"
      },
      "source": [
        "Using normalized purchase count"
      ]
    },
    {
      "cell_type": "code",
      "metadata": {
        "colab": {
          "base_uri": "https://localhost:8080/",
          "height": 1000
        },
        "id": "GeP4JzhPZOpr",
        "outputId": "e74b0e42-3cf6-4442-ee35-9f75a51b6767"
      },
      "source": [
        "name = 'pearson'\n",
        "target = 'scaled_purchase_freq'\n",
        "pear_norm = model(train_data_norm, name, user_id, item_id, target, users_to_recommend, n_rec, n_display)"
      ],
      "execution_count": null,
      "outputs": [
        {
          "output_type": "display_data",
          "data": {
            "text/html": [
              "<pre>Preparing data set.</pre>"
            ],
            "text/plain": [
              "Preparing data set."
            ]
          },
          "metadata": {
            "tags": []
          }
        },
        {
          "output_type": "display_data",
          "data": {
            "text/html": [
              "<pre>    Data has 4263 observations with 361 users and 266 items.</pre>"
            ],
            "text/plain": [
              "    Data has 4263 observations with 361 users and 266 items."
            ]
          },
          "metadata": {
            "tags": []
          }
        },
        {
          "output_type": "display_data",
          "data": {
            "text/html": [
              "<pre>    Data prepared in: 0.01598s</pre>"
            ],
            "text/plain": [
              "    Data prepared in: 0.01598s"
            ]
          },
          "metadata": {
            "tags": []
          }
        },
        {
          "output_type": "display_data",
          "data": {
            "text/html": [
              "<pre>Training model from provided data.</pre>"
            ],
            "text/plain": [
              "Training model from provided data."
            ]
          },
          "metadata": {
            "tags": []
          }
        },
        {
          "output_type": "display_data",
          "data": {
            "text/html": [
              "<pre>Gathering per-item and per-user statistics.</pre>"
            ],
            "text/plain": [
              "Gathering per-item and per-user statistics."
            ]
          },
          "metadata": {
            "tags": []
          }
        },
        {
          "output_type": "display_data",
          "data": {
            "text/html": [
              "<pre>+--------------------------------+------------+</pre>"
            ],
            "text/plain": [
              "+--------------------------------+------------+"
            ]
          },
          "metadata": {
            "tags": []
          }
        },
        {
          "output_type": "display_data",
          "data": {
            "text/html": [
              "<pre>| Elapsed Time (Item Statistics) | % Complete |</pre>"
            ],
            "text/plain": [
              "| Elapsed Time (Item Statistics) | % Complete |"
            ]
          },
          "metadata": {
            "tags": []
          }
        },
        {
          "output_type": "display_data",
          "data": {
            "text/html": [
              "<pre>+--------------------------------+------------+</pre>"
            ],
            "text/plain": [
              "+--------------------------------+------------+"
            ]
          },
          "metadata": {
            "tags": []
          }
        },
        {
          "output_type": "display_data",
          "data": {
            "text/html": [
              "<pre>| 4.89ms                         | 100        |</pre>"
            ],
            "text/plain": [
              "| 4.89ms                         | 100        |"
            ]
          },
          "metadata": {
            "tags": []
          }
        },
        {
          "output_type": "display_data",
          "data": {
            "text/html": [
              "<pre>+--------------------------------+------------+</pre>"
            ],
            "text/plain": [
              "+--------------------------------+------------+"
            ]
          },
          "metadata": {
            "tags": []
          }
        },
        {
          "output_type": "display_data",
          "data": {
            "text/html": [
              "<pre>Setting up lookup tables.</pre>"
            ],
            "text/plain": [
              "Setting up lookup tables."
            ]
          },
          "metadata": {
            "tags": []
          }
        },
        {
          "output_type": "display_data",
          "data": {
            "text/html": [
              "<pre>Processing data in one pass using dense lookup tables.</pre>"
            ],
            "text/plain": [
              "Processing data in one pass using dense lookup tables."
            ]
          },
          "metadata": {
            "tags": []
          }
        },
        {
          "output_type": "display_data",
          "data": {
            "text/html": [
              "<pre>+-------------------------------------+------------------+-----------------+</pre>"
            ],
            "text/plain": [
              "+-------------------------------------+------------------+-----------------+"
            ]
          },
          "metadata": {
            "tags": []
          }
        },
        {
          "output_type": "display_data",
          "data": {
            "text/html": [
              "<pre>| Elapsed Time (Constructing Lookups) | Total % Complete | Items Processed |</pre>"
            ],
            "text/plain": [
              "| Elapsed Time (Constructing Lookups) | Total % Complete | Items Processed |"
            ]
          },
          "metadata": {
            "tags": []
          }
        },
        {
          "output_type": "display_data",
          "data": {
            "text/html": [
              "<pre>+-------------------------------------+------------------+-----------------+</pre>"
            ],
            "text/plain": [
              "+-------------------------------------+------------------+-----------------+"
            ]
          },
          "metadata": {
            "tags": []
          }
        },
        {
          "output_type": "display_data",
          "data": {
            "text/html": [
              "<pre>| 6.486ms                             | 0                | 0               |</pre>"
            ],
            "text/plain": [
              "| 6.486ms                             | 0                | 0               |"
            ]
          },
          "metadata": {
            "tags": []
          }
        },
        {
          "output_type": "display_data",
          "data": {
            "text/html": [
              "<pre>| 18.476ms                            | 100              | 266             |</pre>"
            ],
            "text/plain": [
              "| 18.476ms                            | 100              | 266             |"
            ]
          },
          "metadata": {
            "tags": []
          }
        },
        {
          "output_type": "display_data",
          "data": {
            "text/html": [
              "<pre>+-------------------------------------+------------------+-----------------+</pre>"
            ],
            "text/plain": [
              "+-------------------------------------+------------------+-----------------+"
            ]
          },
          "metadata": {
            "tags": []
          }
        },
        {
          "output_type": "display_data",
          "data": {
            "text/html": [
              "<pre>Finalizing lookup tables.</pre>"
            ],
            "text/plain": [
              "Finalizing lookup tables."
            ]
          },
          "metadata": {
            "tags": []
          }
        },
        {
          "output_type": "display_data",
          "data": {
            "text/html": [
              "<pre>Generating candidate set for working with new users.</pre>"
            ],
            "text/plain": [
              "Generating candidate set for working with new users."
            ]
          },
          "metadata": {
            "tags": []
          }
        },
        {
          "output_type": "display_data",
          "data": {
            "text/html": [
              "<pre>Finished training in 0.020218s</pre>"
            ],
            "text/plain": [
              "Finished training in 0.020218s"
            ]
          },
          "metadata": {
            "tags": []
          }
        },
        {
          "output_type": "stream",
          "text": [
            "+-------------+------------+--------------------+------+\n",
            "| customer_id | id_product |       score        | rank |\n",
            "+-------------+------------+--------------------+------+\n",
            "|    100003   |   101181   |        1.0         |  1   |\n",
            "|    100003   |   100571   |        1.0         |  2   |\n",
            "|    100003   |   101043   | 0.8467445490445643 |  3   |\n",
            "|    100003   |   100032   | 0.6615564536066091 |  4   |\n",
            "|    100003   |   100914   | 0.6526315789473685 |  5   |\n",
            "|    100003   |   100891   | 0.6513769037889051 |  6   |\n",
            "|    100003   |   100077   | 0.6245579481124878 |  7   |\n",
            "|    100003   |   101170   | 0.6073728981288338 |  8   |\n",
            "|    100003   |   100122   | 0.6047197212407619 |  9   |\n",
            "|    100003   |   100112   | 0.5941734417344174 |  10  |\n",
            "|    100004   |   101181   |        1.0         |  1   |\n",
            "|    100004   |   100571   |        1.0         |  2   |\n",
            "|    100004   |   101043   | 0.8467678918129156 |  3   |\n",
            "|    100004   |   100032   | 0.6599570185950633 |  4   |\n",
            "|    100004   |   100891   | 0.6547657536831109 |  5   |\n",
            "|    100004   |   100914   | 0.6531890707266959 |  6   |\n",
            "|    100004   |   101170   | 0.6116307765913073 |  7   |\n",
            "|    100004   |   100122   | 0.6043940859665106 |  8   |\n",
            "|    100004   |   100862   | 0.5994987851626064 |  9   |\n",
            "|    100004   |   100112   | 0.5941734417344174 |  10  |\n",
            "|    100012   |   101181   |        1.0         |  1   |\n",
            "|    100012   |   100571   |        1.0         |  2   |\n",
            "|    100012   |   101043   | 0.8471074380165289 |  3   |\n",
            "|    100012   |   100032   | 0.6629213483146067 |  4   |\n",
            "|    100012   |   100891   | 0.6527395295467583 |  5   |\n",
            "|    100012   |   100914   | 0.6526315789473685 |  6   |\n",
            "|    100012   |   100077   |       0.625        |  7   |\n",
            "|    100012   |   101170   | 0.607962213225371  |  8   |\n",
            "|    100012   |   100122   | 0.6049382716049383 |  9   |\n",
            "|    100012   |   100112   | 0.5941734417344174 |  10  |\n",
            "+-------------+------------+--------------------+------+\n",
            "[3690 rows x 4 columns]\n",
            "\n"
          ],
          "name": "stdout"
        }
      ]
    },
    {
      "cell_type": "markdown",
      "metadata": {
        "id": "Q8YbgbpIZS5p"
      },
      "source": [
        "**Model Evaluation**"
      ]
    },
    {
      "cell_type": "code",
      "metadata": {
        "id": "UB8Sx-wHZTjk"
      },
      "source": [
        "# create initial callable variables\n",
        "\n",
        "models_w_counts = [popularity_model, cos, pear]\n",
        "models_w_dummy = [pop_dummy, cos_dummy, pear_dummy]\n",
        "models_w_norm = [pop_norm, cos_norm, pear_norm]\n",
        "\n",
        "names_w_counts = ['Popularity Model on Purchase Counts', 'Cosine Similarity on Purchase Counts', 'Pearson Similarity on Purchase Counts']\n",
        "names_w_dummy = ['Popularity Model on Purchase Dummy', 'Cosine Similarity on Purchase Dummy', 'Pearson Similarity on Purchase Dummy']\n",
        "names_w_norm = ['Popularity Model on Scaled Purchase Counts', 'Cosine Similarity on Scaled Purchase Counts', 'Pearson Similarity on Scaled Purchase Counts']"
      ],
      "execution_count": null,
      "outputs": []
    },
    {
      "cell_type": "markdown",
      "metadata": {
        "id": "ridGtF7fZ2h4"
      },
      "source": [
        "\n",
        "Models on purchase counts"
      ]
    },
    {
      "cell_type": "code",
      "metadata": {
        "colab": {
          "base_uri": "https://localhost:8080/"
        },
        "id": "NO_33JxaZZWJ",
        "outputId": "aac076bc-fc2d-4527-d606-97ff3016d3d0"
      },
      "source": [
        "eval_counts = tc.recommender.util.compare_models(test_data, models_w_counts, model_names=names_w_counts)"
      ],
      "execution_count": null,
      "outputs": [
        {
          "output_type": "stream",
          "text": [
            "PROGRESS: Evaluate model Popularity Model on Purchase Counts\n",
            "\n",
            "Precision and recall summary statistics by cutoff\n",
            "+--------+----------------------+-----------------------+\n",
            "| cutoff |    mean_precision    |      mean_recall      |\n",
            "+--------+----------------------+-----------------------+\n",
            "|   1    |         0.0          |          0.0          |\n",
            "|   2    | 0.003571428571428572 | 0.0005521048999309868 |\n",
            "|   3    | 0.008333333333333331 |  0.010968771566597655 |\n",
            "|   4    | 0.006250000000000001 |  0.010968771566597655 |\n",
            "|   5    | 0.013571428571428576 |  0.024988941037894945 |\n",
            "|   6    | 0.013095238095238092 |   0.0258055962023762  |\n",
            "|   7    | 0.011224489795918365 |   0.0258055962023762  |\n",
            "|   8    | 0.010714285714285716 |  0.02665593633843061  |\n",
            "|   9    | 0.010317460317460319 |  0.02745950776700205  |\n",
            "|   10   | 0.011071428571428578 |  0.028562968482531727 |\n",
            "+--------+----------------------+-----------------------+\n",
            "[10 rows x 3 columns]\n",
            "\n",
            "\n",
            "Overall RMSE: 96.32241608221572\n",
            "\n",
            "Per User RMSE (best)\n",
            "+-------------+-------------------+-------+\n",
            "| customer_id |        rmse       | count |\n",
            "+-------------+-------------------+-------+\n",
            "|    100083   | 0.068965517241379 |   1   |\n",
            "+-------------+-------------------+-------+\n",
            "[1 rows x 3 columns]\n",
            "\n",
            "\n",
            "Per User RMSE (worst)\n",
            "+-------------+-------+-------+\n",
            "| customer_id |  rmse | count |\n",
            "+-------------+-------+-------+\n",
            "|    100408   | 904.0 |   1   |\n",
            "+-------------+-------+-------+\n",
            "[1 rows x 3 columns]\n",
            "\n",
            "\n",
            "Per Item RMSE (best)\n",
            "+------------+------+-------+\n",
            "| id_product | rmse | count |\n",
            "+------------+------+-------+\n",
            "|   101034   | 0.0  |   1   |\n",
            "+------------+------+-------+\n",
            "[1 rows x 3 columns]\n",
            "\n",
            "\n",
            "Per Item RMSE (worst)\n",
            "+------------+-------------------+-------+\n",
            "| id_product |        rmse       | count |\n",
            "+------------+-------------------+-------+\n",
            "|   100288   | 986.1528034452218 |   10  |\n",
            "+------------+-------------------+-------+\n",
            "[1 rows x 3 columns]\n",
            "\n",
            "PROGRESS: Evaluate model Cosine Similarity on Purchase Counts\n",
            "\n",
            "Precision and recall summary statistics by cutoff\n",
            "+--------+----------------------+----------------------+\n",
            "| cutoff |    mean_precision    |     mean_recall      |\n",
            "+--------+----------------------+----------------------+\n",
            "|   1    | 0.057142857142857155 | 0.009029553545127748 |\n",
            "|   2    | 0.03571428571428571  | 0.013678413088945273 |\n",
            "|   3    | 0.030952380952380964 |  0.015920427710886   |\n",
            "|   4    | 0.02857142857142857  |  0.0231922531077114  |\n",
            "|   5    | 0.02714285714285715  | 0.025982042683215266 |\n",
            "|   6    | 0.025595238095238105 | 0.03000636980536847  |\n",
            "|   7    | 0.027551020408163266 | 0.036354885707455806 |\n",
            "|   8    | 0.027678571428571427 | 0.04122787977687843  |\n",
            "|   9    | 0.025793650793650775 | 0.04218712886112753  |\n",
            "|   10   | 0.02535714285714285  | 0.04527742218848982  |\n",
            "+--------+----------------------+----------------------+\n",
            "[10 rows x 3 columns]\n",
            "\n",
            "\n",
            "Overall RMSE: 112.74021849971517\n",
            "\n",
            "Per User RMSE (best)\n",
            "+-------------+---------------------+-------+\n",
            "| customer_id |         rmse        | count |\n",
            "+-------------+---------------------+-------+\n",
            "|    100511   | 0.10815420746803284 |   1   |\n",
            "+-------------+---------------------+-------+\n",
            "[1 rows x 3 columns]\n",
            "\n",
            "\n",
            "Per User RMSE (worst)\n",
            "+-------------+--------+-------+\n",
            "| customer_id |  rmse  | count |\n",
            "+-------------+--------+-------+\n",
            "|    100408   | 1040.0 |   1   |\n",
            "+-------------+--------+-------+\n",
            "[1 rows x 3 columns]\n",
            "\n",
            "\n",
            "Per Item RMSE (best)\n",
            "+------------+--------------------+-------+\n",
            "| id_product |        rmse        | count |\n",
            "+------------+--------------------+-------+\n",
            "|   101105   | 0.4571986386918614 |   1   |\n",
            "+------------+--------------------+-------+\n",
            "[1 rows x 3 columns]\n",
            "\n",
            "\n",
            "Per Item RMSE (worst)\n",
            "+------------+--------------------+-------+\n",
            "| id_product |        rmse        | count |\n",
            "+------------+--------------------+-------+\n",
            "|   100288   | 1120.6783001285478 |   10  |\n",
            "+------------+--------------------+-------+\n",
            "[1 rows x 3 columns]\n",
            "\n",
            "PROGRESS: Evaluate model Pearson Similarity on Purchase Counts\n",
            "\n",
            "Precision and recall summary statistics by cutoff\n",
            "+--------+----------------------+----------------------+\n",
            "| cutoff |    mean_precision    |     mean_recall      |\n",
            "+--------+----------------------+----------------------+\n",
            "|   1    |         0.0          |         0.0          |\n",
            "|   2    | 0.005357142857142858 | 0.001147342995169082 |\n",
            "|   3    | 0.008333333333333331 | 0.009183057280883372 |\n",
            "|   4    | 0.016964285714285716 | 0.02736989341884733  |\n",
            "|   5    | 0.015000000000000005 | 0.029006798180752087 |\n",
            "|   6    | 0.014880952380952378 |  0.0297873783091583  |\n",
            "|   7    | 0.014285714285714282 | 0.030737053633833618 |\n",
            "|   8    | 0.014285714285714292 | 0.031986553433753596 |\n",
            "|   9    | 0.014682539682539688 | 0.035139025961226124 |\n",
            "|   10   | 0.014285714285714292 | 0.039765649337849505 |\n",
            "+--------+----------------------+----------------------+\n",
            "[10 rows x 3 columns]\n",
            "\n",
            "\n",
            "Overall RMSE: 95.38290366285024\n",
            "\n",
            "Per User RMSE (best)\n",
            "+-------------+--------------------+-------+\n",
            "| customer_id |        rmse        | count |\n",
            "+-------------+--------------------+-------+\n",
            "|    100083   | 0.3333333333333304 |   1   |\n",
            "+-------------+--------------------+-------+\n",
            "[1 rows x 3 columns]\n",
            "\n",
            "\n",
            "Per User RMSE (worst)\n",
            "+-------------+-------------------+-------+\n",
            "| customer_id |        rmse       | count |\n",
            "+-------------+-------------------+-------+\n",
            "|    100408   | 907.9213435374149 |   1   |\n",
            "+-------------+-------------------+-------+\n",
            "[1 rows x 3 columns]\n",
            "\n",
            "\n",
            "Per Item RMSE (best)\n",
            "+------------+------+-------+\n",
            "| id_product | rmse | count |\n",
            "+------------+------+-------+\n",
            "|   101034   | 0.0  |   1   |\n",
            "+------------+------+-------+\n",
            "[1 rows x 3 columns]\n",
            "\n",
            "\n",
            "Per Item RMSE (worst)\n",
            "+------------+-------------------+-------+\n",
            "| id_product |        rmse       | count |\n",
            "+------------+-------------------+-------+\n",
            "|   100288   | 977.2794147761974 |   10  |\n",
            "+------------+-------------------+-------+\n",
            "[1 rows x 3 columns]\n",
            "\n"
          ],
          "name": "stdout"
        }
      ]
    },
    {
      "cell_type": "markdown",
      "metadata": {
        "id": "cdJTVTzYZt21"
      },
      "source": [
        "Models on purchase dummy"
      ]
    },
    {
      "cell_type": "code",
      "metadata": {
        "colab": {
          "base_uri": "https://localhost:8080/"
        },
        "id": "oS-oCaXDZnPI",
        "outputId": "82e3f403-f97f-427a-af41-5011ff348084"
      },
      "source": [
        "eval_dummy = tc.recommender.util.compare_models(test_data_dummy, models_w_dummy, model_names=names_w_dummy)"
      ],
      "execution_count": null,
      "outputs": [
        {
          "output_type": "stream",
          "text": [
            "PROGRESS: Evaluate model Popularity Model on Purchase Dummy\n",
            "\n",
            "Precision and recall summary statistics by cutoff\n",
            "+--------+-----------------------+-----------------------+\n",
            "| cutoff |     mean_precision    |      mean_recall      |\n",
            "+--------+-----------------------+-----------------------+\n",
            "|   1    |  0.003401360544217688 | 9.448223733938017e-05 |\n",
            "|   2    |  0.010204081632653064 | 0.0011392572711165906 |\n",
            "|   3    |  0.009070294784580499 | 0.0017061506951528715 |\n",
            "|   4    |  0.007653061224489796 |  0.002131320763180082 |\n",
            "|   5    |  0.007482993197278912 |  0.002934419780564814 |\n",
            "|   6    |  0.007369614512471656 |  0.003016145834830914 |\n",
            "|   7    |  0.007774538386783284 | 0.0038725598290000117 |\n",
            "|   8    | 0.0076530612244897975 |  0.004892967992265318 |\n",
            "|   9    |  0.008314436885865459 | 0.0063042157211705445 |\n",
            "|   10   |  0.007823129251700684 |  0.006362859868484641 |\n",
            "+--------+-----------------------+-----------------------+\n",
            "[10 rows x 3 columns]\n",
            "\n",
            "\n",
            "Overall RMSE: 0.0\n",
            "\n",
            "Per User RMSE (best)\n",
            "+-------------+------+-------+\n",
            "| customer_id | rmse | count |\n",
            "+-------------+------+-------+\n",
            "|    100807   | 0.0  |   5   |\n",
            "+-------------+------+-------+\n",
            "[1 rows x 3 columns]\n",
            "\n",
            "\n",
            "Per User RMSE (worst)\n",
            "+-------------+------+-------+\n",
            "| customer_id | rmse | count |\n",
            "+-------------+------+-------+\n",
            "|    100741   | 0.0  |   10  |\n",
            "+-------------+------+-------+\n",
            "[1 rows x 3 columns]\n",
            "\n",
            "\n",
            "Per Item RMSE (best)\n",
            "+------------+------+-------+\n",
            "| id_product | rmse | count |\n",
            "+------------+------+-------+\n",
            "|   100323   | 0.0  |   5   |\n",
            "+------------+------+-------+\n",
            "[1 rows x 3 columns]\n",
            "\n",
            "\n",
            "Per Item RMSE (worst)\n",
            "+------------+------+-------+\n",
            "| id_product | rmse | count |\n",
            "+------------+------+-------+\n",
            "|   101076   | 0.0  |   36  |\n",
            "+------------+------+-------+\n",
            "[1 rows x 3 columns]\n",
            "\n",
            "PROGRESS: Evaluate model Cosine Similarity on Purchase Dummy\n",
            "\n",
            "Precision and recall summary statistics by cutoff\n",
            "+--------+----------------------+----------------------+\n",
            "| cutoff |    mean_precision    |     mean_recall      |\n",
            "+--------+----------------------+----------------------+\n",
            "|   1    | 0.04081632653061224  | 0.008000687699935822 |\n",
            "|   2    |  0.0391156462585034  | 0.015868054181782578 |\n",
            "|   3    | 0.03968253968253968  | 0.022922813887385228 |\n",
            "|   4    | 0.03571428571428571  | 0.028069188676617163 |\n",
            "|   5    | 0.03265306122448981  | 0.032759556887393536 |\n",
            "|   6    | 0.03004535147392291  | 0.036075883418005786 |\n",
            "|   7    | 0.030612244897959214 | 0.04047931844847424  |\n",
            "|   8    | 0.029336734693877556 | 0.042027690512420945 |\n",
            "|   9    | 0.027588813303099004 | 0.04682198918427065  |\n",
            "|   10   | 0.02551020408163264  | 0.047729018662728676 |\n",
            "+--------+----------------------+----------------------+\n",
            "[10 rows x 3 columns]\n",
            "\n",
            "\n",
            "Overall RMSE: 0.8759039669282066\n",
            "\n",
            "Per User RMSE (best)\n",
            "+-------------+--------------------+-------+\n",
            "| customer_id |        rmse        | count |\n",
            "+-------------+--------------------+-------+\n",
            "|    100371   | 0.5779638886451721 |   1   |\n",
            "+-------------+--------------------+-------+\n",
            "[1 rows x 3 columns]\n",
            "\n",
            "\n",
            "Per User RMSE (worst)\n",
            "+-------------+------+-------+\n",
            "| customer_id | rmse | count |\n",
            "+-------------+------+-------+\n",
            "|    100699   | 1.0  |   1   |\n",
            "+-------------+------+-------+\n",
            "[1 rows x 3 columns]\n",
            "\n",
            "\n",
            "Per Item RMSE (best)\n",
            "+------------+--------------------+-------+\n",
            "| id_product |        rmse        | count |\n",
            "+------------+--------------------+-------+\n",
            "|   101015   | 0.6885335794739011 |   12  |\n",
            "+------------+--------------------+-------+\n",
            "[1 rows x 3 columns]\n",
            "\n",
            "\n",
            "Per Item RMSE (worst)\n",
            "+------------+------+-------+\n",
            "| id_product | rmse | count |\n",
            "+------------+------+-------+\n",
            "|   101006   | 1.0  |   4   |\n",
            "+------------+------+-------+\n",
            "[1 rows x 3 columns]\n",
            "\n",
            "PROGRESS: Evaluate model Pearson Similarity on Purchase Dummy\n",
            "\n",
            "Precision and recall summary statistics by cutoff\n",
            "+--------+-----------------------+-----------------------+\n",
            "| cutoff |     mean_precision    |      mean_recall      |\n",
            "+--------+-----------------------+-----------------------+\n",
            "|   1    |  0.003401360544217688 | 9.448223733938017e-05 |\n",
            "|   2    |  0.010204081632653064 | 0.0011392572711165906 |\n",
            "|   3    |  0.009070294784580499 | 0.0017061506951528715 |\n",
            "|   4    |  0.007653061224489796 |  0.002131320763180082 |\n",
            "|   5    |  0.007482993197278912 |  0.002934419780564814 |\n",
            "|   6    |  0.007369614512471656 |  0.003016145834830914 |\n",
            "|   7    |  0.007774538386783284 | 0.0038725598290000117 |\n",
            "|   8    | 0.0076530612244897975 |  0.004892967992265318 |\n",
            "|   9    |  0.008314436885865459 | 0.0063042157211705445 |\n",
            "|   10   |  0.007823129251700684 |  0.006362859868484641 |\n",
            "+--------+-----------------------+-----------------------+\n",
            "[10 rows x 3 columns]\n",
            "\n",
            "\n",
            "Overall RMSE: 1.0\n",
            "\n",
            "Per User RMSE (best)\n",
            "+-------------+------+-------+\n",
            "| customer_id | rmse | count |\n",
            "+-------------+------+-------+\n",
            "|    100807   | 1.0  |   5   |\n",
            "+-------------+------+-------+\n",
            "[1 rows x 3 columns]\n",
            "\n",
            "\n",
            "Per User RMSE (worst)\n",
            "+-------------+------+-------+\n",
            "| customer_id | rmse | count |\n",
            "+-------------+------+-------+\n",
            "|    100741   | 1.0  |   10  |\n",
            "+-------------+------+-------+\n",
            "[1 rows x 3 columns]\n",
            "\n",
            "\n",
            "Per Item RMSE (best)\n",
            "+------------+------+-------+\n",
            "| id_product | rmse | count |\n",
            "+------------+------+-------+\n",
            "|   100323   | 1.0  |   5   |\n",
            "+------------+------+-------+\n",
            "[1 rows x 3 columns]\n",
            "\n",
            "\n",
            "Per Item RMSE (worst)\n",
            "+------------+------+-------+\n",
            "| id_product | rmse | count |\n",
            "+------------+------+-------+\n",
            "|   101076   | 1.0  |   36  |\n",
            "+------------+------+-------+\n",
            "[1 rows x 3 columns]\n",
            "\n"
          ],
          "name": "stdout"
        }
      ]
    },
    {
      "cell_type": "markdown",
      "metadata": {
        "id": "u76gnHgoZ7wV"
      },
      "source": [
        "Models on normalized purchase frequency"
      ]
    },
    {
      "cell_type": "code",
      "metadata": {
        "colab": {
          "base_uri": "https://localhost:8080/"
        },
        "id": "-aNZvPRTZsuS",
        "outputId": "fa353abd-4aa2-4105-b2fe-a72e312e7aac"
      },
      "source": [
        "eval_norm = tc.recommender.util.compare_models(test_data_norm, models_w_norm, model_names=names_w_norm)"
      ],
      "execution_count": null,
      "outputs": [
        {
          "output_type": "stream",
          "text": [
            "PROGRESS: Evaluate model Popularity Model on Scaled Purchase Counts\n",
            "\n",
            "Precision and recall summary statistics by cutoff\n",
            "+--------+-----------------------+-----------------------+\n",
            "| cutoff |     mean_precision    |      mean_recall      |\n",
            "+--------+-----------------------+-----------------------+\n",
            "|   1    |  0.007352941176470588 |  0.001045892494929006 |\n",
            "|   2    | 0.0055147058823529415 | 0.0013801170938594874 |\n",
            "|   3    |  0.003676470588235294 | 0.0013801170938594874 |\n",
            "|   4    |  0.003676470588235295 | 0.0015162826712015348 |\n",
            "|   5    |  0.00588235294117647  |  0.006841329356542338 |\n",
            "|   6    |  0.004901960784313726 |  0.006841329356542338 |\n",
            "|   7    | 0.0057773109243697465 |  0.009320161798610074 |\n",
            "|   8    |  0.006893382352941176 |  0.016196523454383494 |\n",
            "|   9    |  0.006944444444444447 |  0.01647371766540124  |\n",
            "|   10   |  0.00661764705882353  |  0.016841364724224768 |\n",
            "+--------+-----------------------+-----------------------+\n",
            "[10 rows x 3 columns]\n",
            "\n",
            "\n",
            "Overall RMSE: 0.28539573833735155\n",
            "\n",
            "Per User RMSE (best)\n",
            "+-------------+----------------------+-------+\n",
            "| customer_id |         rmse         | count |\n",
            "+-------------+----------------------+-------+\n",
            "|    100660   | 0.000955915429599552 |   1   |\n",
            "+-------------+----------------------+-------+\n",
            "[1 rows x 3 columns]\n",
            "\n",
            "\n",
            "Per User RMSE (worst)\n",
            "+-------------+--------------------+-------+\n",
            "| customer_id |        rmse        | count |\n",
            "+-------------+--------------------+-------+\n",
            "|    100403   | 0.8890572390572391 |   1   |\n",
            "+-------------+--------------------+-------+\n",
            "[1 rows x 3 columns]\n",
            "\n",
            "\n",
            "Per Item RMSE (best)\n",
            "+------------+---------------------+-------+\n",
            "| id_product |         rmse        | count |\n",
            "+------------+---------------------+-------+\n",
            "|   100972   | 0.01332683679862259 |   2   |\n",
            "+------------+---------------------+-------+\n",
            "[1 rows x 3 columns]\n",
            "\n",
            "\n",
            "Per Item RMSE (worst)\n",
            "+------------+------+-------+\n",
            "| id_product | rmse | count |\n",
            "+------------+------+-------+\n",
            "|   100910   | 1.0  |   1   |\n",
            "+------------+------+-------+\n",
            "[1 rows x 3 columns]\n",
            "\n",
            "PROGRESS: Evaluate model Cosine Similarity on Scaled Purchase Counts\n",
            "\n",
            "Precision and recall summary statistics by cutoff\n",
            "+--------+----------------------+----------------------+\n",
            "| cutoff |    mean_precision    |     mean_recall      |\n",
            "+--------+----------------------+----------------------+\n",
            "|   1    | 0.07352941176470587  | 0.023816659239453357 |\n",
            "|   2    | 0.06617647058823531  | 0.04341725139202318  |\n",
            "|   3    | 0.057598039215686306 | 0.053219846672559655 |\n",
            "|   4    | 0.05698529411764706  | 0.06444571551088525  |\n",
            "|   5    | 0.05367647058823528  | 0.07557306706002417  |\n",
            "|   6    | 0.05330882352941175  | 0.08684999798985303  |\n",
            "|   7    | 0.050420168067226885 |  0.1015763051793955  |\n",
            "|   8    | 0.04917279411764705  | 0.10845339629361897  |\n",
            "|   9    | 0.047794117647058834 | 0.12117476547854784  |\n",
            "|   10   | 0.047058823529411764 | 0.13070722907250468  |\n",
            "+--------+----------------------+----------------------+\n",
            "[10 rows x 3 columns]\n",
            "\n",
            "\n",
            "Overall RMSE: 0.34065525079311304\n",
            "\n",
            "Per User RMSE (best)\n",
            "+-------------+------+-------+\n",
            "| customer_id | rmse | count |\n",
            "+-------------+------+-------+\n",
            "|    100231   | 0.0  |   1   |\n",
            "+-------------+------+-------+\n",
            "[1 rows x 3 columns]\n",
            "\n",
            "\n",
            "Per User RMSE (worst)\n",
            "+-------------+------+-------+\n",
            "| customer_id | rmse | count |\n",
            "+-------------+------+-------+\n",
            "|    100887   | 1.0  |   1   |\n",
            "+-------------+------+-------+\n",
            "[1 rows x 3 columns]\n",
            "\n",
            "\n",
            "Per Item RMSE (best)\n",
            "+------------+------------------------+-------+\n",
            "| id_product |          rmse          | count |\n",
            "+------------+------------------------+-------+\n",
            "|   100077   | 0.00046139359474182127 |   1   |\n",
            "+------------+------------------------+-------+\n",
            "[1 rows x 3 columns]\n",
            "\n",
            "\n",
            "Per Item RMSE (worst)\n",
            "+------------+------+-------+\n",
            "| id_product | rmse | count |\n",
            "+------------+------+-------+\n",
            "|   101006   | 1.0  |   1   |\n",
            "+------------+------+-------+\n",
            "[1 rows x 3 columns]\n",
            "\n",
            "PROGRESS: Evaluate model Pearson Similarity on Scaled Purchase Counts\n",
            "\n",
            "Precision and recall summary statistics by cutoff\n",
            "+--------+-----------------------+-----------------------+\n",
            "| cutoff |     mean_precision    |      mean_recall      |\n",
            "+--------+-----------------------+-----------------------+\n",
            "|   1    |  0.003676470588235294 | 0.0009191176470588235 |\n",
            "|   2    | 0.0055147058823529415 | 0.0013801170938594874 |\n",
            "|   3    |  0.003676470588235294 | 0.0013801170938594874 |\n",
            "|   4    | 0.0027573529411764708 | 0.0013801170938594874 |\n",
            "|   5    |  0.004411764705882354 |  0.006111870906495653 |\n",
            "|   6    |  0.004901960784313726 |  0.006841329356542338 |\n",
            "|   7    | 0.0057773109243697465 |  0.009320161798610074 |\n",
            "|   8    |  0.006893382352941176 |  0.016196523454383494 |\n",
            "|   9    |  0.006944444444444447 |  0.01647371766540124  |\n",
            "|   10   |  0.006250000000000003 |  0.01647371766540124  |\n",
            "+--------+-----------------------+-----------------------+\n",
            "[10 rows x 3 columns]\n",
            "\n",
            "\n",
            "Overall RMSE: 0.2804494827961344\n",
            "\n",
            "Per User RMSE (best)\n",
            "+-------------+-----------------------+-------+\n",
            "| customer_id |          rmse         | count |\n",
            "+-------------+-----------------------+-------+\n",
            "|    100485   | 0.0054491184228793454 |   1   |\n",
            "+-------------+-----------------------+-------+\n",
            "[1 rows x 3 columns]\n",
            "\n",
            "\n",
            "Per User RMSE (worst)\n",
            "+-------------+--------------------+-------+\n",
            "| customer_id |        rmse        | count |\n",
            "+-------------+--------------------+-------+\n",
            "|    100403   | 0.8890572390572391 |   1   |\n",
            "+-------------+--------------------+-------+\n",
            "[1 rows x 3 columns]\n",
            "\n",
            "\n",
            "Per Item RMSE (best)\n",
            "+------------+----------------------+-------+\n",
            "| id_product |         rmse         | count |\n",
            "+------------+----------------------+-------+\n",
            "|   100972   | 0.020034071304952054 |   2   |\n",
            "+------------+----------------------+-------+\n",
            "[1 rows x 3 columns]\n",
            "\n",
            "\n",
            "Per Item RMSE (worst)\n",
            "+------------+------+-------+\n",
            "| id_product | rmse | count |\n",
            "+------------+------+-------+\n",
            "|   100910   | 1.0  |   1   |\n",
            "+------------+------+-------+\n",
            "[1 rows x 3 columns]\n",
            "\n"
          ],
          "name": "stdout"
        }
      ]
    },
    {
      "cell_type": "markdown",
      "metadata": {
        "id": "6EBnb2NRak3Y"
      },
      "source": [
        "Final Output"
      ]
    },
    {
      "cell_type": "code",
      "metadata": {
        "colab": {
          "base_uri": "https://localhost:8080/",
          "height": 1000
        },
        "id": "KNNGJtp7akmR",
        "outputId": "9f084513-195d-499d-c8c3-9b0c4eadbf2c"
      },
      "source": [
        "users_to_recommend = list(rekomendasi[user_id])\n",
        "\n",
        "final_model = tc.item_similarity_recommender.create(tc.SFrame(data_dummy), \n",
        "                                            user_id=user_id, \n",
        "                                            item_id=item_id, \n",
        "                                            target='purchase_dummy', \n",
        "                                            similarity_type='cosine')\n",
        "\n",
        "recom = final_model.recommend(users=users_to_recommend, k=n_rec)\n",
        "recom.print_rows(n_display)"
      ],
      "execution_count": null,
      "outputs": [
        {
          "output_type": "display_data",
          "data": {
            "text/html": [
              "<pre>Warning: Ignoring columns qty;</pre>"
            ],
            "text/plain": [
              "Warning: Ignoring columns qty;"
            ]
          },
          "metadata": {
            "tags": []
          }
        },
        {
          "output_type": "display_data",
          "data": {
            "text/html": [
              "<pre>    To use these columns in scoring predictions, use a model that allows the use of additional features.</pre>"
            ],
            "text/plain": [
              "    To use these columns in scoring predictions, use a model that allows the use of additional features."
            ]
          },
          "metadata": {
            "tags": []
          }
        },
        {
          "output_type": "display_data",
          "data": {
            "text/html": [
              "<pre>Preparing data set.</pre>"
            ],
            "text/plain": [
              "Preparing data set."
            ]
          },
          "metadata": {
            "tags": []
          }
        },
        {
          "output_type": "display_data",
          "data": {
            "text/html": [
              "<pre>    Data has 10951 observations with 369 users and 303 items.</pre>"
            ],
            "text/plain": [
              "    Data has 10951 observations with 369 users and 303 items."
            ]
          },
          "metadata": {
            "tags": []
          }
        },
        {
          "output_type": "display_data",
          "data": {
            "text/html": [
              "<pre>    Data prepared in: 0.02714s</pre>"
            ],
            "text/plain": [
              "    Data prepared in: 0.02714s"
            ]
          },
          "metadata": {
            "tags": []
          }
        },
        {
          "output_type": "display_data",
          "data": {
            "text/html": [
              "<pre>Training model from provided data.</pre>"
            ],
            "text/plain": [
              "Training model from provided data."
            ]
          },
          "metadata": {
            "tags": []
          }
        },
        {
          "output_type": "display_data",
          "data": {
            "text/html": [
              "<pre>Gathering per-item and per-user statistics.</pre>"
            ],
            "text/plain": [
              "Gathering per-item and per-user statistics."
            ]
          },
          "metadata": {
            "tags": []
          }
        },
        {
          "output_type": "display_data",
          "data": {
            "text/html": [
              "<pre>+--------------------------------+------------+</pre>"
            ],
            "text/plain": [
              "+--------------------------------+------------+"
            ]
          },
          "metadata": {
            "tags": []
          }
        },
        {
          "output_type": "display_data",
          "data": {
            "text/html": [
              "<pre>| Elapsed Time (Item Statistics) | % Complete |</pre>"
            ],
            "text/plain": [
              "| Elapsed Time (Item Statistics) | % Complete |"
            ]
          },
          "metadata": {
            "tags": []
          }
        },
        {
          "output_type": "display_data",
          "data": {
            "text/html": [
              "<pre>+--------------------------------+------------+</pre>"
            ],
            "text/plain": [
              "+--------------------------------+------------+"
            ]
          },
          "metadata": {
            "tags": []
          }
        },
        {
          "output_type": "display_data",
          "data": {
            "text/html": [
              "<pre>| 14.656ms                       | 100        |</pre>"
            ],
            "text/plain": [
              "| 14.656ms                       | 100        |"
            ]
          },
          "metadata": {
            "tags": []
          }
        },
        {
          "output_type": "display_data",
          "data": {
            "text/html": [
              "<pre>+--------------------------------+------------+</pre>"
            ],
            "text/plain": [
              "+--------------------------------+------------+"
            ]
          },
          "metadata": {
            "tags": []
          }
        },
        {
          "output_type": "display_data",
          "data": {
            "text/html": [
              "<pre>Setting up lookup tables.</pre>"
            ],
            "text/plain": [
              "Setting up lookup tables."
            ]
          },
          "metadata": {
            "tags": []
          }
        },
        {
          "output_type": "display_data",
          "data": {
            "text/html": [
              "<pre>Processing data in one pass using dense lookup tables.</pre>"
            ],
            "text/plain": [
              "Processing data in one pass using dense lookup tables."
            ]
          },
          "metadata": {
            "tags": []
          }
        },
        {
          "output_type": "display_data",
          "data": {
            "text/html": [
              "<pre>+-------------------------------------+------------------+-----------------+</pre>"
            ],
            "text/plain": [
              "+-------------------------------------+------------------+-----------------+"
            ]
          },
          "metadata": {
            "tags": []
          }
        },
        {
          "output_type": "display_data",
          "data": {
            "text/html": [
              "<pre>| Elapsed Time (Constructing Lookups) | Total % Complete | Items Processed |</pre>"
            ],
            "text/plain": [
              "| Elapsed Time (Constructing Lookups) | Total % Complete | Items Processed |"
            ]
          },
          "metadata": {
            "tags": []
          }
        },
        {
          "output_type": "display_data",
          "data": {
            "text/html": [
              "<pre>+-------------------------------------+------------------+-----------------+</pre>"
            ],
            "text/plain": [
              "+-------------------------------------+------------------+-----------------+"
            ]
          },
          "metadata": {
            "tags": []
          }
        },
        {
          "output_type": "display_data",
          "data": {
            "text/html": [
              "<pre>| 15.165ms                            | 0                | 0               |</pre>"
            ],
            "text/plain": [
              "| 15.165ms                            | 0                | 0               |"
            ]
          },
          "metadata": {
            "tags": []
          }
        },
        {
          "output_type": "display_data",
          "data": {
            "text/html": [
              "<pre>| 34.881ms                            | 100              | 303             |</pre>"
            ],
            "text/plain": [
              "| 34.881ms                            | 100              | 303             |"
            ]
          },
          "metadata": {
            "tags": []
          }
        },
        {
          "output_type": "display_data",
          "data": {
            "text/html": [
              "<pre>+-------------------------------------+------------------+-----------------+</pre>"
            ],
            "text/plain": [
              "+-------------------------------------+------------------+-----------------+"
            ]
          },
          "metadata": {
            "tags": []
          }
        },
        {
          "output_type": "stream",
          "text": [
            "+-------------+------------+---------------------+------+\n",
            "| customer_id | id_product |        score        | rank |\n",
            "+-------------+------------+---------------------+------+\n",
            "|    100003   |   101015   | 0.26418859818402457 |  1   |\n",
            "|    100003   |   101110   |  0.2641370366601383 |  2   |\n",
            "|    100003   |   100640   | 0.24680976657306447 |  3   |\n",
            "|    100003   |   100917   | 0.24383309308220358 |  4   |\n",
            "|    100003   |   100832   | 0.23385548942229328 |  5   |\n",
            "|    100003   |   100904   | 0.22453951835632324 |  6   |\n",
            "|    100003   |   100753   | 0.21760079439948588 |  7   |\n",
            "|    100003   |   101077   | 0.21066128856995525 |  8   |\n",
            "|    100003   |   100956   | 0.20984654216205373 |  9   |\n",
            "|    100003   |   101028   |  0.2072528776000528 |  10  |\n",
            "|    100004   |   100917   |  0.2145597618073225 |  1   |\n",
            "|    100004   |   100956   | 0.21380746737122536 |  2   |\n",
            "|    100004   |   101015   | 0.21127400733530521 |  3   |\n",
            "|    100004   |   100753   | 0.20499004796147346 |  4   |\n",
            "|    100004   |   100543   | 0.20430243387818336 |  5   |\n",
            "|    100004   |   100979   | 0.19759462773799896 |  6   |\n",
            "|    100004   |   101096   | 0.19233538210391998 |  7   |\n",
            "|    100004   |   100904   |  0.1880087573081255 |  8   |\n",
            "|    100004   |   101148   | 0.18751421384513378 |  9   |\n",
            "|    100004   |   100967   |  0.1792538296431303 |  10  |\n",
            "|    100012   |   100640   |  0.3923627436161041 |  1   |\n",
            "|    100012   |   100643   | 0.37639735639095306 |  2   |\n",
            "|    100012   |   100904   | 0.37604038417339325 |  3   |\n",
            "|    100012   |   100915   | 0.37126144766807556 |  4   |\n",
            "|    100012   |   101130   |  0.3650906980037689 |  5   |\n",
            "|    100012   |   100889   |  0.3647332936525345 |  6   |\n",
            "|    100012   |   100979   | 0.36447568237781525 |  7   |\n",
            "|    100012   |   100917   | 0.36374782025814056 |  8   |\n",
            "|    100012   |   100851   |  0.3474257290363312 |  9   |\n",
            "|    100012   |   101096   |  0.3441884368658066 |  10  |\n",
            "+-------------+------------+---------------------+------+\n",
            "[3690 rows x 4 columns]\n",
            "\n"
          ],
          "name": "stdout"
        },
        {
          "output_type": "display_data",
          "data": {
            "text/html": [
              "<pre>Finalizing lookup tables.</pre>"
            ],
            "text/plain": [
              "Finalizing lookup tables."
            ]
          },
          "metadata": {
            "tags": []
          }
        },
        {
          "output_type": "display_data",
          "data": {
            "text/html": [
              "<pre>Generating candidate set for working with new users.</pre>"
            ],
            "text/plain": [
              "Generating candidate set for working with new users."
            ]
          },
          "metadata": {
            "tags": []
          }
        },
        {
          "output_type": "display_data",
          "data": {
            "text/html": [
              "<pre>Finished training in 0.043571s</pre>"
            ],
            "text/plain": [
              "Finished training in 0.043571s"
            ]
          },
          "metadata": {
            "tags": []
          }
        }
      ]
    },
    {
      "cell_type": "code",
      "metadata": {
        "colab": {
          "base_uri": "https://localhost:8080/",
          "height": 225
        },
        "id": "rQP1PdpgawQJ",
        "outputId": "60343f88-0b69-4c94-b2b4-a069fc094d06"
      },
      "source": [
        "df_rec = recom.to_dataframe()\n",
        "print(df_rec.shape)\n",
        "df_rec.head()"
      ],
      "execution_count": null,
      "outputs": [
        {
          "output_type": "stream",
          "text": [
            "(3690, 4)\n"
          ],
          "name": "stdout"
        },
        {
          "output_type": "execute_result",
          "data": {
            "text/html": [
              "<div>\n",
              "<style scoped>\n",
              "    .dataframe tbody tr th:only-of-type {\n",
              "        vertical-align: middle;\n",
              "    }\n",
              "\n",
              "    .dataframe tbody tr th {\n",
              "        vertical-align: top;\n",
              "    }\n",
              "\n",
              "    .dataframe thead th {\n",
              "        text-align: right;\n",
              "    }\n",
              "</style>\n",
              "<table border=\"1\" class=\"dataframe\">\n",
              "  <thead>\n",
              "    <tr style=\"text-align: right;\">\n",
              "      <th></th>\n",
              "      <th>customer_id</th>\n",
              "      <th>id_product</th>\n",
              "      <th>score</th>\n",
              "      <th>rank</th>\n",
              "    </tr>\n",
              "  </thead>\n",
              "  <tbody>\n",
              "    <tr>\n",
              "      <th>0</th>\n",
              "      <td>100003</td>\n",
              "      <td>101015</td>\n",
              "      <td>0.264189</td>\n",
              "      <td>1</td>\n",
              "    </tr>\n",
              "    <tr>\n",
              "      <th>1</th>\n",
              "      <td>100003</td>\n",
              "      <td>101110</td>\n",
              "      <td>0.264137</td>\n",
              "      <td>2</td>\n",
              "    </tr>\n",
              "    <tr>\n",
              "      <th>2</th>\n",
              "      <td>100003</td>\n",
              "      <td>100640</td>\n",
              "      <td>0.246810</td>\n",
              "      <td>3</td>\n",
              "    </tr>\n",
              "    <tr>\n",
              "      <th>3</th>\n",
              "      <td>100003</td>\n",
              "      <td>100917</td>\n",
              "      <td>0.243833</td>\n",
              "      <td>4</td>\n",
              "    </tr>\n",
              "    <tr>\n",
              "      <th>4</th>\n",
              "      <td>100003</td>\n",
              "      <td>100832</td>\n",
              "      <td>0.233855</td>\n",
              "      <td>5</td>\n",
              "    </tr>\n",
              "  </tbody>\n",
              "</table>\n",
              "</div>"
            ],
            "text/plain": [
              "   customer_id  id_product     score  rank\n",
              "0       100003      101015  0.264189     1\n",
              "1       100003      101110  0.264137     2\n",
              "2       100003      100640  0.246810     3\n",
              "3       100003      100917  0.243833     4\n",
              "4       100003      100832  0.233855     5"
            ]
          },
          "metadata": {
            "tags": []
          },
          "execution_count": 93
        }
      ]
    },
    {
      "cell_type": "code",
      "metadata": {
        "id": "gpODf1mfa4RH"
      },
      "source": [
        "def create_output(model, users_to_recommend, n_rec, print_json=True):\n",
        "    recomendation = model.recommend(users=users_to_recommend, k=n_rec)\n",
        "    df_rec = recomendation.to_dataframe()\n",
        "    df_rec['recommendedProducts'] = df_rec.groupby([user_id])[item_id] \\\n",
        "        .transform(lambda x: '|'.join(x.astype(str)))\n",
        "    df_output = df_rec[['customer_id', 'recommendedProducts']].drop_duplicates() \\\n",
        "        .sort_values('customer_id').set_index('customer_id')\n",
        "    if print_json:\n",
        "        df_output.to_json('/content/drive/MyDrive/Item Based Collaborative/STI/collaborative_filtering.json')\n",
        "        print(\"An output file can be found in 'output' folder with name 'collaborative_filtering.json'\")\n",
        "    return df_output"
      ],
      "execution_count": null,
      "outputs": []
    },
    {
      "cell_type": "code",
      "metadata": {
        "id": "1qH255w-ayoJ"
      },
      "source": [
        "df_rec['recommendedProducts'] = df_rec.groupby([user_id])[item_id].transform(lambda x: '|'.join(x.astype(str)))\n",
        "df_output = df_rec[['customer_id', 'recommendedProducts']].drop_duplicates().sort_values('customer_id').set_index('customer_id')"
      ],
      "execution_count": null,
      "outputs": []
    },
    {
      "cell_type": "code",
      "metadata": {
        "colab": {
          "base_uri": "https://localhost:8080/",
          "height": 274
        },
        "id": "qEUcrEGMgtDR",
        "outputId": "bc670277-3b35-4fe4-ef08-12355159f612"
      },
      "source": [
        "df_output = create_output(final_model, users_to_recommend, n_rec, print_json=True)\n",
        "print(df_output.shape)\n",
        "df_output.head()"
      ],
      "execution_count": null,
      "outputs": [
        {
          "output_type": "stream",
          "text": [
            "An output file can be found in 'output' folder with name 'collaborative_filtering.json'\n",
            "(369, 1)\n"
          ],
          "name": "stdout"
        },
        {
          "output_type": "execute_result",
          "data": {
            "text/html": [
              "<div>\n",
              "<style scoped>\n",
              "    .dataframe tbody tr th:only-of-type {\n",
              "        vertical-align: middle;\n",
              "    }\n",
              "\n",
              "    .dataframe tbody tr th {\n",
              "        vertical-align: top;\n",
              "    }\n",
              "\n",
              "    .dataframe thead th {\n",
              "        text-align: right;\n",
              "    }\n",
              "</style>\n",
              "<table border=\"1\" class=\"dataframe\">\n",
              "  <thead>\n",
              "    <tr style=\"text-align: right;\">\n",
              "      <th></th>\n",
              "      <th>recommendedProducts</th>\n",
              "    </tr>\n",
              "    <tr>\n",
              "      <th>customer_id</th>\n",
              "      <th></th>\n",
              "    </tr>\n",
              "  </thead>\n",
              "  <tbody>\n",
              "    <tr>\n",
              "      <th>100002</th>\n",
              "      <td>100988|101107|100643|101147|100941|100832|1010...</td>\n",
              "    </tr>\n",
              "    <tr>\n",
              "      <th>100003</th>\n",
              "      <td>101015|101110|100640|100917|100832|100904|1007...</td>\n",
              "    </tr>\n",
              "    <tr>\n",
              "      <th>100004</th>\n",
              "      <td>100917|100956|101015|100753|100543|100979|1010...</td>\n",
              "    </tr>\n",
              "    <tr>\n",
              "      <th>100012</th>\n",
              "      <td>100640|100643|100904|100915|101130|100889|1009...</td>\n",
              "    </tr>\n",
              "    <tr>\n",
              "      <th>100017</th>\n",
              "      <td>100956|100832|100753|100918|100640|100917|1010...</td>\n",
              "    </tr>\n",
              "  </tbody>\n",
              "</table>\n",
              "</div>"
            ],
            "text/plain": [
              "                                           recommendedProducts\n",
              "customer_id                                                   \n",
              "100002       100988|101107|100643|101147|100941|100832|1010...\n",
              "100003       101015|101110|100640|100917|100832|100904|1007...\n",
              "100004       100917|100956|101015|100753|100543|100979|1010...\n",
              "100012       100640|100643|100904|100915|101130|100889|1009...\n",
              "100017       100956|100832|100753|100918|100640|100917|1010..."
            ]
          },
          "metadata": {
            "tags": []
          },
          "execution_count": 97
        }
      ]
    },
    {
      "cell_type": "markdown",
      "metadata": {
        "id": "v-GFsVWGhHJ_"
      },
      "source": [
        "Customer recommendation function"
      ]
    },
    {
      "cell_type": "code",
      "metadata": {
        "id": "-_r7NJScgtmb"
      },
      "source": [
        "def customer_recomendation(customer_id):\n",
        "    if customer_id not in df_output.index:\n",
        "        print('Customer not found.')\n",
        "        return customer_id\n",
        "    return df_output.loc[customer_id]"
      ],
      "execution_count": null,
      "outputs": []
    },
    {
      "cell_type": "code",
      "metadata": {
        "colab": {
          "base_uri": "https://localhost:8080/"
        },
        "id": "6aKKu3umhLd3",
        "outputId": "3a6f2da4-f2c7-4356-e491-9066bdf81b1b"
      },
      "source": [
        "customer_recomendation(100026)"
      ],
      "execution_count": null,
      "outputs": [
        {
          "output_type": "execute_result",
          "data": {
            "text/plain": [
              "recommendedProducts    111454|111450|101298|111035|111438|111458|1114...\n",
              "Name: 100026, dtype: object"
            ]
          },
          "metadata": {
            "tags": []
          },
          "execution_count": 75
        }
      ]
    }
  ]
}