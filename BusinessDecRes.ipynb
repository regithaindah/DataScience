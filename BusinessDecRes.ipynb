{
  "nbformat": 4,
  "nbformat_minor": 0,
  "metadata": {
    "colab": {
      "name": "BusinessDecRes.ipynb",
      "provenance": [],
      "collapsed_sections": [
        "sKI568nr_EOo",
        "XMfOhzJQ_J6V"
      ]
    },
    "kernelspec": {
      "display_name": "Python 3",
      "name": "python3"
    },
    "language_info": {
      "name": "python"
    }
  },
  "cells": [
    {
      "cell_type": "code",
      "metadata": {
        "colab": {
          "base_uri": "https://localhost:8080/"
        },
        "id": "5iNnmC0SlXdy",
        "outputId": "0dc7925a-044b-4c71-c0e1-e3770dfc5361"
      },
      "source": [
        "#Load the data\n",
        "#import drive\n",
        "from google.colab import drive                                                                                                                                                                                  \n",
        "drive.mount('/content/drive') "
      ],
      "execution_count": null,
      "outputs": [
        {
          "output_type": "stream",
          "name": "stdout",
          "text": [
            "Mounted at /content/drive\n"
          ]
        }
      ]
    },
    {
      "cell_type": "markdown",
      "metadata": {
        "id": "sKI568nr_EOo"
      },
      "source": [
        "# STI"
      ]
    },
    {
      "cell_type": "code",
      "metadata": {
        "colab": {
          "base_uri": "https://localhost:8080/"
        },
        "id": "gV28qu4xkvFa",
        "outputId": "cbc98e21-aa25-4d24-f348-af4a185f1bd1"
      },
      "source": [
        "#Importing Data and Inspection\n",
        "import pandas as pd\n",
        "\n",
        "df = pd.read_csv('/content/drive/My Drive/Business Decision Research/Input/BusinessDecRes_STI.csv',sep=',')\n",
        "\n",
        "print('Lima data teratas:')\n",
        "print(df.head())\n",
        "\n",
        "print('\\nInfo dataset:')\n",
        "print(df.info())"
      ],
      "execution_count": null,
      "outputs": [
        {
          "name": "stdout",
          "output_type": "stream",
          "text": [
            "Lima data teratas:\n",
            "   Customer_no  Item_no  ... AVG_Transaction_Amount Count_Transaction\n",
            "0       100001   100473  ...                24091.0                 1\n",
            "1       100001   104022  ...                 6000.0                 1\n",
            "2       100001   107893  ...                10909.0                 1\n",
            "3       100001   107492  ...                 8545.0                 1\n",
            "4       100001   109660  ...                 4545.0                 1\n",
            "\n",
            "[5 rows x 8 columns]\n",
            "\n",
            "Info dataset:\n",
            "<class 'pandas.core.frame.DataFrame'>\n",
            "RangeIndex: 117842 entries, 0 to 117841\n",
            "Data columns (total 8 columns):\n",
            " #   Column                  Non-Null Count   Dtype  \n",
            "---  ------                  --------------   -----  \n",
            " 0   Customer_no             117842 non-null  int64  \n",
            " 1   Item_no                 117842 non-null  int64  \n",
            " 2   Description             117842 non-null  object \n",
            " 3   Dept                    117842 non-null  object \n",
            " 4   First_Transaction       117842 non-null  object \n",
            " 5   Last_Transaction        117842 non-null  object \n",
            " 6   AVG_Transaction_Amount  117842 non-null  float64\n",
            " 7   Count_Transaction       117842 non-null  int64  \n",
            "dtypes: float64(1), int64(3), object(4)\n",
            "memory usage: 7.2+ MB\n",
            "None\n"
          ]
        }
      ]
    },
    {
      "cell_type": "code",
      "metadata": {
        "colab": {
          "base_uri": "https://localhost:8080/",
          "height": 206
        },
        "id": "Qok7DiNzk40w",
        "outputId": "a036f2a1-5a77-4efc-e42d-972ca5d63445"
      },
      "source": [
        "df.head()"
      ],
      "execution_count": null,
      "outputs": [
        {
          "data": {
            "text/html": [
              "<div>\n",
              "<style scoped>\n",
              "    .dataframe tbody tr th:only-of-type {\n",
              "        vertical-align: middle;\n",
              "    }\n",
              "\n",
              "    .dataframe tbody tr th {\n",
              "        vertical-align: top;\n",
              "    }\n",
              "\n",
              "    .dataframe thead th {\n",
              "        text-align: right;\n",
              "    }\n",
              "</style>\n",
              "<table border=\"1\" class=\"dataframe\">\n",
              "  <thead>\n",
              "    <tr style=\"text-align: right;\">\n",
              "      <th></th>\n",
              "      <th>Customer_no</th>\n",
              "      <th>Item_no</th>\n",
              "      <th>Description</th>\n",
              "      <th>Dept</th>\n",
              "      <th>First_Transaction</th>\n",
              "      <th>Last_Transaction</th>\n",
              "      <th>AVG_Transaction_Amount</th>\n",
              "      <th>Count_Transaction</th>\n",
              "    </tr>\n",
              "  </thead>\n",
              "  <tbody>\n",
              "    <tr>\n",
              "      <th>0</th>\n",
              "      <td>100001</td>\n",
              "      <td>100473</td>\n",
              "      <td>FOX LEM BANTENG KW 1</td>\n",
              "      <td>PDG</td>\n",
              "      <td>18-05-16</td>\n",
              "      <td>18-05-16</td>\n",
              "      <td>24091.0</td>\n",
              "      <td>1</td>\n",
              "    </tr>\n",
              "    <tr>\n",
              "      <th>1</th>\n",
              "      <td>100001</td>\n",
              "      <td>104022</td>\n",
              "      <td>JASON 348-049 OBENG 8IN PLUS</td>\n",
              "      <td>PDG</td>\n",
              "      <td>09-05-16</td>\n",
              "      <td>09-05-16</td>\n",
              "      <td>6000.0</td>\n",
              "      <td>1</td>\n",
              "    </tr>\n",
              "    <tr>\n",
              "      <th>2</th>\n",
              "      <td>100001</td>\n",
              "      <td>107893</td>\n",
              "      <td>(NON AKTIF)</td>\n",
              "      <td>PDG</td>\n",
              "      <td>09-05-16</td>\n",
              "      <td>09-05-16</td>\n",
              "      <td>10909.0</td>\n",
              "      <td>1</td>\n",
              "    </tr>\n",
              "    <tr>\n",
              "      <th>3</th>\n",
              "      <td>100001</td>\n",
              "      <td>107492</td>\n",
              "      <td>TACO EDGING 22MM X 2MM 205</td>\n",
              "      <td>PDG</td>\n",
              "      <td>26-04-17</td>\n",
              "      <td>26-04-17</td>\n",
              "      <td>8545.0</td>\n",
              "      <td>1</td>\n",
              "    </tr>\n",
              "    <tr>\n",
              "      <th>4</th>\n",
              "      <td>100001</td>\n",
              "      <td>109660</td>\n",
              "      <td>KLASSEN CH.1027 E.SD HT BKK</td>\n",
              "      <td>PDG</td>\n",
              "      <td>12-11-16</td>\n",
              "      <td>12-11-16</td>\n",
              "      <td>4545.0</td>\n",
              "      <td>1</td>\n",
              "    </tr>\n",
              "  </tbody>\n",
              "</table>\n",
              "</div>"
            ],
            "text/plain": [
              "   Customer_no  Item_no  ... AVG_Transaction_Amount Count_Transaction\n",
              "0       100001   100473  ...                24091.0                 1\n",
              "1       100001   104022  ...                 6000.0                 1\n",
              "2       100001   107893  ...                10909.0                 1\n",
              "3       100001   107492  ...                 8545.0                 1\n",
              "4       100001   109660  ...                 4545.0                 1\n",
              "\n",
              "[5 rows x 8 columns]"
            ]
          },
          "execution_count": 3,
          "metadata": {},
          "output_type": "execute_result"
        }
      ]
    },
    {
      "cell_type": "code",
      "metadata": {
        "colab": {
          "base_uri": "https://localhost:8080/"
        },
        "id": "CytBLRdFjBjj",
        "outputId": "70aeeebe-c6a6-4e3c-912f-5927f499f20d"
      },
      "source": [
        "df.dtypes"
      ],
      "execution_count": null,
      "outputs": [
        {
          "data": {
            "text/plain": [
              "Customer_no                 int64\n",
              "Item_no                     int64\n",
              "Description                object\n",
              "Dept                       object\n",
              "First_Transaction          object\n",
              "Last_Transaction           object\n",
              "AVG_Transaction_Amount    float64\n",
              "Count_Transaction           int64\n",
              "dtype: object"
            ]
          },
          "execution_count": 4,
          "metadata": {},
          "output_type": "execute_result"
        }
      ]
    },
    {
      "cell_type": "code",
      "metadata": {
        "id": "hfr_AG1v_J4h"
      },
      "source": [
        "#df['Customer_no'] =df['Customer_no'].apply(lambda x:str(x))"
      ],
      "execution_count": null,
      "outputs": []
    },
    {
      "cell_type": "code",
      "metadata": {
        "id": "qDQ45sdrki_J"
      },
      "source": [
        "#df['Last_Transaction'] =df['Last_Transaction'].apply(lambda x:str(x))"
      ],
      "execution_count": null,
      "outputs": []
    },
    {
      "cell_type": "code",
      "metadata": {
        "colab": {
          "base_uri": "https://localhost:8080/",
          "height": 206
        },
        "id": "ucIG20OL_eFY",
        "outputId": "7ee0e914-0906-4e14-8b9f-bfe6487400b2"
      },
      "source": [
        "df.head()"
      ],
      "execution_count": null,
      "outputs": [
        {
          "data": {
            "text/html": [
              "<div>\n",
              "<style scoped>\n",
              "    .dataframe tbody tr th:only-of-type {\n",
              "        vertical-align: middle;\n",
              "    }\n",
              "\n",
              "    .dataframe tbody tr th {\n",
              "        vertical-align: top;\n",
              "    }\n",
              "\n",
              "    .dataframe thead th {\n",
              "        text-align: right;\n",
              "    }\n",
              "</style>\n",
              "<table border=\"1\" class=\"dataframe\">\n",
              "  <thead>\n",
              "    <tr style=\"text-align: right;\">\n",
              "      <th></th>\n",
              "      <th>Customer_no</th>\n",
              "      <th>Item_no</th>\n",
              "      <th>Description</th>\n",
              "      <th>Dept</th>\n",
              "      <th>First_Transaction</th>\n",
              "      <th>Last_Transaction</th>\n",
              "      <th>AVG_Transaction_Amount</th>\n",
              "      <th>Count_Transaction</th>\n",
              "    </tr>\n",
              "  </thead>\n",
              "  <tbody>\n",
              "    <tr>\n",
              "      <th>0</th>\n",
              "      <td>100001</td>\n",
              "      <td>100473</td>\n",
              "      <td>FOX LEM BANTENG KW 1</td>\n",
              "      <td>PDG</td>\n",
              "      <td>18-05-16</td>\n",
              "      <td>18-05-16</td>\n",
              "      <td>24091.0</td>\n",
              "      <td>1</td>\n",
              "    </tr>\n",
              "    <tr>\n",
              "      <th>1</th>\n",
              "      <td>100001</td>\n",
              "      <td>104022</td>\n",
              "      <td>JASON 348-049 OBENG 8IN PLUS</td>\n",
              "      <td>PDG</td>\n",
              "      <td>09-05-16</td>\n",
              "      <td>09-05-16</td>\n",
              "      <td>6000.0</td>\n",
              "      <td>1</td>\n",
              "    </tr>\n",
              "    <tr>\n",
              "      <th>2</th>\n",
              "      <td>100001</td>\n",
              "      <td>107893</td>\n",
              "      <td>(NON AKTIF)</td>\n",
              "      <td>PDG</td>\n",
              "      <td>09-05-16</td>\n",
              "      <td>09-05-16</td>\n",
              "      <td>10909.0</td>\n",
              "      <td>1</td>\n",
              "    </tr>\n",
              "    <tr>\n",
              "      <th>3</th>\n",
              "      <td>100001</td>\n",
              "      <td>107492</td>\n",
              "      <td>TACO EDGING 22MM X 2MM 205</td>\n",
              "      <td>PDG</td>\n",
              "      <td>26-04-17</td>\n",
              "      <td>26-04-17</td>\n",
              "      <td>8545.0</td>\n",
              "      <td>1</td>\n",
              "    </tr>\n",
              "    <tr>\n",
              "      <th>4</th>\n",
              "      <td>100001</td>\n",
              "      <td>109660</td>\n",
              "      <td>KLASSEN CH.1027 E.SD HT BKK</td>\n",
              "      <td>PDG</td>\n",
              "      <td>12-11-16</td>\n",
              "      <td>12-11-16</td>\n",
              "      <td>4545.0</td>\n",
              "      <td>1</td>\n",
              "    </tr>\n",
              "  </tbody>\n",
              "</table>\n",
              "</div>"
            ],
            "text/plain": [
              "   Customer_no  Item_no  ... AVG_Transaction_Amount Count_Transaction\n",
              "0       100001   100473  ...                24091.0                 1\n",
              "1       100001   104022  ...                 6000.0                 1\n",
              "2       100001   107893  ...                10909.0                 1\n",
              "3       100001   107492  ...                 8545.0                 1\n",
              "4       100001   109660  ...                 4545.0                 1\n",
              "\n",
              "[5 rows x 8 columns]"
            ]
          },
          "execution_count": 4,
          "metadata": {},
          "output_type": "execute_result"
        }
      ]
    },
    {
      "cell_type": "code",
      "metadata": {
        "colab": {
          "base_uri": "https://localhost:8080/"
        },
        "id": "x6h_UC6gKLai",
        "outputId": "dbac3ce9-628c-49d3-fe5f-5aca9442a1d3"
      },
      "source": [
        "df.info()"
      ],
      "execution_count": null,
      "outputs": [
        {
          "name": "stdout",
          "output_type": "stream",
          "text": [
            "<class 'pandas.core.frame.DataFrame'>\n",
            "RangeIndex: 117842 entries, 0 to 117841\n",
            "Data columns (total 8 columns):\n",
            " #   Column                  Non-Null Count   Dtype  \n",
            "---  ------                  --------------   -----  \n",
            " 0   Customer_no             117842 non-null  int64  \n",
            " 1   Item_no                 117842 non-null  int64  \n",
            " 2   Description             117842 non-null  object \n",
            " 3   Dept                    117842 non-null  object \n",
            " 4   First_Transaction       117842 non-null  object \n",
            " 5   Last_Transaction        117842 non-null  object \n",
            " 6   AVG_Transaction_Amount  117842 non-null  float64\n",
            " 7   Count_Transaction       117842 non-null  int64  \n",
            "dtypes: float64(1), int64(3), object(4)\n",
            "memory usage: 7.2+ MB\n"
          ]
        }
      ]
    },
    {
      "cell_type": "markdown",
      "metadata": {
        "id": "-eII9RFjtzB6"
      },
      "source": [
        "CHURN CUSTOMERS\n",
        "Untuk menentukan churn customers sesuai definisi yang telah diberikan, carilah\n",
        "\n",
        "1. transaksi paling terakhir kapan dilakukan\n",
        "2. klasifikasikanlah mana customer yang berstatus churn dan mana yang tidak.\n",
        "\n",
        "Setelah itu cetak lima data teratas dan informasi dataset."
      ]
    },
    {
      "cell_type": "code",
      "metadata": {
        "colab": {
          "base_uri": "https://localhost:8080/"
        },
        "id": "2OnoSWYcpAiS",
        "outputId": "fbbc57b3-cc58-4d7c-ef66-3bda772adddd"
      },
      "source": [
        "# Pengecekan transaksaksi terakhir dalam dataset\n",
        "print(max(df['Last_Transaction']))\n",
        "\n",
        "# Klasifikasikan customer yang berstatus churn atau tidak\n",
        "df.loc[df['Last_Transaction'] <= '30-06-2020', 'is_churn'] = True\n",
        "df.loc[df['Last_Transaction'] > '30-06-2020', 'is_churn'] = False\n",
        "\n",
        "print('Lima data teratas:')\n",
        "print(df.head())\n",
        "\n",
        "print('\\nInfo dataset:')\n",
        "print(df.info())"
      ],
      "execution_count": null,
      "outputs": [
        {
          "name": "stdout",
          "output_type": "stream",
          "text": [
            "31-12-19\n",
            "Lima data teratas:\n",
            "   Customer_no  Item_no  ... Count_Transaction is_churn\n",
            "0       100001   100473  ...                 1     True\n",
            "1       100001   104022  ...                 1     True\n",
            "2       100001   107893  ...                 1     True\n",
            "3       100001   107492  ...                 1     True\n",
            "4       100001   109660  ...                 1     True\n",
            "\n",
            "[5 rows x 9 columns]\n",
            "\n",
            "Info dataset:\n",
            "<class 'pandas.core.frame.DataFrame'>\n",
            "RangeIndex: 117842 entries, 0 to 117841\n",
            "Data columns (total 9 columns):\n",
            " #   Column                  Non-Null Count   Dtype  \n",
            "---  ------                  --------------   -----  \n",
            " 0   Customer_no             117842 non-null  int64  \n",
            " 1   Item_no                 117842 non-null  int64  \n",
            " 2   Description             117842 non-null  object \n",
            " 3   Dept                    117842 non-null  object \n",
            " 4   First_Transaction       117842 non-null  object \n",
            " 5   Last_Transaction        117842 non-null  object \n",
            " 6   AVG_Transaction_Amount  117842 non-null  float64\n",
            " 7   Count_Transaction       117842 non-null  int64  \n",
            " 8   is_churn                117842 non-null  object \n",
            "dtypes: float64(1), int64(3), object(5)\n",
            "memory usage: 8.1+ MB\n",
            "None\n"
          ]
        }
      ]
    },
    {
      "cell_type": "code",
      "metadata": {
        "colab": {
          "base_uri": "https://localhost:8080/"
        },
        "id": "6JQd1oLw2dWv",
        "outputId": "217aa182-95e2-40b4-fa49-f771afdf5fe6"
      },
      "source": [
        "# Kolom First_Transaction\n",
        "df['First_Transaction'] = pd.to_datetime(df['First_Transaction'])\n",
        "# Kolom Last_Transaction\n",
        "df['Last_Transaction'] = pd.to_datetime(df['Last_Transaction'])\n",
        "\n",
        "print('Lima data teratas:')\n",
        "print(df.head())"
      ],
      "execution_count": null,
      "outputs": [
        {
          "name": "stdout",
          "output_type": "stream",
          "text": [
            "Lima data teratas:\n",
            "   Customer_no  Item_no  ... Count_Transaction is_churn\n",
            "0       100001   100473  ...                 1     True\n",
            "1       100001   104022  ...                 1     True\n",
            "2       100001   107893  ...                 1     True\n",
            "3       100001   107492  ...                 1     True\n",
            "4       100001   109660  ...                 1     True\n",
            "\n",
            "[5 rows x 9 columns]\n"
          ]
        }
      ]
    },
    {
      "cell_type": "code",
      "metadata": {
        "colab": {
          "base_uri": "https://localhost:8080/"
        },
        "id": "BcpR55thv4La",
        "outputId": "d02faa08-3a5b-4ded-fd41-91cdd2e3ec25"
      },
      "source": [
        "# Hapus kolom-kolom yang tidak diperlukan\n",
        "#del df['Item_no']\n",
        "# Cetak lima data teratas\n",
        "#print(df.head())"
      ],
      "execution_count": null,
      "outputs": [
        {
          "name": "stdout",
          "output_type": "stream",
          "text": [
            "   Customer_no                   Description  ... Count_Transaction is_churn\n",
            "0       100001          FOX LEM BANTENG KW 1  ...                 1     True\n",
            "1       100001  JASON 348-049 OBENG 8IN PLUS  ...                 1     True\n",
            "2       100001                   (NON AKTIF)  ...                 1     True\n",
            "3       100001    TACO EDGING 22MM X 2MM 205  ...                 1     True\n",
            "4       100001   KLASSEN CH.1027 E.SD HT BKK  ...                 1     True\n",
            "\n",
            "[5 rows x 8 columns]\n"
          ]
        }
      ]
    },
    {
      "cell_type": "markdown",
      "metadata": {
        "id": "S1J3puFkunMn"
      },
      "source": [
        "Customer Acquisition by Year"
      ]
    },
    {
      "cell_type": "code",
      "metadata": {
        "colab": {
          "base_uri": "https://localhost:8080/",
          "height": 297
        },
        "id": "uKrq3ozVkgUD",
        "outputId": "2d476f5e-a3b9-4ea1-827e-82fd54c2b6b1"
      },
      "source": [
        "import matplotlib.pyplot as plt\n",
        "\n",
        "# Kolom tahun transaksi pertama\n",
        "df['Year_First_Transaction'] = df['First_Transaction'].dt.year\n",
        "\n",
        "# Kolom tahun transaksi terakhir\n",
        "df['Year_Last_Transaction'] = df['Last_Transaction'].dt.year\n",
        "df_year = df.groupby(['Year_First_Transaction'])['Customer_no'].count()\n",
        "df_year.plot(x='Year_First_Transaction', y='Customer_ID', kind='bar', title='Graph of Customer Acquisition')\n",
        "plt.xlabel('Year_First_Transaction')\n",
        "plt.ylabel('Num_of_Customer')\n",
        "plt.tight_layout()\n",
        "plt.show()"
      ],
      "execution_count": null,
      "outputs": [
        {
          "data": {
            "image/png": "[encoded data removed]",
            "text/plain": [
              "<Figure size 432x288 with 1 Axes>"
            ]
          },
          "metadata": {},
          "output_type": "display_data"
        }
      ]
    },
    {
      "cell_type": "markdown",
      "metadata": {
        "id": "tGJRjOaO2kiA"
      },
      "source": [
        "Transaction by Year"
      ]
    },
    {
      "cell_type": "code",
      "metadata": {
        "colab": {
          "base_uri": "https://localhost:8080/",
          "height": 297
        },
        "id": "6LYc68VxvFZ5",
        "outputId": "029c4170-e893-4911-e6bd-7a4781b8c1af"
      },
      "source": [
        "import matplotlib.pyplot as plt\n",
        "plt.clf()\n",
        "df_year = df.groupby(['Year_First_Transaction'])['Count_Transaction'].sum()\n",
        "df_year.plot(x='Year_First_Transaction', y='Count_Transaction', kind='bar', title='Graph of Transaction Customer')\n",
        "plt.xlabel('Year_First_Transaction')\n",
        "plt.ylabel('Num_of_Transaction')\n",
        "plt.tight_layout()\n",
        "plt.show()"
      ],
      "execution_count": null,
      "outputs": [
        {
          "data": {
            "image/png": "[encoded data removed]",
            "text/plain": [
              "<Figure size 432x288 with 1 Axes>"
            ]
          },
          "metadata": {},
          "output_type": "display_data"
        }
      ]
    },
    {
      "cell_type": "markdown",
      "metadata": {
        "id": "gvCO3bT5Fsi_"
      },
      "source": [
        "Average Transaction Amount by YEAR"
      ]
    },
    {
      "cell_type": "code",
      "metadata": {
        "id": "qSEzjRMFu0e5"
      },
      "source": [
        "#import matplotlib.pyplot as plt\n",
        "#import seaborn as sns\n",
        "\n",
        "#plt.clf()\n",
        "#sns.pointplot(data = df.groupby(['Description', 'Year_First_Transaction']).mean().reset_index(),\n",
        "#\t\t\t  x='Year_First_Transaction',\n",
        "#\t\t\t  y='AVG_Transaction_Amount',\n",
        "#\t\t\t  hue='Description')\n",
        "#plt.tight_layout()\n",
        "#plt.show()\n"
      ],
      "execution_count": null,
      "outputs": []
    },
    {
      "cell_type": "code",
      "metadata": {
        "colab": {
          "base_uri": "https://localhost:8080/",
          "height": 640
        },
        "id": "F5o4gP0NGCYc",
        "outputId": "7fbb80bc-7747-4ab4-b478-1ba810d1f66a"
      },
      "source": [
        "import matplotlib.pyplot as plt\n",
        "plt.clf()\n",
        "\n",
        "# Melakukan pivot data\n",
        "df_piv = df.pivot_table(index='is_churn',\n",
        "\t\t\t\t\t\tcolumns='Description',\n",
        "\t\t\t\t\t\tvalues='Customer_no',\n",
        "\t\t\t\t\t\taggfunc='count',\n",
        "\t\t\t\t\t\tfill_value=0)\n",
        "\n",
        "# Mendapatkan Proportion Churn by Product\n",
        "plot_product = df_piv.count().sort_values(ascending=False).tail(5).index\n",
        "\n",
        "# Plot pie chartnya\n",
        "df_piv = df_piv.reindex(columns=plot_product)\n",
        "df_piv.plot.pie(subplots=True,\n",
        "\t\t\t\tfigsize=(15, 10),\n",
        "\t\t\t\tlayout=(-1, 2),\n",
        "\t\t\t\tautopct='%1.0f%%',\n",
        "\t\t\t\ttitle='Proportion Churn by Product')\n",
        "plt.tight_layout()\n",
        "plt.show()"
      ],
      "execution_count": null,
      "outputs": [
        {
          "data": {
            "text/plain": [
              "<Figure size 432x288 with 0 Axes>"
            ]
          },
          "metadata": {},
          "output_type": "display_data"
        },
        {
          "data": {
            "image/png": "[encoded data removed]",
            "text/plain": [
              "<Figure size 1080x720 with 6 Axes>"
            ]
          },
          "metadata": {},
          "output_type": "display_data"
        }
      ]
    },
    {
      "cell_type": "code",
      "metadata": {
        "colab": {
          "base_uri": "https://localhost:8080/",
          "height": 297
        },
        "id": "bPVtVYI1JDyF",
        "outputId": "1cdf1522-632b-4586-c88e-00df7067f479"
      },
      "source": [
        "import matplotlib.pyplot as plt\n",
        "plt.clf()\n",
        "# Kategorisasi jumlah transaksi\n",
        "def func(row):\n",
        "\tif row['Count_Transaction'] == 1:\n",
        "\t\tval = '1. 1'\n",
        "\telif (row['Count_Transaction'] >1 and row['Count_Transaction'] <= 3):\n",
        "\t\tval ='2. 2 - 3'\n",
        "\telif (row['Count_Transaction'] >3 and row['Count_Transaction'] <= 6):\n",
        "\t\tval ='3. 4 - 6'\n",
        "\telif (row['Count_Transaction'] >6 and row['Count_Transaction'] <= 10):\n",
        "\t\tval ='4. 7 - 10'\n",
        "\telse:\n",
        "\t\tval ='5. >10'\n",
        "\treturn val\n",
        "# Tambahkan kolom baru\n",
        "df['Count_Transaction_Group'] = df.apply(func, axis=1)\n",
        "df_year = df.groupby(['Count_Transaction_Group'])['Customer_no'].count()\n",
        "df_year.plot(x='Count_Transaction_Group', y='Customer_ID', kind='bar', title='Customer Distribution by Count Transaction Group')\n",
        "plt.xlabel('Count_Transaction_Group')\n",
        "plt.ylabel('Num_of_Customer')\n",
        "plt.tight_layout()\n",
        "plt.show()"
      ],
      "execution_count": null,
      "outputs": [
        {
          "data": {
            "image/png": "[encoded data removed]",
            "text/plain": [
              "<Figure size 432x288 with 1 Axes>"
            ]
          },
          "metadata": {},
          "output_type": "display_data"
        }
      ]
    },
    {
      "cell_type": "code",
      "metadata": {
        "colab": {
          "base_uri": "https://localhost:8080/",
          "height": 297
        },
        "id": "YyeGjxoUj_a5",
        "outputId": "d9513fa3-9fa2-40ea-ed0c-1eb1ff0adab3"
      },
      "source": [
        "import matplotlib.pyplot as plt\n",
        "plt.clf()\n",
        "# Kategorisasi rata-rata besar transaksi\n",
        "def f(row):\n",
        "\tif (row['AVG_Transaction_Amount'] >= 0 and row['AVG_Transaction_Amount'] <=100000):\n",
        "\t\tval ='1. 0 - 100.000'\n",
        "\telif (row['AVG_Transaction_Amount'] > 100000 and row['AVG_Transaction_Amount'] <= 500000):\n",
        "\t\tval ='2. >100.000 - 500.000'\n",
        "\telif (row['AVG_Transaction_Amount'] > 500000 and row['AVG_Transaction_Amount'] <= 1000000):\n",
        "\t\tval ='3. >500.000 - 1.000.000'\n",
        "\telif (row['AVG_Transaction_Amount'] > 1000000 and row['AVG_Transaction_Amount'] <= 2500000):\n",
        "\t\tval ='4. >1.000.000 - 2.500.000'\n",
        "\telif (row['AVG_Transaction_Amount'] > 2500000 and row['AVG_Transaction_Amount'] <= 5000000):\n",
        "\t\tval ='5. >2.500.000 - 5.000.000'\n",
        "\telif (row['AVG_Transaction_Amount'] > 5000000 and row['AVG_Transaction_Amount'] <= 10000000):\n",
        "\t\tval ='6. >5.000.000 - 10.000.000'\n",
        "\telif (row['AVG_Transaction_Amount'] > 10000000 and row['AVG_Transaction_Amount'] <= 50000000):\n",
        "\t\tval ='7. >10.000.000 - 50.000.000'\n",
        "\telse:\n",
        "\t\tval ='8. > 50.000.000'\n",
        "\treturn val\n",
        "\n",
        "# Tambahkan kolom baru\n",
        "df['AVG_Transaction_Amount_Group'] = df.apply(f, axis=1)\n",
        "df_year = df.groupby(['AVG_Transaction_Amount_Group'])['Customer_no'].count()\n",
        "df_year.plot(x='AVG_Transaction_Amount_Group', y='Customer_no',kind='bar', title='Customer Distribution by Average Transaction Amount Group')\n",
        "plt.xlabel('AVG_Transaction_Amount_Group')\n",
        "plt.ylabel('Num_of_Customer')\n",
        "plt.tight_layout()\n",
        "plt.show()\n"
      ],
      "execution_count": null,
      "outputs": [
        {
          "data": {
            "image/png": "[encoded data removed]",
            "text/plain": [
              "<Figure size 432x288 with 1 Axes>"
            ]
          },
          "metadata": {},
          "output_type": "display_data"
        }
      ]
    },
    {
      "cell_type": "code",
      "metadata": {
        "colab": {
          "base_uri": "https://localhost:8080/"
        },
        "id": "a2rImfzDNbof",
        "outputId": "bd8c697c-796f-49f0-b29c-70332546db09"
      },
      "source": [
        "# Feature column: Year_Diff\n",
        "df['Year_Diff']=df['Year_Last_Transaction'] - df['Year_First_Transaction']\n",
        "\n",
        "# Nama-nama feature columns\n",
        "feature_columns = ['Customer_no','Item_no', 'AVG_Transaction_Amount', 'Count_Transaction','Year_Diff']\n",
        "\n",
        "# Features variable\n",
        "X = df[feature_columns]  \n",
        "\n",
        "# Target variable\n",
        "print(df[df['is_churn'].isnull()])\n",
        "df['is_churn'] = pd.to_numeric(df['is_churn'], errors='coerce')\n",
        "df = df.dropna(subset=['is_churn'])\n",
        "df['is_churn'] = df['is_churn'].astype(int)\n",
        "y = df['is_churn']"
      ],
      "execution_count": null,
      "outputs": [
        {
          "name": "stdout",
          "output_type": "stream",
          "text": [
            "Empty DataFrame\n",
            "Columns: [Customer_no, Item_no, Description, Dept, First_Transaction, Last_Transaction, AVG_Transaction_Amount, Count_Transaction, is_churn, Year_First_Transaction, Year_Last_Transaction, Count_Transaction_Group, AVG_Transaction_Amount_Group, Year_Diff]\n",
            "Index: []\n"
          ]
        }
      ]
    },
    {
      "cell_type": "code",
      "metadata": {
        "id": "mnz_CiIDNtQf"
      },
      "source": [
        "from sklearn.model_selection import train_test_split\n",
        "\n",
        "X_train, X_test, y_train, y_test = train_test_split(X, y, test_size=0.3, random_state=0)"
      ],
      "execution_count": null,
      "outputs": []
    },
    {
      "cell_type": "code",
      "metadata": {
        "colab": {
          "base_uri": "https://localhost:8080/"
        },
        "id": "u3vrIJcU_NbD",
        "outputId": "f5502f83-0b8f-4a84-ecc2-3c639c585162"
      },
      "source": [
        "print(y_test)"
      ],
      "execution_count": null,
      "outputs": [
        {
          "name": "stdout",
          "output_type": "stream",
          "text": [
            "111959    1\n",
            "72857     1\n",
            "77024     1\n",
            "42063     1\n",
            "109239    1\n",
            "         ..\n",
            "20273     1\n",
            "3681      1\n",
            "100655    1\n",
            "21541     1\n",
            "63889     1\n",
            "Name: is_churn, Length: 35353, dtype: int64\n"
          ]
        }
      ]
    },
    {
      "cell_type": "code",
      "metadata": {
        "colab": {
          "base_uri": "https://localhost:8080/"
        },
        "id": "-YlQ2_Zg_q5H",
        "outputId": "49abc8b7-44a6-41b4-aaa7-d292bdc34321"
      },
      "source": [
        "print(X_test)"
      ],
      "execution_count": null,
      "outputs": [
        {
          "name": "stdout",
          "output_type": "stream",
          "text": [
            "        Customer_no  Item_no  ...  Count_Transaction  Year_Diff\n",
            "111959       102792   109660  ...                  3          0\n",
            "72857        101989   103161  ...                 15          3\n",
            "77024        102086   102508  ...                  1          0\n",
            "42063        100637   102914  ...                  1          0\n",
            "109239       101595   109743  ...                  1          0\n",
            "...             ...      ...  ...                ...        ...\n",
            "20273        100235   119879  ...                  6          0\n",
            "3681         100065   102791  ...                  1          0\n",
            "100655       100235   107370  ...                  2          0\n",
            "21541        100248   112149  ...                  1          0\n",
            "63889        101686   107081  ...                  1          0\n",
            "\n",
            "[35353 rows x 5 columns]\n"
          ]
        }
      ]
    },
    {
      "cell_type": "code",
      "metadata": {
        "colab": {
          "base_uri": "https://localhost:8080/"
        },
        "id": "c3HT8aqOFOVr",
        "outputId": "45c4ac8d-1ebe-4955-c2b6-8b6ef30e5bd0"
      },
      "source": [
        "#Train, predict dan evaluate\n",
        "from sklearn.linear_model import LogisticRegression\n",
        "from sklearn.metrics import confusion_matrix\n",
        "\n",
        "# Inisiasi model logreg\n",
        "logreg = LogisticRegression()\n",
        "\n",
        "# fit the model with data\n",
        "log_model=logreg.fit(X_train, y_train)\n",
        "\n",
        "# Predict model\n",
        "y_train_pred = log_model.predict(X_train)\n",
        "\n",
        "# Evaluasi model menggunakan confusion matrix\n",
        "cnf_matrix = pd.DataFrame(confusion_matrix(y_train,y_train_pred))\n",
        "print('Confusion Matrix:\\n', cnf_matrix)"
      ],
      "execution_count": null,
      "outputs": [
        {
          "name": "stdout",
          "output_type": "stream",
          "text": [
            "Confusion Matrix:\n",
            "    0      1\n",
            "0  1   3479\n",
            "1  4  79005\n"
          ]
        }
      ]
    },
    {
      "cell_type": "code",
      "metadata": {
        "colab": {
          "base_uri": "https://localhost:8080/",
          "height": 315
        },
        "id": "OlphLYAvNyhS",
        "outputId": "6f5e0c54-7328-49a9-d6ae-9e39df966c81"
      },
      "source": [
        "#y_pred = logreg.predict(X_test)\n",
        "#cnf_matrix = confusion_matrix(y_test, y_pred)\n",
        "\n",
        "# import required modules\n",
        "import numpy as np\n",
        "import matplotlib.pyplot as plt\n",
        "import seaborn as sns\n",
        "plt.clf()\n",
        "\n",
        "# name of classes\n",
        "class_names = [0, 1]\n",
        "fig, ax = plt.subplots()\n",
        "tick_marks = np.arange(len(class_names))\n",
        "plt.xticks(tick_marks, class_names)\n",
        "plt.yticks(tick_marks, class_names)\n",
        "\n",
        "# create heatmap\n",
        "sns.heatmap(pd.DataFrame(cnf_matrix), annot=True, cmap='YlGnBu', fmt='g')\n",
        "ax.xaxis.set_label_position('top')\n",
        "plt.title('Confusion matrix', y=1.1)\n",
        "plt.ylabel('Actual')\n",
        "plt.xlabel('Predicted')\n",
        "plt.tight_layout()\n",
        "plt.show()"
      ],
      "execution_count": null,
      "outputs": [
        {
          "data": {
            "text/plain": [
              "<Figure size 432x288 with 0 Axes>"
            ]
          },
          "metadata": {},
          "output_type": "display_data"
        },
        {
          "data": {
            "image/png": "[encoded data removed]",
            "text/plain": [
              "<Figure size 432x288 with 2 Axes>"
            ]
          },
          "metadata": {},
          "output_type": "display_data"
        }
      ]
    },
    {
      "cell_type": "code",
      "metadata": {
        "colab": {
          "base_uri": "https://localhost:8080/"
        },
        "id": "HLcpBZiypDa5",
        "outputId": "0be2f33f-4c5f-4353-ca84-bc76db508f16"
      },
      "source": [
        "print(y_train_pred)"
      ],
      "execution_count": null,
      "outputs": [
        {
          "name": "stdout",
          "output_type": "stream",
          "text": [
            "[1 1 1 ... 1 1 1]\n"
          ]
        }
      ]
    },
    {
      "cell_type": "code",
      "metadata": {
        "colab": {
          "base_uri": "https://localhost:8080/"
        },
        "id": "CNWfrqO7FtV0",
        "outputId": "ab3fc4f0-e4be-4291-e56e-16bb1b7a00d3"
      },
      "source": [
        "y_test_pred = log_model.predict(X_test)\n",
        "\n",
        "# Evaluasi model menggunakan confusion matrix\n",
        "cnf_matrix = pd.DataFrame(confusion_matrix(y_test,y_test_pred))\n",
        "print('Confusion Matrix:\\n', cnf_matrix)"
      ],
      "execution_count": null,
      "outputs": [
        {
          "name": "stdout",
          "output_type": "stream",
          "text": [
            "Confusion Matrix:\n",
            "    0      1\n",
            "0  0   1461\n",
            "1  2  33890\n"
          ]
        }
      ]
    },
    {
      "cell_type": "code",
      "metadata": {
        "colab": {
          "base_uri": "https://localhost:8080/"
        },
        "id": "8Xrz677zGA7T",
        "outputId": "582aee9c-a523-4c8a-d4fe-2ebfdd31cd30"
      },
      "source": [
        "print(y_test_pred)"
      ],
      "execution_count": null,
      "outputs": [
        {
          "name": "stdout",
          "output_type": "stream",
          "text": [
            "[1 1 1 ... 1 1 1]\n"
          ]
        }
      ]
    },
    {
      "cell_type": "code",
      "metadata": {
        "colab": {
          "base_uri": "https://localhost:8080/",
          "height": 315
        },
        "id": "ZF13vMldGGah",
        "outputId": "c33c74ef-e1e0-48be-b582-599a5dfd711d"
      },
      "source": [
        "#y_pred = logreg.predict(X_test)\n",
        "#cnf_matrix = confusion_matrix(y_test, y_pred)\n",
        "\n",
        "# import required modules\n",
        "import numpy as np\n",
        "import matplotlib.pyplot as plt\n",
        "import seaborn as sns\n",
        "plt.clf()\n",
        "\n",
        "# name of classes\n",
        "class_names = [0, 1]\n",
        "fig, ax = plt.subplots()\n",
        "tick_marks = np.arange(len(class_names))\n",
        "plt.xticks(tick_marks, class_names)\n",
        "plt.yticks(tick_marks, class_names)\n",
        "\n",
        "# create heatmap\n",
        "sns.heatmap(pd.DataFrame(cnf_matrix), annot=True, cmap='YlGnBu', fmt='g')\n",
        "ax.xaxis.set_label_position('top')\n",
        "plt.title('Confusion matrix', y=1.1)\n",
        "plt.ylabel('Actual')\n",
        "plt.xlabel('Predicted')\n",
        "plt.tight_layout()\n",
        "plt.show()"
      ],
      "execution_count": null,
      "outputs": [
        {
          "data": {
            "text/plain": [
              "<Figure size 432x288 with 0 Axes>"
            ]
          },
          "metadata": {},
          "output_type": "display_data"
        },
        {
          "data": {
            "image/png": "[encoded data removed]",
            "text/plain": [
              "<Figure size 432x288 with 2 Axes>"
            ]
          },
          "metadata": {},
          "output_type": "display_data"
        }
      ]
    },
    {
      "cell_type": "code",
      "metadata": {
        "colab": {
          "base_uri": "https://localhost:8080/"
        },
        "id": "ioGrhdaVOJBK",
        "outputId": "597c39ef-fb1a-4731-beed-c9f21f04788f"
      },
      "source": [
        "from sklearn.metrics import accuracy_score, precision_score, recall_score\n",
        "\n",
        "#Menghitung Accuracy, Precision, dan Recall\n",
        "print('Accuracy :', accuracy_score(y_test, y_test_pred))\n",
        "print('Precision:', precision_score(y_test, y_test_pred, average='micro'))\n",
        "print('Recall :', recall_score(y_test, y_test_pred, average='micro'))"
      ],
      "execution_count": null,
      "outputs": [
        {
          "name": "stdout",
          "output_type": "stream",
          "text": [
            "Accuracy : 0.9586173733487964\n",
            "Precision: 0.9586173733487964\n",
            "Recall : 0.9586173733487964\n"
          ]
        }
      ]
    },
    {
      "cell_type": "code",
      "metadata": {
        "id": "hlSXVxgpPL4E"
      },
      "source": [
        "#Output CSV\n",
        "final_train = pd.DataFrame()\n",
        "final_train = X_train.assign()\n"
      ],
      "execution_count": null,
      "outputs": []
    },
    {
      "cell_type": "code",
      "metadata": {
        "colab": {
          "base_uri": "https://localhost:8080/"
        },
        "id": "RsjV2ple188X",
        "outputId": "e9cb1e84-76f3-4556-dad3-8296fc7d50d4"
      },
      "source": [
        "print(final_train.head())\n",
        "print(final_train.shape)"
      ],
      "execution_count": null,
      "outputs": [
        {
          "name": "stdout",
          "output_type": "stream",
          "text": [
            "        Customer_no  Item_no  ...  Count_Transaction  Year_Diff\n",
            "36237        100490   106463  ...                  1          0\n",
            "18263        100235   108008  ...                 13          0\n",
            "102068       100266   103082  ...                 14          1\n",
            "28080        100331   109698  ...                  1          0\n",
            "114186       103166   111003  ...                  1          0\n",
            "\n",
            "[5 rows x 5 columns]\n",
            "(82489, 5)\n"
          ]
        }
      ]
    },
    {
      "cell_type": "code",
      "metadata": {
        "id": "vPZDe_Cs2B5m"
      },
      "source": [
        "output = final_train.assign(churn_pred = y_train_pred)"
      ],
      "execution_count": null,
      "outputs": []
    },
    {
      "cell_type": "code",
      "metadata": {
        "colab": {
          "base_uri": "https://localhost:8080/",
          "height": 1000
        },
        "id": "IsiHtE852Etv",
        "outputId": "fc4ea050-b18d-454b-9a77-8ef85badea57"
      },
      "source": [
        "output.head(50)"
      ],
      "execution_count": null,
      "outputs": [
        {
          "data": {
            "text/html": [
              "<div>\n",
              "<style scoped>\n",
              "    .dataframe tbody tr th:only-of-type {\n",
              "        vertical-align: middle;\n",
              "    }\n",
              "\n",
              "    .dataframe tbody tr th {\n",
              "        vertical-align: top;\n",
              "    }\n",
              "\n",
              "    .dataframe thead th {\n",
              "        text-align: right;\n",
              "    }\n",
              "</style>\n",
              "<table border=\"1\" class=\"dataframe\">\n",
              "  <thead>\n",
              "    <tr style=\"text-align: right;\">\n",
              "      <th></th>\n",
              "      <th>Customer_no</th>\n",
              "      <th>Item_no</th>\n",
              "      <th>AVG_Transaction_Amount</th>\n",
              "      <th>Count_Transaction</th>\n",
              "      <th>Year_Diff</th>\n",
              "      <th>churn_pred</th>\n",
              "    </tr>\n",
              "  </thead>\n",
              "  <tbody>\n",
              "    <tr>\n",
              "      <th>36237</th>\n",
              "      <td>100490</td>\n",
              "      <td>106463</td>\n",
              "      <td>61364.00000</td>\n",
              "      <td>1</td>\n",
              "      <td>0</td>\n",
              "      <td>1</td>\n",
              "    </tr>\n",
              "    <tr>\n",
              "      <th>18263</th>\n",
              "      <td>100235</td>\n",
              "      <td>108008</td>\n",
              "      <td>39860.00000</td>\n",
              "      <td>13</td>\n",
              "      <td>0</td>\n",
              "      <td>1</td>\n",
              "    </tr>\n",
              "    <tr>\n",
              "      <th>102068</th>\n",
              "      <td>100266</td>\n",
              "      <td>103082</td>\n",
              "      <td>679363.85710</td>\n",
              "      <td>14</td>\n",
              "      <td>1</td>\n",
              "      <td>1</td>\n",
              "    </tr>\n",
              "    <tr>\n",
              "      <th>28080</th>\n",
              "      <td>100331</td>\n",
              "      <td>109698</td>\n",
              "      <td>106818.00000</td>\n",
              "      <td>1</td>\n",
              "      <td>0</td>\n",
              "      <td>1</td>\n",
              "    </tr>\n",
              "    <tr>\n",
              "      <th>114186</th>\n",
              "      <td>103166</td>\n",
              "      <td>111003</td>\n",
              "      <td>505909.00000</td>\n",
              "      <td>1</td>\n",
              "      <td>0</td>\n",
              "      <td>1</td>\n",
              "    </tr>\n",
              "    <tr>\n",
              "      <th>55265</th>\n",
              "      <td>100894</td>\n",
              "      <td>100659</td>\n",
              "      <td>65455.00000</td>\n",
              "      <td>1</td>\n",
              "      <td>0</td>\n",
              "      <td>1</td>\n",
              "    </tr>\n",
              "    <tr>\n",
              "      <th>106819</th>\n",
              "      <td>101188</td>\n",
              "      <td>104214</td>\n",
              "      <td>286944.00000</td>\n",
              "      <td>1</td>\n",
              "      <td>0</td>\n",
              "      <td>1</td>\n",
              "    </tr>\n",
              "    <tr>\n",
              "      <th>65560</th>\n",
              "      <td>101721</td>\n",
              "      <td>101150</td>\n",
              "      <td>5182.00000</td>\n",
              "      <td>1</td>\n",
              "      <td>0</td>\n",
              "      <td>1</td>\n",
              "    </tr>\n",
              "    <tr>\n",
              "      <th>76711</th>\n",
              "      <td>102078</td>\n",
              "      <td>101723</td>\n",
              "      <td>19091.00000</td>\n",
              "      <td>1</td>\n",
              "      <td>0</td>\n",
              "      <td>1</td>\n",
              "    </tr>\n",
              "    <tr>\n",
              "      <th>93246</th>\n",
              "      <td>103565</td>\n",
              "      <td>111594</td>\n",
              "      <td>19772.75000</td>\n",
              "      <td>4</td>\n",
              "      <td>1</td>\n",
              "      <td>1</td>\n",
              "    </tr>\n",
              "    <tr>\n",
              "      <th>49978</th>\n",
              "      <td>100805</td>\n",
              "      <td>110736</td>\n",
              "      <td>26818.00000</td>\n",
              "      <td>1</td>\n",
              "      <td>0</td>\n",
              "      <td>1</td>\n",
              "    </tr>\n",
              "    <tr>\n",
              "      <th>16349</th>\n",
              "      <td>100235</td>\n",
              "      <td>103878</td>\n",
              "      <td>41732.28947</td>\n",
              "      <td>76</td>\n",
              "      <td>5</td>\n",
              "      <td>1</td>\n",
              "    </tr>\n",
              "    <tr>\n",
              "      <th>8061</th>\n",
              "      <td>100129</td>\n",
              "      <td>109659</td>\n",
              "      <td>134545.00000</td>\n",
              "      <td>1</td>\n",
              "      <td>0</td>\n",
              "      <td>1</td>\n",
              "    </tr>\n",
              "    <tr>\n",
              "      <th>52509</th>\n",
              "      <td>100863</td>\n",
              "      <td>104219</td>\n",
              "      <td>396364.00000</td>\n",
              "      <td>1</td>\n",
              "      <td>0</td>\n",
              "      <td>1</td>\n",
              "    </tr>\n",
              "    <tr>\n",
              "      <th>11102</th>\n",
              "      <td>100165</td>\n",
              "      <td>110694</td>\n",
              "      <td>42613.50000</td>\n",
              "      <td>4</td>\n",
              "      <td>0</td>\n",
              "      <td>1</td>\n",
              "    </tr>\n",
              "    <tr>\n",
              "      <th>57024</th>\n",
              "      <td>100914</td>\n",
              "      <td>104777</td>\n",
              "      <td>54345.00000</td>\n",
              "      <td>2</td>\n",
              "      <td>0</td>\n",
              "      <td>1</td>\n",
              "    </tr>\n",
              "    <tr>\n",
              "      <th>85424</th>\n",
              "      <td>102435</td>\n",
              "      <td>100685</td>\n",
              "      <td>43636.00000</td>\n",
              "      <td>1</td>\n",
              "      <td>0</td>\n",
              "      <td>1</td>\n",
              "    </tr>\n",
              "    <tr>\n",
              "      <th>85245</th>\n",
              "      <td>102429</td>\n",
              "      <td>109787</td>\n",
              "      <td>77273.00000</td>\n",
              "      <td>1</td>\n",
              "      <td>0</td>\n",
              "      <td>1</td>\n",
              "    </tr>\n",
              "    <tr>\n",
              "      <th>19975</th>\n",
              "      <td>100235</td>\n",
              "      <td>110239</td>\n",
              "      <td>21442.00000</td>\n",
              "      <td>135</td>\n",
              "      <td>3</td>\n",
              "      <td>1</td>\n",
              "    </tr>\n",
              "    <tr>\n",
              "      <th>6406</th>\n",
              "      <td>100121</td>\n",
              "      <td>100532</td>\n",
              "      <td>67954.75000</td>\n",
              "      <td>4</td>\n",
              "      <td>0</td>\n",
              "      <td>1</td>\n",
              "    </tr>\n",
              "    <tr>\n",
              "      <th>52967</th>\n",
              "      <td>100877</td>\n",
              "      <td>108741</td>\n",
              "      <td>233863.33330</td>\n",
              "      <td>3</td>\n",
              "      <td>0</td>\n",
              "      <td>1</td>\n",
              "    </tr>\n",
              "    <tr>\n",
              "      <th>83454</th>\n",
              "      <td>102360</td>\n",
              "      <td>107898</td>\n",
              "      <td>10909.00000</td>\n",
              "      <td>1</td>\n",
              "      <td>0</td>\n",
              "      <td>1</td>\n",
              "    </tr>\n",
              "    <tr>\n",
              "      <th>99701</th>\n",
              "      <td>100198</td>\n",
              "      <td>101395</td>\n",
              "      <td>18182.00000</td>\n",
              "      <td>1</td>\n",
              "      <td>0</td>\n",
              "      <td>1</td>\n",
              "    </tr>\n",
              "    <tr>\n",
              "      <th>112010</th>\n",
              "      <td>102804</td>\n",
              "      <td>105763</td>\n",
              "      <td>671285.25000</td>\n",
              "      <td>4</td>\n",
              "      <td>1</td>\n",
              "      <td>1</td>\n",
              "    </tr>\n",
              "    <tr>\n",
              "      <th>2773</th>\n",
              "      <td>100047</td>\n",
              "      <td>108977</td>\n",
              "      <td>196909.00000</td>\n",
              "      <td>1</td>\n",
              "      <td>0</td>\n",
              "      <td>1</td>\n",
              "    </tr>\n",
              "    <tr>\n",
              "      <th>14832</th>\n",
              "      <td>100235</td>\n",
              "      <td>103403</td>\n",
              "      <td>50166.46667</td>\n",
              "      <td>30</td>\n",
              "      <td>1</td>\n",
              "      <td>1</td>\n",
              "    </tr>\n",
              "    <tr>\n",
              "      <th>22122</th>\n",
              "      <td>100259</td>\n",
              "      <td>102908</td>\n",
              "      <td>95455.00000</td>\n",
              "      <td>1</td>\n",
              "      <td>0</td>\n",
              "      <td>1</td>\n",
              "    </tr>\n",
              "    <tr>\n",
              "      <th>14012</th>\n",
              "      <td>100217</td>\n",
              "      <td>109928</td>\n",
              "      <td>40909.00000</td>\n",
              "      <td>3</td>\n",
              "      <td>1</td>\n",
              "      <td>1</td>\n",
              "    </tr>\n",
              "    <tr>\n",
              "      <th>88433</th>\n",
              "      <td>102657</td>\n",
              "      <td>106891</td>\n",
              "      <td>17727.00000</td>\n",
              "      <td>1</td>\n",
              "      <td>0</td>\n",
              "      <td>1</td>\n",
              "    </tr>\n",
              "    <tr>\n",
              "      <th>8539</th>\n",
              "      <td>100137</td>\n",
              "      <td>110866</td>\n",
              "      <td>12727.33333</td>\n",
              "      <td>3</td>\n",
              "      <td>2</td>\n",
              "      <td>1</td>\n",
              "    </tr>\n",
              "    <tr>\n",
              "      <th>100291</th>\n",
              "      <td>100235</td>\n",
              "      <td>110642</td>\n",
              "      <td>519772.75000</td>\n",
              "      <td>4</td>\n",
              "      <td>0</td>\n",
              "      <td>1</td>\n",
              "    </tr>\n",
              "    <tr>\n",
              "      <th>33080</th>\n",
              "      <td>100423</td>\n",
              "      <td>107335</td>\n",
              "      <td>390681.00000</td>\n",
              "      <td>1</td>\n",
              "      <td>0</td>\n",
              "      <td>1</td>\n",
              "    </tr>\n",
              "    <tr>\n",
              "      <th>44132</th>\n",
              "      <td>100676</td>\n",
              "      <td>108823</td>\n",
              "      <td>129545.00000</td>\n",
              "      <td>1</td>\n",
              "      <td>0</td>\n",
              "      <td>1</td>\n",
              "    </tr>\n",
              "    <tr>\n",
              "      <th>32022</th>\n",
              "      <td>100395</td>\n",
              "      <td>103770</td>\n",
              "      <td>117409.00000</td>\n",
              "      <td>2</td>\n",
              "      <td>0</td>\n",
              "      <td>1</td>\n",
              "    </tr>\n",
              "    <tr>\n",
              "      <th>26603</th>\n",
              "      <td>100325</td>\n",
              "      <td>107379</td>\n",
              "      <td>7556.75000</td>\n",
              "      <td>4</td>\n",
              "      <td>4</td>\n",
              "      <td>1</td>\n",
              "    </tr>\n",
              "    <tr>\n",
              "      <th>64497</th>\n",
              "      <td>101697</td>\n",
              "      <td>103968</td>\n",
              "      <td>2727.00000</td>\n",
              "      <td>2</td>\n",
              "      <td>3</td>\n",
              "      <td>1</td>\n",
              "    </tr>\n",
              "    <tr>\n",
              "      <th>56758</th>\n",
              "      <td>100910</td>\n",
              "      <td>102487</td>\n",
              "      <td>18182.00000</td>\n",
              "      <td>2</td>\n",
              "      <td>0</td>\n",
              "      <td>1</td>\n",
              "    </tr>\n",
              "    <tr>\n",
              "      <th>1041</th>\n",
              "      <td>100015</td>\n",
              "      <td>106890</td>\n",
              "      <td>15909.00000</td>\n",
              "      <td>1</td>\n",
              "      <td>0</td>\n",
              "      <td>1</td>\n",
              "    </tr>\n",
              "    <tr>\n",
              "      <th>5878</th>\n",
              "      <td>100101</td>\n",
              "      <td>103750</td>\n",
              "      <td>58727.00000</td>\n",
              "      <td>1</td>\n",
              "      <td>0</td>\n",
              "      <td>1</td>\n",
              "    </tr>\n",
              "    <tr>\n",
              "      <th>4310</th>\n",
              "      <td>100084</td>\n",
              "      <td>104035</td>\n",
              "      <td>7727.00000</td>\n",
              "      <td>1</td>\n",
              "      <td>0</td>\n",
              "      <td>1</td>\n",
              "    </tr>\n",
              "    <tr>\n",
              "      <th>20333</th>\n",
              "      <td>100236</td>\n",
              "      <td>101612</td>\n",
              "      <td>10318.00000</td>\n",
              "      <td>5</td>\n",
              "      <td>1</td>\n",
              "      <td>1</td>\n",
              "    </tr>\n",
              "    <tr>\n",
              "      <th>22563</th>\n",
              "      <td>100263</td>\n",
              "      <td>108818</td>\n",
              "      <td>18182.00000</td>\n",
              "      <td>1</td>\n",
              "      <td>0</td>\n",
              "      <td>1</td>\n",
              "    </tr>\n",
              "    <tr>\n",
              "      <th>52631</th>\n",
              "      <td>100874</td>\n",
              "      <td>104168</td>\n",
              "      <td>32727.00000</td>\n",
              "      <td>2</td>\n",
              "      <td>0</td>\n",
              "      <td>1</td>\n",
              "    </tr>\n",
              "    <tr>\n",
              "      <th>54886</th>\n",
              "      <td>100891</td>\n",
              "      <td>100839</td>\n",
              "      <td>10909.00000</td>\n",
              "      <td>1</td>\n",
              "      <td>0</td>\n",
              "      <td>1</td>\n",
              "    </tr>\n",
              "    <tr>\n",
              "      <th>55898</th>\n",
              "      <td>100901</td>\n",
              "      <td>109361</td>\n",
              "      <td>753476.50000</td>\n",
              "      <td>4</td>\n",
              "      <td>1</td>\n",
              "      <td>1</td>\n",
              "    </tr>\n",
              "    <tr>\n",
              "      <th>1395</th>\n",
              "      <td>100029</td>\n",
              "      <td>104401</td>\n",
              "      <td>102273.00000</td>\n",
              "      <td>2</td>\n",
              "      <td>0</td>\n",
              "      <td>1</td>\n",
              "    </tr>\n",
              "    <tr>\n",
              "      <th>59687</th>\n",
              "      <td>100928</td>\n",
              "      <td>101643</td>\n",
              "      <td>943610.57140</td>\n",
              "      <td>7</td>\n",
              "      <td>0</td>\n",
              "      <td>1</td>\n",
              "    </tr>\n",
              "    <tr>\n",
              "      <th>107457</th>\n",
              "      <td>101272</td>\n",
              "      <td>108795</td>\n",
              "      <td>69546.00000</td>\n",
              "      <td>2</td>\n",
              "      <td>0</td>\n",
              "      <td>1</td>\n",
              "    </tr>\n",
              "    <tr>\n",
              "      <th>56507</th>\n",
              "      <td>100908</td>\n",
              "      <td>109218</td>\n",
              "      <td>17195.00000</td>\n",
              "      <td>1</td>\n",
              "      <td>0</td>\n",
              "      <td>1</td>\n",
              "    </tr>\n",
              "    <tr>\n",
              "      <th>82061</th>\n",
              "      <td>102306</td>\n",
              "      <td>101419</td>\n",
              "      <td>6136.00000</td>\n",
              "      <td>1</td>\n",
              "      <td>0</td>\n",
              "      <td>1</td>\n",
              "    </tr>\n",
              "  </tbody>\n",
              "</table>\n",
              "</div>"
            ],
            "text/plain": [
              "        Customer_no  Item_no  ...  Year_Diff  churn_pred\n",
              "36237        100490   106463  ...          0           1\n",
              "18263        100235   108008  ...          0           1\n",
              "102068       100266   103082  ...          1           1\n",
              "28080        100331   109698  ...          0           1\n",
              "114186       103166   111003  ...          0           1\n",
              "55265        100894   100659  ...          0           1\n",
              "106819       101188   104214  ...          0           1\n",
              "65560        101721   101150  ...          0           1\n",
              "76711        102078   101723  ...          0           1\n",
              "93246        103565   111594  ...          1           1\n",
              "49978        100805   110736  ...          0           1\n",
              "16349        100235   103878  ...          5           1\n",
              "8061         100129   109659  ...          0           1\n",
              "52509        100863   104219  ...          0           1\n",
              "11102        100165   110694  ...          0           1\n",
              "57024        100914   104777  ...          0           1\n",
              "85424        102435   100685  ...          0           1\n",
              "85245        102429   109787  ...          0           1\n",
              "19975        100235   110239  ...          3           1\n",
              "6406         100121   100532  ...          0           1\n",
              "52967        100877   108741  ...          0           1\n",
              "83454        102360   107898  ...          0           1\n",
              "99701        100198   101395  ...          0           1\n",
              "112010       102804   105763  ...          1           1\n",
              "2773         100047   108977  ...          0           1\n",
              "14832        100235   103403  ...          1           1\n",
              "22122        100259   102908  ...          0           1\n",
              "14012        100217   109928  ...          1           1\n",
              "88433        102657   106891  ...          0           1\n",
              "8539         100137   110866  ...          2           1\n",
              "100291       100235   110642  ...          0           1\n",
              "33080        100423   107335  ...          0           1\n",
              "44132        100676   108823  ...          0           1\n",
              "32022        100395   103770  ...          0           1\n",
              "26603        100325   107379  ...          4           1\n",
              "64497        101697   103968  ...          3           1\n",
              "56758        100910   102487  ...          0           1\n",
              "1041         100015   106890  ...          0           1\n",
              "5878         100101   103750  ...          0           1\n",
              "4310         100084   104035  ...          0           1\n",
              "20333        100236   101612  ...          1           1\n",
              "22563        100263   108818  ...          0           1\n",
              "52631        100874   104168  ...          0           1\n",
              "54886        100891   100839  ...          0           1\n",
              "55898        100901   109361  ...          1           1\n",
              "1395         100029   104401  ...          0           1\n",
              "59687        100928   101643  ...          0           1\n",
              "107457       101272   108795  ...          0           1\n",
              "56507        100908   109218  ...          0           1\n",
              "82061        102306   101419  ...          0           1\n",
              "\n",
              "[50 rows x 6 columns]"
            ]
          },
          "execution_count": 28,
          "metadata": {},
          "output_type": "execute_result"
        }
      ]
    },
    {
      "cell_type": "code",
      "metadata": {
        "id": "gkNQPDkI2I4i"
      },
      "source": [
        "#output.to_csv('/content/drive/MyDrive/Business Decision Research/output_train_STI.csv')"
      ],
      "execution_count": null,
      "outputs": []
    },
    {
      "cell_type": "code",
      "metadata": {
        "id": "cl8Ytp40HE9r"
      },
      "source": [
        "#OUTPUT TEST CSV\n",
        "final_test = pd.DataFrame()\n",
        "final_test = X_test.assign()"
      ],
      "execution_count": null,
      "outputs": []
    },
    {
      "cell_type": "code",
      "metadata": {
        "id": "qmESNsiHHV3J"
      },
      "source": [
        "output_test = final_test.assign(churn_pred = y_test_pred)"
      ],
      "execution_count": null,
      "outputs": []
    },
    {
      "cell_type": "code",
      "metadata": {
        "colab": {
          "base_uri": "https://localhost:8080/"
        },
        "id": "P_H5ZxgfHb0F",
        "outputId": "04eaa1c1-64e6-4d5a-91b9-b8c3a85d08c7"
      },
      "source": [
        "print(final_test.head())\n",
        "print(final_test.shape)"
      ],
      "execution_count": null,
      "outputs": [
        {
          "name": "stdout",
          "output_type": "stream",
          "text": [
            "        Customer_no  Item_no  ...  Count_Transaction  Year_Diff\n",
            "111959       102792   109660  ...                  3          0\n",
            "72857        101989   103161  ...                 15          3\n",
            "77024        102086   102508  ...                  1          0\n",
            "42063        100637   102914  ...                  1          0\n",
            "109239       101595   109743  ...                  1          0\n",
            "\n",
            "[5 rows x 5 columns]\n",
            "(35353, 5)\n"
          ]
        }
      ]
    },
    {
      "cell_type": "code",
      "metadata": {
        "colab": {
          "base_uri": "https://localhost:8080/",
          "height": 225
        },
        "id": "bE6a9lfYIWvL",
        "outputId": "cc45be10-6e10-4ab3-c785-72e218d2ca03"
      },
      "source": [
        "output_test.head()"
      ],
      "execution_count": null,
      "outputs": [
        {
          "data": {
            "text/html": [
              "<div>\n",
              "<style scoped>\n",
              "    .dataframe tbody tr th:only-of-type {\n",
              "        vertical-align: middle;\n",
              "    }\n",
              "\n",
              "    .dataframe tbody tr th {\n",
              "        vertical-align: top;\n",
              "    }\n",
              "\n",
              "    .dataframe thead th {\n",
              "        text-align: right;\n",
              "    }\n",
              "</style>\n",
              "<table border=\"1\" class=\"dataframe\">\n",
              "  <thead>\n",
              "    <tr style=\"text-align: right;\">\n",
              "      <th></th>\n",
              "      <th>Customer_no</th>\n",
              "      <th>Item_no</th>\n",
              "      <th>AVG_Transaction_Amount</th>\n",
              "      <th>Count_Transaction</th>\n",
              "      <th>Year_Diff</th>\n",
              "      <th>churn_pred</th>\n",
              "    </tr>\n",
              "  </thead>\n",
              "  <tbody>\n",
              "    <tr>\n",
              "      <th>111959</th>\n",
              "      <td>102792</td>\n",
              "      <td>109660</td>\n",
              "      <td>372727.3333</td>\n",
              "      <td>3</td>\n",
              "      <td>0</td>\n",
              "      <td>1</td>\n",
              "    </tr>\n",
              "    <tr>\n",
              "      <th>72857</th>\n",
              "      <td>101989</td>\n",
              "      <td>103161</td>\n",
              "      <td>693546.9333</td>\n",
              "      <td>15</td>\n",
              "      <td>3</td>\n",
              "      <td>1</td>\n",
              "    </tr>\n",
              "    <tr>\n",
              "      <th>77024</th>\n",
              "      <td>102086</td>\n",
              "      <td>102508</td>\n",
              "      <td>3118.0000</td>\n",
              "      <td>1</td>\n",
              "      <td>0</td>\n",
              "      <td>1</td>\n",
              "    </tr>\n",
              "    <tr>\n",
              "      <th>42063</th>\n",
              "      <td>100637</td>\n",
              "      <td>102914</td>\n",
              "      <td>9455.0000</td>\n",
              "      <td>1</td>\n",
              "      <td>0</td>\n",
              "      <td>1</td>\n",
              "    </tr>\n",
              "    <tr>\n",
              "      <th>109239</th>\n",
              "      <td>101595</td>\n",
              "      <td>109743</td>\n",
              "      <td>20000.0000</td>\n",
              "      <td>1</td>\n",
              "      <td>0</td>\n",
              "      <td>1</td>\n",
              "    </tr>\n",
              "  </tbody>\n",
              "</table>\n",
              "</div>"
            ],
            "text/plain": [
              "        Customer_no  Item_no  ...  Year_Diff  churn_pred\n",
              "111959       102792   109660  ...          0           1\n",
              "72857        101989   103161  ...          3           1\n",
              "77024        102086   102508  ...          0           1\n",
              "42063        100637   102914  ...          0           1\n",
              "109239       101595   109743  ...          0           1\n",
              "\n",
              "[5 rows x 6 columns]"
            ]
          },
          "execution_count": 32,
          "metadata": {},
          "output_type": "execute_result"
        }
      ]
    },
    {
      "cell_type": "code",
      "metadata": {
        "id": "dxP-akrp8PJ-"
      },
      "source": [
        "frames = [output, output_test]"
      ],
      "execution_count": null,
      "outputs": []
    },
    {
      "cell_type": "code",
      "metadata": {
        "id": "KNfjA4j08Wmi"
      },
      "source": [
        "result = pd.concat(frames).drop_duplicates().reset_index(drop=True)"
      ],
      "execution_count": null,
      "outputs": []
    },
    {
      "cell_type": "code",
      "metadata": {
        "colab": {
          "base_uri": "https://localhost:8080/",
          "height": 225
        },
        "id": "dP0-DAap8l2m",
        "outputId": "df5407f8-7d47-4504-f445-9676487e9394"
      },
      "source": [
        "result.head()"
      ],
      "execution_count": null,
      "outputs": [
        {
          "data": {
            "text/html": [
              "<div>\n",
              "<style scoped>\n",
              "    .dataframe tbody tr th:only-of-type {\n",
              "        vertical-align: middle;\n",
              "    }\n",
              "\n",
              "    .dataframe tbody tr th {\n",
              "        vertical-align: top;\n",
              "    }\n",
              "\n",
              "    .dataframe thead th {\n",
              "        text-align: right;\n",
              "    }\n",
              "</style>\n",
              "<table border=\"1\" class=\"dataframe\">\n",
              "  <thead>\n",
              "    <tr style=\"text-align: right;\">\n",
              "      <th></th>\n",
              "      <th>Customer_no</th>\n",
              "      <th>Item_no</th>\n",
              "      <th>AVG_Transaction_Amount</th>\n",
              "      <th>Count_Transaction</th>\n",
              "      <th>Year_Diff</th>\n",
              "      <th>churn_pred</th>\n",
              "    </tr>\n",
              "  </thead>\n",
              "  <tbody>\n",
              "    <tr>\n",
              "      <th>0</th>\n",
              "      <td>100490</td>\n",
              "      <td>106463</td>\n",
              "      <td>61364.0000</td>\n",
              "      <td>1</td>\n",
              "      <td>0</td>\n",
              "      <td>1</td>\n",
              "    </tr>\n",
              "    <tr>\n",
              "      <th>1</th>\n",
              "      <td>100235</td>\n",
              "      <td>108008</td>\n",
              "      <td>39860.0000</td>\n",
              "      <td>13</td>\n",
              "      <td>0</td>\n",
              "      <td>1</td>\n",
              "    </tr>\n",
              "    <tr>\n",
              "      <th>2</th>\n",
              "      <td>100266</td>\n",
              "      <td>103082</td>\n",
              "      <td>679363.8571</td>\n",
              "      <td>14</td>\n",
              "      <td>1</td>\n",
              "      <td>1</td>\n",
              "    </tr>\n",
              "    <tr>\n",
              "      <th>3</th>\n",
              "      <td>100331</td>\n",
              "      <td>109698</td>\n",
              "      <td>106818.0000</td>\n",
              "      <td>1</td>\n",
              "      <td>0</td>\n",
              "      <td>1</td>\n",
              "    </tr>\n",
              "    <tr>\n",
              "      <th>4</th>\n",
              "      <td>103166</td>\n",
              "      <td>111003</td>\n",
              "      <td>505909.0000</td>\n",
              "      <td>1</td>\n",
              "      <td>0</td>\n",
              "      <td>1</td>\n",
              "    </tr>\n",
              "  </tbody>\n",
              "</table>\n",
              "</div>"
            ],
            "text/plain": [
              "   Customer_no  Item_no  ...  Year_Diff  churn_pred\n",
              "0       100490   106463  ...          0           1\n",
              "1       100235   108008  ...          0           1\n",
              "2       100266   103082  ...          1           1\n",
              "3       100331   109698  ...          0           1\n",
              "4       103166   111003  ...          0           1\n",
              "\n",
              "[5 rows x 6 columns]"
            ]
          },
          "execution_count": 40,
          "metadata": {},
          "output_type": "execute_result"
        }
      ]
    },
    {
      "cell_type": "code",
      "metadata": {
        "colab": {
          "base_uri": "https://localhost:8080/"
        },
        "id": "3NZy3mxH8sVR",
        "outputId": "8a822bf8-0723-4bff-96b7-959658b7f047"
      },
      "source": [
        "result.info()"
      ],
      "execution_count": null,
      "outputs": [
        {
          "name": "stdout",
          "output_type": "stream",
          "text": [
            "<class 'pandas.core.frame.DataFrame'>\n",
            "RangeIndex: 117841 entries, 0 to 117840\n",
            "Data columns (total 6 columns):\n",
            " #   Column                  Non-Null Count   Dtype  \n",
            "---  ------                  --------------   -----  \n",
            " 0   Customer_no             117841 non-null  int64  \n",
            " 1   Item_no                 117841 non-null  int64  \n",
            " 2   AVG_Transaction_Amount  117841 non-null  float64\n",
            " 3   Count_Transaction       117841 non-null  int64  \n",
            " 4   Year_Diff               117841 non-null  int64  \n",
            " 5   churn_pred              117841 non-null  int64  \n",
            "dtypes: float64(1), int64(5)\n",
            "memory usage: 5.4 MB\n"
          ]
        }
      ]
    },
    {
      "cell_type": "code",
      "metadata": {
        "id": "0w6BTghtHt1z"
      },
      "source": [
        "result.to_csv('/content/drive/MyDrive/Business Decision Research/output_sti.csv')"
      ],
      "execution_count": null,
      "outputs": []
    },
    {
      "cell_type": "markdown",
      "metadata": {
        "id": "XMfOhzJQ_J6V"
      },
      "source": [
        "# USD"
      ]
    },
    {
      "cell_type": "code",
      "metadata": {
        "colab": {
          "base_uri": "https://localhost:8080/"
        },
        "id": "ekbL7GGm_QU1",
        "outputId": "c3528ef1-b6ef-40ef-f268-71c003ccac75"
      },
      "source": [
        "#Importing Data and Inspection\n",
        "import pandas as pd\n",
        "\n",
        "df_usd = pd.read_csv('/content/drive/My Drive/Business Decision Research/Input/BusinessDecRes_USD.csv',sep=',')\n",
        "\n",
        "print('Lima data teratas:')\n",
        "print(df_usd.head())\n",
        "\n",
        "print('\\nInfo dataset:')\n",
        "print(df_usd.info())"
      ],
      "execution_count": null,
      "outputs": [
        {
          "name": "stdout",
          "output_type": "stream",
          "text": [
            "Lima data teratas:\n",
            "   Customer_no  Item_no  ... AVG_Transaction_Amount Count_Transaction\n",
            "0       100002   100015  ...              616681.75                 4\n",
            "1       100002   100029  ...             1322727.00                 1\n",
            "2       100002   100036  ...              276545.00                 1\n",
            "3       100002   100040  ...              210182.00                 2\n",
            "4       100002   100047  ...              333454.50                 2\n",
            "\n",
            "[5 rows x 8 columns]\n",
            "\n",
            "Info dataset:\n",
            "<class 'pandas.core.frame.DataFrame'>\n",
            "RangeIndex: 32170 entries, 0 to 32169\n",
            "Data columns (total 8 columns):\n",
            " #   Column                  Non-Null Count  Dtype  \n",
            "---  ------                  --------------  -----  \n",
            " 0   Customer_no             32170 non-null  int64  \n",
            " 1   Item_no                 32170 non-null  int64  \n",
            " 2   Description             32170 non-null  object \n",
            " 3   Dept                    32170 non-null  object \n",
            " 4   First_Transaction       32170 non-null  object \n",
            " 5   Last_Transaction        32170 non-null  object \n",
            " 6   AVG_Transaction_Amount  32170 non-null  float64\n",
            " 7   Count_Transaction       32170 non-null  int64  \n",
            "dtypes: float64(1), int64(3), object(4)\n",
            "memory usage: 2.0+ MB\n",
            "None\n"
          ]
        }
      ]
    },
    {
      "cell_type": "code",
      "metadata": {
        "colab": {
          "base_uri": "https://localhost:8080/",
          "height": 206
        },
        "id": "F7ySteiyAC1R",
        "outputId": "5b385d3b-6331-4aa0-b6a2-8177b25059ff"
      },
      "source": [
        "df_usd.head()"
      ],
      "execution_count": null,
      "outputs": [
        {
          "data": {
            "text/html": [
              "<div>\n",
              "<style scoped>\n",
              "    .dataframe tbody tr th:only-of-type {\n",
              "        vertical-align: middle;\n",
              "    }\n",
              "\n",
              "    .dataframe tbody tr th {\n",
              "        vertical-align: top;\n",
              "    }\n",
              "\n",
              "    .dataframe thead th {\n",
              "        text-align: right;\n",
              "    }\n",
              "</style>\n",
              "<table border=\"1\" class=\"dataframe\">\n",
              "  <thead>\n",
              "    <tr style=\"text-align: right;\">\n",
              "      <th></th>\n",
              "      <th>Customer_no</th>\n",
              "      <th>Item_no</th>\n",
              "      <th>Description</th>\n",
              "      <th>Dept</th>\n",
              "      <th>First_Transaction</th>\n",
              "      <th>Last_Transaction</th>\n",
              "      <th>AVG_Transaction_Amount</th>\n",
              "      <th>Count_Transaction</th>\n",
              "    </tr>\n",
              "  </thead>\n",
              "  <tbody>\n",
              "    <tr>\n",
              "      <th>0</th>\n",
              "      <td>100002</td>\n",
              "      <td>100015</td>\n",
              "      <td>IKAD GE 7415</td>\n",
              "      <td>PLM</td>\n",
              "      <td>16-02-2015</td>\n",
              "      <td>20-01-2020</td>\n",
              "      <td>616681.75</td>\n",
              "      <td>4</td>\n",
              "    </tr>\n",
              "    <tr>\n",
              "      <th>1</th>\n",
              "      <td>100002</td>\n",
              "      <td>100029</td>\n",
              "      <td>(NON AKTIF)</td>\n",
              "      <td>PLM</td>\n",
              "      <td>28-11-2014</td>\n",
              "      <td>28-11-2014</td>\n",
              "      <td>1322727.00</td>\n",
              "      <td>1</td>\n",
              "    </tr>\n",
              "    <tr>\n",
              "      <th>2</th>\n",
              "      <td>100002</td>\n",
              "      <td>100036</td>\n",
              "      <td>IKAD SX 1459</td>\n",
              "      <td>PLM</td>\n",
              "      <td>10-11-2014</td>\n",
              "      <td>10-11-2014</td>\n",
              "      <td>276545.00</td>\n",
              "      <td>1</td>\n",
              "    </tr>\n",
              "    <tr>\n",
              "      <th>3</th>\n",
              "      <td>100002</td>\n",
              "      <td>100040</td>\n",
              "      <td>(NON AKTIF)</td>\n",
              "      <td>PLM</td>\n",
              "      <td>10-11-2014</td>\n",
              "      <td>26-11-2014</td>\n",
              "      <td>210182.00</td>\n",
              "      <td>2</td>\n",
              "    </tr>\n",
              "    <tr>\n",
              "      <th>4</th>\n",
              "      <td>100002</td>\n",
              "      <td>100047</td>\n",
              "      <td>IKAD SX 6446 KW E</td>\n",
              "      <td>PLM</td>\n",
              "      <td>15-05-2015</td>\n",
              "      <td>18-05-2015</td>\n",
              "      <td>333454.50</td>\n",
              "      <td>2</td>\n",
              "    </tr>\n",
              "  </tbody>\n",
              "</table>\n",
              "</div>"
            ],
            "text/plain": [
              "   Customer_no  Item_no  ... AVG_Transaction_Amount Count_Transaction\n",
              "0       100002   100015  ...              616681.75                 4\n",
              "1       100002   100029  ...             1322727.00                 1\n",
              "2       100002   100036  ...              276545.00                 1\n",
              "3       100002   100040  ...              210182.00                 2\n",
              "4       100002   100047  ...              333454.50                 2\n",
              "\n",
              "[5 rows x 8 columns]"
            ]
          },
          "execution_count": 7,
          "metadata": {},
          "output_type": "execute_result"
        }
      ]
    },
    {
      "cell_type": "code",
      "metadata": {
        "colab": {
          "base_uri": "https://localhost:8080/"
        },
        "id": "HKRt-UcIAJxB",
        "outputId": "58dd3144-61dc-4a51-d010-fd9a94b23fd4"
      },
      "source": [
        "# Pengecekan transaksaksi terakhir dalam dataset\n",
        "print(max(df_usd['Last_Transaction']))\n",
        "\n",
        "# Klasifikasikan customer yang berstatus churn atau tidak\n",
        "# True = churn, False = tidak churn\n",
        "df_usd.loc[df_usd['Last_Transaction'] <= '30-06-2020', 'is_churn'] = True\n",
        "df_usd.loc[df_usd['Last_Transaction'] > '30-06-2020', 'is_churn'] = False\n",
        "\n",
        "print('Lima data teratas:')\n",
        "print(df_usd.head())\n",
        "\n",
        "print('\\nInfo dataset:')\n",
        "print(df_usd.info())"
      ],
      "execution_count": null,
      "outputs": [
        {
          "name": "stdout",
          "output_type": "stream",
          "text": [
            "31-12-2019\n",
            "Lima data teratas:\n",
            "   Customer_no  Item_no  ... Count_Transaction is_churn\n",
            "0       100002   100015  ...                 4     True\n",
            "1       100002   100029  ...                 1     True\n",
            "2       100002   100036  ...                 1     True\n",
            "3       100002   100040  ...                 2     True\n",
            "4       100002   100047  ...                 2     True\n",
            "\n",
            "[5 rows x 9 columns]\n",
            "\n",
            "Info dataset:\n",
            "<class 'pandas.core.frame.DataFrame'>\n",
            "RangeIndex: 32170 entries, 0 to 32169\n",
            "Data columns (total 9 columns):\n",
            " #   Column                  Non-Null Count  Dtype  \n",
            "---  ------                  --------------  -----  \n",
            " 0   Customer_no             32170 non-null  int64  \n",
            " 1   Item_no                 32170 non-null  int64  \n",
            " 2   Description             32170 non-null  object \n",
            " 3   Dept                    32170 non-null  object \n",
            " 4   First_Transaction       32170 non-null  object \n",
            " 5   Last_Transaction        32170 non-null  object \n",
            " 6   AVG_Transaction_Amount  32170 non-null  float64\n",
            " 7   Count_Transaction       32170 non-null  int64  \n",
            " 8   is_churn                32170 non-null  object \n",
            "dtypes: float64(1), int64(3), object(5)\n",
            "memory usage: 2.2+ MB\n",
            "None\n"
          ]
        }
      ]
    },
    {
      "cell_type": "code",
      "metadata": {
        "colab": {
          "base_uri": "https://localhost:8080/"
        },
        "id": "hp7-M2LBNF5Q",
        "outputId": "28ddb5e3-15d6-4794-f433-8f6a14dc9af7"
      },
      "source": [
        "# Kolom First_Transaction\n",
        "df_usd['First_Transaction'] = pd.to_datetime(df_usd['First_Transaction'])\n",
        "# Kolom Last_Transaction\n",
        "df_usd['Last_Transaction'] = pd.to_datetime(df_usd['Last_Transaction'])\n",
        "\n",
        "print('Lima data teratas:')\n",
        "print(df_usd.head())"
      ],
      "execution_count": null,
      "outputs": [
        {
          "name": "stdout",
          "output_type": "stream",
          "text": [
            "Lima data teratas:\n",
            "   Customer_no  Item_no  ... Count_Transaction is_churn\n",
            "0       100002   100015  ...                 4     True\n",
            "1       100002   100029  ...                 1     True\n",
            "2       100002   100036  ...                 1     True\n",
            "3       100002   100040  ...                 2     True\n",
            "4       100002   100047  ...                 2     True\n",
            "\n",
            "[5 rows x 9 columns]\n"
          ]
        }
      ]
    },
    {
      "cell_type": "code",
      "metadata": {
        "colab": {
          "base_uri": "https://localhost:8080/",
          "height": 297
        },
        "id": "29gnMRu5OCgv",
        "outputId": "bd0c48b7-a917-4725-8842-7c4966f0aeff"
      },
      "source": [
        "import matplotlib.pyplot as plt\n",
        "\n",
        "# Kolom tahun transaksi pertama\n",
        "df_usd['Year_First_Transaction'] = df_usd['First_Transaction'].dt.year\n",
        "\n",
        "# Kolom tahun transaksi terakhir\n",
        "df_usd['Year_Last_Transaction'] = df_usd['Last_Transaction'].dt.year\n",
        "df_year = df_usd.groupby(['Year_First_Transaction'])['Customer_no'].count()\n",
        "df_year.plot(x='Year_First_Transaction', y='Customer_ID', kind='bar', title='Graph of Customer Acquisition')\n",
        "plt.xlabel('Year_First_Transaction')\n",
        "plt.ylabel('Num_of_Customer')\n",
        "plt.tight_layout()\n",
        "plt.show()"
      ],
      "execution_count": null,
      "outputs": [
        {
          "data": {
            "image/png": "[encoded data removed]",
            "text/plain": [
              "<Figure size 432x288 with 1 Axes>"
            ]
          },
          "metadata": {},
          "output_type": "display_data"
        }
      ]
    },
    {
      "cell_type": "code",
      "metadata": {
        "colab": {
          "base_uri": "https://localhost:8080/",
          "height": 297
        },
        "id": "6CuiwC-JQv64",
        "outputId": "309fc98d-bee5-4960-be44-95dbc8627ba5"
      },
      "source": [
        "#Transaction by Year\n",
        "import matplotlib.pyplot as plt\n",
        "plt.clf()\n",
        "df_year = df_usd.groupby(['Year_First_Transaction'])['Count_Transaction'].sum()\n",
        "df_year.plot(x='Year_First_Transaction', y='Count_Transaction', kind='bar', title='Graph of Transaction Customer')\n",
        "plt.xlabel('Year_First_Transaction')\n",
        "plt.ylabel('Num_of_Transaction')\n",
        "plt.tight_layout()\n",
        "plt.show()"
      ],
      "execution_count": null,
      "outputs": [
        {
          "data": {
            "image/png": "[encoded data removed]",
            "text/plain": [
              "<Figure size 432x288 with 1 Axes>"
            ]
          },
          "metadata": {},
          "output_type": "display_data"
        }
      ]
    },
    {
      "cell_type": "code",
      "metadata": {
        "colab": {
          "base_uri": "https://localhost:8080/",
          "height": 747
        },
        "id": "k1n9fkC4RRZM",
        "outputId": "fdcc985d-6db0-46e0-f24f-ca754fa0ef66"
      },
      "source": [
        "import matplotlib.pyplot as plt\n",
        "plt.clf()\n",
        "\n",
        "# Melakukan pivot data\n",
        "df_piv = df_usd.pivot_table(index='is_churn',\n",
        "\t\t\t\t\t\tcolumns='Description',\n",
        "\t\t\t\t\t\tvalues='Customer_no',\n",
        "\t\t\t\t\t\taggfunc='count',\n",
        "\t\t\t\t\t\tfill_value=0)\n",
        "\n",
        "# Mendapatkan Proportion Churn by Product\n",
        "plot_product = df_piv.count().sort_values(ascending=False).head(5).index\n",
        "\n",
        "# Plot pie chartnya\n",
        "df_piv = df_piv.reindex(columns=plot_product)\n",
        "df_piv.plot.pie(subplots=True,\n",
        "\t\t\t\tfigsize=(15, 10),\n",
        "\t\t\t\tlayout=(-1, 2),\n",
        "\t\t\t\tautopct='%1.0f%%',\n",
        "\t\t\t\ttitle='Proportion Churn by Product')\n",
        "plt.tight_layout()\n",
        "plt.show()"
      ],
      "execution_count": null,
      "outputs": [
        {
          "data": {
            "text/plain": [
              "<Figure size 432x288 with 0 Axes>"
            ]
          },
          "metadata": {},
          "output_type": "display_data"
        },
        {
          "data": {
            "image/png": "[encoded data removed]",
            "text/plain": [
              "<Figure size 1080x720 with 6 Axes>"
            ]
          },
          "metadata": {},
          "output_type": "display_data"
        }
      ]
    },
    {
      "cell_type": "code",
      "metadata": {
        "colab": {
          "base_uri": "https://localhost:8080/",
          "height": 297
        },
        "id": "Tm6br1tQRd4U",
        "outputId": "8c9a347a-0cd1-48e2-d0f9-de49e240b1bc"
      },
      "source": [
        "import matplotlib.pyplot as plt\n",
        "plt.clf()\n",
        "# Kategorisasi jumlah transaksi\n",
        "def func(row):\n",
        "\tif row['Count_Transaction'] == 1:\n",
        "\t\tval = '1. 1'\n",
        "\telif (row['Count_Transaction'] >1 and row['Count_Transaction'] <= 3):\n",
        "\t\tval ='2. 2 - 3'\n",
        "\telif (row['Count_Transaction'] >3 and row['Count_Transaction'] <= 6):\n",
        "\t\tval ='3. 4 - 6'\n",
        "\telif (row['Count_Transaction'] >6 and row['Count_Transaction'] <= 10):\n",
        "\t\tval ='4. 7 - 10'\n",
        "\telse:\n",
        "\t\tval ='5. >10'\n",
        "\treturn val\n",
        "# Tambahkan kolom baru\n",
        "df_usd['Count_Transaction_Group'] = df_usd.apply(func, axis=1)\n",
        "df_year = df_usd.groupby(['Count_Transaction_Group'])['Customer_no'].count()\n",
        "df_year.plot(x='Count_Transaction_Group', y='Customer_ID', kind='bar', title='Customer Distribution by Count Transaction Group')\n",
        "plt.xlabel('Count_Transaction_Group')\n",
        "plt.ylabel('Num_of_Customer')\n",
        "plt.tight_layout()\n",
        "plt.show()"
      ],
      "execution_count": null,
      "outputs": [
        {
          "data": {
            "image/png": "[encoded data removed]",
            "text/plain": [
              "<Figure size 432x288 with 1 Axes>"
            ]
          },
          "metadata": {},
          "output_type": "display_data"
        }
      ]
    },
    {
      "cell_type": "code",
      "metadata": {
        "colab": {
          "base_uri": "https://localhost:8080/",
          "height": 297
        },
        "id": "fpBoH3rlRq0_",
        "outputId": "5dd6e807-8bdb-45f4-da1c-84691838fce4"
      },
      "source": [
        "import matplotlib.pyplot as plt\n",
        "plt.clf()\n",
        "# Kategorisasi rata-rata besar transaksi\n",
        "def f(row):\n",
        "\tif (row['AVG_Transaction_Amount'] >= 100000 and row['AVG_Transaction_Amount'] <=1000000):\n",
        "\t\tval ='1. 100.000 - 1.000.000'\n",
        "\telif (row['AVG_Transaction_Amount'] >1000000 and row['AVG_Transaction_Amount'] <= 5000000):\n",
        "\t\tval ='2. >1.000.000 - 5.000.000'\n",
        "\telif (row['AVG_Transaction_Amount'] >5000000 and row['AVG_Transaction_Amount'] <= 10000000):\n",
        "\t\tval ='3. >5.000.000 - 10.000.000'\n",
        "\telif (row['AVG_Transaction_Amount'] >10000000 and row['AVG_Transaction_Amount'] <= 15000000):\n",
        "\t\tval ='4. >10.000.000 - 15.000.000'\n",
        "\telif (row['AVG_Transaction_Amount'] >15000000 and row['AVG_Transaction_Amount'] <= 25000000):\n",
        "\t\tval ='5. >15.000.000 - 25.000.000'\n",
        "\telif (row['AVG_Transaction_Amount'] >25000000 and row['AVG_Transaction_Amount'] <= 50000000):\n",
        "\t\tval ='6. >25.000.000 - 50.000.000'\n",
        "\telif (row['AVG_Transaction_Amount'] >50000000 and row['AVG_Transaction_Amount'] <= 100000000):\n",
        "\t\tval ='7. >50.000.000 - 100.000.000'\n",
        "\telse:\n",
        "\t\tval ='8. > 100.000.000'\n",
        "\treturn val\n",
        "\n",
        "# Tambahkan kolom baru\n",
        "df_usd['AVG_Transaction_Amount_Group'] = df_usd.apply(f, axis=1)\n",
        "df_year = df_usd.groupby(['AVG_Transaction_Amount_Group'])['Customer_no'].count()\n",
        "df_year.plot(x='AVG_Transaction_Amount_Group', y='Customer_no',kind='bar', title='Customer Distribution by Average Transaction Amount Group')\n",
        "plt.xlabel('AVG_Transaction_Amount_Group')\n",
        "plt.ylabel('Num_of_Customer')\n",
        "plt.tight_layout()\n",
        "plt.show()"
      ],
      "execution_count": null,
      "outputs": [
        {
          "data": {
            "image/png": "[encoded data removed]",
            "text/plain": [
              "<Figure size 432x288 with 1 Axes>"
            ]
          },
          "metadata": {},
          "output_type": "display_data"
        }
      ]
    },
    {
      "cell_type": "code",
      "metadata": {
        "colab": {
          "base_uri": "https://localhost:8080/"
        },
        "id": "JFqRCQDfSGeI",
        "outputId": "ecb2d91b-1f49-407b-d5fd-3406d0abbbba"
      },
      "source": [
        "# Feature column: Year_Diff\n",
        "df_usd['Year_Diff']=df_usd['Year_Last_Transaction'] - df_usd['Year_First_Transaction']\n",
        "\n",
        "# Nama-nama feature columns\n",
        "feature_columns = ['Customer_no','Item_no','AVG_Transaction_Amount', 'Count_Transaction', 'Year_Diff']\n",
        "\n",
        "# Features variable\n",
        "X = df_usd[feature_columns]  \n",
        "\n",
        "# Target variable\n",
        "print(df_usd[df_usd['is_churn'].isnull()])\n",
        "df_usd['is_churn'] = pd.to_numeric(df_usd['is_churn'], errors='coerce')\n",
        "df_usd = df_usd.dropna(subset=['is_churn'])\n",
        "df_usd['is_churn'] = df_usd['is_churn'].astype(int)\n",
        "y = df_usd['is_churn']"
      ],
      "execution_count": null,
      "outputs": [
        {
          "name": "stdout",
          "output_type": "stream",
          "text": [
            "Empty DataFrame\n",
            "Columns: [Customer_no, Item_no, Description, Dept, First_Transaction, Last_Transaction, AVG_Transaction_Amount, Count_Transaction, is_churn, Year_First_Transaction, Year_Last_Transaction, Count_Transaction_Group, AVG_Transaction_Amount_Group, Year_Diff]\n",
            "Index: []\n"
          ]
        }
      ]
    },
    {
      "cell_type": "code",
      "metadata": {
        "id": "pPUhTpmBSqG3"
      },
      "source": [
        "from sklearn.model_selection import train_test_split\n",
        "\n",
        "X_train, X_test, y_train, y_test = train_test_split(X, y, test_size=0.25, random_state=0)"
      ],
      "execution_count": null,
      "outputs": []
    },
    {
      "cell_type": "code",
      "metadata": {
        "colab": {
          "base_uri": "https://localhost:8080/"
        },
        "id": "OLur-hzRSGtI",
        "outputId": "18321ee0-e4d1-4671-b08e-7f1ac1a7361b"
      },
      "source": [
        "print(y_test)"
      ],
      "execution_count": null,
      "outputs": [
        {
          "name": "stdout",
          "output_type": "stream",
          "text": [
            "29174    1\n",
            "3106     1\n",
            "28138    1\n",
            "20087    1\n",
            "16962    1\n",
            "        ..\n",
            "11881    1\n",
            "159      1\n",
            "3559     0\n",
            "25424    1\n",
            "17771    1\n",
            "Name: is_churn, Length: 8043, dtype: int64\n"
          ]
        }
      ]
    },
    {
      "cell_type": "code",
      "metadata": {
        "colab": {
          "base_uri": "https://localhost:8080/"
        },
        "id": "OudiV9kXSHYj",
        "outputId": "54ccf570-4603-424d-8448-e3cd607c9c46"
      },
      "source": [
        "print(X_test)"
      ],
      "execution_count": null,
      "outputs": [
        {
          "name": "stdout",
          "output_type": "stream",
          "text": [
            "       Customer_no  Item_no  ...  Count_Transaction  Year_Diff\n",
            "29174       100751   100642  ...                  5          1\n",
            "3106        100162   100039  ...                  1          0\n",
            "28138       100729   100122  ...                  6          2\n",
            "20087       100601   101018  ...                  1          0\n",
            "16962       100554   100877  ...                  9          1\n",
            "...            ...      ...  ...                ...        ...\n",
            "11881       100509   100645  ...                  1          0\n",
            "159         100004   101052  ...                  2          0\n",
            "3559        100174   100006  ...                  1          0\n",
            "25424       100660   100629  ...                 65          5\n",
            "17771       100566   100762  ...                  3          1\n",
            "\n",
            "[8043 rows x 5 columns]\n"
          ]
        }
      ]
    },
    {
      "cell_type": "code",
      "metadata": {
        "colab": {
          "base_uri": "https://localhost:8080/"
        },
        "id": "EeENT1gOT01n",
        "outputId": "596a2078-fb59-491a-f8cb-d32fd66ecc02"
      },
      "source": [
        "#Train, predict dan evaluate\n",
        "from sklearn.linear_model import LogisticRegression\n",
        "from sklearn.metrics import confusion_matrix\n",
        "\n",
        "# Inisiasi model logreg\n",
        "logreg = LogisticRegression()\n",
        "\n",
        "# fit the model with data\n",
        "log_model=logreg.fit(X_train, y_train)\n",
        "\n",
        "# Predict model\n",
        "y_train_pred = log_model.predict(X_train)\n",
        "\n",
        "# Evaluasi model menggunakan confusion matrix\n",
        "cnf_matrix = pd.DataFrame(confusion_matrix(y_train,y_train_pred))\n",
        "print('Confusion Matrix:\\n', cnf_matrix)"
      ],
      "execution_count": null,
      "outputs": [
        {
          "name": "stdout",
          "output_type": "stream",
          "text": [
            "Confusion Matrix:\n",
            "    0      1\n",
            "0  0   1526\n",
            "1  1  22600\n"
          ]
        }
      ]
    },
    {
      "cell_type": "code",
      "metadata": {
        "colab": {
          "base_uri": "https://localhost:8080/",
          "height": 315
        },
        "id": "rhJBouGPT6O4",
        "outputId": "033ae272-21cb-45ce-d1d4-0c32d1cfab27"
      },
      "source": [
        "#y_pred = logreg.predict(X_test)\n",
        "#cnf_matrix = confusion_matrix(y_test, y_pred)\n",
        "\n",
        "# import required modules\n",
        "import numpy as np\n",
        "import matplotlib.pyplot as plt\n",
        "import seaborn as sns\n",
        "plt.clf()\n",
        "\n",
        "# name of classes\n",
        "class_names = [0, 1]\n",
        "fig, ax = plt.subplots()\n",
        "tick_marks = np.arange(len(class_names))\n",
        "plt.xticks(tick_marks, class_names)\n",
        "plt.yticks(tick_marks, class_names)\n",
        "\n",
        "# create heatmap\n",
        "sns.heatmap(pd.DataFrame(cnf_matrix), annot=True, cmap='YlGnBu', fmt='g')\n",
        "ax.xaxis.set_label_position('top')\n",
        "plt.title('Confusion matrix', y=1.1)\n",
        "plt.ylabel('Actual')\n",
        "plt.xlabel('Predicted')\n",
        "plt.tight_layout()\n",
        "plt.show()"
      ],
      "execution_count": null,
      "outputs": [
        {
          "data": {
            "text/plain": [
              "<Figure size 432x288 with 0 Axes>"
            ]
          },
          "metadata": {},
          "output_type": "display_data"
        },
        {
          "data": {
            "image/png": "[encoded data removed]",
            "text/plain": [
              "<Figure size 432x288 with 2 Axes>"
            ]
          },
          "metadata": {},
          "output_type": "display_data"
        }
      ]
    },
    {
      "cell_type": "code",
      "metadata": {
        "colab": {
          "base_uri": "https://localhost:8080/"
        },
        "id": "D3sLMWpLT_tr",
        "outputId": "ff3c5008-f83c-4cc2-c25e-f8aa2eea6690"
      },
      "source": [
        "print(y_train_pred)"
      ],
      "execution_count": null,
      "outputs": [
        {
          "name": "stdout",
          "output_type": "stream",
          "text": [
            "[1 1 1 ... 1 1 1]\n"
          ]
        }
      ]
    },
    {
      "cell_type": "code",
      "metadata": {
        "colab": {
          "base_uri": "https://localhost:8080/"
        },
        "id": "Ll4J9ee4UBvr",
        "outputId": "33c8088b-488f-40d2-80ba-64a0c1d62047"
      },
      "source": [
        "y_test_pred = log_model.predict(X_test)\n",
        "\n",
        "# Evaluasi model menggunakan confusion matrix\n",
        "cnf_matrix = pd.DataFrame(confusion_matrix(y_test,y_test_pred))\n",
        "print('Confusion Matrix:\\n', cnf_matrix)"
      ],
      "execution_count": null,
      "outputs": [
        {
          "name": "stdout",
          "output_type": "stream",
          "text": [
            "Confusion Matrix:\n",
            "    0     1\n",
            "0  0   501\n",
            "1  1  7541\n"
          ]
        }
      ]
    },
    {
      "cell_type": "code",
      "metadata": {
        "colab": {
          "base_uri": "https://localhost:8080/"
        },
        "id": "tAJ5cJewUFDj",
        "outputId": "6ea412cd-5ae6-4ce2-ee30-138b18c25b93"
      },
      "source": [
        "print(y_test_pred)"
      ],
      "execution_count": null,
      "outputs": [
        {
          "name": "stdout",
          "output_type": "stream",
          "text": [
            "[1 1 1 ... 1 1 1]\n"
          ]
        }
      ]
    },
    {
      "cell_type": "code",
      "metadata": {
        "colab": {
          "base_uri": "https://localhost:8080/",
          "height": 315
        },
        "id": "9N0m5ZsoUI6k",
        "outputId": "9871dcef-1620-4482-c3ee-39ff078d87e5"
      },
      "source": [
        "#y_pred = logreg.predict(X_test)\n",
        "#cnf_matrix = confusion_matrix(y_test, y_pred)\n",
        "\n",
        "# import required modules\n",
        "import numpy as np\n",
        "import matplotlib.pyplot as plt\n",
        "import seaborn as sns\n",
        "plt.clf()\n",
        "\n",
        "# name of classes\n",
        "class_names = [0, 1]\n",
        "fig, ax = plt.subplots()\n",
        "tick_marks = np.arange(len(class_names))\n",
        "plt.xticks(tick_marks, class_names)\n",
        "plt.yticks(tick_marks, class_names)\n",
        "\n",
        "# create heatmap\n",
        "sns.heatmap(pd.DataFrame(cnf_matrix), annot=True, cmap='YlGnBu', fmt='g')\n",
        "ax.xaxis.set_label_position('top')\n",
        "plt.title('Confusion matrix', y=1.1)\n",
        "plt.ylabel('Actual')\n",
        "plt.xlabel('Predicted')\n",
        "plt.tight_layout()\n",
        "plt.show()"
      ],
      "execution_count": null,
      "outputs": [
        {
          "data": {
            "text/plain": [
              "<Figure size 432x288 with 0 Axes>"
            ]
          },
          "metadata": {},
          "output_type": "display_data"
        },
        {
          "data": {
            "image/png": "[encoded data removed]",
            "text/plain": [
              "<Figure size 432x288 with 2 Axes>"
            ]
          },
          "metadata": {},
          "output_type": "display_data"
        }
      ]
    },
    {
      "cell_type": "code",
      "metadata": {
        "colab": {
          "base_uri": "https://localhost:8080/"
        },
        "id": "m1pNJI_OUgAx",
        "outputId": "6f7aa70f-3616-4a87-e666-a88110d3a271"
      },
      "source": [
        "from sklearn.metrics import accuracy_score, precision_score, recall_score\n",
        "\n",
        "#Menghitung Accuracy, Precision, dan Recall\n",
        "print('Accuracy :', accuracy_score(y_test, y_test_pred))\n",
        "print('Precision:', precision_score(y_test, y_test_pred, average='micro'))\n",
        "print('Recall :', recall_score(y_test, y_test_pred, average='micro'))"
      ],
      "execution_count": null,
      "outputs": [
        {
          "name": "stdout",
          "output_type": "stream",
          "text": [
            "Accuracy : 0.9375854780554519\n",
            "Precision: 0.9375854780554519\n",
            "Recall : 0.9375854780554519\n"
          ]
        }
      ]
    },
    {
      "cell_type": "code",
      "metadata": {
        "id": "FJ2kEH-G4grR"
      },
      "source": [
        "#OUTPUT USD\n",
        "final_train = pd.DataFrame()\n",
        "final_train = X_train.assign()"
      ],
      "execution_count": null,
      "outputs": []
    },
    {
      "cell_type": "code",
      "metadata": {
        "colab": {
          "base_uri": "https://localhost:8080/"
        },
        "id": "YxgtdbH45toG",
        "outputId": "02464280-2dc5-4b45-bd5b-28565b0f93b1"
      },
      "source": [
        "print(final_train.head())\n",
        "print(final_train.shape)"
      ],
      "execution_count": null,
      "outputs": [
        {
          "name": "stdout",
          "output_type": "stream",
          "text": [
            "       Customer_no  Item_no  ...  Count_Transaction  Year_Diff\n",
            "926         100051   100122  ...                  1          0\n",
            "8909        100479   100686  ...                  1          0\n",
            "18564       100574   100985  ...                  6          1\n",
            "11035       100495   101077  ...                  1          0\n",
            "4044        100210   100085  ...                  2          0\n",
            "\n",
            "[5 rows x 5 columns]\n",
            "(24127, 5)\n"
          ]
        }
      ]
    },
    {
      "cell_type": "code",
      "metadata": {
        "id": "Zbh6QL8j5wtL"
      },
      "source": [
        "output_usd = final_train.assign(churn_pred = y_train_pred)"
      ],
      "execution_count": null,
      "outputs": []
    },
    {
      "cell_type": "code",
      "metadata": {
        "colab": {
          "base_uri": "https://localhost:8080/",
          "height": 206
        },
        "id": "l8KNPmmC55vX",
        "outputId": "c46b00f3-1714-477d-c7a2-8c62237368e9"
      },
      "source": [
        "output_usd.head()"
      ],
      "execution_count": null,
      "outputs": [
        {
          "data": {
            "text/html": [
              "<div>\n",
              "<style scoped>\n",
              "    .dataframe tbody tr th:only-of-type {\n",
              "        vertical-align: middle;\n",
              "    }\n",
              "\n",
              "    .dataframe tbody tr th {\n",
              "        vertical-align: top;\n",
              "    }\n",
              "\n",
              "    .dataframe thead th {\n",
              "        text-align: right;\n",
              "    }\n",
              "</style>\n",
              "<table border=\"1\" class=\"dataframe\">\n",
              "  <thead>\n",
              "    <tr style=\"text-align: right;\">\n",
              "      <th></th>\n",
              "      <th>Customer_no</th>\n",
              "      <th>Item_no</th>\n",
              "      <th>AVG_Transaction_Amount</th>\n",
              "      <th>Count_Transaction</th>\n",
              "      <th>Year_Diff</th>\n",
              "      <th>churn_pred</th>\n",
              "    </tr>\n",
              "  </thead>\n",
              "  <tbody>\n",
              "    <tr>\n",
              "      <th>926</th>\n",
              "      <td>100051</td>\n",
              "      <td>100122</td>\n",
              "      <td>8.631820e+05</td>\n",
              "      <td>1</td>\n",
              "      <td>0</td>\n",
              "      <td>1</td>\n",
              "    </tr>\n",
              "    <tr>\n",
              "      <th>8909</th>\n",
              "      <td>100479</td>\n",
              "      <td>100686</td>\n",
              "      <td>2.720455e+06</td>\n",
              "      <td>1</td>\n",
              "      <td>0</td>\n",
              "      <td>1</td>\n",
              "    </tr>\n",
              "    <tr>\n",
              "      <th>18564</th>\n",
              "      <td>100574</td>\n",
              "      <td>100985</td>\n",
              "      <td>2.956063e+05</td>\n",
              "      <td>6</td>\n",
              "      <td>1</td>\n",
              "      <td>1</td>\n",
              "    </tr>\n",
              "    <tr>\n",
              "      <th>11035</th>\n",
              "      <td>100495</td>\n",
              "      <td>101077</td>\n",
              "      <td>9.396818e+06</td>\n",
              "      <td>1</td>\n",
              "      <td>0</td>\n",
              "      <td>1</td>\n",
              "    </tr>\n",
              "    <tr>\n",
              "      <th>4044</th>\n",
              "      <td>100210</td>\n",
              "      <td>100085</td>\n",
              "      <td>7.427270e+05</td>\n",
              "      <td>2</td>\n",
              "      <td>0</td>\n",
              "      <td>1</td>\n",
              "    </tr>\n",
              "  </tbody>\n",
              "</table>\n",
              "</div>"
            ],
            "text/plain": [
              "       Customer_no  Item_no  ...  Year_Diff  churn_pred\n",
              "926         100051   100122  ...          0           1\n",
              "8909        100479   100686  ...          0           1\n",
              "18564       100574   100985  ...          1           1\n",
              "11035       100495   101077  ...          0           1\n",
              "4044        100210   100085  ...          0           1\n",
              "\n",
              "[5 rows x 6 columns]"
            ]
          },
          "execution_count": 33,
          "metadata": {},
          "output_type": "execute_result"
        }
      ]
    },
    {
      "cell_type": "code",
      "metadata": {
        "id": "IuiWyRVN585_"
      },
      "source": [
        "#output_usd.to_csv('/content/drive/MyDrive/Business Decision Research/output_train_USD.csv')"
      ],
      "execution_count": null,
      "outputs": []
    },
    {
      "cell_type": "code",
      "metadata": {
        "id": "0KBfaWAxU5fh"
      },
      "source": [
        "#OUTPUT TEST CSV\n",
        "final_test = pd.DataFrame()\n",
        "final_test = X_test.assign()"
      ],
      "execution_count": null,
      "outputs": []
    },
    {
      "cell_type": "code",
      "metadata": {
        "id": "q7qAGjheU9aw"
      },
      "source": [
        "output_usd_test = final_test.assign(churn_pred = y_test_pred)"
      ],
      "execution_count": null,
      "outputs": []
    },
    {
      "cell_type": "code",
      "metadata": {
        "colab": {
          "base_uri": "https://localhost:8080/"
        },
        "id": "x1jSY35ZVCmp",
        "outputId": "dd0d9b15-051d-46fb-8668-4fd0224a28c7"
      },
      "source": [
        "print(final_test.head())\n",
        "print(final_test.shape)"
      ],
      "execution_count": null,
      "outputs": [
        {
          "name": "stdout",
          "output_type": "stream",
          "text": [
            "       Customer_no  Item_no  ...  Count_Transaction  Year_Diff\n",
            "29174       100751   100642  ...                  5          1\n",
            "3106        100162   100039  ...                  1          0\n",
            "28138       100729   100122  ...                  6          2\n",
            "20087       100601   101018  ...                  1          0\n",
            "16962       100554   100877  ...                  9          1\n",
            "\n",
            "[5 rows x 5 columns]\n",
            "(8043, 5)\n"
          ]
        }
      ]
    },
    {
      "cell_type": "code",
      "metadata": {
        "colab": {
          "base_uri": "https://localhost:8080/",
          "height": 206
        },
        "id": "OgqMw3vRVFGI",
        "outputId": "991cc2c6-5f81-4804-9956-36ac3b067609"
      },
      "source": [
        "output_usd_test.head()"
      ],
      "execution_count": null,
      "outputs": [
        {
          "data": {
            "text/html": [
              "<div>\n",
              "<style scoped>\n",
              "    .dataframe tbody tr th:only-of-type {\n",
              "        vertical-align: middle;\n",
              "    }\n",
              "\n",
              "    .dataframe tbody tr th {\n",
              "        vertical-align: top;\n",
              "    }\n",
              "\n",
              "    .dataframe thead th {\n",
              "        text-align: right;\n",
              "    }\n",
              "</style>\n",
              "<table border=\"1\" class=\"dataframe\">\n",
              "  <thead>\n",
              "    <tr style=\"text-align: right;\">\n",
              "      <th></th>\n",
              "      <th>Customer_no</th>\n",
              "      <th>Item_no</th>\n",
              "      <th>AVG_Transaction_Amount</th>\n",
              "      <th>Count_Transaction</th>\n",
              "      <th>Year_Diff</th>\n",
              "      <th>churn_pred</th>\n",
              "    </tr>\n",
              "  </thead>\n",
              "  <tbody>\n",
              "    <tr>\n",
              "      <th>29174</th>\n",
              "      <td>100751</td>\n",
              "      <td>100642</td>\n",
              "      <td>1931818.200</td>\n",
              "      <td>5</td>\n",
              "      <td>1</td>\n",
              "      <td>1</td>\n",
              "    </tr>\n",
              "    <tr>\n",
              "      <th>3106</th>\n",
              "      <td>100162</td>\n",
              "      <td>100039</td>\n",
              "      <td>561818.000</td>\n",
              "      <td>1</td>\n",
              "      <td>0</td>\n",
              "      <td>1</td>\n",
              "    </tr>\n",
              "    <tr>\n",
              "      <th>28138</th>\n",
              "      <td>100729</td>\n",
              "      <td>100122</td>\n",
              "      <td>2237500.167</td>\n",
              "      <td>6</td>\n",
              "      <td>2</td>\n",
              "      <td>1</td>\n",
              "    </tr>\n",
              "    <tr>\n",
              "      <th>20087</th>\n",
              "      <td>100601</td>\n",
              "      <td>101018</td>\n",
              "      <td>7363636.000</td>\n",
              "      <td>1</td>\n",
              "      <td>0</td>\n",
              "      <td>1</td>\n",
              "    </tr>\n",
              "    <tr>\n",
              "      <th>16962</th>\n",
              "      <td>100554</td>\n",
              "      <td>100877</td>\n",
              "      <td>1191899.111</td>\n",
              "      <td>9</td>\n",
              "      <td>1</td>\n",
              "      <td>1</td>\n",
              "    </tr>\n",
              "  </tbody>\n",
              "</table>\n",
              "</div>"
            ],
            "text/plain": [
              "       Customer_no  Item_no  ...  Year_Diff  churn_pred\n",
              "29174       100751   100642  ...          1           1\n",
              "3106        100162   100039  ...          0           1\n",
              "28138       100729   100122  ...          2           1\n",
              "20087       100601   101018  ...          0           1\n",
              "16962       100554   100877  ...          1           1\n",
              "\n",
              "[5 rows x 6 columns]"
            ]
          },
          "execution_count": 37,
          "metadata": {},
          "output_type": "execute_result"
        }
      ]
    },
    {
      "cell_type": "code",
      "metadata": {
        "id": "rMFfUGeJ8IQu"
      },
      "source": [
        "frames = [output_usd, output_usd_test]"
      ],
      "execution_count": null,
      "outputs": []
    },
    {
      "cell_type": "code",
      "metadata": {
        "id": "ohOTHjEWFgn0"
      },
      "source": [
        "result_usd = pd.concat(frames).drop_duplicates().reset_index(drop=True)"
      ],
      "execution_count": null,
      "outputs": []
    },
    {
      "cell_type": "code",
      "metadata": {
        "id": "15GJyrKIVLj8"
      },
      "source": [
        "result_usd.to_csv('/content/drive/MyDrive/Business Decision Research/output_usd.csv')"
      ],
      "execution_count": null,
      "outputs": []
    },
    {
      "cell_type": "markdown",
      "metadata": {
        "id": "GU-HeU3R_VXE"
      },
      "source": [
        "# KHI"
      ]
    },
    {
      "cell_type": "code",
      "metadata": {
        "colab": {
          "base_uri": "https://localhost:8080/"
        },
        "id": "cvh8UhIq_Zus",
        "outputId": "2e33182e-156f-4cb1-fada-4db7ce3e288a"
      },
      "source": [
        "#Importing Data and Inspection\n",
        "import pandas as pd\n",
        "\n",
        "df_khi = pd.read_csv('/content/drive/My Drive/Business Decision Research/Input/BusinessDecRes_KHI.csv',sep=',')\n",
        "\n",
        "print('Lima data teratas:')\n",
        "print(df_khi.head())\n",
        "\n",
        "print('\\nInfo dataset:')\n",
        "print(df_khi.info())"
      ],
      "execution_count": null,
      "outputs": [
        {
          "output_type": "stream",
          "name": "stdout",
          "text": [
            "Lima data teratas:\n",
            "   Customer_no  Item_no  ... AVG_Transaction_Amount Count_Transaction\n",
            "0       100001   100001  ...               725000.0                 2\n",
            "1       100001   100002  ...               946590.5                 2\n",
            "2       100001   100003  ...              1295455.0                 1\n",
            "3       100001   100005  ...              2454546.0                 1\n",
            "4       100001   100006  ...              2909091.0                 1\n",
            "\n",
            "[5 rows x 8 columns]\n",
            "\n",
            "Info dataset:\n",
            "<class 'pandas.core.frame.DataFrame'>\n",
            "RangeIndex: 2896 entries, 0 to 2895\n",
            "Data columns (total 8 columns):\n",
            " #   Column                  Non-Null Count  Dtype  \n",
            "---  ------                  --------------  -----  \n",
            " 0   Customer_no             2896 non-null   int64  \n",
            " 1   Item_no                 2896 non-null   int64  \n",
            " 2   Description             2896 non-null   object \n",
            " 3   Dept                    2896 non-null   object \n",
            " 4   First_Transaction       2896 non-null   object \n",
            " 5   Last_Transaction        2896 non-null   object \n",
            " 6   AVG_Transaction_Amount  2896 non-null   float64\n",
            " 7   Count_Transaction       2896 non-null   int64  \n",
            "dtypes: float64(1), int64(3), object(4)\n",
            "memory usage: 181.1+ KB\n",
            "None\n"
          ]
        }
      ]
    },
    {
      "cell_type": "code",
      "metadata": {
        "colab": {
          "base_uri": "https://localhost:8080/",
          "height": 452
        },
        "id": "r9S-CVh5T0wn",
        "outputId": "84d9316d-3f95-4803-ea24-a406e12e335e"
      },
      "source": [
        "df_khi.head()"
      ],
      "execution_count": null,
      "outputs": [
        {
          "output_type": "execute_result",
          "data": {
            "text/html": [
              "<div>\n",
              "<style scoped>\n",
              "    .dataframe tbody tr th:only-of-type {\n",
              "        vertical-align: middle;\n",
              "    }\n",
              "\n",
              "    .dataframe tbody tr th {\n",
              "        vertical-align: top;\n",
              "    }\n",
              "\n",
              "    .dataframe thead th {\n",
              "        text-align: right;\n",
              "    }\n",
              "</style>\n",
              "<table border=\"1\" class=\"dataframe\">\n",
              "  <thead>\n",
              "    <tr style=\"text-align: right;\">\n",
              "      <th></th>\n",
              "      <th>Customer_no</th>\n",
              "      <th>Item_no</th>\n",
              "      <th>Description</th>\n",
              "      <th>Dept</th>\n",
              "      <th>First_Transaction</th>\n",
              "      <th>Last_Transaction</th>\n",
              "      <th>AVG_Transaction_Amount</th>\n",
              "      <th>Count_Transaction</th>\n",
              "    </tr>\n",
              "  </thead>\n",
              "  <tbody>\n",
              "    <tr>\n",
              "      <th>0</th>\n",
              "      <td>100001</td>\n",
              "      <td>100001</td>\n",
              "      <td>KLASSEN BT.2022 T.SABIT CHR 64</td>\n",
              "      <td>JKT</td>\n",
              "      <td>12-04-2017</td>\n",
              "      <td>14-02-2018</td>\n",
              "      <td>725000.0</td>\n",
              "      <td>2</td>\n",
              "    </tr>\n",
              "    <tr>\n",
              "      <th>1</th>\n",
              "      <td>100001</td>\n",
              "      <td>100002</td>\n",
              "      <td>KLASSEN BT.2022 T.SABIT CHR 96</td>\n",
              "      <td>JKT</td>\n",
              "      <td>12-04-2017</td>\n",
              "      <td>14-02-2018</td>\n",
              "      <td>946590.5</td>\n",
              "      <td>2</td>\n",
              "    </tr>\n",
              "    <tr>\n",
              "      <th>2</th>\n",
              "      <td>100001</td>\n",
              "      <td>100003</td>\n",
              "      <td>KLASSEN BT.2022 T.SABIT GP 64</td>\n",
              "      <td>JKT</td>\n",
              "      <td>14-02-2018</td>\n",
              "      <td>14-02-2018</td>\n",
              "      <td>1295455.0</td>\n",
              "      <td>1</td>\n",
              "    </tr>\n",
              "    <tr>\n",
              "      <th>3</th>\n",
              "      <td>100001</td>\n",
              "      <td>100005</td>\n",
              "      <td>KLASSEN BT.2073 T.TZ 18-128</td>\n",
              "      <td>JKT</td>\n",
              "      <td>05-12-2017</td>\n",
              "      <td>05-12-2017</td>\n",
              "      <td>2454546.0</td>\n",
              "      <td>1</td>\n",
              "    </tr>\n",
              "    <tr>\n",
              "      <th>4</th>\n",
              "      <td>100001</td>\n",
              "      <td>100006</td>\n",
              "      <td>KLASSEN BT.2073 T.TZ 18-160</td>\n",
              "      <td>JKT</td>\n",
              "      <td>05-12-2017</td>\n",
              "      <td>05-12-2017</td>\n",
              "      <td>2909091.0</td>\n",
              "      <td>1</td>\n",
              "    </tr>\n",
              "  </tbody>\n",
              "</table>\n",
              "</div>"
            ],
            "text/plain": [
              "   Customer_no  Item_no  ... AVG_Transaction_Amount Count_Transaction\n",
              "0       100001   100001  ...               725000.0                 2\n",
              "1       100001   100002  ...               946590.5                 2\n",
              "2       100001   100003  ...              1295455.0                 1\n",
              "3       100001   100005  ...              2454546.0                 1\n",
              "4       100001   100006  ...              2909091.0                 1\n",
              "\n",
              "[5 rows x 8 columns]"
            ]
          },
          "metadata": {},
          "execution_count": 4
        }
      ]
    },
    {
      "cell_type": "code",
      "metadata": {
        "colab": {
          "base_uri": "https://localhost:8080/"
        },
        "id": "RDnvdYrBUAW_",
        "outputId": "1749d596-f26c-4226-e056-d2306f05e65d"
      },
      "source": [
        "# Pengecekan transaksaksi terakhir dalam dataset\n",
        "print(max(df_khi['Last_Transaction']))\n",
        "\n",
        "# Klasifikasikan customer yang berstatus churn atau tidak\n",
        "df_khi.loc[df_khi['Last_Transaction'] <= '30-06-2020', 'is_churn'] = True\n",
        "df_khi.loc[df_khi['Last_Transaction'] > '30-06-2020', 'is_churn'] = False\n",
        "\n",
        "print('Lima data teratas:')\n",
        "print(df_khi.head())\n",
        "\n",
        "print('\\nInfo dataset:')\n",
        "print(df_khi.info())"
      ],
      "execution_count": null,
      "outputs": [
        {
          "output_type": "stream",
          "name": "stdout",
          "text": [
            "31-10-2018\n",
            "Lima data teratas:\n",
            "   Customer_no  Item_no  ... Count_Transaction is_churn\n",
            "0       100001   100001  ...                 2     True\n",
            "1       100001   100002  ...                 2     True\n",
            "2       100001   100003  ...                 1     True\n",
            "3       100001   100005  ...                 1     True\n",
            "4       100001   100006  ...                 1     True\n",
            "\n",
            "[5 rows x 9 columns]\n",
            "\n",
            "Info dataset:\n",
            "<class 'pandas.core.frame.DataFrame'>\n",
            "RangeIndex: 2896 entries, 0 to 2895\n",
            "Data columns (total 9 columns):\n",
            " #   Column                  Non-Null Count  Dtype  \n",
            "---  ------                  --------------  -----  \n",
            " 0   Customer_no             2896 non-null   int64  \n",
            " 1   Item_no                 2896 non-null   int64  \n",
            " 2   Description             2896 non-null   object \n",
            " 3   Dept                    2896 non-null   object \n",
            " 4   First_Transaction       2896 non-null   object \n",
            " 5   Last_Transaction        2896 non-null   object \n",
            " 6   AVG_Transaction_Amount  2896 non-null   float64\n",
            " 7   Count_Transaction       2896 non-null   int64  \n",
            " 8   is_churn                2896 non-null   object \n",
            "dtypes: float64(1), int64(3), object(5)\n",
            "memory usage: 203.8+ KB\n",
            "None\n"
          ]
        }
      ]
    },
    {
      "cell_type": "code",
      "metadata": {
        "colab": {
          "base_uri": "https://localhost:8080/"
        },
        "id": "JAFxVia3UNB2",
        "outputId": "51a5750d-d5a8-4d6f-e073-a5883c7c0002"
      },
      "source": [
        "# Kolom First_Transaction\n",
        "df_khi['First_Transaction'] = pd.to_datetime(df_khi['First_Transaction'])\n",
        "# Kolom Last_Transaction\n",
        "df_khi['Last_Transaction'] = pd.to_datetime(df_khi['Last_Transaction'])\n",
        "\n",
        "print('Lima data teratas:')\n",
        "print(df_khi.head())"
      ],
      "execution_count": null,
      "outputs": [
        {
          "name": "stdout",
          "output_type": "stream",
          "text": [
            "Lima data teratas:\n",
            "   Customer_no  Item_no  ... Count_Transaction is_churn\n",
            "0       100001   100001  ...                 2     True\n",
            "1       100001   100002  ...                 2     True\n",
            "2       100001   100003  ...                 1     True\n",
            "3       100001   100005  ...                 1     True\n",
            "4       100001   100006  ...                 1     True\n",
            "\n",
            "[5 rows x 9 columns]\n"
          ]
        }
      ]
    },
    {
      "cell_type": "code",
      "metadata": {
        "colab": {
          "base_uri": "https://localhost:8080/"
        },
        "id": "xGpDf3RFUVoM",
        "outputId": "cebc59d1-608e-48cc-acfa-ee750cdaf676"
      },
      "source": [
        "# Hapus kolom-kolom yang tidak diperlukan\n",
        "#del df_khi['Item_no']\n",
        "# Cetak lima data teratas\n",
        "#print(df_khi.head())"
      ],
      "execution_count": null,
      "outputs": [
        {
          "name": "stdout",
          "output_type": "stream",
          "text": [
            "   Customer_no                     Description  ... Count_Transaction is_churn\n",
            "0       100001  KLASSEN BT.2022 T.SABIT CHR 64  ...                 2     True\n",
            "1       100001  KLASSEN BT.2022 T.SABIT CHR 96  ...                 2     True\n",
            "2       100001   KLASSEN BT.2022 T.SABIT GP 64  ...                 1     True\n",
            "3       100001     KLASSEN BT.2073 T.TZ 18-128  ...                 1     True\n",
            "4       100001     KLASSEN BT.2073 T.TZ 18-160  ...                 1     True\n",
            "\n",
            "[5 rows x 8 columns]\n"
          ]
        }
      ]
    },
    {
      "cell_type": "code",
      "metadata": {
        "colab": {
          "base_uri": "https://localhost:8080/",
          "height": 297
        },
        "id": "7mSIWRYKUa5W",
        "outputId": "3f22cf87-8a31-4dc4-f637-7f01ae224bf6"
      },
      "source": [
        "import matplotlib.pyplot as plt\n",
        "\n",
        "# Kolom tahun transaksi pertama\n",
        "df_khi['Year_First_Transaction'] = df_khi['First_Transaction'].dt.year\n",
        "\n",
        "# Kolom tahun transaksi terakhir\n",
        "df_khi['Year_Last_Transaction'] = df_khi['Last_Transaction'].dt.year\n",
        "df_year = df_khi.groupby(['Year_First_Transaction'])['Customer_no'].count()\n",
        "df_year.plot(x='Year_First_Transaction', y='Customer_ID', kind='bar', title='Graph of Customer Acquisition')\n",
        "plt.xlabel('Year_First_Transaction')\n",
        "plt.ylabel('Num_of_Customer')\n",
        "plt.tight_layout()\n",
        "plt.show()"
      ],
      "execution_count": null,
      "outputs": [
        {
          "data": {
            "image/png": "[encoded data removed]",
            "text/plain": [
              "<Figure size 432x288 with 1 Axes>"
            ]
          },
          "metadata": {},
          "output_type": "display_data"
        }
      ]
    },
    {
      "cell_type": "code",
      "metadata": {
        "colab": {
          "base_uri": "https://localhost:8080/",
          "height": 297
        },
        "id": "nGoaAWpSUlRH",
        "outputId": "572f5295-133f-4171-f5b6-89ef0a8913c7"
      },
      "source": [
        "#Transaction by Year\n",
        "import matplotlib.pyplot as plt\n",
        "plt.clf()\n",
        "df_year = df_khi.groupby(['Year_First_Transaction'])['Count_Transaction'].sum()\n",
        "df_year.plot(x='Year_First_Transaction', y='Count_Transaction', kind='bar', title='Graph of Transaction Customer')\n",
        "plt.xlabel('Year_First_Transaction')\n",
        "plt.ylabel('Num_of_Transaction')\n",
        "plt.tight_layout()\n",
        "plt.show()"
      ],
      "execution_count": null,
      "outputs": [
        {
          "data": {
            "image/png": "[encoded data removed]",
            "text/plain": [
              "<Figure size 432x288 with 1 Axes>"
            ]
          },
          "metadata": {},
          "output_type": "display_data"
        }
      ]
    },
    {
      "cell_type": "code",
      "metadata": {
        "colab": {
          "base_uri": "https://localhost:8080/",
          "height": 648
        },
        "id": "8EGpLnypUsB9",
        "outputId": "dee0eef1-79d4-4326-b334-56378074c56b"
      },
      "source": [
        "import matplotlib.pyplot as plt\n",
        "plt.clf()\n",
        "\n",
        "# Melakukan pivot data\n",
        "df_piv = df_khi.pivot_table(index='is_churn',\n",
        "\t\t\t\t\t\tcolumns='Description',\n",
        "\t\t\t\t\t\tvalues='Customer_no',\n",
        "\t\t\t\t\t\taggfunc='count',\n",
        "\t\t\t\t\t\tfill_value=0)\n",
        "\n",
        "# Mendapatkan Proportion Churn by Product\n",
        "plot_product = df_piv.count().sort_values(ascending=False).tail(5).index\n",
        "\n",
        "# Plot pie chartnya\n",
        "df_piv = df_piv.reindex(columns=plot_product)\n",
        "df_piv.plot.pie(subplots=True,\n",
        "\t\t\t\tfigsize=(15, 10),\n",
        "\t\t\t\tlayout=(-1, 2),\n",
        "\t\t\t\tautopct='%1.0f%%',\n",
        "\t\t\t\ttitle='Proportion Churn by Product')\n",
        "plt.tight_layout()\n",
        "plt.show()"
      ],
      "execution_count": null,
      "outputs": [
        {
          "data": {
            "text/plain": [
              "<Figure size 432x288 with 0 Axes>"
            ]
          },
          "metadata": {},
          "output_type": "display_data"
        },
        {
          "data": {
            "image/png": "[encoded data removed]",
            "text/plain": [
              "<Figure size 1080x720 with 6 Axes>"
            ]
          },
          "metadata": {},
          "output_type": "display_data"
        }
      ]
    },
    {
      "cell_type": "code",
      "metadata": {
        "colab": {
          "base_uri": "https://localhost:8080/",
          "height": 297
        },
        "id": "SkPvf15bU0Ev",
        "outputId": "469ae379-cc77-4c39-c32d-24a51723e86b"
      },
      "source": [
        "import matplotlib.pyplot as plt\n",
        "plt.clf()\n",
        "# Kategorisasi jumlah transaksi\n",
        "def func(row):\n",
        "\tif row['Count_Transaction'] == 1:\n",
        "\t\tval = '1. 1'\n",
        "\telif (row['Count_Transaction'] >1 and row['Count_Transaction'] <= 3):\n",
        "\t\tval ='2. 2 - 3'\n",
        "\telif (row['Count_Transaction'] >3 and row['Count_Transaction'] <= 6):\n",
        "\t\tval ='3. 4 - 6'\n",
        "\telif (row['Count_Transaction'] >6 and row['Count_Transaction'] <= 10):\n",
        "\t\tval ='4. 7 - 10'\n",
        "\telse:\n",
        "\t\tval ='5. >10'\n",
        "\treturn val\n",
        "# Tambahkan kolom baru\n",
        "df_khi['Count_Transaction_Group'] = df_khi.apply(func, axis=1)\n",
        "df_year = df_khi.groupby(['Count_Transaction_Group'])['Customer_no'].count()\n",
        "df_year.plot(x='Count_Transaction_Group', y='Customer_ID', kind='bar', title='Customer Distribution by Count Transaction Group')\n",
        "plt.xlabel('Count_Transaction_Group')\n",
        "plt.ylabel('Num_of_Customer')\n",
        "plt.tight_layout()\n",
        "plt.show()"
      ],
      "execution_count": null,
      "outputs": [
        {
          "data": {
            "image/png": "[encoded data removed]",
            "text/plain": [
              "<Figure size 432x288 with 1 Axes>"
            ]
          },
          "metadata": {},
          "output_type": "display_data"
        }
      ]
    },
    {
      "cell_type": "code",
      "metadata": {
        "colab": {
          "base_uri": "https://localhost:8080/",
          "height": 297
        },
        "id": "fnJOL61OXmRy",
        "outputId": "71a7b7e3-3e53-4c27-813e-450b10acd4f4"
      },
      "source": [
        "import matplotlib.pyplot as plt\n",
        "plt.clf()\n",
        "# Kategorisasi rata-rata besar transaksi\n",
        "def f(row):\n",
        "\tif (row['AVG_Transaction_Amount'] >= 100000 and row['AVG_Transaction_Amount'] <=1000000):\n",
        "\t\tval ='1. 100.000 - 1.000.000'\n",
        "\telif (row['AVG_Transaction_Amount'] >1000000 and row['AVG_Transaction_Amount'] <= 5000000):\n",
        "\t\tval ='2. >1.000.000 - 5.000.000'\n",
        "\telif (row['AVG_Transaction_Amount'] >5000000 and row['AVG_Transaction_Amount'] <= 10000000):\n",
        "\t\tval ='3. >5.000.000 - 10.000.000'\n",
        "\telif (row['AVG_Transaction_Amount'] >10000000 and row['AVG_Transaction_Amount'] <= 15000000):\n",
        "\t\tval ='4. >10.000.000 - 15.000.000'\n",
        "\telif (row['AVG_Transaction_Amount'] >15000000 and row['AVG_Transaction_Amount'] <= 25000000):\n",
        "\t\tval ='5. >15.000.000 - 25.000.000'\n",
        "\telif (row['AVG_Transaction_Amount'] >25000000 and row['AVG_Transaction_Amount'] <= 50000000):\n",
        "\t\tval ='6. >25.000.000 - 50.000.000'\n",
        "\telif (row['AVG_Transaction_Amount'] >50000000 and row['AVG_Transaction_Amount'] <= 100000000):\n",
        "\t\tval ='7. >50.000.000 - 100.000.000'\n",
        "\telse:\n",
        "\t\tval ='8. > 100.000.000'\n",
        "\treturn val\n",
        "\n",
        "# Tambahkan kolom baru\n",
        "df_khi['AVG_Transaction_Amount_Group'] = df_khi.apply(f, axis=1)\n",
        "df_year = df_khi.groupby(['AVG_Transaction_Amount_Group'])['Customer_no'].count()\n",
        "df_year.plot(x='AVG_Transaction_Amount_Group', y='Customer_no',kind='bar', title='Customer Distribution by Average Transaction Amount Group')\n",
        "plt.xlabel('AVG_Transaction_Amount_Group')\n",
        "plt.ylabel('Num_of_Customer')\n",
        "plt.tight_layout()\n",
        "plt.show()"
      ],
      "execution_count": null,
      "outputs": [
        {
          "data": {
            "image/png": "[encoded data removed]",
            "text/plain": [
              "<Figure size 432x288 with 1 Axes>"
            ]
          },
          "metadata": {},
          "output_type": "display_data"
        }
      ]
    },
    {
      "cell_type": "code",
      "metadata": {
        "colab": {
          "base_uri": "https://localhost:8080/"
        },
        "id": "DM5RHRk_X9w_",
        "outputId": "25274286-ddde-4b9c-cac1-705a3501dd5d"
      },
      "source": [
        "# Feature column: Year_Diff\n",
        "df_khi['Year_Diff']=df_khi['Year_Last_Transaction'] - df_khi['Year_First_Transaction']\n",
        "\n",
        "# Nama-nama feature columns\n",
        "feature_columns = ['AVG_Transaction_Amount', 'Count_Transaction', 'Year_Diff']\n",
        "\n",
        "# Features variable\n",
        "X = df_khi[feature_columns]  \n",
        "\n",
        "# Target variable\n",
        "print(df_khi[df_khi['is_churn'].isnull()])\n",
        "df_khi['is_churn'] = pd.to_numeric(df_khi['is_churn'], errors='coerce')\n",
        "df_khi = df_khi.dropna(subset=['is_churn'])\n",
        "df_khi['is_churn'] = df_khi['is_churn'].astype(int)\n",
        "y = df_khi['is_churn']"
      ],
      "execution_count": null,
      "outputs": [
        {
          "name": "stdout",
          "output_type": "stream",
          "text": [
            "Empty DataFrame\n",
            "Columns: [Customer_no, Item_no, Description, Dept, First_Transaction, Last_Transaction, AVG_Transaction_Amount, Count_Transaction, is_churn, Year_First_Transaction, Year_Last_Transaction, Count_Transaction_Group, AVG_Transaction_Amount_Group, Year_Diff]\n",
            "Index: []\n"
          ]
        }
      ]
    },
    {
      "cell_type": "code",
      "metadata": {
        "id": "264ffECqYsdJ"
      },
      "source": [
        "from sklearn.model_selection import train_test_split\n",
        "\n",
        "X_train, X_test, y_train, y_test = train_test_split(X, y, test_size=0.25, random_state=0)"
      ],
      "execution_count": null,
      "outputs": []
    },
    {
      "cell_type": "code",
      "metadata": {
        "colab": {
          "base_uri": "https://localhost:8080/"
        },
        "id": "9gJeiTIJYwd8",
        "outputId": "84af6daf-d819-4bde-fcdc-5d0906f6b524"
      },
      "source": [
        "print(y_test)"
      ],
      "execution_count": null,
      "outputs": [
        {
          "name": "stdout",
          "output_type": "stream",
          "text": [
            "2309    1\n",
            "1323    1\n",
            "22      1\n",
            "1005    1\n",
            "248     1\n",
            "       ..\n",
            "2870    1\n",
            "232     1\n",
            "610     1\n",
            "1355    1\n",
            "2845    1\n",
            "Name: is_churn, Length: 724, dtype: int64\n"
          ]
        }
      ]
    },
    {
      "cell_type": "code",
      "metadata": {
        "colab": {
          "base_uri": "https://localhost:8080/"
        },
        "id": "f0cJ7462YyYV",
        "outputId": "f28d6d87-ed62-4a0f-deb5-f33629a518d1"
      },
      "source": [
        "print(X_test)"
      ],
      "execution_count": null,
      "outputs": [
        {
          "name": "stdout",
          "output_type": "stream",
          "text": [
            "      AVG_Transaction_Amount  Count_Transaction  Year_Diff\n",
            "2309               72000.000                  1          0\n",
            "1323             2727273.000                  1          0\n",
            "22                454546.000                  1          0\n",
            "1005              659091.000                  2          4\n",
            "248              1169467.075                 40          2\n",
            "...                      ...                ...        ...\n",
            "2870             1265455.000                  1          0\n",
            "232              1579039.750                 16          1\n",
            "610               681818.000                  1          0\n",
            "1355              536363.000                  1          0\n",
            "2845              518182.000                  1          0\n",
            "\n",
            "[724 rows x 3 columns]\n"
          ]
        }
      ]
    },
    {
      "cell_type": "code",
      "metadata": {
        "colab": {
          "base_uri": "https://localhost:8080/"
        },
        "id": "9_eWEBUsY1al",
        "outputId": "fe8afb5c-58d0-4e15-ac29-9e5d4ab037b2"
      },
      "source": [
        "#Train, predict dan evaluate\n",
        "from sklearn.linear_model import LogisticRegression\n",
        "from sklearn.metrics import confusion_matrix\n",
        "\n",
        "# Inisiasi model logreg\n",
        "logreg = LogisticRegression()\n",
        "\n",
        "# fit the model with data\n",
        "log_model=logreg.fit(X_train, y_train)\n",
        "\n",
        "# Predict model\n",
        "y_train_pred = log_model.predict(X_train)\n",
        "\n",
        "# Evaluasi model menggunakan confusion matrix\n",
        "cnf_matrix = pd.DataFrame(confusion_matrix(y_train,y_train_pred))\n",
        "print('Confusion Matrix:\\n', cnf_matrix)"
      ],
      "execution_count": null,
      "outputs": [
        {
          "name": "stdout",
          "output_type": "stream",
          "text": [
            "Confusion Matrix:\n",
            "    0     1\n",
            "0  0    90\n",
            "1  0  2082\n"
          ]
        }
      ]
    },
    {
      "cell_type": "code",
      "metadata": {
        "colab": {
          "base_uri": "https://localhost:8080/",
          "height": 315
        },
        "id": "UvuSpaClY5nX",
        "outputId": "ffc7720a-7223-40e7-d4c3-6677ec17454a"
      },
      "source": [
        "#y_pred = logreg.predict(X_test)\n",
        "#cnf_matrix = confusion_matrix(y_test, y_pred)\n",
        "\n",
        "# import required modules\n",
        "import numpy as np\n",
        "import matplotlib.pyplot as plt\n",
        "import seaborn as sns\n",
        "plt.clf()\n",
        "\n",
        "# name of classes\n",
        "class_names = [0, 1]\n",
        "fig, ax = plt.subplots()\n",
        "tick_marks = np.arange(len(class_names))\n",
        "plt.xticks(tick_marks, class_names)\n",
        "plt.yticks(tick_marks, class_names)\n",
        "\n",
        "# create heatmap\n",
        "sns.heatmap(pd.DataFrame(cnf_matrix), annot=True, cmap='YlGnBu', fmt='g')\n",
        "ax.xaxis.set_label_position('top')\n",
        "plt.title('Confusion matrix', y=1.1)\n",
        "plt.ylabel('Actual')\n",
        "plt.xlabel('Predicted')\n",
        "plt.tight_layout()\n",
        "plt.show()"
      ],
      "execution_count": null,
      "outputs": [
        {
          "data": {
            "text/plain": [
              "<Figure size 432x288 with 0 Axes>"
            ]
          },
          "metadata": {},
          "output_type": "display_data"
        },
        {
          "data": {
            "image/png": "[encoded data removed]",
            "text/plain": [
              "<Figure size 432x288 with 2 Axes>"
            ]
          },
          "metadata": {},
          "output_type": "display_data"
        }
      ]
    },
    {
      "cell_type": "code",
      "metadata": {
        "colab": {
          "base_uri": "https://localhost:8080/"
        },
        "id": "47bEwO83ZCah",
        "outputId": "13fa5f65-ae61-43ab-bcbf-b2b6b1364e58"
      },
      "source": [
        "print(y_train_pred)"
      ],
      "execution_count": null,
      "outputs": [
        {
          "name": "stdout",
          "output_type": "stream",
          "text": [
            "[1 1 1 ... 1 1 1]\n"
          ]
        }
      ]
    },
    {
      "cell_type": "code",
      "metadata": {
        "colab": {
          "base_uri": "https://localhost:8080/"
        },
        "id": "sFTVUMNUYYqJ",
        "outputId": "37f4e114-db9f-4694-d22d-83e092494ec3"
      },
      "source": [
        "y_test_pred = log_model.predict(X_test)\n",
        "\n",
        "# Evaluasi model menggunakan confusion matrix\n",
        "cnf_matrix = pd.DataFrame(confusion_matrix(y_test,y_test_pred))\n",
        "print('Confusion Matrix:\\n', cnf_matrix)"
      ],
      "execution_count": null,
      "outputs": [
        {
          "name": "stdout",
          "output_type": "stream",
          "text": [
            "Confusion Matrix:\n",
            "    0    1\n",
            "0  0   34\n",
            "1  0  690\n"
          ]
        }
      ]
    },
    {
      "cell_type": "code",
      "metadata": {
        "colab": {
          "base_uri": "https://localhost:8080/"
        },
        "id": "RPzCdpCuYaVA",
        "outputId": "75bb7f3a-c34a-48d4-c905-8eb9377a6b67"
      },
      "source": [
        "print(y_test_pred)"
      ],
      "execution_count": null,
      "outputs": [
        {
          "name": "stdout",
          "output_type": "stream",
          "text": [
            "[1 1 1 1 1 1 1 1 1 1 1 1 1 1 1 1 1 1 1 1 1 1 1 1 1 1 1 1 1 1 1 1 1 1 1 1 1\n",
            " 1 1 1 1 1 1 1 1 1 1 1 1 1 1 1 1 1 1 1 1 1 1 1 1 1 1 1 1 1 1 1 1 1 1 1 1 1\n",
            " 1 1 1 1 1 1 1 1 1 1 1 1 1 1 1 1 1 1 1 1 1 1 1 1 1 1 1 1 1 1 1 1 1 1 1 1 1\n",
            " 1 1 1 1 1 1 1 1 1 1 1 1 1 1 1 1 1 1 1 1 1 1 1 1 1 1 1 1 1 1 1 1 1 1 1 1 1\n",
            " 1 1 1 1 1 1 1 1 1 1 1 1 1 1 1 1 1 1 1 1 1 1 1 1 1 1 1 1 1 1 1 1 1 1 1 1 1\n",
            " 1 1 1 1 1 1 1 1 1 1 1 1 1 1 1 1 1 1 1 1 1 1 1 1 1 1 1 1 1 1 1 1 1 1 1 1 1\n",
            " 1 1 1 1 1 1 1 1 1 1 1 1 1 1 1 1 1 1 1 1 1 1 1 1 1 1 1 1 1 1 1 1 1 1 1 1 1\n",
            " 1 1 1 1 1 1 1 1 1 1 1 1 1 1 1 1 1 1 1 1 1 1 1 1 1 1 1 1 1 1 1 1 1 1 1 1 1\n",
            " 1 1 1 1 1 1 1 1 1 1 1 1 1 1 1 1 1 1 1 1 1 1 1 1 1 1 1 1 1 1 1 1 1 1 1 1 1\n",
            " 1 1 1 1 1 1 1 1 1 1 1 1 1 1 1 1 1 1 1 1 1 1 1 1 1 1 1 1 1 1 1 1 1 1 1 1 1\n",
            " 1 1 1 1 1 1 1 1 1 1 1 1 1 1 1 1 1 1 1 1 1 1 1 1 1 1 1 1 1 1 1 1 1 1 1 1 1\n",
            " 1 1 1 1 1 1 1 1 1 1 1 1 1 1 1 1 1 1 1 1 1 1 1 1 1 1 1 1 1 1 1 1 1 1 1 1 1\n",
            " 1 1 1 1 1 1 1 1 1 1 1 1 1 1 1 1 1 1 1 1 1 1 1 1 1 1 1 1 1 1 1 1 1 1 1 1 1\n",
            " 1 1 1 1 1 1 1 1 1 1 1 1 1 1 1 1 1 1 1 1 1 1 1 1 1 1 1 1 1 1 1 1 1 1 1 1 1\n",
            " 1 1 1 1 1 1 1 1 1 1 1 1 1 1 1 1 1 1 1 1 1 1 1 1 1 1 1 1 1 1 1 1 1 1 1 1 1\n",
            " 1 1 1 1 1 1 1 1 1 1 1 1 1 1 1 1 1 1 1 1 1 1 1 1 1 1 1 1 1 1 1 1 1 1 1 1 1\n",
            " 1 1 1 1 1 1 1 1 1 1 1 1 1 1 1 1 1 1 1 1 1 1 1 1 1 1 1 1 1 1 1 1 1 1 1 1 1\n",
            " 1 1 1 1 1 1 1 1 1 1 1 1 1 1 1 1 1 1 1 1 1 1 1 1 1 1 1 1 1 1 1 1 1 1 1 1 1\n",
            " 1 1 1 1 1 1 1 1 1 1 1 1 1 1 1 1 1 1 1 1 1 1 1 1 1 1 1 1 1 1 1 1 1 1 1 1 1\n",
            " 1 1 1 1 1 1 1 1 1 1 1 1 1 1 1 1 1 1 1 1 1]\n"
          ]
        }
      ]
    },
    {
      "cell_type": "code",
      "metadata": {
        "colab": {
          "base_uri": "https://localhost:8080/",
          "height": 315
        },
        "id": "oHDZ7lizYft-",
        "outputId": "061c6417-a491-4b2c-96c6-194c1a2e0445"
      },
      "source": [
        "#y_pred = logreg.predict(X_test)\n",
        "#cnf_matrix = confusion_matrix(y_test, y_pred)\n",
        "\n",
        "# import required modules\n",
        "import numpy as np\n",
        "import matplotlib.pyplot as plt\n",
        "import seaborn as sns\n",
        "plt.clf()\n",
        "\n",
        "# name of classes\n",
        "class_names = [0, 1]\n",
        "fig, ax = plt.subplots()\n",
        "tick_marks = np.arange(len(class_names))\n",
        "plt.xticks(tick_marks, class_names)\n",
        "plt.yticks(tick_marks, class_names)\n",
        "\n",
        "# create heatmap\n",
        "sns.heatmap(pd.DataFrame(cnf_matrix), annot=True, cmap='YlGnBu', fmt='g')\n",
        "ax.xaxis.set_label_position('top')\n",
        "plt.title('Confusion matrix', y=1.1)\n",
        "plt.ylabel('Actual')\n",
        "plt.xlabel('Predicted')\n",
        "plt.tight_layout()\n",
        "plt.show()"
      ],
      "execution_count": null,
      "outputs": [
        {
          "data": {
            "text/plain": [
              "<Figure size 432x288 with 0 Axes>"
            ]
          },
          "metadata": {},
          "output_type": "display_data"
        },
        {
          "data": {
            "image/png": "[encoded data removed]",
            "text/plain": [
              "<Figure size 432x288 with 2 Axes>"
            ]
          },
          "metadata": {},
          "output_type": "display_data"
        }
      ]
    },
    {
      "cell_type": "code",
      "metadata": {
        "colab": {
          "base_uri": "https://localhost:8080/"
        },
        "id": "f9F4gWOTJs0e",
        "outputId": "4b8f68d1-29b4-41cd-9b9e-0d99d118b5d8"
      },
      "source": [
        "print(y_train_pred)"
      ],
      "execution_count": null,
      "outputs": [
        {
          "name": "stdout",
          "output_type": "stream",
          "text": [
            "[1 1 1 ... 1 1 1]\n"
          ]
        }
      ]
    },
    {
      "cell_type": "code",
      "metadata": {
        "colab": {
          "base_uri": "https://localhost:8080/"
        },
        "id": "N5RpbD5rJ2-b",
        "outputId": "fc409bcc-444d-40a2-b522-a5718f66c41d"
      },
      "source": [
        "y_test_pred = log_model.predict(X_test)\n",
        "\n",
        "# Evaluasi model menggunakan confusion matrix\n",
        "cnf_matrix = pd.DataFrame(confusion_matrix(y_test,y_test_pred))\n",
        "print('Confusion Matrix:\\n', cnf_matrix)"
      ],
      "execution_count": null,
      "outputs": [
        {
          "name": "stdout",
          "output_type": "stream",
          "text": [
            "Confusion Matrix:\n",
            "    0    1\n",
            "0  0   34\n",
            "1  0  690\n"
          ]
        }
      ]
    },
    {
      "cell_type": "code",
      "metadata": {
        "colab": {
          "base_uri": "https://localhost:8080/"
        },
        "id": "hpUrNgfKJ5fp",
        "outputId": "6d3a41ba-ad28-4f41-8418-8b6ab7efb232"
      },
      "source": [
        "print(y_test_pred)"
      ],
      "execution_count": null,
      "outputs": [
        {
          "name": "stdout",
          "output_type": "stream",
          "text": [
            "[1 1 1 1 1 1 1 1 1 1 1 1 1 1 1 1 1 1 1 1 1 1 1 1 1 1 1 1 1 1 1 1 1 1 1 1 1\n",
            " 1 1 1 1 1 1 1 1 1 1 1 1 1 1 1 1 1 1 1 1 1 1 1 1 1 1 1 1 1 1 1 1 1 1 1 1 1\n",
            " 1 1 1 1 1 1 1 1 1 1 1 1 1 1 1 1 1 1 1 1 1 1 1 1 1 1 1 1 1 1 1 1 1 1 1 1 1\n",
            " 1 1 1 1 1 1 1 1 1 1 1 1 1 1 1 1 1 1 1 1 1 1 1 1 1 1 1 1 1 1 1 1 1 1 1 1 1\n",
            " 1 1 1 1 1 1 1 1 1 1 1 1 1 1 1 1 1 1 1 1 1 1 1 1 1 1 1 1 1 1 1 1 1 1 1 1 1\n",
            " 1 1 1 1 1 1 1 1 1 1 1 1 1 1 1 1 1 1 1 1 1 1 1 1 1 1 1 1 1 1 1 1 1 1 1 1 1\n",
            " 1 1 1 1 1 1 1 1 1 1 1 1 1 1 1 1 1 1 1 1 1 1 1 1 1 1 1 1 1 1 1 1 1 1 1 1 1\n",
            " 1 1 1 1 1 1 1 1 1 1 1 1 1 1 1 1 1 1 1 1 1 1 1 1 1 1 1 1 1 1 1 1 1 1 1 1 1\n",
            " 1 1 1 1 1 1 1 1 1 1 1 1 1 1 1 1 1 1 1 1 1 1 1 1 1 1 1 1 1 1 1 1 1 1 1 1 1\n",
            " 1 1 1 1 1 1 1 1 1 1 1 1 1 1 1 1 1 1 1 1 1 1 1 1 1 1 1 1 1 1 1 1 1 1 1 1 1\n",
            " 1 1 1 1 1 1 1 1 1 1 1 1 1 1 1 1 1 1 1 1 1 1 1 1 1 1 1 1 1 1 1 1 1 1 1 1 1\n",
            " 1 1 1 1 1 1 1 1 1 1 1 1 1 1 1 1 1 1 1 1 1 1 1 1 1 1 1 1 1 1 1 1 1 1 1 1 1\n",
            " 1 1 1 1 1 1 1 1 1 1 1 1 1 1 1 1 1 1 1 1 1 1 1 1 1 1 1 1 1 1 1 1 1 1 1 1 1\n",
            " 1 1 1 1 1 1 1 1 1 1 1 1 1 1 1 1 1 1 1 1 1 1 1 1 1 1 1 1 1 1 1 1 1 1 1 1 1\n",
            " 1 1 1 1 1 1 1 1 1 1 1 1 1 1 1 1 1 1 1 1 1 1 1 1 1 1 1 1 1 1 1 1 1 1 1 1 1\n",
            " 1 1 1 1 1 1 1 1 1 1 1 1 1 1 1 1 1 1 1 1 1 1 1 1 1 1 1 1 1 1 1 1 1 1 1 1 1\n",
            " 1 1 1 1 1 1 1 1 1 1 1 1 1 1 1 1 1 1 1 1 1 1 1 1 1 1 1 1 1 1 1 1 1 1 1 1 1\n",
            " 1 1 1 1 1 1 1 1 1 1 1 1 1 1 1 1 1 1 1 1 1 1 1 1 1 1 1 1 1 1 1 1 1 1 1 1 1\n",
            " 1 1 1 1 1 1 1 1 1 1 1 1 1 1 1 1 1 1 1 1 1 1 1 1 1 1 1 1 1 1 1 1 1 1 1 1 1\n",
            " 1 1 1 1 1 1 1 1 1 1 1 1 1 1 1 1 1 1 1 1 1]\n"
          ]
        }
      ]
    },
    {
      "cell_type": "code",
      "metadata": {
        "colab": {
          "base_uri": "https://localhost:8080/",
          "height": 315
        },
        "id": "NPvIl-qlJ9Ky",
        "outputId": "8581bf14-3386-4967-d242-f7ad044dacac"
      },
      "source": [
        "#y_pred = logreg.predict(X_test)\n",
        "#cnf_matrix = confusion_matrix(y_test, y_pred)\n",
        "\n",
        "# import required modules\n",
        "import numpy as np\n",
        "import matplotlib.pyplot as plt\n",
        "import seaborn as sns\n",
        "plt.clf()\n",
        "\n",
        "# name of classes\n",
        "class_names = [0, 1]\n",
        "fig, ax = plt.subplots()\n",
        "tick_marks = np.arange(len(class_names))\n",
        "plt.xticks(tick_marks, class_names)\n",
        "plt.yticks(tick_marks, class_names)\n",
        "\n",
        "# create heatmap\n",
        "sns.heatmap(pd.DataFrame(cnf_matrix), annot=True, cmap='YlGnBu', fmt='g')\n",
        "ax.xaxis.set_label_position('top')\n",
        "plt.title('Confusion matrix', y=1.1)\n",
        "plt.ylabel('Actual')\n",
        "plt.xlabel('Predicted')\n",
        "plt.tight_layout()\n",
        "plt.show()"
      ],
      "execution_count": null,
      "outputs": [
        {
          "data": {
            "text/plain": [
              "<Figure size 432x288 with 0 Axes>"
            ]
          },
          "metadata": {},
          "output_type": "display_data"
        },
        {
          "data": {
            "image/png": "[encoded data removed]",
            "text/plain": [
              "<Figure size 432x288 with 2 Axes>"
            ]
          },
          "metadata": {},
          "output_type": "display_data"
        }
      ]
    },
    {
      "cell_type": "code",
      "metadata": {
        "colab": {
          "base_uri": "https://localhost:8080/"
        },
        "id": "xxCyqP7EZF4S",
        "outputId": "505b137a-c397-4b23-b4b5-5dff7d6193ac"
      },
      "source": [
        "from sklearn.metrics import accuracy_score, precision_score, recall_score\n",
        "\n",
        "#Menghitung Accuracy, Precision, dan Recall\n",
        "print('Accuracy :', accuracy_score(y_test, y_test_pred))\n",
        "print('Precision:', precision_score(y_test, y_test_pred, average='micro'))\n",
        "print('Recall :', recall_score(y_test, y_test_pred, average='micro'))"
      ],
      "execution_count": null,
      "outputs": [
        {
          "name": "stdout",
          "output_type": "stream",
          "text": [
            "Accuracy : 0.9530386740331491\n",
            "Precision: 0.9530386740331491\n",
            "Recall : 0.9530386740331491\n"
          ]
        }
      ]
    },
    {
      "cell_type": "code",
      "metadata": {
        "id": "A0MswBKZZJHt"
      },
      "source": [
        "#OUTPUT CSV KHI\n",
        "final_train = pd.DataFrame()\n",
        "final_train = X_train.assign()"
      ],
      "execution_count": null,
      "outputs": []
    },
    {
      "cell_type": "code",
      "metadata": {
        "colab": {
          "base_uri": "https://localhost:8080/"
        },
        "id": "rZoxqGML6jLJ",
        "outputId": "b176f4f9-655b-4bad-badc-ac3043a4a41d"
      },
      "source": [
        "print(final_train.head())\n",
        "print(final_train.shape)"
      ],
      "execution_count": null,
      "outputs": [
        {
          "name": "stdout",
          "output_type": "stream",
          "text": [
            "      AVG_Transaction_Amount  Count_Transaction  Year_Diff\n",
            "2839             3818182.000                  1          0\n",
            "1462             3340908.750                  4          1\n",
            "653              2012121.000                  3          1\n",
            "1362             4641558.429                  7          3\n",
            "2539              196364.000                  1          0\n",
            "(2172, 3)\n"
          ]
        }
      ]
    },
    {
      "cell_type": "code",
      "metadata": {
        "id": "nBGejvciY1kh"
      },
      "source": [
        "output_khi= final_train.assign(churn_pred = y_train_pred)"
      ],
      "execution_count": null,
      "outputs": []
    },
    {
      "cell_type": "code",
      "metadata": {
        "colab": {
          "base_uri": "https://localhost:8080/",
          "height": 1000
        },
        "id": "iFe5ynfAY9L9",
        "outputId": "2ab3531d-05fc-46c9-a4eb-26047bbc4f21"
      },
      "source": [
        "output_khi.head(50)"
      ],
      "execution_count": null,
      "outputs": [
        {
          "data": {
            "text/html": [
              "<div>\n",
              "<style scoped>\n",
              "    .dataframe tbody tr th:only-of-type {\n",
              "        vertical-align: middle;\n",
              "    }\n",
              "\n",
              "    .dataframe tbody tr th {\n",
              "        vertical-align: top;\n",
              "    }\n",
              "\n",
              "    .dataframe thead th {\n",
              "        text-align: right;\n",
              "    }\n",
              "</style>\n",
              "<table border=\"1\" class=\"dataframe\">\n",
              "  <thead>\n",
              "    <tr style=\"text-align: right;\">\n",
              "      <th></th>\n",
              "      <th>AVG_Transaction_Amount</th>\n",
              "      <th>Count_Transaction</th>\n",
              "      <th>Year_Diff</th>\n",
              "      <th>churn_pred</th>\n",
              "    </tr>\n",
              "  </thead>\n",
              "  <tbody>\n",
              "    <tr>\n",
              "      <th>2839</th>\n",
              "      <td>3.818182e+06</td>\n",
              "      <td>1</td>\n",
              "      <td>0</td>\n",
              "      <td>1</td>\n",
              "    </tr>\n",
              "    <tr>\n",
              "      <th>1462</th>\n",
              "      <td>3.340909e+06</td>\n",
              "      <td>4</td>\n",
              "      <td>1</td>\n",
              "      <td>1</td>\n",
              "    </tr>\n",
              "    <tr>\n",
              "      <th>653</th>\n",
              "      <td>2.012121e+06</td>\n",
              "      <td>3</td>\n",
              "      <td>1</td>\n",
              "      <td>1</td>\n",
              "    </tr>\n",
              "    <tr>\n",
              "      <th>1362</th>\n",
              "      <td>4.641558e+06</td>\n",
              "      <td>7</td>\n",
              "      <td>3</td>\n",
              "      <td>1</td>\n",
              "    </tr>\n",
              "    <tr>\n",
              "      <th>2539</th>\n",
              "      <td>1.963640e+05</td>\n",
              "      <td>1</td>\n",
              "      <td>0</td>\n",
              "      <td>1</td>\n",
              "    </tr>\n",
              "    <tr>\n",
              "      <th>676</th>\n",
              "      <td>8.727270e+05</td>\n",
              "      <td>1</td>\n",
              "      <td>0</td>\n",
              "      <td>1</td>\n",
              "    </tr>\n",
              "    <tr>\n",
              "      <th>1370</th>\n",
              "      <td>6.909090e+05</td>\n",
              "      <td>2</td>\n",
              "      <td>0</td>\n",
              "      <td>1</td>\n",
              "    </tr>\n",
              "    <tr>\n",
              "      <th>934</th>\n",
              "      <td>2.590909e+06</td>\n",
              "      <td>2</td>\n",
              "      <td>0</td>\n",
              "      <td>1</td>\n",
              "    </tr>\n",
              "    <tr>\n",
              "      <th>1025</th>\n",
              "      <td>1.545460e+05</td>\n",
              "      <td>1</td>\n",
              "      <td>0</td>\n",
              "      <td>1</td>\n",
              "    </tr>\n",
              "    <tr>\n",
              "      <th>2422</th>\n",
              "      <td>8.981818e+05</td>\n",
              "      <td>6</td>\n",
              "      <td>1</td>\n",
              "      <td>1</td>\n",
              "    </tr>\n",
              "    <tr>\n",
              "      <th>2085</th>\n",
              "      <td>2.963636e+06</td>\n",
              "      <td>2</td>\n",
              "      <td>1</td>\n",
              "      <td>1</td>\n",
              "    </tr>\n",
              "    <tr>\n",
              "      <th>2465</th>\n",
              "      <td>2.727270e+05</td>\n",
              "      <td>1</td>\n",
              "      <td>0</td>\n",
              "      <td>1</td>\n",
              "    </tr>\n",
              "    <tr>\n",
              "      <th>1816</th>\n",
              "      <td>1.072728e+06</td>\n",
              "      <td>1</td>\n",
              "      <td>0</td>\n",
              "      <td>1</td>\n",
              "    </tr>\n",
              "    <tr>\n",
              "      <th>1255</th>\n",
              "      <td>1.021364e+06</td>\n",
              "      <td>2</td>\n",
              "      <td>0</td>\n",
              "      <td>1</td>\n",
              "    </tr>\n",
              "    <tr>\n",
              "      <th>2824</th>\n",
              "      <td>1.136363e+06</td>\n",
              "      <td>1</td>\n",
              "      <td>0</td>\n",
              "      <td>1</td>\n",
              "    </tr>\n",
              "    <tr>\n",
              "      <th>2043</th>\n",
              "      <td>9.851820e+05</td>\n",
              "      <td>2</td>\n",
              "      <td>1</td>\n",
              "      <td>1</td>\n",
              "    </tr>\n",
              "    <tr>\n",
              "      <th>1087</th>\n",
              "      <td>4.636360e+05</td>\n",
              "      <td>2</td>\n",
              "      <td>0</td>\n",
              "      <td>1</td>\n",
              "    </tr>\n",
              "    <tr>\n",
              "      <th>2108</th>\n",
              "      <td>1.636364e+06</td>\n",
              "      <td>1</td>\n",
              "      <td>0</td>\n",
              "      <td>1</td>\n",
              "    </tr>\n",
              "    <tr>\n",
              "      <th>1832</th>\n",
              "      <td>1.363636e+06</td>\n",
              "      <td>1</td>\n",
              "      <td>0</td>\n",
              "      <td>1</td>\n",
              "    </tr>\n",
              "    <tr>\n",
              "      <th>1140</th>\n",
              "      <td>3.000000e+06</td>\n",
              "      <td>1</td>\n",
              "      <td>0</td>\n",
              "      <td>1</td>\n",
              "    </tr>\n",
              "    <tr>\n",
              "      <th>636</th>\n",
              "      <td>5.109095e+05</td>\n",
              "      <td>4</td>\n",
              "      <td>0</td>\n",
              "      <td>1</td>\n",
              "    </tr>\n",
              "    <tr>\n",
              "      <th>2541</th>\n",
              "      <td>3.818180e+05</td>\n",
              "      <td>1</td>\n",
              "      <td>0</td>\n",
              "      <td>1</td>\n",
              "    </tr>\n",
              "    <tr>\n",
              "      <th>522</th>\n",
              "      <td>7.275000e+05</td>\n",
              "      <td>1</td>\n",
              "      <td>0</td>\n",
              "      <td>1</td>\n",
              "    </tr>\n",
              "    <tr>\n",
              "      <th>283</th>\n",
              "      <td>5.276516e+05</td>\n",
              "      <td>9</td>\n",
              "      <td>2</td>\n",
              "      <td>1</td>\n",
              "    </tr>\n",
              "    <tr>\n",
              "      <th>1284</th>\n",
              "      <td>2.550000e+06</td>\n",
              "      <td>2</td>\n",
              "      <td>0</td>\n",
              "      <td>1</td>\n",
              "    </tr>\n",
              "    <tr>\n",
              "      <th>2620</th>\n",
              "      <td>6.500000e+05</td>\n",
              "      <td>2</td>\n",
              "      <td>0</td>\n",
              "      <td>1</td>\n",
              "    </tr>\n",
              "    <tr>\n",
              "      <th>977</th>\n",
              "      <td>2.502857e+06</td>\n",
              "      <td>7</td>\n",
              "      <td>1</td>\n",
              "      <td>1</td>\n",
              "    </tr>\n",
              "    <tr>\n",
              "      <th>1453</th>\n",
              "      <td>9.501818e+05</td>\n",
              "      <td>5</td>\n",
              "      <td>4</td>\n",
              "      <td>1</td>\n",
              "    </tr>\n",
              "    <tr>\n",
              "      <th>2523</th>\n",
              "      <td>1.187500e+05</td>\n",
              "      <td>1</td>\n",
              "      <td>0</td>\n",
              "      <td>1</td>\n",
              "    </tr>\n",
              "    <tr>\n",
              "      <th>2070</th>\n",
              "      <td>1.101000e+06</td>\n",
              "      <td>5</td>\n",
              "      <td>2</td>\n",
              "      <td>1</td>\n",
              "    </tr>\n",
              "    <tr>\n",
              "      <th>1275</th>\n",
              "      <td>6.454540e+05</td>\n",
              "      <td>1</td>\n",
              "      <td>0</td>\n",
              "      <td>1</td>\n",
              "    </tr>\n",
              "    <tr>\n",
              "      <th>2810</th>\n",
              "      <td>9.700000e+05</td>\n",
              "      <td>1</td>\n",
              "      <td>0</td>\n",
              "      <td>1</td>\n",
              "    </tr>\n",
              "    <tr>\n",
              "      <th>1530</th>\n",
              "      <td>1.512445e+06</td>\n",
              "      <td>14</td>\n",
              "      <td>3</td>\n",
              "      <td>1</td>\n",
              "    </tr>\n",
              "    <tr>\n",
              "      <th>1236</th>\n",
              "      <td>8.045455e+05</td>\n",
              "      <td>2</td>\n",
              "      <td>0</td>\n",
              "      <td>1</td>\n",
              "    </tr>\n",
              "    <tr>\n",
              "      <th>2479</th>\n",
              "      <td>5.000000e+05</td>\n",
              "      <td>1</td>\n",
              "      <td>0</td>\n",
              "      <td>1</td>\n",
              "    </tr>\n",
              "    <tr>\n",
              "      <th>1955</th>\n",
              "      <td>7.212123e+05</td>\n",
              "      <td>3</td>\n",
              "      <td>0</td>\n",
              "      <td>1</td>\n",
              "    </tr>\n",
              "    <tr>\n",
              "      <th>1907</th>\n",
              "      <td>5.200000e+07</td>\n",
              "      <td>3</td>\n",
              "      <td>1</td>\n",
              "      <td>1</td>\n",
              "    </tr>\n",
              "    <tr>\n",
              "      <th>145</th>\n",
              "      <td>1.514870e+06</td>\n",
              "      <td>14</td>\n",
              "      <td>0</td>\n",
              "      <td>1</td>\n",
              "    </tr>\n",
              "    <tr>\n",
              "      <th>1878</th>\n",
              "      <td>4.320000e+06</td>\n",
              "      <td>6</td>\n",
              "      <td>2</td>\n",
              "      <td>1</td>\n",
              "    </tr>\n",
              "    <tr>\n",
              "      <th>1187</th>\n",
              "      <td>1.250000e+06</td>\n",
              "      <td>1</td>\n",
              "      <td>0</td>\n",
              "      <td>1</td>\n",
              "    </tr>\n",
              "    <tr>\n",
              "      <th>2752</th>\n",
              "      <td>2.636364e+06</td>\n",
              "      <td>1</td>\n",
              "      <td>0</td>\n",
              "      <td>1</td>\n",
              "    </tr>\n",
              "    <tr>\n",
              "      <th>2305</th>\n",
              "      <td>1.236364e+06</td>\n",
              "      <td>1</td>\n",
              "      <td>0</td>\n",
              "      <td>1</td>\n",
              "    </tr>\n",
              "    <tr>\n",
              "      <th>162</th>\n",
              "      <td>4.663700e+04</td>\n",
              "      <td>1</td>\n",
              "      <td>0</td>\n",
              "      <td>1</td>\n",
              "    </tr>\n",
              "    <tr>\n",
              "      <th>1917</th>\n",
              "      <td>1.368182e+06</td>\n",
              "      <td>4</td>\n",
              "      <td>0</td>\n",
              "      <td>1</td>\n",
              "    </tr>\n",
              "    <tr>\n",
              "      <th>1109</th>\n",
              "      <td>1.702784e+06</td>\n",
              "      <td>8</td>\n",
              "      <td>3</td>\n",
              "      <td>1</td>\n",
              "    </tr>\n",
              "    <tr>\n",
              "      <th>2486</th>\n",
              "      <td>1.418182e+06</td>\n",
              "      <td>1</td>\n",
              "      <td>0</td>\n",
              "      <td>1</td>\n",
              "    </tr>\n",
              "    <tr>\n",
              "      <th>1264</th>\n",
              "      <td>2.527270e+05</td>\n",
              "      <td>1</td>\n",
              "      <td>0</td>\n",
              "      <td>1</td>\n",
              "    </tr>\n",
              "    <tr>\n",
              "      <th>2241</th>\n",
              "      <td>3.439090e+05</td>\n",
              "      <td>1</td>\n",
              "      <td>0</td>\n",
              "      <td>1</td>\n",
              "    </tr>\n",
              "    <tr>\n",
              "      <th>359</th>\n",
              "      <td>2.153103e+06</td>\n",
              "      <td>45</td>\n",
              "      <td>3</td>\n",
              "      <td>1</td>\n",
              "    </tr>\n",
              "    <tr>\n",
              "      <th>1042</th>\n",
              "      <td>5.290910e+05</td>\n",
              "      <td>1</td>\n",
              "      <td>0</td>\n",
              "      <td>1</td>\n",
              "    </tr>\n",
              "  </tbody>\n",
              "</table>\n",
              "</div>"
            ],
            "text/plain": [
              "      AVG_Transaction_Amount  Count_Transaction  Year_Diff  churn_pred\n",
              "2839            3.818182e+06                  1          0           1\n",
              "1462            3.340909e+06                  4          1           1\n",
              "653             2.012121e+06                  3          1           1\n",
              "1362            4.641558e+06                  7          3           1\n",
              "2539            1.963640e+05                  1          0           1\n",
              "676             8.727270e+05                  1          0           1\n",
              "1370            6.909090e+05                  2          0           1\n",
              "934             2.590909e+06                  2          0           1\n",
              "1025            1.545460e+05                  1          0           1\n",
              "2422            8.981818e+05                  6          1           1\n",
              "2085            2.963636e+06                  2          1           1\n",
              "2465            2.727270e+05                  1          0           1\n",
              "1816            1.072728e+06                  1          0           1\n",
              "1255            1.021364e+06                  2          0           1\n",
              "2824            1.136363e+06                  1          0           1\n",
              "2043            9.851820e+05                  2          1           1\n",
              "1087            4.636360e+05                  2          0           1\n",
              "2108            1.636364e+06                  1          0           1\n",
              "1832            1.363636e+06                  1          0           1\n",
              "1140            3.000000e+06                  1          0           1\n",
              "636             5.109095e+05                  4          0           1\n",
              "2541            3.818180e+05                  1          0           1\n",
              "522             7.275000e+05                  1          0           1\n",
              "283             5.276516e+05                  9          2           1\n",
              "1284            2.550000e+06                  2          0           1\n",
              "2620            6.500000e+05                  2          0           1\n",
              "977             2.502857e+06                  7          1           1\n",
              "1453            9.501818e+05                  5          4           1\n",
              "2523            1.187500e+05                  1          0           1\n",
              "2070            1.101000e+06                  5          2           1\n",
              "1275            6.454540e+05                  1          0           1\n",
              "2810            9.700000e+05                  1          0           1\n",
              "1530            1.512445e+06                 14          3           1\n",
              "1236            8.045455e+05                  2          0           1\n",
              "2479            5.000000e+05                  1          0           1\n",
              "1955            7.212123e+05                  3          0           1\n",
              "1907            5.200000e+07                  3          1           1\n",
              "145             1.514870e+06                 14          0           1\n",
              "1878            4.320000e+06                  6          2           1\n",
              "1187            1.250000e+06                  1          0           1\n",
              "2752            2.636364e+06                  1          0           1\n",
              "2305            1.236364e+06                  1          0           1\n",
              "162             4.663700e+04                  1          0           1\n",
              "1917            1.368182e+06                  4          0           1\n",
              "1109            1.702784e+06                  8          3           1\n",
              "2486            1.418182e+06                  1          0           1\n",
              "1264            2.527270e+05                  1          0           1\n",
              "2241            3.439090e+05                  1          0           1\n",
              "359             2.153103e+06                 45          3           1\n",
              "1042            5.290910e+05                  1          0           1"
            ]
          },
          "execution_count": 108,
          "metadata": {},
          "output_type": "execute_result"
        }
      ]
    },
    {
      "cell_type": "code",
      "metadata": {
        "id": "3YGYI8x-6yZq"
      },
      "source": [
        "#output_khi.to_csv('/content/drive/MyDrive/Business Decision Research/output_train_KHI.csv')"
      ],
      "execution_count": null,
      "outputs": []
    },
    {
      "cell_type": "code",
      "metadata": {
        "id": "eu9DKTIHZVC2"
      },
      "source": [
        "#OUTPUT TEST CSV\n",
        "final_test = pd.DataFrame()\n",
        "final_test = X_test.assign()"
      ],
      "execution_count": null,
      "outputs": []
    },
    {
      "cell_type": "code",
      "metadata": {
        "id": "655sYc5BZY_-"
      },
      "source": [
        "output_khi_test = final_test.assign(churn_pred = y_test_pred)"
      ],
      "execution_count": null,
      "outputs": []
    },
    {
      "cell_type": "code",
      "metadata": {
        "colab": {
          "base_uri": "https://localhost:8080/"
        },
        "id": "fWm0R0x_Zcxg",
        "outputId": "675c6926-1532-4fb2-97f2-edd609ec5694"
      },
      "source": [
        "print(final_test.head())\n",
        "print(final_test.shape)"
      ],
      "execution_count": null,
      "outputs": [
        {
          "name": "stdout",
          "output_type": "stream",
          "text": [
            "      AVG_Transaction_Amount  Count_Transaction  Year_Diff\n",
            "2309               72000.000                  1          0\n",
            "1323             2727273.000                  1          0\n",
            "22                454546.000                  1          0\n",
            "1005              659091.000                  2          4\n",
            "248              1169467.075                 40          2\n",
            "(724, 3)\n"
          ]
        }
      ]
    },
    {
      "cell_type": "code",
      "metadata": {
        "colab": {
          "base_uri": "https://localhost:8080/",
          "height": 205
        },
        "id": "OFNQwdstZhkv",
        "outputId": "7a237e32-bce3-4b14-f103-28c08e3cfbf9"
      },
      "source": [
        "output_khi_test.head()"
      ],
      "execution_count": null,
      "outputs": [
        {
          "data": {
            "text/html": [
              "<div>\n",
              "<style scoped>\n",
              "    .dataframe tbody tr th:only-of-type {\n",
              "        vertical-align: middle;\n",
              "    }\n",
              "\n",
              "    .dataframe tbody tr th {\n",
              "        vertical-align: top;\n",
              "    }\n",
              "\n",
              "    .dataframe thead th {\n",
              "        text-align: right;\n",
              "    }\n",
              "</style>\n",
              "<table border=\"1\" class=\"dataframe\">\n",
              "  <thead>\n",
              "    <tr style=\"text-align: right;\">\n",
              "      <th></th>\n",
              "      <th>AVG_Transaction_Amount</th>\n",
              "      <th>Count_Transaction</th>\n",
              "      <th>Year_Diff</th>\n",
              "      <th>churn_pred</th>\n",
              "    </tr>\n",
              "  </thead>\n",
              "  <tbody>\n",
              "    <tr>\n",
              "      <th>2309</th>\n",
              "      <td>72000.000</td>\n",
              "      <td>1</td>\n",
              "      <td>0</td>\n",
              "      <td>1</td>\n",
              "    </tr>\n",
              "    <tr>\n",
              "      <th>1323</th>\n",
              "      <td>2727273.000</td>\n",
              "      <td>1</td>\n",
              "      <td>0</td>\n",
              "      <td>1</td>\n",
              "    </tr>\n",
              "    <tr>\n",
              "      <th>22</th>\n",
              "      <td>454546.000</td>\n",
              "      <td>1</td>\n",
              "      <td>0</td>\n",
              "      <td>1</td>\n",
              "    </tr>\n",
              "    <tr>\n",
              "      <th>1005</th>\n",
              "      <td>659091.000</td>\n",
              "      <td>2</td>\n",
              "      <td>4</td>\n",
              "      <td>1</td>\n",
              "    </tr>\n",
              "    <tr>\n",
              "      <th>248</th>\n",
              "      <td>1169467.075</td>\n",
              "      <td>40</td>\n",
              "      <td>2</td>\n",
              "      <td>1</td>\n",
              "    </tr>\n",
              "  </tbody>\n",
              "</table>\n",
              "</div>"
            ],
            "text/plain": [
              "      AVG_Transaction_Amount  Count_Transaction  Year_Diff  churn_pred\n",
              "2309               72000.000                  1          0           1\n",
              "1323             2727273.000                  1          0           1\n",
              "22                454546.000                  1          0           1\n",
              "1005              659091.000                  2          4           1\n",
              "248              1169467.075                 40          2           1"
            ]
          },
          "execution_count": 112,
          "metadata": {},
          "output_type": "execute_result"
        }
      ]
    },
    {
      "cell_type": "code",
      "metadata": {
        "id": "vH0cUnMElUax"
      },
      "source": [
        "frames = [output_khi, output_khi_test]"
      ],
      "execution_count": null,
      "outputs": []
    },
    {
      "cell_type": "code",
      "metadata": {
        "id": "66EJjocHKYvs"
      },
      "source": [
        "result_khi = pd.concat(frames).drop_duplicates().reset_index(drop=True)"
      ],
      "execution_count": null,
      "outputs": []
    },
    {
      "cell_type": "code",
      "metadata": {
        "id": "guAjBHVjKbcC"
      },
      "source": [
        "result_khi.to_csv('/content/drive/MyDrive/Business Decision Research/output_khi.csv')"
      ],
      "execution_count": null,
      "outputs": []
    },
    {
      "cell_type": "code",
      "metadata": {
        "id": "W60zkosa7GEg"
      },
      "source": [
        ""
      ],
      "execution_count": null,
      "outputs": []
    }
  ]
}